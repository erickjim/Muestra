{
 "cells": [
  {
   "cell_type": "code",
   "execution_count": 1,
   "id": "f872aa0b",
   "metadata": {},
   "outputs": [],
   "source": [
    "import pandas as pd"
   ]
  },
  {
   "cell_type": "code",
   "execution_count": 4,
   "id": "af2d0ce8",
   "metadata": {},
   "outputs": [],
   "source": [
    "u=pd.read_csv('UNIVERSO_TELCEL.csv')"
   ]
  },
  {
   "cell_type": "code",
   "execution_count": 7,
   "id": "cbcd7b8f",
   "metadata": {},
   "outputs": [],
   "source": [
    "ab=pd.read_excel('Altibajos/Altas_Bajas.xlsx')\n",
    "ab1=pd.read_excel('Altibajos/Altas_Bajas_1.xlsx')"
   ]
  },
  {
   "cell_type": "code",
   "execution_count": 9,
   "id": "fec35677",
   "metadata": {},
   "outputs": [],
   "source": [
    "ab=pd.concat([ab,ab1])"
   ]
  },
  {
   "cell_type": "code",
   "execution_count": 12,
   "id": "27e753b5",
   "metadata": {},
   "outputs": [],
   "source": [
    "bajas=ab[ab['BAJA'].notna()]['EMP']"
   ]
  },
  {
   "cell_type": "code",
   "execution_count": 14,
   "id": "d0191766",
   "metadata": {},
   "outputs": [],
   "source": [
    "altas=ab[ab['BAJA'].isna()]"
   ]
  },
  {
   "cell_type": "code",
   "execution_count": 20,
   "id": "2b6e57c3",
   "metadata": {},
   "outputs": [],
   "source": [
    "altas=altas[['EMP', 'NOMBRE COMPLETO', 'PUESTO', 'DEPARTAMENTO', 'GERENCIA',\n",
    "       'SUBDIRECCION', 'DIRECCION', 'LOCALIDAD', 'REGION', 'ANTIGÜEDAD', 'EDAD', 'SEXO', 'CORREO']]"
   ]
  },
  {
   "cell_type": "code",
   "execution_count": 28,
   "id": "d63e586c",
   "metadata": {},
   "outputs": [],
   "source": [
    "altas.columns=u.iloc[:,:len(altas.columns)].columns"
   ]
  },
  {
   "cell_type": "code",
   "execution_count": 30,
   "id": "013fa568",
   "metadata": {},
   "outputs": [],
   "source": [
    "u=u.append(altas)"
   ]
  },
  {
   "cell_type": "code",
   "execution_count": 41,
   "id": "a8abd39b",
   "metadata": {},
   "outputs": [],
   "source": [
    "u=u[~u['EMP'].isin(bajas)]"
   ]
  },
  {
   "cell_type": "code",
   "execution_count": 45,
   "id": "a2abfedf",
   "metadata": {},
   "outputs": [],
   "source": [
    "u=u.drop_duplicates('EMP')"
   ]
  },
  {
   "cell_type": "code",
   "execution_count": null,
   "id": "b1376b0f",
   "metadata": {},
   "outputs": [],
   "source": [
    "u.to_csv('Universo_telcel_Nov2021')"
   ]
  }
 ],
 "metadata": {
  "kernelspec": {
   "display_name": "Python 3",
   "language": "python",
   "name": "python3"
  },
  "language_info": {
   "codemirror_mode": {
    "name": "ipython",
    "version": 3
   },
   "file_extension": ".py",
   "mimetype": "text/x-python",
   "name": "python",
   "nbconvert_exporter": "python",
   "pygments_lexer": "ipython3",
   "version": "3.8.8"
  }
 },
 "nbformat": 4,
 "nbformat_minor": 5
}
