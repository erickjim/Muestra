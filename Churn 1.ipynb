{
 "cells": [
  {
   "cell_type": "code",
   "execution_count": 1,
   "id": "e0d627eb",
   "metadata": {},
   "outputs": [],
   "source": [
    "import pandas as pd\n",
    "from varclushi import VarClusHi\n",
    "import numpy as np"
   ]
  },
  {
   "cell_type": "code",
   "execution_count": 2,
   "id": "7074c834",
   "metadata": {},
   "outputs": [],
   "source": [
    "df=pd.read_pickle('prep_hist.pkl')"
   ]
  },
  {
   "cell_type": "code",
   "execution_count": 3,
   "id": "cdc700ae",
   "metadata": {},
   "outputs": [
    {
     "data": {
      "text/html": [
       "<div>\n",
       "<style scoped>\n",
       "    .dataframe tbody tr th:only-of-type {\n",
       "        vertical-align: middle;\n",
       "    }\n",
       "\n",
       "    .dataframe tbody tr th {\n",
       "        vertical-align: top;\n",
       "    }\n",
       "\n",
       "    .dataframe thead th {\n",
       "        text-align: right;\n",
       "    }\n",
       "</style>\n",
       "<table border=\"1\" class=\"dataframe\">\n",
       "  <thead>\n",
       "    <tr style=\"text-align: right;\">\n",
       "      <th></th>\n",
       "      <th>linea</th>\n",
       "      <th>mesproceso</th>\n",
       "      <th>tiposuscripcion</th>\n",
       "      <th>descestatuslinea</th>\n",
       "      <th>antiglinea</th>\n",
       "      <th>modeloeq</th>\n",
       "      <th>monto</th>\n",
       "      <th>monto_prom</th>\n",
       "      <th>monto_min</th>\n",
       "      <th>monto_max</th>\n",
       "      <th>recargas</th>\n",
       "    </tr>\n",
       "  </thead>\n",
       "  <tbody>\n",
       "    <tr>\n",
       "      <th>143785</th>\n",
       "      <td>2741227617</td>\n",
       "      <td>202002</td>\n",
       "      <td>PREPAGO</td>\n",
       "      <td>ACTIVO</td>\n",
       "      <td>34</td>\n",
       "      <td>ILIUM X220</td>\n",
       "      <td>200.0</td>\n",
       "      <td>66.67</td>\n",
       "      <td>50.0</td>\n",
       "      <td>100.0</td>\n",
       "      <td>3.0</td>\n",
       "    </tr>\n",
       "    <tr>\n",
       "      <th>143769</th>\n",
       "      <td>5510145001</td>\n",
       "      <td>202002</td>\n",
       "      <td>PREPAGO</td>\n",
       "      <td>ZERO BALANCE 1</td>\n",
       "      <td>2</td>\n",
       "      <td>1V 5001A</td>\n",
       "      <td>50.0</td>\n",
       "      <td>50.00</td>\n",
       "      <td>50.0</td>\n",
       "      <td>50.0</td>\n",
       "      <td>1.0</td>\n",
       "    </tr>\n",
       "    <tr>\n",
       "      <th>143714</th>\n",
       "      <td>8714127760</td>\n",
       "      <td>202002</td>\n",
       "      <td>PREPAGO</td>\n",
       "      <td>ACTIVO</td>\n",
       "      <td>51</td>\n",
       "      <td>GALAXY J1 2016 J120A</td>\n",
       "      <td>230.0</td>\n",
       "      <td>32.86</td>\n",
       "      <td>30.0</td>\n",
       "      <td>50.0</td>\n",
       "      <td>7.0</td>\n",
       "    </tr>\n",
       "    <tr>\n",
       "      <th>68939</th>\n",
       "      <td>8662055180</td>\n",
       "      <td>202002</td>\n",
       "      <td>PREPAGO</td>\n",
       "      <td>ACTIVO</td>\n",
       "      <td>9</td>\n",
       "      <td>E450F</td>\n",
       "      <td>200.0</td>\n",
       "      <td>28.57</td>\n",
       "      <td>20.0</td>\n",
       "      <td>30.0</td>\n",
       "      <td>7.0</td>\n",
       "    </tr>\n",
       "    <tr>\n",
       "      <th>68927</th>\n",
       "      <td>5559434454</td>\n",
       "      <td>202002</td>\n",
       "      <td>PREPAGO</td>\n",
       "      <td>ACTIVO</td>\n",
       "      <td>7</td>\n",
       "      <td>MOTO C XT1756</td>\n",
       "      <td>200.0</td>\n",
       "      <td>50.00</td>\n",
       "      <td>50.0</td>\n",
       "      <td>50.0</td>\n",
       "      <td>4.0</td>\n",
       "    </tr>\n",
       "    <tr>\n",
       "      <th>...</th>\n",
       "      <td>...</td>\n",
       "      <td>...</td>\n",
       "      <td>...</td>\n",
       "      <td>...</td>\n",
       "      <td>...</td>\n",
       "      <td>...</td>\n",
       "      <td>...</td>\n",
       "      <td>...</td>\n",
       "      <td>...</td>\n",
       "      <td>...</td>\n",
       "      <td>...</td>\n",
       "    </tr>\n",
       "    <tr>\n",
       "      <th>21438</th>\n",
       "      <td>3111559318</td>\n",
       "      <td>202108</td>\n",
       "      <td>PREPAGO</td>\n",
       "      <td>ZERO BALANCE 1</td>\n",
       "      <td>3</td>\n",
       "      <td>ONE XT1941-5</td>\n",
       "      <td>50.0</td>\n",
       "      <td>50.00</td>\n",
       "      <td>50.0</td>\n",
       "      <td>50.0</td>\n",
       "      <td>1.0</td>\n",
       "    </tr>\n",
       "    <tr>\n",
       "      <th>21356</th>\n",
       "      <td>4442076754</td>\n",
       "      <td>202108</td>\n",
       "      <td>PREPAGO</td>\n",
       "      <td>ACTIVO</td>\n",
       "      <td>0</td>\n",
       "      <td>NaN</td>\n",
       "      <td>NaN</td>\n",
       "      <td>NaN</td>\n",
       "      <td>NaN</td>\n",
       "      <td>NaN</td>\n",
       "      <td>NaN</td>\n",
       "    </tr>\n",
       "    <tr>\n",
       "      <th>21454</th>\n",
       "      <td>2228604643</td>\n",
       "      <td>202108</td>\n",
       "      <td>PREPAGO</td>\n",
       "      <td>ZERO BALANCE 1</td>\n",
       "      <td>8</td>\n",
       "      <td>AX687</td>\n",
       "      <td>70.0</td>\n",
       "      <td>35.00</td>\n",
       "      <td>20.0</td>\n",
       "      <td>50.0</td>\n",
       "      <td>2.0</td>\n",
       "    </tr>\n",
       "    <tr>\n",
       "      <th>21451</th>\n",
       "      <td>8117802343</td>\n",
       "      <td>202108</td>\n",
       "      <td>PREPAGO</td>\n",
       "      <td>ZERO BALANCE 1</td>\n",
       "      <td>2</td>\n",
       "      <td>GALAXY GRAND PRIME VE G531H</td>\n",
       "      <td>NaN</td>\n",
       "      <td>NaN</td>\n",
       "      <td>NaN</td>\n",
       "      <td>NaN</td>\n",
       "      <td>NaN</td>\n",
       "    </tr>\n",
       "    <tr>\n",
       "      <th>21448</th>\n",
       "      <td>4447115569</td>\n",
       "      <td>202108</td>\n",
       "      <td>PREPAGO</td>\n",
       "      <td>ACTIVO</td>\n",
       "      <td>0</td>\n",
       "      <td>GALAXY A70 A705MN</td>\n",
       "      <td>200.0</td>\n",
       "      <td>200.00</td>\n",
       "      <td>200.0</td>\n",
       "      <td>200.0</td>\n",
       "      <td>1.0</td>\n",
       "    </tr>\n",
       "  </tbody>\n",
       "</table>\n",
       "<p>119098 rows × 11 columns</p>\n",
       "</div>"
      ],
      "text/plain": [
       "             linea  mesproceso tiposuscripcion descestatuslinea  antiglinea  \\\n",
       "143785  2741227617      202002         PREPAGO           ACTIVO          34   \n",
       "143769  5510145001      202002         PREPAGO   ZERO BALANCE 1           2   \n",
       "143714  8714127760      202002         PREPAGO           ACTIVO          51   \n",
       "68939   8662055180      202002         PREPAGO           ACTIVO           9   \n",
       "68927   5559434454      202002         PREPAGO           ACTIVO           7   \n",
       "...            ...         ...             ...              ...         ...   \n",
       "21438   3111559318      202108         PREPAGO   ZERO BALANCE 1           3   \n",
       "21356   4442076754      202108         PREPAGO           ACTIVO           0   \n",
       "21454   2228604643      202108         PREPAGO   ZERO BALANCE 1           8   \n",
       "21451   8117802343      202108         PREPAGO   ZERO BALANCE 1           2   \n",
       "21448   4447115569      202108         PREPAGO           ACTIVO           0   \n",
       "\n",
       "                           modeloeq  monto  monto_prom  monto_min  monto_max  \\\n",
       "143785                   ILIUM X220  200.0       66.67       50.0      100.0   \n",
       "143769                     1V 5001A   50.0       50.00       50.0       50.0   \n",
       "143714         GALAXY J1 2016 J120A  230.0       32.86       30.0       50.0   \n",
       "68939                         E450F  200.0       28.57       20.0       30.0   \n",
       "68927                 MOTO C XT1756  200.0       50.00       50.0       50.0   \n",
       "...                             ...    ...         ...        ...        ...   \n",
       "21438                  ONE XT1941-5   50.0       50.00       50.0       50.0   \n",
       "21356                           NaN    NaN         NaN        NaN        NaN   \n",
       "21454                         AX687   70.0       35.00       20.0       50.0   \n",
       "21451   GALAXY GRAND PRIME VE G531H    NaN         NaN        NaN        NaN   \n",
       "21448             GALAXY A70 A705MN  200.0      200.00      200.0      200.0   \n",
       "\n",
       "        recargas  \n",
       "143785       3.0  \n",
       "143769       1.0  \n",
       "143714       7.0  \n",
       "68939        7.0  \n",
       "68927        4.0  \n",
       "...          ...  \n",
       "21438        1.0  \n",
       "21356        NaN  \n",
       "21454        2.0  \n",
       "21451        NaN  \n",
       "21448        1.0  \n",
       "\n",
       "[119098 rows x 11 columns]"
      ]
     },
     "execution_count": 3,
     "metadata": {},
     "output_type": "execute_result"
    }
   ],
   "source": [
    "df"
   ]
  },
  {
   "cell_type": "code",
   "execution_count": 4,
   "id": "2264ac82",
   "metadata": {},
   "outputs": [],
   "source": [
    "a=pd.Series(df['mesproceso'].unique()).reset_index()"
   ]
  },
  {
   "cell_type": "code",
   "execution_count": 5,
   "id": "717e09d6",
   "metadata": {},
   "outputs": [
    {
     "data": {
      "text/html": [
       "<div>\n",
       "<style scoped>\n",
       "    .dataframe tbody tr th:only-of-type {\n",
       "        vertical-align: middle;\n",
       "    }\n",
       "\n",
       "    .dataframe tbody tr th {\n",
       "        vertical-align: top;\n",
       "    }\n",
       "\n",
       "    .dataframe thead th {\n",
       "        text-align: right;\n",
       "    }\n",
       "</style>\n",
       "<table border=\"1\" class=\"dataframe\">\n",
       "  <thead>\n",
       "    <tr style=\"text-align: right;\">\n",
       "      <th></th>\n",
       "      <th>index</th>\n",
       "      <th>0</th>\n",
       "    </tr>\n",
       "  </thead>\n",
       "  <tbody>\n",
       "    <tr>\n",
       "      <th>0</th>\n",
       "      <td>0</td>\n",
       "      <td>202002</td>\n",
       "    </tr>\n",
       "    <tr>\n",
       "      <th>1</th>\n",
       "      <td>1</td>\n",
       "      <td>202003</td>\n",
       "    </tr>\n",
       "    <tr>\n",
       "      <th>2</th>\n",
       "      <td>2</td>\n",
       "      <td>202004</td>\n",
       "    </tr>\n",
       "    <tr>\n",
       "      <th>3</th>\n",
       "      <td>3</td>\n",
       "      <td>202005</td>\n",
       "    </tr>\n",
       "    <tr>\n",
       "      <th>4</th>\n",
       "      <td>4</td>\n",
       "      <td>202006</td>\n",
       "    </tr>\n",
       "    <tr>\n",
       "      <th>5</th>\n",
       "      <td>5</td>\n",
       "      <td>202007</td>\n",
       "    </tr>\n",
       "    <tr>\n",
       "      <th>6</th>\n",
       "      <td>6</td>\n",
       "      <td>202008</td>\n",
       "    </tr>\n",
       "    <tr>\n",
       "      <th>7</th>\n",
       "      <td>7</td>\n",
       "      <td>202009</td>\n",
       "    </tr>\n",
       "    <tr>\n",
       "      <th>8</th>\n",
       "      <td>8</td>\n",
       "      <td>202010</td>\n",
       "    </tr>\n",
       "    <tr>\n",
       "      <th>9</th>\n",
       "      <td>9</td>\n",
       "      <td>202011</td>\n",
       "    </tr>\n",
       "    <tr>\n",
       "      <th>10</th>\n",
       "      <td>10</td>\n",
       "      <td>202012</td>\n",
       "    </tr>\n",
       "    <tr>\n",
       "      <th>11</th>\n",
       "      <td>11</td>\n",
       "      <td>202101</td>\n",
       "    </tr>\n",
       "    <tr>\n",
       "      <th>12</th>\n",
       "      <td>12</td>\n",
       "      <td>202102</td>\n",
       "    </tr>\n",
       "    <tr>\n",
       "      <th>13</th>\n",
       "      <td>13</td>\n",
       "      <td>202103</td>\n",
       "    </tr>\n",
       "    <tr>\n",
       "      <th>14</th>\n",
       "      <td>14</td>\n",
       "      <td>202104</td>\n",
       "    </tr>\n",
       "    <tr>\n",
       "      <th>15</th>\n",
       "      <td>15</td>\n",
       "      <td>202105</td>\n",
       "    </tr>\n",
       "    <tr>\n",
       "      <th>16</th>\n",
       "      <td>16</td>\n",
       "      <td>202106</td>\n",
       "    </tr>\n",
       "    <tr>\n",
       "      <th>17</th>\n",
       "      <td>17</td>\n",
       "      <td>202107</td>\n",
       "    </tr>\n",
       "    <tr>\n",
       "      <th>18</th>\n",
       "      <td>18</td>\n",
       "      <td>202108</td>\n",
       "    </tr>\n",
       "  </tbody>\n",
       "</table>\n",
       "</div>"
      ],
      "text/plain": [
       "    index       0\n",
       "0       0  202002\n",
       "1       1  202003\n",
       "2       2  202004\n",
       "3       3  202005\n",
       "4       4  202006\n",
       "5       5  202007\n",
       "6       6  202008\n",
       "7       7  202009\n",
       "8       8  202010\n",
       "9       9  202011\n",
       "10     10  202012\n",
       "11     11  202101\n",
       "12     12  202102\n",
       "13     13  202103\n",
       "14     14  202104\n",
       "15     15  202105\n",
       "16     16  202106\n",
       "17     17  202107\n",
       "18     18  202108"
      ]
     },
     "execution_count": 5,
     "metadata": {},
     "output_type": "execute_result"
    }
   ],
   "source": [
    "a"
   ]
  },
  {
   "cell_type": "code",
   "execution_count": 6,
   "id": "936aab6e",
   "metadata": {},
   "outputs": [],
   "source": [
    "a.index=a[0]"
   ]
  },
  {
   "cell_type": "code",
   "execution_count": 10,
   "id": "8088675e",
   "metadata": {},
   "outputs": [],
   "source": [
    "df['mes']=df['mesproceso'].replace(dict(a['index']))"
   ]
  },
  {
   "cell_type": "code",
   "execution_count": 11,
   "id": "5d911e4b",
   "metadata": {},
   "outputs": [
    {
     "data": {
      "text/plain": [
       "(5, 16)"
      ]
     },
     "execution_count": 11,
     "metadata": {},
     "output_type": "execute_result"
    }
   ],
   "source": [
    "vobs , vdes = 6,2\n",
    "anclai, anclaf = vobs-1,df['mes'].max()-vdes\n",
    "anclai, anclaf"
   ]
  },
  {
   "cell_type": "code",
   "execution_count": 12,
   "id": "f1b7b3da",
   "metadata": {},
   "outputs": [
    {
     "name": "stdout",
     "output_type": "stream",
     "text": [
      "observación:  [0, 1, 2, 3, 4, 5] desempeño: [6, 7]\n",
      "observación:  [1, 2, 3, 4, 5, 6] desempeño: [7, 8]\n",
      "observación:  [2, 3, 4, 5, 6, 7] desempeño: [8, 9]\n",
      "observación:  [3, 4, 5, 6, 7, 8] desempeño: [9, 10]\n",
      "observación:  [4, 5, 6, 7, 8, 9] desempeño: [10, 11]\n",
      "observación:  [5, 6, 7, 8, 9, 10] desempeño: [11, 12]\n",
      "observación:  [6, 7, 8, 9, 10, 11] desempeño: [12, 13]\n",
      "observación:  [7, 8, 9, 10, 11, 12] desempeño: [13, 14]\n",
      "observación:  [8, 9, 10, 11, 12, 13] desempeño: [14, 15]\n",
      "observación:  [9, 10, 11, 12, 13, 14] desempeño: [15, 16]\n",
      "observación:  [10, 11, 12, 13, 14, 15] desempeño: [16, 17]\n",
      "observación:  [11, 12, 13, 14, 15, 16] desempeño: [17, 18]\n"
     ]
    }
   ],
   "source": [
    "for a in range(anclai,anclaf+1):\n",
    "    print(\"observación: \",list(range(a-vobs+1,a+1)),'desempeño:', list(range(a+1,a+vdes+1)))"
   ]
  },
  {
   "cell_type": "code",
   "execution_count": 13,
   "id": "444913b5",
   "metadata": {},
   "outputs": [],
   "source": [
    "df[['monto','monto_prom','monto_min','monto_max','recargas']]=df[['monto','monto_prom','monto_min','monto_max','recargas']].fillna(0)"
   ]
  },
  {
   "cell_type": "code",
   "execution_count": 15,
   "id": "077e002a",
   "metadata": {},
   "outputs": [],
   "source": [
    "df['modeloeq']=df['modeloeq'].replace('(null)',np.nan)"
   ]
  },
  {
   "cell_type": "code",
   "execution_count": 17,
   "id": "fc7d91da",
   "metadata": {},
   "outputs": [],
   "source": [
    "df=df.drop_duplicates()"
   ]
  },
  {
   "cell_type": "markdown",
   "id": "f45e7ef8",
   "metadata": {},
   "source": [
    "### Ingeniería de Variables"
   ]
  },
  {
   "cell_type": "code",
   "execution_count": 18,
   "id": "3c7d7f5e",
   "metadata": {},
   "outputs": [],
   "source": [
    "def ing_X(df,ancla,k):\n",
    "    l = []\n",
    "    aux = df.loc[(df['mes']<=ancla)&(df['mes']>=(ancla-k+1))]\n",
    "\n",
    "    if k==vobs:\n",
    "    # Registros durante  el periodo total de observación\n",
    "        piv = aux.pivot_table(index='linea',\n",
    "                         columns='mes',\n",
    "                         values='monto',\n",
    "                         aggfunc='count')\n",
    "        piv[f'x_permanencia'] = piv.sum(axis=1)\n",
    "        l.append(piv.filter(like='x_'))\n",
    "    \n",
    "    # Estatus durante periodo de observación\n",
    "        piv = aux.pivot_table(index='linea',\n",
    "                         columns='descestatuslinea',\n",
    "                         values='monto',\n",
    "                         aggfunc='count')\n",
    "        piv.columns=['x_ACTIVO', 'x_ZERO BALANCE 1']\n",
    "        l.append(piv)\n",
    "\n",
    "    # Antiguedad línea en periodo final   \n",
    "        piv = aux.pivot_table(index='linea',\n",
    "                         columns='mes',\n",
    "                         values='antiglinea',\n",
    "                         aggfunc='sum')\n",
    "        piv[f'x_antiglinea'] = piv.max(axis=1)\n",
    "        l.append(piv.filter(like='x_'))\n",
    "\n",
    "    #Cantidad de equipos diferentes en el periodo\n",
    "    a=aux.groupby('linea')['modeloeq'].nunique()\n",
    "    a.name=f'x_cambios_eq_{k}'\n",
    "    l.append(a)    \n",
    "    \n",
    "    #Monto \n",
    "    piv = aux.pivot_table(index='linea',\n",
    "                          columns='mes',\n",
    "                          values='monto',\n",
    "                          aggfunc='sum')\n",
    "    piv[f'x_monto_recargado_{k}'] = piv.sum(axis=1)\n",
    "    l.append(piv.filter(like='x_'))\n",
    "    \n",
    "    #Monto Promedio\n",
    "    piv = aux.pivot_table(index='linea',\n",
    "                          columns='mes',\n",
    "                          values='monto',\n",
    "                          aggfunc='sum')\n",
    "    piv[f'x_monto_promedio_{k}'] = piv.mean(axis=1)\n",
    "    l.append(piv.filter(like='x_'))\n",
    "    \n",
    "    #Promedio del promedio por recarga\n",
    "    piv = aux.pivot_table(index='linea',\n",
    "                          columns='mes',\n",
    "                          values='monto_prom',\n",
    "                          aggfunc='sum')\n",
    "    piv[f'x_prom_recarga_{k}'] = piv.mean(axis=1)\n",
    "    l.append(piv.filter(like='x_'))\n",
    "    \n",
    "    #Suma de promedio por recarga \n",
    "    piv = aux.pivot_table(index='linea',\n",
    "                          columns='mes',\n",
    "                          values='monto_prom',\n",
    "                          aggfunc='sum')\n",
    "    piv[f'x_sum_prom_recarga_{k}'] = piv.sum(axis=1)\n",
    "    l.append(piv.filter(like='x_'))\n",
    "        \n",
    "    #Mínimo de monto \n",
    "    piv = aux.pivot_table(index='linea',\n",
    "                          columns='mes',\n",
    "                          values='monto',\n",
    "                          aggfunc='sum')\n",
    "    piv[f'x_min_monto_{k}'] = piv.min(axis=1)\n",
    "    l.append(piv.filter(like='x_'))\n",
    "    \n",
    "    #Máximo de monto \n",
    "    piv = aux.pivot_table(index='linea',\n",
    "                          columns='mes',\n",
    "                          values='monto',\n",
    "                          aggfunc='sum')\n",
    "    piv[f'x_max_monto_{k}'] = piv.max(axis=1)\n",
    "    l.append(piv.filter(like='x_'))\n",
    "    \n",
    "    #Promedio de recarga mínima \n",
    "    piv = aux.pivot_table(index='linea',\n",
    "                          columns='mes',\n",
    "                          values='monto_min',\n",
    "                          aggfunc='sum')\n",
    "    piv[f'x_min_recarga_{k}'] = piv.mean(axis=1)\n",
    "    l.append(piv.filter(like='x_'))\n",
    "    \n",
    "    #Promedio de recarga máxima\n",
    "    piv = aux.pivot_table(index='linea',\n",
    "                          columns='mes',\n",
    "                          values='monto_max',\n",
    "                          aggfunc='sum')\n",
    "    piv[f'x_max_recarga_{k}'] = piv.mean(axis=1)\n",
    "    l.append(piv.filter(like='x_'))    \n",
    "\n",
    "    #Promedio recargas mensuales\n",
    "    piv = aux.pivot_table(index='linea',\n",
    "                          columns='mes',\n",
    "                          values='recargas',\n",
    "                          aggfunc='sum')\n",
    "    piv[f'x_recargas_prom_{k}'] = piv.mean(axis=1)\n",
    "    l.append(piv.filter(like='x_'))    \n",
    "    \n",
    "    #Total de recargas\n",
    "    piv = aux.pivot_table(index='linea',\n",
    "                          columns='mes',\n",
    "                          values='recargas',\n",
    "                          aggfunc='sum')\n",
    "    piv[f'x_recargas_{k}'] = piv.sum(axis=1)\n",
    "    l.append(piv.filter(like='x_'))    \n",
    "    \n",
    "      \n",
    "    aux = reduce(lambda x,y:pd.merge(x,\n",
    "                                      y,\n",
    "                                      left_index=True,\n",
    "                                      right_index=True,\n",
    "                                      how='outer'),l).reset_index()\n",
    "    aux.insert(1,'ancla',ancla)\n",
    "    \n",
    "    return aux"
   ]
  },
  {
   "cell_type": "code",
   "execution_count": 19,
   "id": "04f30093",
   "metadata": {},
   "outputs": [],
   "source": [
    "from functools import reduce"
   ]
  },
  {
   "cell_type": "code",
   "execution_count": 20,
   "id": "7e9a8aba",
   "metadata": {},
   "outputs": [],
   "source": [
    "step = 3"
   ]
  },
  {
   "cell_type": "code",
   "execution_count": 21,
   "id": "8222a29d",
   "metadata": {},
   "outputs": [],
   "source": [
    "um = ['linea','ancla']"
   ]
  },
  {
   "cell_type": "code",
   "execution_count": 22,
   "id": "1bc8ca7f",
   "metadata": {},
   "outputs": [],
   "source": [
    "cruzar = lambda x,y:pd.merge(x,y,on=um,how='outer')\n",
    "apilar = lambda x,y:x.append(y,ignore_index=True)"
   ]
  },
  {
   "cell_type": "code",
   "execution_count": 23,
   "id": "7bf34fd2",
   "metadata": {},
   "outputs": [],
   "source": [
    "X = reduce(apilar, map(lambda ancla:reduce(cruzar, map(lambda k:ing_X(df,ancla,k), range(step,vobs+step,step)) ),range(anclai,anclaf+1)))"
   ]
  },
  {
   "cell_type": "code",
   "execution_count": 25,
   "id": "ec2106e7",
   "metadata": {},
   "outputs": [
    {
     "data": {
      "text/plain": [
       "6.0    46986\n",
       "1.0    16670\n",
       "2.0    15871\n",
       "3.0    15426\n",
       "4.0    15124\n",
       "5.0    14178\n",
       "Name: x_permanencia, dtype: int64"
      ]
     },
     "execution_count": 25,
     "metadata": {},
     "output_type": "execute_result"
    }
   ],
   "source": [
    "X['x_permanencia'].value_counts()"
   ]
  },
  {
   "cell_type": "code",
   "execution_count": 26,
   "id": "93c6e7cf",
   "metadata": {},
   "outputs": [],
   "source": [
    "X=X[(X['x_permanencia']==vobs)]"
   ]
  },
  {
   "cell_type": "markdown",
   "id": "f713fd73",
   "metadata": {},
   "source": [
    "## Variable Objetivo"
   ]
  },
  {
   "cell_type": "code",
   "execution_count": 28,
   "id": "8f6e3db0",
   "metadata": {},
   "outputs": [],
   "source": [
    "def ing_y(df,ancla):\n",
    "    l = []\n",
    "    aux = df.loc[(df['mes']>ancla)&(df['mes']<=(ancla+vdes))][['linea']].drop_duplicates().reset_index(drop=True).assign(churn=0)\n",
    "    aux.insert(1,'ancla',ancla)\n",
    "    return aux"
   ]
  },
  {
   "cell_type": "code",
   "execution_count": 29,
   "id": "d3674329",
   "metadata": {},
   "outputs": [],
   "source": [
    "y = reduce(apilar,map(lambda ancla:ing_y(df,ancla),range(anclai,anclaf+1)))"
   ]
  },
  {
   "cell_type": "code",
   "execution_count": 30,
   "id": "93b652d8",
   "metadata": {},
   "outputs": [
    {
     "data": {
      "text/plain": [
       "0.0    0.83095\n",
       "1.0    0.16905\n",
       "Name: churn, dtype: float64"
      ]
     },
     "execution_count": 30,
     "metadata": {},
     "output_type": "execute_result"
    }
   ],
   "source": [
    "tad = X.merge(y,on=um,how='left')\n",
    "tad['churn'].fillna(1,inplace=True)\n",
    "tad['churn'].value_counts(True)"
   ]
  },
  {
   "cell_type": "code",
   "execution_count": 31,
   "id": "a6c2613d",
   "metadata": {},
   "outputs": [
    {
     "data": {
      "text/plain": [
       "0.0    39043\n",
       "1.0     7943\n",
       "Name: churn, dtype: int64"
      ]
     },
     "execution_count": 31,
     "metadata": {},
     "output_type": "execute_result"
    }
   ],
   "source": [
    "tad['churn'].value_counts()"
   ]
  },
  {
   "cell_type": "code",
   "execution_count": 32,
   "id": "9b5155e4",
   "metadata": {},
   "outputs": [],
   "source": [
    "varc = sorted(tad.filter(like='x_').columns)\n",
    "vart = ['churn']"
   ]
  },
  {
   "cell_type": "code",
   "execution_count": 33,
   "id": "4a98a705",
   "metadata": {},
   "outputs": [],
   "source": [
    "varc.remove('x_permanencia')"
   ]
  },
  {
   "cell_type": "code",
   "execution_count": 34,
   "id": "34805c03",
   "metadata": {},
   "outputs": [
    {
     "data": {
      "text/html": [
       "<div>\n",
       "<style scoped>\n",
       "    .dataframe tbody tr th:only-of-type {\n",
       "        vertical-align: middle;\n",
       "    }\n",
       "\n",
       "    .dataframe tbody tr th {\n",
       "        vertical-align: top;\n",
       "    }\n",
       "\n",
       "    .dataframe thead th {\n",
       "        text-align: right;\n",
       "    }\n",
       "</style>\n",
       "<table border=\"1\" class=\"dataframe\">\n",
       "  <thead>\n",
       "    <tr style=\"text-align: right;\">\n",
       "      <th></th>\n",
       "      <th>linea</th>\n",
       "      <th>ancla</th>\n",
       "      <th>x_cambios_eq_3</th>\n",
       "      <th>x_monto_recargado_3</th>\n",
       "      <th>x_monto_promedio_3</th>\n",
       "      <th>x_prom_recarga_3</th>\n",
       "      <th>x_sum_prom_recarga_3</th>\n",
       "      <th>x_min_monto_3</th>\n",
       "      <th>x_max_monto_3</th>\n",
       "      <th>x_min_recarga_3</th>\n",
       "      <th>...</th>\n",
       "      <th>x_monto_promedio_6</th>\n",
       "      <th>x_prom_recarga_6</th>\n",
       "      <th>x_sum_prom_recarga_6</th>\n",
       "      <th>x_min_monto_6</th>\n",
       "      <th>x_max_monto_6</th>\n",
       "      <th>x_min_recarga_6</th>\n",
       "      <th>x_max_recarga_6</th>\n",
       "      <th>x_recargas_prom_6</th>\n",
       "      <th>x_recargas_6</th>\n",
       "      <th>churn</th>\n",
       "    </tr>\n",
       "  </thead>\n",
       "  <tbody>\n",
       "    <tr>\n",
       "      <th>0</th>\n",
       "      <td>2211041593</td>\n",
       "      <td>5</td>\n",
       "      <td>2.0</td>\n",
       "      <td>310.0</td>\n",
       "      <td>103.333333</td>\n",
       "      <td>26.000000</td>\n",
       "      <td>78.00</td>\n",
       "      <td>0.0</td>\n",
       "      <td>190.0</td>\n",
       "      <td>16.666667</td>\n",
       "      <td>...</td>\n",
       "      <td>86.666667</td>\n",
       "      <td>24.666667</td>\n",
       "      <td>148.00</td>\n",
       "      <td>0.0</td>\n",
       "      <td>190.0</td>\n",
       "      <td>16.666667</td>\n",
       "      <td>33.333333</td>\n",
       "      <td>2.333333</td>\n",
       "      <td>14.0</td>\n",
       "      <td>0.0</td>\n",
       "    </tr>\n",
       "    <tr>\n",
       "      <th>1</th>\n",
       "      <td>2211049487</td>\n",
       "      <td>5</td>\n",
       "      <td>1.0</td>\n",
       "      <td>0.0</td>\n",
       "      <td>0.000000</td>\n",
       "      <td>0.000000</td>\n",
       "      <td>0.00</td>\n",
       "      <td>0.0</td>\n",
       "      <td>0.0</td>\n",
       "      <td>0.000000</td>\n",
       "      <td>...</td>\n",
       "      <td>61.666667</td>\n",
       "      <td>6.833333</td>\n",
       "      <td>41.00</td>\n",
       "      <td>0.0</td>\n",
       "      <td>210.0</td>\n",
       "      <td>6.666667</td>\n",
       "      <td>8.333333</td>\n",
       "      <td>3.000000</td>\n",
       "      <td>18.0</td>\n",
       "      <td>0.0</td>\n",
       "    </tr>\n",
       "    <tr>\n",
       "      <th>2</th>\n",
       "      <td>2211077018</td>\n",
       "      <td>5</td>\n",
       "      <td>1.0</td>\n",
       "      <td>50.0</td>\n",
       "      <td>16.666667</td>\n",
       "      <td>16.666667</td>\n",
       "      <td>50.00</td>\n",
       "      <td>0.0</td>\n",
       "      <td>30.0</td>\n",
       "      <td>16.666667</td>\n",
       "      <td>...</td>\n",
       "      <td>33.333333</td>\n",
       "      <td>22.083333</td>\n",
       "      <td>132.50</td>\n",
       "      <td>0.0</td>\n",
       "      <td>90.0</td>\n",
       "      <td>21.666667</td>\n",
       "      <td>23.333333</td>\n",
       "      <td>1.333333</td>\n",
       "      <td>8.0</td>\n",
       "      <td>0.0</td>\n",
       "    </tr>\n",
       "    <tr>\n",
       "      <th>3</th>\n",
       "      <td>2211090475</td>\n",
       "      <td>5</td>\n",
       "      <td>1.0</td>\n",
       "      <td>0.0</td>\n",
       "      <td>0.000000</td>\n",
       "      <td>0.000000</td>\n",
       "      <td>0.00</td>\n",
       "      <td>0.0</td>\n",
       "      <td>0.0</td>\n",
       "      <td>0.000000</td>\n",
       "      <td>...</td>\n",
       "      <td>11.666667</td>\n",
       "      <td>11.666667</td>\n",
       "      <td>70.00</td>\n",
       "      <td>0.0</td>\n",
       "      <td>50.0</td>\n",
       "      <td>11.666667</td>\n",
       "      <td>11.666667</td>\n",
       "      <td>0.333333</td>\n",
       "      <td>2.0</td>\n",
       "      <td>0.0</td>\n",
       "    </tr>\n",
       "    <tr>\n",
       "      <th>4</th>\n",
       "      <td>2211094929</td>\n",
       "      <td>5</td>\n",
       "      <td>1.0</td>\n",
       "      <td>900.0</td>\n",
       "      <td>300.000000</td>\n",
       "      <td>37.473333</td>\n",
       "      <td>112.42</td>\n",
       "      <td>60.0</td>\n",
       "      <td>570.0</td>\n",
       "      <td>10.000000</td>\n",
       "      <td>...</td>\n",
       "      <td>173.333333</td>\n",
       "      <td>24.570000</td>\n",
       "      <td>147.42</td>\n",
       "      <td>0.0</td>\n",
       "      <td>570.0</td>\n",
       "      <td>6.666667</td>\n",
       "      <td>33.333333</td>\n",
       "      <td>4.333333</td>\n",
       "      <td>26.0</td>\n",
       "      <td>0.0</td>\n",
       "    </tr>\n",
       "    <tr>\n",
       "      <th>...</th>\n",
       "      <td>...</td>\n",
       "      <td>...</td>\n",
       "      <td>...</td>\n",
       "      <td>...</td>\n",
       "      <td>...</td>\n",
       "      <td>...</td>\n",
       "      <td>...</td>\n",
       "      <td>...</td>\n",
       "      <td>...</td>\n",
       "      <td>...</td>\n",
       "      <td>...</td>\n",
       "      <td>...</td>\n",
       "      <td>...</td>\n",
       "      <td>...</td>\n",
       "      <td>...</td>\n",
       "      <td>...</td>\n",
       "      <td>...</td>\n",
       "      <td>...</td>\n",
       "      <td>...</td>\n",
       "      <td>...</td>\n",
       "      <td>...</td>\n",
       "    </tr>\n",
       "    <tr>\n",
       "      <th>46981</th>\n",
       "      <td>9995073480</td>\n",
       "      <td>16</td>\n",
       "      <td>1.0</td>\n",
       "      <td>550.0</td>\n",
       "      <td>183.333333</td>\n",
       "      <td>61.113333</td>\n",
       "      <td>183.34</td>\n",
       "      <td>150.0</td>\n",
       "      <td>200.0</td>\n",
       "      <td>50.000000</td>\n",
       "      <td>...</td>\n",
       "      <td>171.666667</td>\n",
       "      <td>56.806667</td>\n",
       "      <td>340.84</td>\n",
       "      <td>100.0</td>\n",
       "      <td>230.0</td>\n",
       "      <td>46.666667</td>\n",
       "      <td>75.000000</td>\n",
       "      <td>3.000000</td>\n",
       "      <td>18.0</td>\n",
       "      <td>0.0</td>\n",
       "    </tr>\n",
       "    <tr>\n",
       "      <th>46982</th>\n",
       "      <td>9995844317</td>\n",
       "      <td>16</td>\n",
       "      <td>1.0</td>\n",
       "      <td>150.0</td>\n",
       "      <td>50.000000</td>\n",
       "      <td>25.000000</td>\n",
       "      <td>75.00</td>\n",
       "      <td>0.0</td>\n",
       "      <td>150.0</td>\n",
       "      <td>16.666667</td>\n",
       "      <td>...</td>\n",
       "      <td>58.333333</td>\n",
       "      <td>20.833333</td>\n",
       "      <td>125.00</td>\n",
       "      <td>0.0</td>\n",
       "      <td>200.0</td>\n",
       "      <td>16.666667</td>\n",
       "      <td>25.000000</td>\n",
       "      <td>1.000000</td>\n",
       "      <td>6.0</td>\n",
       "      <td>0.0</td>\n",
       "    </tr>\n",
       "    <tr>\n",
       "      <th>46983</th>\n",
       "      <td>9996402823</td>\n",
       "      <td>16</td>\n",
       "      <td>1.0</td>\n",
       "      <td>140.0</td>\n",
       "      <td>46.666667</td>\n",
       "      <td>26.666667</td>\n",
       "      <td>80.00</td>\n",
       "      <td>20.0</td>\n",
       "      <td>90.0</td>\n",
       "      <td>26.666667</td>\n",
       "      <td>...</td>\n",
       "      <td>58.333333</td>\n",
       "      <td>26.666667</td>\n",
       "      <td>160.00</td>\n",
       "      <td>0.0</td>\n",
       "      <td>150.0</td>\n",
       "      <td>26.666667</td>\n",
       "      <td>26.666667</td>\n",
       "      <td>1.666667</td>\n",
       "      <td>10.0</td>\n",
       "      <td>1.0</td>\n",
       "    </tr>\n",
       "    <tr>\n",
       "      <th>46984</th>\n",
       "      <td>9996696718</td>\n",
       "      <td>16</td>\n",
       "      <td>1.0</td>\n",
       "      <td>200.0</td>\n",
       "      <td>66.666667</td>\n",
       "      <td>50.000000</td>\n",
       "      <td>150.00</td>\n",
       "      <td>50.0</td>\n",
       "      <td>100.0</td>\n",
       "      <td>50.000000</td>\n",
       "      <td>...</td>\n",
       "      <td>58.333333</td>\n",
       "      <td>50.000000</td>\n",
       "      <td>300.00</td>\n",
       "      <td>50.0</td>\n",
       "      <td>100.0</td>\n",
       "      <td>50.000000</td>\n",
       "      <td>50.000000</td>\n",
       "      <td>1.166667</td>\n",
       "      <td>7.0</td>\n",
       "      <td>1.0</td>\n",
       "    </tr>\n",
       "    <tr>\n",
       "      <th>46985</th>\n",
       "      <td>9999082004</td>\n",
       "      <td>16</td>\n",
       "      <td>1.0</td>\n",
       "      <td>210.0</td>\n",
       "      <td>70.000000</td>\n",
       "      <td>70.000000</td>\n",
       "      <td>210.00</td>\n",
       "      <td>30.0</td>\n",
       "      <td>150.0</td>\n",
       "      <td>70.000000</td>\n",
       "      <td>...</td>\n",
       "      <td>55.000000</td>\n",
       "      <td>50.833333</td>\n",
       "      <td>305.00</td>\n",
       "      <td>20.0</td>\n",
       "      <td>150.0</td>\n",
       "      <td>50.000000</td>\n",
       "      <td>51.666667</td>\n",
       "      <td>1.166667</td>\n",
       "      <td>7.0</td>\n",
       "      <td>0.0</td>\n",
       "    </tr>\n",
       "  </tbody>\n",
       "</table>\n",
       "<p>46986 rows × 29 columns</p>\n",
       "</div>"
      ],
      "text/plain": [
       "            linea  ancla  x_cambios_eq_3  x_monto_recargado_3  \\\n",
       "0      2211041593      5             2.0                310.0   \n",
       "1      2211049487      5             1.0                  0.0   \n",
       "2      2211077018      5             1.0                 50.0   \n",
       "3      2211090475      5             1.0                  0.0   \n",
       "4      2211094929      5             1.0                900.0   \n",
       "...           ...    ...             ...                  ...   \n",
       "46981  9995073480     16             1.0                550.0   \n",
       "46982  9995844317     16             1.0                150.0   \n",
       "46983  9996402823     16             1.0                140.0   \n",
       "46984  9996696718     16             1.0                200.0   \n",
       "46985  9999082004     16             1.0                210.0   \n",
       "\n",
       "       x_monto_promedio_3  x_prom_recarga_3  x_sum_prom_recarga_3  \\\n",
       "0              103.333333         26.000000                 78.00   \n",
       "1                0.000000          0.000000                  0.00   \n",
       "2               16.666667         16.666667                 50.00   \n",
       "3                0.000000          0.000000                  0.00   \n",
       "4              300.000000         37.473333                112.42   \n",
       "...                   ...               ...                   ...   \n",
       "46981          183.333333         61.113333                183.34   \n",
       "46982           50.000000         25.000000                 75.00   \n",
       "46983           46.666667         26.666667                 80.00   \n",
       "46984           66.666667         50.000000                150.00   \n",
       "46985           70.000000         70.000000                210.00   \n",
       "\n",
       "       x_min_monto_3  x_max_monto_3  x_min_recarga_3  ...  x_monto_promedio_6  \\\n",
       "0                0.0          190.0        16.666667  ...           86.666667   \n",
       "1                0.0            0.0         0.000000  ...           61.666667   \n",
       "2                0.0           30.0        16.666667  ...           33.333333   \n",
       "3                0.0            0.0         0.000000  ...           11.666667   \n",
       "4               60.0          570.0        10.000000  ...          173.333333   \n",
       "...              ...            ...              ...  ...                 ...   \n",
       "46981          150.0          200.0        50.000000  ...          171.666667   \n",
       "46982            0.0          150.0        16.666667  ...           58.333333   \n",
       "46983           20.0           90.0        26.666667  ...           58.333333   \n",
       "46984           50.0          100.0        50.000000  ...           58.333333   \n",
       "46985           30.0          150.0        70.000000  ...           55.000000   \n",
       "\n",
       "       x_prom_recarga_6  x_sum_prom_recarga_6  x_min_monto_6  x_max_monto_6  \\\n",
       "0             24.666667                148.00            0.0          190.0   \n",
       "1              6.833333                 41.00            0.0          210.0   \n",
       "2             22.083333                132.50            0.0           90.0   \n",
       "3             11.666667                 70.00            0.0           50.0   \n",
       "4             24.570000                147.42            0.0          570.0   \n",
       "...                 ...                   ...            ...            ...   \n",
       "46981         56.806667                340.84          100.0          230.0   \n",
       "46982         20.833333                125.00            0.0          200.0   \n",
       "46983         26.666667                160.00            0.0          150.0   \n",
       "46984         50.000000                300.00           50.0          100.0   \n",
       "46985         50.833333                305.00           20.0          150.0   \n",
       "\n",
       "       x_min_recarga_6  x_max_recarga_6  x_recargas_prom_6  x_recargas_6  \\\n",
       "0            16.666667        33.333333           2.333333          14.0   \n",
       "1             6.666667         8.333333           3.000000          18.0   \n",
       "2            21.666667        23.333333           1.333333           8.0   \n",
       "3            11.666667        11.666667           0.333333           2.0   \n",
       "4             6.666667        33.333333           4.333333          26.0   \n",
       "...                ...              ...                ...           ...   \n",
       "46981        46.666667        75.000000           3.000000          18.0   \n",
       "46982        16.666667        25.000000           1.000000           6.0   \n",
       "46983        26.666667        26.666667           1.666667          10.0   \n",
       "46984        50.000000        50.000000           1.166667           7.0   \n",
       "46985        50.000000        51.666667           1.166667           7.0   \n",
       "\n",
       "       churn  \n",
       "0        0.0  \n",
       "1        0.0  \n",
       "2        0.0  \n",
       "3        0.0  \n",
       "4        0.0  \n",
       "...      ...  \n",
       "46981    0.0  \n",
       "46982    0.0  \n",
       "46983    1.0  \n",
       "46984    1.0  \n",
       "46985    0.0  \n",
       "\n",
       "[46986 rows x 29 columns]"
      ]
     },
     "execution_count": 34,
     "metadata": {},
     "output_type": "execute_result"
    }
   ],
   "source": [
    "tad"
   ]
  },
  {
   "cell_type": "markdown",
   "id": "90a612c8",
   "metadata": {},
   "source": [
    "### Análisis Exploratorio"
   ]
  },
  {
   "cell_type": "code",
   "execution_count": 35,
   "id": "af88865c",
   "metadata": {},
   "outputs": [
    {
     "data": {
      "text/plain": [
       "array([[<AxesSubplot:title={'center':'x_ACTIVO'}>,\n",
       "        <AxesSubplot:title={'center':'x_ZERO BALANCE 1'}>,\n",
       "        <AxesSubplot:title={'center':'x_antiglinea'}>,\n",
       "        <AxesSubplot:title={'center':'x_cambios_eq_3'}>,\n",
       "        <AxesSubplot:title={'center':'x_cambios_eq_6'}>],\n",
       "       [<AxesSubplot:title={'center':'x_max_monto_3'}>,\n",
       "        <AxesSubplot:title={'center':'x_max_monto_6'}>,\n",
       "        <AxesSubplot:title={'center':'x_max_recarga_3'}>,\n",
       "        <AxesSubplot:title={'center':'x_max_recarga_6'}>,\n",
       "        <AxesSubplot:title={'center':'x_min_monto_3'}>],\n",
       "       [<AxesSubplot:title={'center':'x_min_monto_6'}>,\n",
       "        <AxesSubplot:title={'center':'x_min_recarga_3'}>,\n",
       "        <AxesSubplot:title={'center':'x_min_recarga_6'}>,\n",
       "        <AxesSubplot:title={'center':'x_monto_promedio_3'}>,\n",
       "        <AxesSubplot:title={'center':'x_monto_promedio_6'}>],\n",
       "       [<AxesSubplot:title={'center':'x_monto_recargado_3'}>,\n",
       "        <AxesSubplot:title={'center':'x_monto_recargado_6'}>,\n",
       "        <AxesSubplot:title={'center':'x_prom_recarga_3'}>,\n",
       "        <AxesSubplot:title={'center':'x_prom_recarga_6'}>,\n",
       "        <AxesSubplot:title={'center':'x_recargas_3'}>],\n",
       "       [<AxesSubplot:title={'center':'x_recargas_6'}>,\n",
       "        <AxesSubplot:title={'center':'x_recargas_prom_3'}>,\n",
       "        <AxesSubplot:title={'center':'x_recargas_prom_6'}>,\n",
       "        <AxesSubplot:title={'center':'x_sum_prom_recarga_3'}>,\n",
       "        <AxesSubplot:title={'center':'x_sum_prom_recarga_6'}>]],\n",
       "      dtype=object)"
      ]
     },
     "execution_count": 35,
     "metadata": {},
     "output_type": "execute_result"
    },
    {
     "data": {
      "image/png": "[encoded data removed]",
      "text/plain": [
       "<Figure size 1440x1440 with 25 Axes>"
      ]
     },
     "metadata": {
      "needs_background": "light"
     },
     "output_type": "display_data"
    }
   ],
   "source": [
    "tad[varc].hist(figsize=(20,20))"
   ]
  },
  {
   "cell_type": "code",
   "execution_count": 39,
   "id": "6467fc88",
   "metadata": {},
   "outputs": [],
   "source": [
    "tad[varc]=tad[varc].fillna(0)"
   ]
  },
  {
   "cell_type": "markdown",
   "id": "fed7f559",
   "metadata": {},
   "source": [
    "## Multicolinealidad"
   ]
  },
  {
   "cell_type": "code",
   "execution_count": 40,
   "id": "48c57b6d",
   "metadata": {},
   "outputs": [
    {
     "data": {
      "text/plain": [
       "['x_prom_recarga_3',\n",
       " 'x_monto_recargado_3',\n",
       " 'x_recargas_prom_3',\n",
       " 'x_ACTIVO',\n",
       " 'x_antiglinea']"
      ]
     },
     "execution_count": 40,
     "metadata": {},
     "output_type": "execute_result"
    }
   ],
   "source": [
    "vc = VarClusHi(df=tad,feat_list=varc)\n",
    "vc.varclus()\n",
    "rs = vc.rsquare\n",
    "rs = rs.sort_values(by=['Cluster','RS_Ratio']).reset_index(drop=True)\n",
    "rs['id'] = rs.groupby('Cluster').cumcount()+1\n",
    "best = rs.loc[rs['id']==1]['Variable'].tolist()\n",
    "best"
   ]
  },
  {
   "cell_type": "code",
   "execution_count": 41,
   "id": "dac95616",
   "metadata": {},
   "outputs": [
    {
     "data": {
      "text/html": [
       "<div>\n",
       "<style scoped>\n",
       "    .dataframe tbody tr th:only-of-type {\n",
       "        vertical-align: middle;\n",
       "    }\n",
       "\n",
       "    .dataframe tbody tr th {\n",
       "        vertical-align: top;\n",
       "    }\n",
       "\n",
       "    .dataframe thead th {\n",
       "        text-align: right;\n",
       "    }\n",
       "</style>\n",
       "<table border=\"1\" class=\"dataframe\">\n",
       "  <thead>\n",
       "    <tr style=\"text-align: right;\">\n",
       "      <th></th>\n",
       "      <th>Cluster</th>\n",
       "      <th>Variable</th>\n",
       "      <th>RS_Own</th>\n",
       "      <th>RS_NC</th>\n",
       "      <th>RS_Ratio</th>\n",
       "      <th>id</th>\n",
       "    </tr>\n",
       "  </thead>\n",
       "  <tbody>\n",
       "    <tr>\n",
       "      <th>0</th>\n",
       "      <td>0</td>\n",
       "      <td>x_prom_recarga_3</td>\n",
       "      <td>0.973499</td>\n",
       "      <td>0.400549</td>\n",
       "      <td>4.420848e-02</td>\n",
       "      <td>1</td>\n",
       "    </tr>\n",
       "    <tr>\n",
       "      <th>1</th>\n",
       "      <td>0</td>\n",
       "      <td>x_sum_prom_recarga_3</td>\n",
       "      <td>0.973499</td>\n",
       "      <td>0.400549</td>\n",
       "      <td>4.420848e-02</td>\n",
       "      <td>2</td>\n",
       "    </tr>\n",
       "    <tr>\n",
       "      <th>2</th>\n",
       "      <td>0</td>\n",
       "      <td>x_sum_prom_recarga_6</td>\n",
       "      <td>0.973944</td>\n",
       "      <td>0.431906</td>\n",
       "      <td>4.586599e-02</td>\n",
       "      <td>3</td>\n",
       "    </tr>\n",
       "    <tr>\n",
       "      <th>3</th>\n",
       "      <td>0</td>\n",
       "      <td>x_prom_recarga_6</td>\n",
       "      <td>0.973944</td>\n",
       "      <td>0.431906</td>\n",
       "      <td>4.586599e-02</td>\n",
       "      <td>4</td>\n",
       "    </tr>\n",
       "    <tr>\n",
       "      <th>4</th>\n",
       "      <td>0</td>\n",
       "      <td>x_min_recarga_6</td>\n",
       "      <td>0.933344</td>\n",
       "      <td>0.370641</td>\n",
       "      <td>1.059102e-01</td>\n",
       "      <td>5</td>\n",
       "    </tr>\n",
       "    <tr>\n",
       "      <th>5</th>\n",
       "      <td>0</td>\n",
       "      <td>x_min_recarga_3</td>\n",
       "      <td>0.923249</td>\n",
       "      <td>0.338183</td>\n",
       "      <td>1.159695e-01</td>\n",
       "      <td>6</td>\n",
       "    </tr>\n",
       "    <tr>\n",
       "      <th>6</th>\n",
       "      <td>0</td>\n",
       "      <td>x_max_recarga_6</td>\n",
       "      <td>0.930619</td>\n",
       "      <td>0.463098</td>\n",
       "      <td>1.292255e-01</td>\n",
       "      <td>7</td>\n",
       "    </tr>\n",
       "    <tr>\n",
       "      <th>7</th>\n",
       "      <td>0</td>\n",
       "      <td>x_max_recarga_3</td>\n",
       "      <td>0.920465</td>\n",
       "      <td>0.466400</td>\n",
       "      <td>1.490532e-01</td>\n",
       "      <td>8</td>\n",
       "    </tr>\n",
       "    <tr>\n",
       "      <th>8</th>\n",
       "      <td>1</td>\n",
       "      <td>x_monto_recargado_3</td>\n",
       "      <td>0.965262</td>\n",
       "      <td>0.508337</td>\n",
       "      <td>7.065420e-02</td>\n",
       "      <td>1</td>\n",
       "    </tr>\n",
       "    <tr>\n",
       "      <th>9</th>\n",
       "      <td>1</td>\n",
       "      <td>x_monto_promedio_3</td>\n",
       "      <td>0.965262</td>\n",
       "      <td>0.508337</td>\n",
       "      <td>7.065420e-02</td>\n",
       "      <td>2</td>\n",
       "    </tr>\n",
       "    <tr>\n",
       "      <th>10</th>\n",
       "      <td>1</td>\n",
       "      <td>x_monto_promedio_6</td>\n",
       "      <td>0.962194</td>\n",
       "      <td>0.499402</td>\n",
       "      <td>7.552201e-02</td>\n",
       "      <td>3</td>\n",
       "    </tr>\n",
       "    <tr>\n",
       "      <th>11</th>\n",
       "      <td>1</td>\n",
       "      <td>x_monto_recargado_6</td>\n",
       "      <td>0.962194</td>\n",
       "      <td>0.499402</td>\n",
       "      <td>7.552201e-02</td>\n",
       "      <td>4</td>\n",
       "    </tr>\n",
       "    <tr>\n",
       "      <th>12</th>\n",
       "      <td>1</td>\n",
       "      <td>x_max_monto_3</td>\n",
       "      <td>0.849053</td>\n",
       "      <td>0.439030</td>\n",
       "      <td>2.690814e-01</td>\n",
       "      <td>5</td>\n",
       "    </tr>\n",
       "    <tr>\n",
       "      <th>13</th>\n",
       "      <td>1</td>\n",
       "      <td>x_min_monto_3</td>\n",
       "      <td>0.810298</td>\n",
       "      <td>0.415012</td>\n",
       "      <td>3.242840e-01</td>\n",
       "      <td>6</td>\n",
       "    </tr>\n",
       "    <tr>\n",
       "      <th>14</th>\n",
       "      <td>1</td>\n",
       "      <td>x_max_monto_6</td>\n",
       "      <td>0.778304</td>\n",
       "      <td>0.394329</td>\n",
       "      <td>3.660330e-01</td>\n",
       "      <td>7</td>\n",
       "    </tr>\n",
       "    <tr>\n",
       "      <th>15</th>\n",
       "      <td>1</td>\n",
       "      <td>x_min_monto_6</td>\n",
       "      <td>0.680583</td>\n",
       "      <td>0.364930</td>\n",
       "      <td>5.029643e-01</td>\n",
       "      <td>8</td>\n",
       "    </tr>\n",
       "    <tr>\n",
       "      <th>16</th>\n",
       "      <td>2</td>\n",
       "      <td>x_recargas_prom_3</td>\n",
       "      <td>0.964253</td>\n",
       "      <td>0.493071</td>\n",
       "      <td>7.051668e-02</td>\n",
       "      <td>1</td>\n",
       "    </tr>\n",
       "    <tr>\n",
       "      <th>17</th>\n",
       "      <td>2</td>\n",
       "      <td>x_recargas_3</td>\n",
       "      <td>0.964253</td>\n",
       "      <td>0.493071</td>\n",
       "      <td>7.051668e-02</td>\n",
       "      <td>2</td>\n",
       "    </tr>\n",
       "    <tr>\n",
       "      <th>18</th>\n",
       "      <td>2</td>\n",
       "      <td>x_recargas_prom_6</td>\n",
       "      <td>0.964521</td>\n",
       "      <td>0.499563</td>\n",
       "      <td>7.089568e-02</td>\n",
       "      <td>3</td>\n",
       "    </tr>\n",
       "    <tr>\n",
       "      <th>19</th>\n",
       "      <td>2</td>\n",
       "      <td>x_recargas_6</td>\n",
       "      <td>0.964521</td>\n",
       "      <td>0.499563</td>\n",
       "      <td>7.089568e-02</td>\n",
       "      <td>4</td>\n",
       "    </tr>\n",
       "    <tr>\n",
       "      <th>20</th>\n",
       "      <td>2</td>\n",
       "      <td>x_cambios_eq_3</td>\n",
       "      <td>0.006798</td>\n",
       "      <td>0.238446</td>\n",
       "      <td>1.304178e+00</td>\n",
       "      <td>5</td>\n",
       "    </tr>\n",
       "    <tr>\n",
       "      <th>21</th>\n",
       "      <td>3</td>\n",
       "      <td>x_ACTIVO</td>\n",
       "      <td>1.000000</td>\n",
       "      <td>0.427817</td>\n",
       "      <td>3.880656e-16</td>\n",
       "      <td>1</td>\n",
       "    </tr>\n",
       "    <tr>\n",
       "      <th>22</th>\n",
       "      <td>3</td>\n",
       "      <td>x_ZERO BALANCE 1</td>\n",
       "      <td>1.000000</td>\n",
       "      <td>0.427817</td>\n",
       "      <td>3.880656e-16</td>\n",
       "      <td>2</td>\n",
       "    </tr>\n",
       "    <tr>\n",
       "      <th>23</th>\n",
       "      <td>4</td>\n",
       "      <td>x_antiglinea</td>\n",
       "      <td>0.518093</td>\n",
       "      <td>0.002943</td>\n",
       "      <td>4.833293e-01</td>\n",
       "      <td>1</td>\n",
       "    </tr>\n",
       "    <tr>\n",
       "      <th>24</th>\n",
       "      <td>4</td>\n",
       "      <td>x_cambios_eq_6</td>\n",
       "      <td>0.518093</td>\n",
       "      <td>0.005558</td>\n",
       "      <td>4.846004e-01</td>\n",
       "      <td>2</td>\n",
       "    </tr>\n",
       "  </tbody>\n",
       "</table>\n",
       "</div>"
      ],
      "text/plain": [
       "   Cluster              Variable    RS_Own     RS_NC      RS_Ratio  id\n",
       "0        0      x_prom_recarga_3  0.973499  0.400549  4.420848e-02   1\n",
       "1        0  x_sum_prom_recarga_3  0.973499  0.400549  4.420848e-02   2\n",
       "2        0  x_sum_prom_recarga_6  0.973944  0.431906  4.586599e-02   3\n",
       "3        0      x_prom_recarga_6  0.973944  0.431906  4.586599e-02   4\n",
       "4        0       x_min_recarga_6  0.933344  0.370641  1.059102e-01   5\n",
       "5        0       x_min_recarga_3  0.923249  0.338183  1.159695e-01   6\n",
       "6        0       x_max_recarga_6  0.930619  0.463098  1.292255e-01   7\n",
       "7        0       x_max_recarga_3  0.920465  0.466400  1.490532e-01   8\n",
       "8        1   x_monto_recargado_3  0.965262  0.508337  7.065420e-02   1\n",
       "9        1    x_monto_promedio_3  0.965262  0.508337  7.065420e-02   2\n",
       "10       1    x_monto_promedio_6  0.962194  0.499402  7.552201e-02   3\n",
       "11       1   x_monto_recargado_6  0.962194  0.499402  7.552201e-02   4\n",
       "12       1         x_max_monto_3  0.849053  0.439030  2.690814e-01   5\n",
       "13       1         x_min_monto_3  0.810298  0.415012  3.242840e-01   6\n",
       "14       1         x_max_monto_6  0.778304  0.394329  3.660330e-01   7\n",
       "15       1         x_min_monto_6  0.680583  0.364930  5.029643e-01   8\n",
       "16       2     x_recargas_prom_3  0.964253  0.493071  7.051668e-02   1\n",
       "17       2          x_recargas_3  0.964253  0.493071  7.051668e-02   2\n",
       "18       2     x_recargas_prom_6  0.964521  0.499563  7.089568e-02   3\n",
       "19       2          x_recargas_6  0.964521  0.499563  7.089568e-02   4\n",
       "20       2        x_cambios_eq_3  0.006798  0.238446  1.304178e+00   5\n",
       "21       3              x_ACTIVO  1.000000  0.427817  3.880656e-16   1\n",
       "22       3      x_ZERO BALANCE 1  1.000000  0.427817  3.880656e-16   2\n",
       "23       4          x_antiglinea  0.518093  0.002943  4.833293e-01   1\n",
       "24       4        x_cambios_eq_6  0.518093  0.005558  4.846004e-01   2"
      ]
     },
     "execution_count": 41,
     "metadata": {},
     "output_type": "execute_result"
    }
   ],
   "source": [
    "rs"
   ]
  },
  {
   "cell_type": "code",
   "execution_count": 42,
   "id": "3fc9ba39",
   "metadata": {},
   "outputs": [
    {
     "data": {
      "text/plain": [
       "array([[<AxesSubplot:title={'center':'x_prom_recarga_3'}>,\n",
       "        <AxesSubplot:title={'center':'x_monto_recargado_3'}>],\n",
       "       [<AxesSubplot:title={'center':'x_recargas_prom_3'}>,\n",
       "        <AxesSubplot:title={'center':'x_ACTIVO'}>],\n",
       "       [<AxesSubplot:title={'center':'x_antiglinea'}>, <AxesSubplot:>]],\n",
       "      dtype=object)"
      ]
     },
     "execution_count": 42,
     "metadata": {},
     "output_type": "execute_result"
    },
    {
     "data": {
      "image/png": "[encoded data removed]",
      "text/plain": [
       "<Figure size 432x288 with 6 Axes>"
      ]
     },
     "metadata": {
      "needs_background": "light"
     },
     "output_type": "display_data"
    }
   ],
   "source": [
    "tad[best].hist()"
   ]
  },
  {
   "cell_type": "code",
   "execution_count": 44,
   "id": "75acc4a7",
   "metadata": {},
   "outputs": [],
   "source": [
    "from sklearn.feature_selection import SelectKBest"
   ]
  },
  {
   "cell_type": "code",
   "execution_count": 47,
   "id": "c336055e",
   "metadata": {},
   "outputs": [],
   "source": [
    "sk = SelectKBest(k=1)"
   ]
  },
  {
   "cell_type": "code",
   "execution_count": 48,
   "id": "f3df3098",
   "metadata": {},
   "outputs": [
    {
     "name": "stderr",
     "output_type": "stream",
     "text": [
      "C:\\Users\\VDMG015\\Anaconda3\\lib\\site-packages\\sklearn\\utils\\validation.py:63: DataConversionWarning: A column-vector y was passed when a 1d array was expected. Please change the shape of y to (n_samples, ), for example using ravel().\n",
      "  return f(*args, **kwargs)\n"
     ]
    },
    {
     "data": {
      "text/plain": [
       "SelectKBest(k=1)"
      ]
     },
     "execution_count": 48,
     "metadata": {},
     "output_type": "execute_result"
    }
   ],
   "source": [
    "sk.fit(tad[best],tad[vart])"
   ]
  },
  {
   "cell_type": "code",
   "execution_count": 50,
   "id": "4cde2196",
   "metadata": {},
   "outputs": [
    {
     "data": {
      "text/html": [
       "<div>\n",
       "<style scoped>\n",
       "    .dataframe tbody tr th:only-of-type {\n",
       "        vertical-align: middle;\n",
       "    }\n",
       "\n",
       "    .dataframe tbody tr th {\n",
       "        vertical-align: top;\n",
       "    }\n",
       "\n",
       "    .dataframe thead th {\n",
       "        text-align: right;\n",
       "    }\n",
       "</style>\n",
       "<table border=\"1\" class=\"dataframe\">\n",
       "  <thead>\n",
       "    <tr style=\"text-align: right;\">\n",
       "      <th></th>\n",
       "      <th>variable</th>\n",
       "      <th>score</th>\n",
       "    </tr>\n",
       "  </thead>\n",
       "  <tbody>\n",
       "    <tr>\n",
       "      <th>4</th>\n",
       "      <td>x_antiglinea</td>\n",
       "      <td>149.691292</td>\n",
       "    </tr>\n",
       "    <tr>\n",
       "      <th>0</th>\n",
       "      <td>x_prom_recarga_3</td>\n",
       "      <td>18.575186</td>\n",
       "    </tr>\n",
       "    <tr>\n",
       "      <th>1</th>\n",
       "      <td>x_monto_recargado_3</td>\n",
       "      <td>10.880775</td>\n",
       "    </tr>\n",
       "    <tr>\n",
       "      <th>3</th>\n",
       "      <td>x_ACTIVO</td>\n",
       "      <td>1.354196</td>\n",
       "    </tr>\n",
       "    <tr>\n",
       "      <th>2</th>\n",
       "      <td>x_recargas_prom_3</td>\n",
       "      <td>0.690786</td>\n",
       "    </tr>\n",
       "  </tbody>\n",
       "</table>\n",
       "</div>"
      ],
      "text/plain": [
       "              variable       score\n",
       "4         x_antiglinea  149.691292\n",
       "0     x_prom_recarga_3   18.575186\n",
       "1  x_monto_recargado_3   10.880775\n",
       "3             x_ACTIVO    1.354196\n",
       "2    x_recargas_prom_3    0.690786"
      ]
     },
     "execution_count": 50,
     "metadata": {},
     "output_type": "execute_result"
    }
   ],
   "source": [
    "scores = pd.DataFrame(zip(best,sk.scores_),columns=['variable','score'])\n",
    "scores = scores.sort_values(by='score',ascending=False)\n",
    "scores"
   ]
  },
  {
   "cell_type": "code",
   "execution_count": 51,
   "id": "300dd276",
   "metadata": {},
   "outputs": [],
   "source": [
    "Xi=tad[um+varc+vart]"
   ]
  },
  {
   "cell_type": "markdown",
   "id": "42fa7411",
   "metadata": {},
   "source": [
    "## Modelado"
   ]
  },
  {
   "cell_type": "code",
   "execution_count": 52,
   "id": "af1470f1",
   "metadata": {},
   "outputs": [
    {
     "data": {
      "text/html": [
       "        <script type=\"text/javascript\">\n",
       "        window.PlotlyConfig = {MathJaxConfig: 'local'};\n",
       "        if (window.MathJax) {MathJax.Hub.Config({SVG: {font: \"STIX-Web\"}});}\n",
       "        if (typeof require !== 'undefined') {\n",
       "        require.undef(\"plotly\");\n",
       "        requirejs.config({\n",
       "            paths: {\n",
       "                'plotly': ['https://cdn.plot.ly/plotly-2.2.0.min']\n",
       "            }\n",
       "        });\n",
       "        require(['plotly'], function(Plotly) {\n",
       "            window._Plotly = Plotly;\n",
       "        });\n",
       "        }\n",
       "        </script>\n",
       "        "
      ]
     },
     "metadata": {},
     "output_type": "display_data"
    }
   ],
   "source": [
    "import numpy as np\n",
    "import pandas as pd\n",
    "\n",
    "from datetime import date\n",
    "from dateutil.relativedelta import relativedelta as rd\n",
    "\n",
    "import os\n",
    "import pickle\n",
    "import json\n",
    "\n",
    "import matplotlib.pyplot as plt\n",
    "import seaborn as sns\n",
    "import cufflinks as cf\n",
    "\n",
    "from functools import reduce\n",
    "\n",
    "from sklearn.impute import SimpleImputer\n",
    "from sklearn.preprocessing import MinMaxScaler,StandardScaler\n",
    "from sklearn.decomposition import PCA\n",
    "from sklearn.manifold import MDS\n",
    "from sklearn.feature_selection import SelectKBest\n",
    "from sklearn.pipeline import make_pipeline\n",
    "\n",
    "from sklearn.linear_model import LogisticRegression\n",
    "from sklearn.svm import SVC\n",
    "from sklearn.neural_network import MLPClassifier\n",
    "from sklearn.ensemble import RandomForestClassifier\n",
    "from sklearn.tree import DecisionTreeClassifier\n",
    "\n",
    "from sklearn.metrics import roc_auc_score, roc_curve\n",
    "from scikitplot.metrics import plot_ks_statistic,plot_roc_curve, confusion_matrix,plot_roc\n",
    "\n",
    "from sklearn.model_selection import train_test_split,RandomizedSearchCV\n",
    "\n",
    "from scipy.stats import ks_2samp,kruskal\n",
    "\n",
    "cf.go_offline()\n",
    "pd.set_option('display.max_columns',None)"
   ]
  },
  {
   "cell_type": "code",
   "execution_count": 56,
   "id": "c9198c9c",
   "metadata": {},
   "outputs": [],
   "source": [
    "sc1= StandardScaler()"
   ]
  },
  {
   "cell_type": "code",
   "execution_count": 57,
   "id": "76ca36e5",
   "metadata": {},
   "outputs": [],
   "source": [
    "sc = MinMaxScaler()"
   ]
  },
  {
   "cell_type": "code",
   "execution_count": 58,
   "id": "357c0ca6",
   "metadata": {},
   "outputs": [],
   "source": [
    "Xi.reset_index(drop=True,inplace=True)"
   ]
  },
  {
   "cell_type": "code",
   "execution_count": 59,
   "id": "1166f3cb",
   "metadata": {},
   "outputs": [
    {
     "data": {
      "text/plain": [
       "MinMaxScaler()"
      ]
     },
     "execution_count": 59,
     "metadata": {},
     "output_type": "execute_result"
    }
   ],
   "source": [
    "sc.fit(Xi[varc])"
   ]
  },
  {
   "cell_type": "code",
   "execution_count": 60,
   "id": "48d5cc7a",
   "metadata": {},
   "outputs": [
    {
     "data": {
      "text/plain": [
       "StandardScaler()"
      ]
     },
     "execution_count": 60,
     "metadata": {},
     "output_type": "execute_result"
    }
   ],
   "source": [
    "sc1.fit(Xi[varc])"
   ]
  },
  {
   "cell_type": "code",
   "execution_count": 61,
   "id": "23ca0387",
   "metadata": {},
   "outputs": [
    {
     "data": {
      "text/html": [
       "<div>\n",
       "<style scoped>\n",
       "    .dataframe tbody tr th:only-of-type {\n",
       "        vertical-align: middle;\n",
       "    }\n",
       "\n",
       "    .dataframe tbody tr th {\n",
       "        vertical-align: top;\n",
       "    }\n",
       "\n",
       "    .dataframe thead th {\n",
       "        text-align: right;\n",
       "    }\n",
       "</style>\n",
       "<table border=\"1\" class=\"dataframe\">\n",
       "  <thead>\n",
       "    <tr style=\"text-align: right;\">\n",
       "      <th></th>\n",
       "      <th>linea</th>\n",
       "      <th>ancla</th>\n",
       "      <th>x_ACTIVO</th>\n",
       "      <th>x_ZERO BALANCE 1</th>\n",
       "      <th>x_antiglinea</th>\n",
       "      <th>x_cambios_eq_3</th>\n",
       "      <th>x_cambios_eq_6</th>\n",
       "      <th>x_max_monto_3</th>\n",
       "      <th>x_max_monto_6</th>\n",
       "      <th>x_max_recarga_3</th>\n",
       "      <th>x_max_recarga_6</th>\n",
       "      <th>x_min_monto_3</th>\n",
       "      <th>x_min_monto_6</th>\n",
       "      <th>x_min_recarga_3</th>\n",
       "      <th>x_min_recarga_6</th>\n",
       "      <th>x_monto_promedio_3</th>\n",
       "      <th>x_monto_promedio_6</th>\n",
       "      <th>x_monto_recargado_3</th>\n",
       "      <th>x_monto_recargado_6</th>\n",
       "      <th>x_prom_recarga_3</th>\n",
       "      <th>x_prom_recarga_6</th>\n",
       "      <th>x_recargas_3</th>\n",
       "      <th>x_recargas_6</th>\n",
       "      <th>x_recargas_prom_3</th>\n",
       "      <th>x_recargas_prom_6</th>\n",
       "      <th>x_sum_prom_recarga_3</th>\n",
       "      <th>x_sum_prom_recarga_6</th>\n",
       "      <th>churn</th>\n",
       "    </tr>\n",
       "  </thead>\n",
       "  <tbody>\n",
       "    <tr>\n",
       "      <th>0</th>\n",
       "      <td>2211041593</td>\n",
       "      <td>5</td>\n",
       "      <td>3.0</td>\n",
       "      <td>3.0</td>\n",
       "      <td>39.0</td>\n",
       "      <td>2.0</td>\n",
       "      <td>2</td>\n",
       "      <td>190.0</td>\n",
       "      <td>190.0</td>\n",
       "      <td>33.333333</td>\n",
       "      <td>33.333333</td>\n",
       "      <td>0.0</td>\n",
       "      <td>0.0</td>\n",
       "      <td>16.666667</td>\n",
       "      <td>16.666667</td>\n",
       "      <td>103.333333</td>\n",
       "      <td>86.666667</td>\n",
       "      <td>310.0</td>\n",
       "      <td>520.0</td>\n",
       "      <td>26.000000</td>\n",
       "      <td>24.666667</td>\n",
       "      <td>8.0</td>\n",
       "      <td>14.0</td>\n",
       "      <td>2.666667</td>\n",
       "      <td>2.333333</td>\n",
       "      <td>78.00</td>\n",
       "      <td>148.00</td>\n",
       "      <td>0.0</td>\n",
       "    </tr>\n",
       "    <tr>\n",
       "      <th>1</th>\n",
       "      <td>2211049487</td>\n",
       "      <td>5</td>\n",
       "      <td>1.0</td>\n",
       "      <td>5.0</td>\n",
       "      <td>13.0</td>\n",
       "      <td>1.0</td>\n",
       "      <td>1</td>\n",
       "      <td>0.0</td>\n",
       "      <td>210.0</td>\n",
       "      <td>0.000000</td>\n",
       "      <td>8.333333</td>\n",
       "      <td>0.0</td>\n",
       "      <td>0.0</td>\n",
       "      <td>0.000000</td>\n",
       "      <td>6.666667</td>\n",
       "      <td>0.000000</td>\n",
       "      <td>61.666667</td>\n",
       "      <td>0.0</td>\n",
       "      <td>370.0</td>\n",
       "      <td>0.000000</td>\n",
       "      <td>6.833333</td>\n",
       "      <td>0.0</td>\n",
       "      <td>18.0</td>\n",
       "      <td>0.000000</td>\n",
       "      <td>3.000000</td>\n",
       "      <td>0.00</td>\n",
       "      <td>41.00</td>\n",
       "      <td>0.0</td>\n",
       "    </tr>\n",
       "    <tr>\n",
       "      <th>2</th>\n",
       "      <td>2211077018</td>\n",
       "      <td>5</td>\n",
       "      <td>2.0</td>\n",
       "      <td>4.0</td>\n",
       "      <td>38.0</td>\n",
       "      <td>1.0</td>\n",
       "      <td>2</td>\n",
       "      <td>30.0</td>\n",
       "      <td>90.0</td>\n",
       "      <td>16.666667</td>\n",
       "      <td>23.333333</td>\n",
       "      <td>0.0</td>\n",
       "      <td>0.0</td>\n",
       "      <td>16.666667</td>\n",
       "      <td>21.666667</td>\n",
       "      <td>16.666667</td>\n",
       "      <td>33.333333</td>\n",
       "      <td>50.0</td>\n",
       "      <td>200.0</td>\n",
       "      <td>16.666667</td>\n",
       "      <td>22.083333</td>\n",
       "      <td>2.0</td>\n",
       "      <td>8.0</td>\n",
       "      <td>0.666667</td>\n",
       "      <td>1.333333</td>\n",
       "      <td>50.00</td>\n",
       "      <td>132.50</td>\n",
       "      <td>0.0</td>\n",
       "    </tr>\n",
       "    <tr>\n",
       "      <th>3</th>\n",
       "      <td>2211090475</td>\n",
       "      <td>5</td>\n",
       "      <td>0.0</td>\n",
       "      <td>6.0</td>\n",
       "      <td>10.0</td>\n",
       "      <td>1.0</td>\n",
       "      <td>1</td>\n",
       "      <td>0.0</td>\n",
       "      <td>50.0</td>\n",
       "      <td>0.000000</td>\n",
       "      <td>11.666667</td>\n",
       "      <td>0.0</td>\n",
       "      <td>0.0</td>\n",
       "      <td>0.000000</td>\n",
       "      <td>11.666667</td>\n",
       "      <td>0.000000</td>\n",
       "      <td>11.666667</td>\n",
       "      <td>0.0</td>\n",
       "      <td>70.0</td>\n",
       "      <td>0.000000</td>\n",
       "      <td>11.666667</td>\n",
       "      <td>0.0</td>\n",
       "      <td>2.0</td>\n",
       "      <td>0.000000</td>\n",
       "      <td>0.333333</td>\n",
       "      <td>0.00</td>\n",
       "      <td>70.00</td>\n",
       "      <td>0.0</td>\n",
       "    </tr>\n",
       "    <tr>\n",
       "      <th>4</th>\n",
       "      <td>2211094929</td>\n",
       "      <td>5</td>\n",
       "      <td>3.0</td>\n",
       "      <td>3.0</td>\n",
       "      <td>38.0</td>\n",
       "      <td>1.0</td>\n",
       "      <td>2</td>\n",
       "      <td>570.0</td>\n",
       "      <td>570.0</td>\n",
       "      <td>50.000000</td>\n",
       "      <td>33.333333</td>\n",
       "      <td>60.0</td>\n",
       "      <td>0.0</td>\n",
       "      <td>10.000000</td>\n",
       "      <td>6.666667</td>\n",
       "      <td>300.000000</td>\n",
       "      <td>173.333333</td>\n",
       "      <td>900.0</td>\n",
       "      <td>1040.0</td>\n",
       "      <td>37.473333</td>\n",
       "      <td>24.570000</td>\n",
       "      <td>22.0</td>\n",
       "      <td>26.0</td>\n",
       "      <td>7.333333</td>\n",
       "      <td>4.333333</td>\n",
       "      <td>112.42</td>\n",
       "      <td>147.42</td>\n",
       "      <td>0.0</td>\n",
       "    </tr>\n",
       "    <tr>\n",
       "      <th>...</th>\n",
       "      <td>...</td>\n",
       "      <td>...</td>\n",
       "      <td>...</td>\n",
       "      <td>...</td>\n",
       "      <td>...</td>\n",
       "      <td>...</td>\n",
       "      <td>...</td>\n",
       "      <td>...</td>\n",
       "      <td>...</td>\n",
       "      <td>...</td>\n",
       "      <td>...</td>\n",
       "      <td>...</td>\n",
       "      <td>...</td>\n",
       "      <td>...</td>\n",
       "      <td>...</td>\n",
       "      <td>...</td>\n",
       "      <td>...</td>\n",
       "      <td>...</td>\n",
       "      <td>...</td>\n",
       "      <td>...</td>\n",
       "      <td>...</td>\n",
       "      <td>...</td>\n",
       "      <td>...</td>\n",
       "      <td>...</td>\n",
       "      <td>...</td>\n",
       "      <td>...</td>\n",
       "      <td>...</td>\n",
       "      <td>...</td>\n",
       "    </tr>\n",
       "    <tr>\n",
       "      <th>46981</th>\n",
       "      <td>9995073480</td>\n",
       "      <td>16</td>\n",
       "      <td>6.0</td>\n",
       "      <td>0.0</td>\n",
       "      <td>36.0</td>\n",
       "      <td>1.0</td>\n",
       "      <td>2</td>\n",
       "      <td>200.0</td>\n",
       "      <td>230.0</td>\n",
       "      <td>83.333333</td>\n",
       "      <td>75.000000</td>\n",
       "      <td>150.0</td>\n",
       "      <td>100.0</td>\n",
       "      <td>50.000000</td>\n",
       "      <td>46.666667</td>\n",
       "      <td>183.333333</td>\n",
       "      <td>171.666667</td>\n",
       "      <td>550.0</td>\n",
       "      <td>1030.0</td>\n",
       "      <td>61.113333</td>\n",
       "      <td>56.806667</td>\n",
       "      <td>9.0</td>\n",
       "      <td>18.0</td>\n",
       "      <td>3.000000</td>\n",
       "      <td>3.000000</td>\n",
       "      <td>183.34</td>\n",
       "      <td>340.84</td>\n",
       "      <td>0.0</td>\n",
       "    </tr>\n",
       "    <tr>\n",
       "      <th>46982</th>\n",
       "      <td>9995844317</td>\n",
       "      <td>16</td>\n",
       "      <td>2.0</td>\n",
       "      <td>4.0</td>\n",
       "      <td>20.0</td>\n",
       "      <td>1.0</td>\n",
       "      <td>2</td>\n",
       "      <td>150.0</td>\n",
       "      <td>200.0</td>\n",
       "      <td>33.333333</td>\n",
       "      <td>25.000000</td>\n",
       "      <td>0.0</td>\n",
       "      <td>0.0</td>\n",
       "      <td>16.666667</td>\n",
       "      <td>16.666667</td>\n",
       "      <td>50.000000</td>\n",
       "      <td>58.333333</td>\n",
       "      <td>150.0</td>\n",
       "      <td>350.0</td>\n",
       "      <td>25.000000</td>\n",
       "      <td>20.833333</td>\n",
       "      <td>2.0</td>\n",
       "      <td>6.0</td>\n",
       "      <td>0.666667</td>\n",
       "      <td>1.000000</td>\n",
       "      <td>75.00</td>\n",
       "      <td>125.00</td>\n",
       "      <td>0.0</td>\n",
       "    </tr>\n",
       "    <tr>\n",
       "      <th>46983</th>\n",
       "      <td>9996402823</td>\n",
       "      <td>16</td>\n",
       "      <td>2.0</td>\n",
       "      <td>4.0</td>\n",
       "      <td>27.0</td>\n",
       "      <td>1.0</td>\n",
       "      <td>1</td>\n",
       "      <td>90.0</td>\n",
       "      <td>150.0</td>\n",
       "      <td>26.666667</td>\n",
       "      <td>26.666667</td>\n",
       "      <td>20.0</td>\n",
       "      <td>0.0</td>\n",
       "      <td>26.666667</td>\n",
       "      <td>26.666667</td>\n",
       "      <td>46.666667</td>\n",
       "      <td>58.333333</td>\n",
       "      <td>140.0</td>\n",
       "      <td>350.0</td>\n",
       "      <td>26.666667</td>\n",
       "      <td>26.666667</td>\n",
       "      <td>5.0</td>\n",
       "      <td>10.0</td>\n",
       "      <td>1.666667</td>\n",
       "      <td>1.666667</td>\n",
       "      <td>80.00</td>\n",
       "      <td>160.00</td>\n",
       "      <td>1.0</td>\n",
       "    </tr>\n",
       "    <tr>\n",
       "      <th>46984</th>\n",
       "      <td>9996696718</td>\n",
       "      <td>16</td>\n",
       "      <td>5.0</td>\n",
       "      <td>1.0</td>\n",
       "      <td>6.0</td>\n",
       "      <td>1.0</td>\n",
       "      <td>1</td>\n",
       "      <td>100.0</td>\n",
       "      <td>100.0</td>\n",
       "      <td>50.000000</td>\n",
       "      <td>50.000000</td>\n",
       "      <td>50.0</td>\n",
       "      <td>50.0</td>\n",
       "      <td>50.000000</td>\n",
       "      <td>50.000000</td>\n",
       "      <td>66.666667</td>\n",
       "      <td>58.333333</td>\n",
       "      <td>200.0</td>\n",
       "      <td>350.0</td>\n",
       "      <td>50.000000</td>\n",
       "      <td>50.000000</td>\n",
       "      <td>4.0</td>\n",
       "      <td>7.0</td>\n",
       "      <td>1.333333</td>\n",
       "      <td>1.166667</td>\n",
       "      <td>150.00</td>\n",
       "      <td>300.00</td>\n",
       "      <td>1.0</td>\n",
       "    </tr>\n",
       "    <tr>\n",
       "      <th>46985</th>\n",
       "      <td>9999082004</td>\n",
       "      <td>16</td>\n",
       "      <td>1.0</td>\n",
       "      <td>5.0</td>\n",
       "      <td>20.0</td>\n",
       "      <td>1.0</td>\n",
       "      <td>1</td>\n",
       "      <td>150.0</td>\n",
       "      <td>150.0</td>\n",
       "      <td>70.000000</td>\n",
       "      <td>51.666667</td>\n",
       "      <td>30.0</td>\n",
       "      <td>20.0</td>\n",
       "      <td>70.000000</td>\n",
       "      <td>50.000000</td>\n",
       "      <td>70.000000</td>\n",
       "      <td>55.000000</td>\n",
       "      <td>210.0</td>\n",
       "      <td>330.0</td>\n",
       "      <td>70.000000</td>\n",
       "      <td>50.833333</td>\n",
       "      <td>3.0</td>\n",
       "      <td>7.0</td>\n",
       "      <td>1.000000</td>\n",
       "      <td>1.166667</td>\n",
       "      <td>210.00</td>\n",
       "      <td>305.00</td>\n",
       "      <td>0.0</td>\n",
       "    </tr>\n",
       "  </tbody>\n",
       "</table>\n",
       "<p>46986 rows × 28 columns</p>\n",
       "</div>"
      ],
      "text/plain": [
       "            linea  ancla  x_ACTIVO  x_ZERO BALANCE 1  x_antiglinea  \\\n",
       "0      2211041593      5       3.0               3.0          39.0   \n",
       "1      2211049487      5       1.0               5.0          13.0   \n",
       "2      2211077018      5       2.0               4.0          38.0   \n",
       "3      2211090475      5       0.0               6.0          10.0   \n",
       "4      2211094929      5       3.0               3.0          38.0   \n",
       "...           ...    ...       ...               ...           ...   \n",
       "46981  9995073480     16       6.0               0.0          36.0   \n",
       "46982  9995844317     16       2.0               4.0          20.0   \n",
       "46983  9996402823     16       2.0               4.0          27.0   \n",
       "46984  9996696718     16       5.0               1.0           6.0   \n",
       "46985  9999082004     16       1.0               5.0          20.0   \n",
       "\n",
       "       x_cambios_eq_3  x_cambios_eq_6  x_max_monto_3  x_max_monto_6  \\\n",
       "0                 2.0               2          190.0          190.0   \n",
       "1                 1.0               1            0.0          210.0   \n",
       "2                 1.0               2           30.0           90.0   \n",
       "3                 1.0               1            0.0           50.0   \n",
       "4                 1.0               2          570.0          570.0   \n",
       "...               ...             ...            ...            ...   \n",
       "46981             1.0               2          200.0          230.0   \n",
       "46982             1.0               2          150.0          200.0   \n",
       "46983             1.0               1           90.0          150.0   \n",
       "46984             1.0               1          100.0          100.0   \n",
       "46985             1.0               1          150.0          150.0   \n",
       "\n",
       "       x_max_recarga_3  x_max_recarga_6  x_min_monto_3  x_min_monto_6  \\\n",
       "0            33.333333        33.333333            0.0            0.0   \n",
       "1             0.000000         8.333333            0.0            0.0   \n",
       "2            16.666667        23.333333            0.0            0.0   \n",
       "3             0.000000        11.666667            0.0            0.0   \n",
       "4            50.000000        33.333333           60.0            0.0   \n",
       "...                ...              ...            ...            ...   \n",
       "46981        83.333333        75.000000          150.0          100.0   \n",
       "46982        33.333333        25.000000            0.0            0.0   \n",
       "46983        26.666667        26.666667           20.0            0.0   \n",
       "46984        50.000000        50.000000           50.0           50.0   \n",
       "46985        70.000000        51.666667           30.0           20.0   \n",
       "\n",
       "       x_min_recarga_3  x_min_recarga_6  x_monto_promedio_3  \\\n",
       "0            16.666667        16.666667          103.333333   \n",
       "1             0.000000         6.666667            0.000000   \n",
       "2            16.666667        21.666667           16.666667   \n",
       "3             0.000000        11.666667            0.000000   \n",
       "4            10.000000         6.666667          300.000000   \n",
       "...                ...              ...                 ...   \n",
       "46981        50.000000        46.666667          183.333333   \n",
       "46982        16.666667        16.666667           50.000000   \n",
       "46983        26.666667        26.666667           46.666667   \n",
       "46984        50.000000        50.000000           66.666667   \n",
       "46985        70.000000        50.000000           70.000000   \n",
       "\n",
       "       x_monto_promedio_6  x_monto_recargado_3  x_monto_recargado_6  \\\n",
       "0               86.666667                310.0                520.0   \n",
       "1               61.666667                  0.0                370.0   \n",
       "2               33.333333                 50.0                200.0   \n",
       "3               11.666667                  0.0                 70.0   \n",
       "4              173.333333                900.0               1040.0   \n",
       "...                   ...                  ...                  ...   \n",
       "46981          171.666667                550.0               1030.0   \n",
       "46982           58.333333                150.0                350.0   \n",
       "46983           58.333333                140.0                350.0   \n",
       "46984           58.333333                200.0                350.0   \n",
       "46985           55.000000                210.0                330.0   \n",
       "\n",
       "       x_prom_recarga_3  x_prom_recarga_6  x_recargas_3  x_recargas_6  \\\n",
       "0             26.000000         24.666667           8.0          14.0   \n",
       "1              0.000000          6.833333           0.0          18.0   \n",
       "2             16.666667         22.083333           2.0           8.0   \n",
       "3              0.000000         11.666667           0.0           2.0   \n",
       "4             37.473333         24.570000          22.0          26.0   \n",
       "...                 ...               ...           ...           ...   \n",
       "46981         61.113333         56.806667           9.0          18.0   \n",
       "46982         25.000000         20.833333           2.0           6.0   \n",
       "46983         26.666667         26.666667           5.0          10.0   \n",
       "46984         50.000000         50.000000           4.0           7.0   \n",
       "46985         70.000000         50.833333           3.0           7.0   \n",
       "\n",
       "       x_recargas_prom_3  x_recargas_prom_6  x_sum_prom_recarga_3  \\\n",
       "0               2.666667           2.333333                 78.00   \n",
       "1               0.000000           3.000000                  0.00   \n",
       "2               0.666667           1.333333                 50.00   \n",
       "3               0.000000           0.333333                  0.00   \n",
       "4               7.333333           4.333333                112.42   \n",
       "...                  ...                ...                   ...   \n",
       "46981           3.000000           3.000000                183.34   \n",
       "46982           0.666667           1.000000                 75.00   \n",
       "46983           1.666667           1.666667                 80.00   \n",
       "46984           1.333333           1.166667                150.00   \n",
       "46985           1.000000           1.166667                210.00   \n",
       "\n",
       "       x_sum_prom_recarga_6  churn  \n",
       "0                    148.00    0.0  \n",
       "1                     41.00    0.0  \n",
       "2                    132.50    0.0  \n",
       "3                     70.00    0.0  \n",
       "4                    147.42    0.0  \n",
       "...                     ...    ...  \n",
       "46981                340.84    0.0  \n",
       "46982                125.00    0.0  \n",
       "46983                160.00    1.0  \n",
       "46984                300.00    1.0  \n",
       "46985                305.00    0.0  \n",
       "\n",
       "[46986 rows x 28 columns]"
      ]
     },
     "execution_count": 61,
     "metadata": {},
     "output_type": "execute_result"
    }
   ],
   "source": [
    "Xi"
   ]
  },
  {
   "cell_type": "code",
   "execution_count": 62,
   "id": "b7dc1e8a",
   "metadata": {},
   "outputs": [],
   "source": [
    "X = pd.DataFrame(sc.transform(Xi[varc]),columns=varc)\n",
    "X[um] = Xi[um]\n",
    "X[vart] = Xi[vart]"
   ]
  },
  {
   "cell_type": "code",
   "execution_count": 63,
   "id": "c3073c3e",
   "metadata": {},
   "outputs": [],
   "source": [
    "X1 = pd.DataFrame(sc1.transform(Xi[varc]),columns=varc)\n",
    "X1[um] = Xi[um]\n",
    "X1[vart] = Xi[vart]"
   ]
  },
  {
   "cell_type": "code",
   "execution_count": null,
   "id": "5ea9cff1",
   "metadata": {},
   "outputs": [],
   "source": [
    "pi_pca = make_pipeline(StandardScaler(),PCA())\n",
    "pi_pca.fit(X[varc])\n",
    "Xp = pd.DataFrame(pi_pca.transform(X[varc]),columns=[f'd%i'%(i+1) for i in range(len(varc))])\n",
    "Xp[um] = Xi[um]\n",
    "Xp[vart] = Xi[vart]\n",
    "Xp[vart[0]].replace({0:'No Fuga',1:'Fuga'},inplace=True)\n",
    "Xp.head()"
   ]
  },
  {
   "cell_type": "code",
   "execution_count": null,
   "id": "c36821d7",
   "metadata": {},
   "outputs": [],
   "source": [
    "pi_pca.steps[-1][-1].explained_variance_ratio_.cumsum()##Varianza explicada por los componentes"
   ]
  },
  {
   "cell_type": "code",
   "execution_count": null,
   "id": "dc4f9da6",
   "metadata": {},
   "outputs": [],
   "source": [
    "Xp['churn'].value_counts(True)"
   ]
  },
  {
   "cell_type": "markdown",
   "id": "3a33a2e8",
   "metadata": {},
   "source": [
    "## Partición de datos"
   ]
  },
  {
   "cell_type": "code",
   "execution_count": 64,
   "id": "7209c25c",
   "metadata": {},
   "outputs": [],
   "source": [
    "Xt,Xv,yt,yv = train_test_split(X[um+varc],X[um+vart],train_size=0.7)"
   ]
  },
  {
   "cell_type": "code",
   "execution_count": 65,
   "id": "953f9bc8",
   "metadata": {},
   "outputs": [],
   "source": [
    "Xt.reset_index(drop=True,inplace=True)\n",
    "Xv.reset_index(drop=True,inplace=True)\n",
    "yt.reset_index(drop=True,inplace=True)\n",
    "yv.reset_index(drop=True,inplace=True)"
   ]
  },
  {
   "cell_type": "markdown",
   "id": "269a62c8",
   "metadata": {},
   "source": [
    "# Modelado"
   ]
  },
  {
   "cell_type": "markdown",
   "id": "1fba1fb1",
   "metadata": {},
   "source": [
    "## Regresión Logística"
   ]
  },
  {
   "cell_type": "code",
   "execution_count": 66,
   "id": "3c211e18",
   "metadata": {},
   "outputs": [],
   "source": [
    "modelo = LogisticRegression()"
   ]
  },
  {
   "cell_type": "code",
   "execution_count": 71,
   "id": "15ec0745",
   "metadata": {},
   "outputs": [
    {
     "data": {
      "text/plain": [
       "LogisticRegression()"
      ]
     },
     "execution_count": 71,
     "metadata": {},
     "output_type": "execute_result"
    }
   ],
   "source": [
    "modelo.fit(Xt[varc],yt[vart[0]])"
   ]
  },
  {
   "cell_type": "markdown",
   "id": "be1b70d2",
   "metadata": {},
   "source": [
    "### Parámetros"
   ]
  },
  {
   "cell_type": "code",
   "execution_count": 72,
   "id": "50c8df66",
   "metadata": {},
   "outputs": [
    {
     "data": {
      "text/plain": [
       "array([[ 0.14628472, -0.17835878, -1.15068581, -0.13972361,  0.26123788,\n",
       "         0.44344633,  0.29233179, -0.70663797,  0.02507386,  0.1363285 ,\n",
       "         0.35198875, -0.06163536,  0.6528845 ,  0.02938951, -1.65565403,\n",
       "         0.02938951, -1.65565403, -0.24281688,  0.17811762,  0.91271947,\n",
       "        -0.07283609,  0.91271947, -0.07283609, -0.24281688,  0.17811762]])"
      ]
     },
     "execution_count": 72,
     "metadata": {},
     "output_type": "execute_result"
    }
   ],
   "source": [
    "modelo.coef_"
   ]
  },
  {
   "cell_type": "markdown",
   "id": "bcbe66bb",
   "metadata": {},
   "source": [
    "### Intercepto"
   ]
  },
  {
   "cell_type": "code",
   "execution_count": 73,
   "id": "ff6cfbc3",
   "metadata": {},
   "outputs": [
    {
     "data": {
      "text/plain": [
       "array([-1.31229831])"
      ]
     },
     "execution_count": 73,
     "metadata": {},
     "output_type": "execute_result"
    }
   ],
   "source": [
    "modelo.intercept_"
   ]
  },
  {
   "cell_type": "markdown",
   "id": "2d747306",
   "metadata": {},
   "source": [
    "### Área bajo la curva ROC\n",
    "\n",
    "### Estadístico de KS bajo diferentes puntos de corte de probabilidad"
   ]
  },
  {
   "cell_type": "code",
   "execution_count": 74,
   "id": "86733247",
   "metadata": {},
   "outputs": [
    {
     "name": "stderr",
     "output_type": "stream",
     "text": [
      "C:\\Users\\VDMG015\\Anaconda3\\lib\\site-packages\\sklearn\\utils\\deprecation.py:86: FutureWarning:\n",
      "\n",
      "Function plot_roc_curve is deprecated; This will be removed in v0.5.0. Please use scikitplot.metrics.plot_roc instead.\n",
      "\n",
      "C:\\Users\\VDMG015\\Anaconda3\\lib\\site-packages\\sklearn\\utils\\deprecation.py:86: FutureWarning:\n",
      "\n",
      "Function plot_roc_curve is deprecated; This will be removed in v0.5.0. Please use scikitplot.metrics.plot_roc instead.\n",
      "\n"
     ]
    },
    {
     "data": {
      "text/plain": [
       "<AxesSubplot:title={'center':'KS Statistic Plot'}, xlabel='Threshold', ylabel='Percentage below threshold'>"
      ]
     },
     "execution_count": 74,
     "metadata": {},
     "output_type": "execute_result"
    },
    {
     "data": {
      "image/png": "[encoded data removed]",
      "text/plain": [
       "<Figure size 432x288 with 1 Axes>"
      ]
     },
     "metadata": {
      "needs_background": "light"
     },
     "output_type": "display_data"
    },
    {
     "data": {
      "image/png": "[encoded data removed]",
      "text/plain": [
       "<Figure size 432x288 with 1 Axes>"
      ]
     },
     "metadata": {
      "needs_background": "light"
     },
     "output_type": "display_data"
    },
    {
     "data": {
      "image/png": "[encoded data removed]",
      "text/plain": [
       "<Figure size 432x288 with 1 Axes>"
      ]
     },
     "metadata": {
      "needs_background": "light"
     },
     "output_type": "display_data"
    },
    {
     "data": {
      "image/png": "[encoded data removed]",
      "text/plain": [
       "<Figure size 432x288 with 1 Axes>"
      ]
     },
     "metadata": {
      "needs_background": "light"
     },
     "output_type": "display_data"
    }
   ],
   "source": [
    "plot_roc_curve(y_probas=modelo.predict_proba(Xt[varc]),y_true=yt[vart[0]],curves='macro')\n",
    "plot_roc_curve(y_probas=modelo.predict_proba(Xv[varc]),y_true=yv[vart[0]],curves='macro')\n",
    "\n",
    "plot_ks_statistic(y_probas=modelo.predict_proba(Xt[varc]),y_true=yt[vart[0]])\n",
    "plot_ks_statistic(y_probas=modelo.predict_proba(Xv[varc]),y_true=yv[vart[0]])"
   ]
  },
  {
   "cell_type": "markdown",
   "id": "d4718175",
   "metadata": {},
   "source": [
    "### Máquina Vector Soporte"
   ]
  },
  {
   "cell_type": "code",
   "execution_count": 75,
   "id": "2b06d400",
   "metadata": {},
   "outputs": [],
   "source": [
    "modelo = SVC(probability=True)"
   ]
  },
  {
   "cell_type": "code",
   "execution_count": 81,
   "id": "d7ab3b18",
   "metadata": {},
   "outputs": [
    {
     "data": {
      "text/plain": [
       "SVC(probability=True)"
      ]
     },
     "execution_count": 81,
     "metadata": {},
     "output_type": "execute_result"
    }
   ],
   "source": [
    "modelo.fit(Xt[varc],yt[vart[0]])"
   ]
  },
  {
   "cell_type": "markdown",
   "id": "2586de6d",
   "metadata": {},
   "source": [
    "### Área bajo la curva ROC\n",
    "\n",
    "### Estadístico de KS bajo diferentes puntos de corte de probabilidad"
   ]
  },
  {
   "cell_type": "code",
   "execution_count": 83,
   "id": "0f9ca4a1",
   "metadata": {},
   "outputs": [
    {
     "name": "stderr",
     "output_type": "stream",
     "text": [
      "C:\\Users\\VDMG015\\Anaconda3\\lib\\site-packages\\sklearn\\utils\\deprecation.py:86: FutureWarning:\n",
      "\n",
      "Function plot_roc_curve is deprecated; This will be removed in v0.5.0. Please use scikitplot.metrics.plot_roc instead.\n",
      "\n",
      "C:\\Users\\VDMG015\\Anaconda3\\lib\\site-packages\\sklearn\\utils\\deprecation.py:86: FutureWarning:\n",
      "\n",
      "Function plot_roc_curve is deprecated; This will be removed in v0.5.0. Please use scikitplot.metrics.plot_roc instead.\n",
      "\n"
     ]
    },
    {
     "data": {
      "text/plain": [
       "<AxesSubplot:title={'center':'KS Statistic Plot'}, xlabel='Threshold', ylabel='Percentage below threshold'>"
      ]
     },
     "execution_count": 83,
     "metadata": {},
     "output_type": "execute_result"
    },
    {
     "data": {
      "image/png": "[encoded data removed]",
      "text/plain": [
       "<Figure size 432x288 with 1 Axes>"
      ]
     },
     "metadata": {
      "needs_background": "light"
     },
     "output_type": "display_data"
    },
    {
     "data": {
      "image/png": "[encoded data removed]",
      "text/plain": [
       "<Figure size 432x288 with 1 Axes>"
      ]
     },
     "metadata": {
      "needs_background": "light"
     },
     "output_type": "display_data"
    },
    {
     "data": {
      "image/png": "[encoded data removed]",
      "text/plain": [
       "<Figure size 432x288 with 1 Axes>"
      ]
     },
     "metadata": {
      "needs_background": "light"
     },
     "output_type": "display_data"
    },
    {
     "data": {
      "image/png": "[encoded data removed]",
      "text/plain": [
       "<Figure size 432x288 with 1 Axes>"
      ]
     },
     "metadata": {
      "needs_background": "light"
     },
     "output_type": "display_data"
    }
   ],
   "source": [
    "plot_roc_curve(y_probas=modelo.predict_proba(Xt[varc]),y_true=yt[vart[0]],curves='macro')\n",
    "plot_roc_curve(y_probas=modelo.predict_proba(Xv[varc]),y_true=yv[vart[0]],curves='macro')\n",
    "\n",
    "plot_ks_statistic(y_probas=modelo.predict_proba(Xt[varc]),y_true=yt[vart[0]])\n",
    "plot_ks_statistic(y_probas=modelo.predict_proba(Xv[varc]),y_true=yv[vart[0]])"
   ]
  },
  {
   "cell_type": "markdown",
   "id": "e7be2200",
   "metadata": {},
   "source": [
    "### Red Neuronal"
   ]
  },
  {
   "cell_type": "code",
   "execution_count": null,
   "id": "9823a779",
   "metadata": {},
   "outputs": [],
   "source": [
    "modelo = MLPClassifier()"
   ]
  },
  {
   "cell_type": "code",
   "execution_count": null,
   "id": "3ac93eb7",
   "metadata": {},
   "outputs": [],
   "source": [
    "%%time\n",
    "modelo.fit(Xt[varc],yt[vart[0]])"
   ]
  },
  {
   "cell_type": "markdown",
   "id": "c1e780e7",
   "metadata": {},
   "source": [
    "### Área bajo la curva ROC\n",
    "\n",
    "### Estadístico de KS bajo diferentes puntos de corte de probabilidad"
   ]
  },
  {
   "cell_type": "code",
   "execution_count": null,
   "id": "585cdc2a",
   "metadata": {
    "scrolled": true
   },
   "outputs": [],
   "source": [
    "plot_roc_curve(y_probas=modelo.predict_proba(Xt[varc]),y_true=yt[vart[0]],curves='macro')\n",
    "plot_roc_curve(y_probas=modelo.predict_proba(Xv[varc]),y_true=yv[vart[0]],curves='macro')\n",
    "\n",
    "plot_ks_statistic(y_probas=modelo.predict_proba(Xt[varc]),y_true=yt[vart[0]])\n",
    "plot_ks_statistic(y_probas=modelo.predict_proba(Xv[varc]),y_true=yv[vart[0]])"
   ]
  },
  {
   "cell_type": "code",
   "execution_count": null,
   "id": "3217de94",
   "metadata": {},
   "outputs": [],
   "source": [
    "%%time\n",
    "modelo.fit(Xt[best],yt[vart[0]])"
   ]
  },
  {
   "cell_type": "markdown",
   "id": "456b9681",
   "metadata": {},
   "source": [
    "### Área bajo la curva ROC\n",
    "\n",
    "### Estadístico de KS bajo diferentes puntos de corte de probabilidad"
   ]
  },
  {
   "cell_type": "code",
   "execution_count": null,
   "id": "8fd3fa68",
   "metadata": {},
   "outputs": [],
   "source": [
    "plot_roc_curve(y_probas=modelo.predict_proba(Xt[best]),y_true=yt[vart[0]],curves='macro')\n",
    "plot_roc_curve(y_probas=modelo.predict_proba(Xv[best]),y_true=yv[vart[0]],curves='macro')\n",
    "\n",
    "plot_ks_statistic(y_probas=modelo.predict_proba(Xt[best]),y_true=yt[vart[0]])\n",
    "plot_ks_statistic(y_probas=modelo.predict_proba(Xv[best]),y_true=yv[vart[0]])"
   ]
  },
  {
   "cell_type": "markdown",
   "id": "9bcfb797",
   "metadata": {},
   "source": [
    "### XGB"
   ]
  },
  {
   "cell_type": "code",
   "execution_count": null,
   "id": "eef00990",
   "metadata": {},
   "outputs": [],
   "source": [
    "gradilla_hp={\"learning_rate\"    : [0.05, 0.10, 0.15, 0.20, 0.25, 0.30 ] ,\n",
    " \"max_depth\"        : [ 3, 4, 5, 6, 8, 10, 12, 15],\n",
    " \"min_child_weight\" : [ 1, 3, 5, 7 ],\n",
    " \"gamma\"            : [ 0.0, 0.1, 0.2 , 0.3, 0.4 ],\n",
    " \"colsample_bytree\" : [ 0.3, 0.4, 0.5 , 0.7 ] }\n",
    "\n",
    "grid = RandomizedSearchCV(cv=3,verbose=True,\n",
    "                          estimator=modelo,\n",
    "                          n_jobs=-1,\n",
    "                          scoring='roc_auc',\n",
    "                          param_distributions=gradilla_hp,\n",
    "                          n_iter=100)\n",
    "\n",
    "grid.fit(Xt[varc],yt[vart[0]])\n",
    "\n",
    "modelo = grid.best_estimator_\n",
    "modelo\n",
    "\n",
    "grid.best_params_\n",
    "\n",
    "grid.best_score_\n",
    "\n",
    "modelo.fit(Xt[varc],yt[vart[0]])"
   ]
  },
  {
   "cell_type": "code",
   "execution_count": null,
   "id": "529013dc",
   "metadata": {},
   "outputs": [],
   "source": [
    "plot_roc_curve(y_probas=modelo.predict_proba(Xt[varc]),y_true=yt[vart[0]],curves='macro')\n",
    "plot_roc_curve(y_probas=modelo.predict_proba(Xv[varc]),y_true=yv[vart[0]],curves='macro')\n",
    "\n",
    "plot_ks_statistic(y_probas=modelo.predict_proba(Xt[varc]),y_true=yt[vart[0]])\n",
    "plot_ks_statistic(y_probas=modelo.predict_proba(Xv[varc]),y_true=yv[vart[0]])"
   ]
  },
  {
   "cell_type": "code",
   "execution_count": null,
   "id": "e15f2dcc",
   "metadata": {},
   "outputs": [],
   "source": [
    "d=pd.DataFrame(modelo.predict_proba(Xv[varc]))"
   ]
  },
  {
   "cell_type": "code",
   "execution_count": null,
   "id": "68cbd514",
   "metadata": {},
   "outputs": [],
   "source": [
    "tn, fp, fn, tp = confusion_matrix(yv[vart[0]],modelo.predict(Xv[varc])).ravel()"
   ]
  },
  {
   "cell_type": "code",
   "execution_count": null,
   "id": "074a0402",
   "metadata": {},
   "outputs": [],
   "source": [
    "tn, fp, fn, tp"
   ]
  },
  {
   "cell_type": "code",
   "execution_count": 80,
   "id": "dac7af25",
   "metadata": {},
   "outputs": [
    {
     "data": {
      "text/plain": [
       "array([[11759,     0],\n",
       "       [ 2337,     0]], dtype=int64)"
      ]
     },
     "execution_count": 80,
     "metadata": {},
     "output_type": "execute_result"
    }
   ],
   "source": [
    "confusion_matrix(yv[vart[0]],modelo.predict(Xv[['x_antiglinea','x_prom_recarga_3']]))"
   ]
  },
  {
   "cell_type": "code",
   "execution_count": null,
   "id": "410dabd2",
   "metadata": {},
   "outputs": [],
   "source": [
    "def Find_Optimal_Cutoff(target, predicted):\n",
    "    \"\"\" Find the optimal probability cutoff point for a classification model related to event rate\n",
    "    Parameters\n",
    "    ----------\n",
    "    target : Matrix with dependent or target data, where rows are observations\n",
    "\n",
    "    predicted : Matrix with predicted data, where rows are observations\n",
    "\n",
    "    Returns\n",
    "    -------     \n",
    "    list type, with optimal cutoff value\n",
    "        \n",
    "    \"\"\"\n",
    "    fpr, tpr, threshold = roc_curve(target, predicted)\n",
    "    i = np.arange(len(tpr)) \n",
    "    roc = pd.DataFrame({'tf' : pd.Series(tpr-(1-fpr), index=i), 'threshold' : pd.Series(threshold, index=i)})\n",
    "    roc_t = roc.iloc[(roc.tf-0).abs().argsort()[:1]]\n",
    "\n",
    "    return list(roc_t['threshold']) "
   ]
  },
  {
   "cell_type": "code",
   "execution_count": null,
   "id": "77e43adb",
   "metadata": {},
   "outputs": [],
   "source": [
    "yv['proba']=pd.DataFrame(modelo.predict_proba(Xv[varc]))[1]"
   ]
  },
  {
   "cell_type": "code",
   "execution_count": null,
   "id": "a4fbdc9c",
   "metadata": {},
   "outputs": [],
   "source": [
    "fpr, tpr, threshold = roc_curve(yv[vart[0]], yv['proba'])"
   ]
  },
  {
   "cell_type": "code",
   "execution_count": null,
   "id": "9fd28bd2",
   "metadata": {},
   "outputs": [],
   "source": [
    "# Find optimal probability threshold\n",
    "threshold = Find_Optimal_Cutoff(yv[vart[0]], yv['proba'])\n"
   ]
  },
  {
   "cell_type": "code",
   "execution_count": null,
   "id": "e1a12773",
   "metadata": {},
   "outputs": [],
   "source": [
    "threshold[0]"
   ]
  },
  {
   "cell_type": "code",
   "execution_count": null,
   "id": "87702d43",
   "metadata": {},
   "outputs": [],
   "source": [
    "yv['pred']=yv['proba'].map(lambda x: 1 if x > threshold[0] else 0)"
   ]
  },
  {
   "cell_type": "code",
   "execution_count": null,
   "id": "1ba19e87",
   "metadata": {},
   "outputs": [],
   "source": [
    "confusion_matrix(yv[vart[0]], yv['pred'])"
   ]
  },
  {
   "cell_type": "code",
   "execution_count": null,
   "id": "53f5cb98",
   "metadata": {},
   "outputs": [],
   "source": [
    "confusion_matrix(yt[vart[0]],modelo.predict(Xt[varc]))"
   ]
  },
  {
   "cell_type": "code",
   "execution_count": null,
   "id": "6140c02c",
   "metadata": {},
   "outputs": [],
   "source": [
    "152/295, 518/2099"
   ]
  },
  {
   "cell_type": "code",
   "execution_count": null,
   "id": "c6fb78b7",
   "metadata": {},
   "outputs": [],
   "source": [
    "37/295, 27/2099"
   ]
  },
  {
   "cell_type": "code",
   "execution_count": null,
   "id": "b5ce29b4",
   "metadata": {},
   "outputs": [],
   "source": [
    "from xgboost.sklearn import XGBClassifier\n",
    "modelo = XGBClassifier()"
   ]
  },
  {
   "cell_type": "code",
   "execution_count": null,
   "id": "94c61eac",
   "metadata": {},
   "outputs": [],
   "source": [
    "modelo.fit(Xt[varc], yt[vart[0]])"
   ]
  },
  {
   "cell_type": "code",
   "execution_count": null,
   "id": "c726032a",
   "metadata": {},
   "outputs": [],
   "source": [
    "from sklearn.metrics import confusion_matrix, accuracy_score\n",
    "yp = modelo.predict(Xv[varc])\n",
    "cm = confusion_matrix(yv[vart[0]], yp)\n",
    "print(cm)\n",
    "accuracy_score(yv[vart[0]], yp)"
   ]
  },
  {
   "cell_type": "code",
   "execution_count": null,
   "id": "806f90e8",
   "metadata": {},
   "outputs": [],
   "source": [
    "from sklearn.model_selection import cross_val_score\n",
    "accuracies = cross_val_score(estimator = modelo, X = Xt[varc], y = yt[vart[0]], cv = 10)\n",
    "print(\"Accuracy: {:.2f} %\".format(accuracies.mean()*100))\n",
    "print(\"Standard Deviation: {:.2f} %\".format(accuracies.std()*100))"
   ]
  },
  {
   "cell_type": "code",
   "execution_count": null,
   "id": "701fda2e",
   "metadata": {},
   "outputs": [],
   "source": [
    "plot_roc(y_probas=modelo.predict_proba(Xt[varc]),y_true=yt[vart[0]])\n",
    "plot_roc(y_probas=modelo.predict_proba(Xv[varc]),y_true=yv[vart[0]])\n",
    "\n",
    "plot_ks_statistic(y_probas=modelo.predict_proba(Xt[varc]),y_true=yt[vart[0]])\n",
    "plot_ks_statistic(y_probas=modelo.predict_proba(Xv[varc]),y_true=yv[vart[0]])"
   ]
  },
  {
   "cell_type": "markdown",
   "id": "e1416c1e",
   "metadata": {},
   "source": [
    "### Bosque Aleatorio"
   ]
  },
  {
   "cell_type": "code",
   "execution_count": null,
   "id": "5f39b722",
   "metadata": {},
   "outputs": [],
   "source": [
    "modelo = RandomForestClassifier()"
   ]
  },
  {
   "cell_type": "code",
   "execution_count": null,
   "id": "05b712a0",
   "metadata": {},
   "outputs": [],
   "source": [
    "%%time\n",
    "modelo.fit(Xt[varc],yt[vart[0]])"
   ]
  },
  {
   "cell_type": "markdown",
   "id": "23864b02",
   "metadata": {},
   "source": [
    "### Área bajo la curva ROC\n",
    "\n",
    "### Estadístico de KS bajo diferentes puntos de corte de probabilidad"
   ]
  },
  {
   "cell_type": "code",
   "execution_count": null,
   "id": "d49f9ada",
   "metadata": {},
   "outputs": [],
   "source": [
    "plot_roc_curve(y_probas=modelo.predict_proba(Xt[varc]),y_true=yt[vart[0]],curves='macro')\n",
    "plot_roc_curve(y_probas=modelo.predict_proba(Xv[varc]),y_true=yv[vart[0]],curves='macro')\n",
    "\n",
    "plot_ks_statistic(y_probas=modelo.predict_proba(Xt[varc]),y_true=yt[vart[0]])\n",
    "plot_ks_statistic(y_probas=modelo.predict_proba(Xv[varc]),y_true=yv[vart[0]])"
   ]
  },
  {
   "cell_type": "markdown",
   "id": "a38e25b7",
   "metadata": {},
   "source": [
    "### Hiperparametrización"
   ]
  },
  {
   "cell_type": "code",
   "execution_count": null,
   "id": "b5319731",
   "metadata": {},
   "outputs": [],
   "source": [
    "gradilla_hp = dict(n_estimators = range(10,200,10),\n",
    "                   criterion = [\"gini\", \"entropy\"],\n",
    "                   max_depth = range(2,10)\n",
    "                  )\n",
    "\n",
    "grid = RandomizedSearchCV(cv=4,verbose=True,\n",
    "                          estimator=modelo,\n",
    "                          n_jobs=-1,\n",
    "                          scoring='roc_auc',\n",
    "                          param_distributions=gradilla_hp,\n",
    "                          n_iter=100)\n",
    "\n",
    "grid.fit(Xt[varc],yt[vart[0]])\n",
    "\n",
    "modelo = grid.best_estimator_\n",
    "\n",
    "print(grid.best_params_)\n",
    "\n",
    "print(grid.best_score_)\n",
    "\n",
    "modelo.fit(Xt[varc],yt[vart[0]])"
   ]
  },
  {
   "cell_type": "markdown",
   "id": "e70a7244",
   "metadata": {},
   "source": [
    "### Área bajo la curva ROC\n",
    "\n",
    "### Estadístico de KS bajo diferentes puntos de corte de probabilidad"
   ]
  },
  {
   "cell_type": "code",
   "execution_count": null,
   "id": "8e00015d",
   "metadata": {},
   "outputs": [],
   "source": [
    "plot_roc_curve(y_probas=modelo.predict_proba(Xt[varc]),y_true=yt[vart[0]],curves='macro')\n",
    "plot_roc_curve(y_probas=modelo.predict_proba(Xv[varc]),y_true=yv[vart[0]],curves='macro')\n",
    "\n",
    "plot_ks_statistic(y_probas=modelo.predict_proba(Xt[varc]),y_true=yt[vart[0]])\n",
    "plot_ks_statistic(y_probas=modelo.predict_proba(Xv[varc]),y_true=yv[vart[0]])"
   ]
  },
  {
   "cell_type": "markdown",
   "id": "b4d28720",
   "metadata": {},
   "source": [
    "### Árbol de Decisión"
   ]
  },
  {
   "cell_type": "code",
   "execution_count": null,
   "id": "a05a48e7",
   "metadata": {},
   "outputs": [],
   "source": [
    "modelo = DecisionTreeClassifier()"
   ]
  },
  {
   "cell_type": "code",
   "execution_count": null,
   "id": "61938acf",
   "metadata": {},
   "outputs": [],
   "source": [
    "modelo.fit(Xt[varc1],yt[vart[0]])"
   ]
  },
  {
   "cell_type": "code",
   "execution_count": null,
   "id": "2c81acdc",
   "metadata": {},
   "outputs": [],
   "source": [
    "plot_roc_curve(y_probas=modelo.predict_proba(Xt[varc1]),y_true=yt[vart[0]],curves='macro')\n",
    "plot_roc_curve(y_probas=modelo.predict_proba(Xv[varc1]),y_true=yv[vart[0]],curves='macro')\n",
    "\n",
    "plot_ks_statistic(y_probas=modelo.predict_proba(Xt[varc1]),y_true=yt[vart[0]])\n",
    "plot_ks_statistic(y_probas=modelo.predict_proba(Xv[varc1]),y_true=yv[vart[0]])"
   ]
  },
  {
   "cell_type": "markdown",
   "id": "63e97c50",
   "metadata": {},
   "source": [
    "### Hiperparametrización"
   ]
  },
  {
   "cell_type": "code",
   "execution_count": null,
   "id": "71a71d72",
   "metadata": {},
   "outputs": [],
   "source": [
    "gradilla_hp = dict(\n",
    "                   criterion = [\"gini\", \"entropy\"],\n",
    "                   max_depth = range(2,50)\n",
    "                  )\n",
    "\n",
    "grid = RandomizedSearchCV(cv=4,verbose=True,\n",
    "                          estimator=modelo,\n",
    "                          n_jobs=-1,\n",
    "                          scoring='roc_auc',\n",
    "                          param_distributions=gradilla_hp,\n",
    "                          n_iter=200)\n",
    "\n",
    "grid.fit(Xt[varc1],yt[vart[0]])\n",
    "\n",
    "modelo = grid.best_estimator_\n",
    "\n",
    "print(grid.best_params_)\n",
    "\n",
    "print(grid.best_score_)\n",
    "\n",
    "modelo.fit(Xt[varc1],yt[vart[0]])"
   ]
  },
  {
   "cell_type": "markdown",
   "id": "31b8d31e",
   "metadata": {},
   "source": [
    "### Área bajo la curva ROC\n",
    "\n",
    "### Estadístico de KS bajo diferentes puntos de corte de probabilidad"
   ]
  },
  {
   "cell_type": "code",
   "execution_count": null,
   "id": "52a0d832",
   "metadata": {},
   "outputs": [],
   "source": [
    "plot_roc_curve(y_probas=modelo.predict_proba(Xt[varc1]),y_true=yt[vart[0]],curves='macro')\n",
    "plot_roc_curve(y_probas=modelo.predict_proba(Xv[varc1]),y_true=yv[vart[0]],curves='macro')\n",
    "\n",
    "plot_ks_statistic(y_probas=modelo.predict_proba(Xt[varc1]),y_true=yt[vart[0]])\n",
    "plot_ks_statistic(y_probas=modelo.predict_proba(Xv[varc1]),y_true=yv[vart[0]])"
   ]
  },
  {
   "cell_type": "code",
   "execution_count": null,
   "id": "c4d725b7",
   "metadata": {},
   "outputs": [],
   "source": [
    "."
   ]
  },
  {
   "cell_type": "code",
   "execution_count": null,
   "id": "bcc4b66a",
   "metadata": {},
   "outputs": [],
   "source": []
  }
 ],
 "metadata": {
  "kernelspec": {
   "display_name": "Python 3",
   "language": "python",
   "name": "python3"
  },
  "language_info": {
   "codemirror_mode": {
    "name": "ipython",
    "version": 3
   },
   "file_extension": ".py",
   "mimetype": "text/x-python",
   "name": "python",
   "nbconvert_exporter": "python",
   "pygments_lexer": "ipython3",
   "version": "3.8.8"
  }
 },
 "nbformat": 4,
 "nbformat_minor": 5
}
