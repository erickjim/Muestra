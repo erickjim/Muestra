{
 "cells": [
  {
   "cell_type": "code",
   "execution_count": 27,
   "id": "241d2400",
   "metadata": {},
   "outputs": [],
   "source": [
    "import pandas as pd\n",
    "import numpy as np\n",
    "import re\n",
    "import unicodedata\n",
    "from nltk.tokenize import word_tokenize \n",
    "from nltk.corpus import stopwords\n",
    "from nltk.stem import SnowballStemmer\n",
    "import nltk"
   ]
  },
  {
   "cell_type": "code",
   "execution_count": 2,
   "id": "2cbdc6c5",
   "metadata": {},
   "outputs": [],
   "source": [
    "def clean_text(text, pattern=\"[^a-zA-Z ]\"):\n",
    "    cleaned_text = unicodedata.normalize('NFD', text).encode('ascii', 'ignore')\n",
    "    cleaned_text = re.sub(pattern, \"\", cleaned_text.decode(\"utf-8\"), flags=re.UNICODE)\n",
    "    cleaned_text = u' '.join(cleaned_text.lower().split())\n",
    "    return cleaned_text"
   ]
  },
  {
   "cell_type": "code",
   "execution_count": 3,
   "id": "4d117c2b",
   "metadata": {},
   "outputs": [],
   "source": [
    "df=pd.read_csv('Experiencias Telcel_23 septiembre 2021_09.13.csv')"
   ]
  },
  {
   "cell_type": "code",
   "execution_count": 4,
   "id": "1256d7d2",
   "metadata": {},
   "outputs": [],
   "source": [
    "df=df.iloc[2:]"
   ]
  },
  {
   "cell_type": "code",
   "execution_count": 12,
   "id": "82c05697",
   "metadata": {},
   "outputs": [],
   "source": [
    "s=df[df['Q6_13_TEXT'].notna()]['Q6_13_TEXT']"
   ]
  },
  {
   "cell_type": "code",
   "execution_count": 15,
   "id": "3b229488",
   "metadata": {},
   "outputs": [],
   "source": [
    "s.name='¿Dónde has escuchado o visto información sobre Experiencias Telcel?'"
   ]
  },
  {
   "cell_type": "code",
   "execution_count": 13,
   "id": "2fe641e7",
   "metadata": {},
   "outputs": [],
   "source": [
    "s1=df[df['Q7_13_TEXT'].notna()]['Q7_13_TEXT']"
   ]
  },
  {
   "cell_type": "code",
   "execution_count": 16,
   "id": "02b89a7c",
   "metadata": {},
   "outputs": [],
   "source": [
    "s1.name='¿Qué tipos de premios te gustaría ganar?'"
   ]
  },
  {
   "cell_type": "code",
   "execution_count": 14,
   "id": "ca108d76",
   "metadata": {},
   "outputs": [],
   "source": [
    "s2=df[df['Q9_8_TEXT'].notna()]['Q9_8_TEXT']"
   ]
  },
  {
   "cell_type": "code",
   "execution_count": 17,
   "id": "d7800fb9",
   "metadata": {},
   "outputs": [],
   "source": [
    "s2.name='¿Por qué razón no has participado en el programa de premios “Experiencia Telcel\"?'"
   ]
  },
  {
   "cell_type": "code",
   "execution_count": 22,
   "id": "8ee21ca9",
   "metadata": {},
   "outputs": [],
   "source": [
    "s.to_csv('Donde.csv',encoding='latin-1')"
   ]
  },
  {
   "cell_type": "code",
   "execution_count": 23,
   "id": "9654ec49",
   "metadata": {},
   "outputs": [],
   "source": [
    "s1.to_csv('Premios.csv',encoding='latin-1')"
   ]
  },
  {
   "cell_type": "code",
   "execution_count": 26,
   "id": "64154b7d",
   "metadata": {},
   "outputs": [],
   "source": [
    "s2.to_csv('Por_que.csv',encoding='utf-16-le')"
   ]
  },
  {
   "cell_type": "code",
   "execution_count": 36,
   "id": "2b7c4ffa",
   "metadata": {},
   "outputs": [
    {
     "data": {
      "text/html": [
       "<div>\n",
       "<style scoped>\n",
       "    .dataframe tbody tr th:only-of-type {\n",
       "        vertical-align: middle;\n",
       "    }\n",
       "\n",
       "    .dataframe tbody tr th {\n",
       "        vertical-align: top;\n",
       "    }\n",
       "\n",
       "    .dataframe thead th {\n",
       "        text-align: right;\n",
       "    }\n",
       "</style>\n",
       "<table border=\"1\" class=\"dataframe\">\n",
       "  <thead>\n",
       "    <tr style=\"text-align: right;\">\n",
       "      <th></th>\n",
       "      <th>StartDate</th>\n",
       "      <th>EndDate</th>\n",
       "      <th>Status</th>\n",
       "      <th>IPAddress</th>\n",
       "      <th>Progress</th>\n",
       "      <th>Duration (in seconds)</th>\n",
       "      <th>Finished</th>\n",
       "      <th>RecordedDate</th>\n",
       "      <th>ResponseId</th>\n",
       "      <th>RecipientLastName</th>\n",
       "      <th>...</th>\n",
       "      <th>Q4</th>\n",
       "      <th>Q5</th>\n",
       "      <th>Q6</th>\n",
       "      <th>Q6_13_TEXT</th>\n",
       "      <th>Q7</th>\n",
       "      <th>Q7_13_TEXT</th>\n",
       "      <th>Q8</th>\n",
       "      <th>Q9</th>\n",
       "      <th>Q9_8_TEXT</th>\n",
       "      <th>Q10</th>\n",
       "    </tr>\n",
       "  </thead>\n",
       "  <tbody>\n",
       "    <tr>\n",
       "      <th>2</th>\n",
       "      <td>2021-09-17 10:28:53</td>\n",
       "      <td>2021-09-17 10:29:31</td>\n",
       "      <td>Survey Preview</td>\n",
       "      <td>NaN</td>\n",
       "      <td>100</td>\n",
       "      <td>37</td>\n",
       "      <td>True</td>\n",
       "      <td>2021-09-17 10:29:31</td>\n",
       "      <td>R_2EsCT7y1oIwGA2g</td>\n",
       "      <td>NaN</td>\n",
       "      <td>...</td>\n",
       "      <td>NaN</td>\n",
       "      <td>No</td>\n",
       "      <td>NaN</td>\n",
       "      <td>NaN</td>\n",
       "      <td>NaN</td>\n",
       "      <td>NaN</td>\n",
       "      <td>NaN</td>\n",
       "      <td>\\tNo me gusta el premio</td>\n",
       "      <td>NaN</td>\n",
       "      <td>NaN</td>\n",
       "    </tr>\n",
       "    <tr>\n",
       "      <th>3</th>\n",
       "      <td>2021-09-17 10:32:44</td>\n",
       "      <td>2021-09-17 10:33:01</td>\n",
       "      <td>Survey Preview</td>\n",
       "      <td>NaN</td>\n",
       "      <td>100</td>\n",
       "      <td>16</td>\n",
       "      <td>True</td>\n",
       "      <td>2021-09-17 10:33:01</td>\n",
       "      <td>R_3hlpRiDMpv4FHPr</td>\n",
       "      <td>NaN</td>\n",
       "      <td>...</td>\n",
       "      <td>Menor de 18</td>\n",
       "      <td>NaN</td>\n",
       "      <td>NaN</td>\n",
       "      <td>NaN</td>\n",
       "      <td>NaN</td>\n",
       "      <td>NaN</td>\n",
       "      <td>NaN</td>\n",
       "      <td>NaN</td>\n",
       "      <td>NaN</td>\n",
       "      <td>NaN</td>\n",
       "    </tr>\n",
       "    <tr>\n",
       "      <th>4</th>\n",
       "      <td>2021-09-17 10:33:06</td>\n",
       "      <td>2021-09-17 10:33:35</td>\n",
       "      <td>Survey Preview</td>\n",
       "      <td>NaN</td>\n",
       "      <td>100</td>\n",
       "      <td>28</td>\n",
       "      <td>True</td>\n",
       "      <td>2021-09-17 10:33:35</td>\n",
       "      <td>R_RlChoneS7XItaBr</td>\n",
       "      <td>NaN</td>\n",
       "      <td>...</td>\n",
       "      <td>26 - 35</td>\n",
       "      <td>Sí</td>\n",
       "      <td>\\tTelevisión</td>\n",
       "      <td>NaN</td>\n",
       "      <td>\\tPases para conciertos y eventos exclusivos</td>\n",
       "      <td>NaN</td>\n",
       "      <td>&lt;</td>\n",
       "      <td>NaN</td>\n",
       "      <td>NaN</td>\n",
       "      <td>NaN</td>\n",
       "    </tr>\n",
       "    <tr>\n",
       "      <th>5</th>\n",
       "      <td>2021-09-20 09:55:22</td>\n",
       "      <td>2021-09-20 10:19:17</td>\n",
       "      <td>IP Address</td>\n",
       "      <td>200.68.129.118</td>\n",
       "      <td>100</td>\n",
       "      <td>1435</td>\n",
       "      <td>True</td>\n",
       "      <td>2021-09-20 10:19:18</td>\n",
       "      <td>R_1Hpgdq5Pn9fJqn4</td>\n",
       "      <td>NaN</td>\n",
       "      <td>...</td>\n",
       "      <td>Menor de 18</td>\n",
       "      <td>NaN</td>\n",
       "      <td>NaN</td>\n",
       "      <td>NaN</td>\n",
       "      <td>NaN</td>\n",
       "      <td>NaN</td>\n",
       "      <td>NaN</td>\n",
       "      <td>NaN</td>\n",
       "      <td>NaN</td>\n",
       "      <td>NaN</td>\n",
       "    </tr>\n",
       "    <tr>\n",
       "      <th>6</th>\n",
       "      <td>2021-09-20 10:19:31</td>\n",
       "      <td>2021-09-20 10:22:53</td>\n",
       "      <td>IP Address</td>\n",
       "      <td>200.68.129.118</td>\n",
       "      <td>100</td>\n",
       "      <td>202</td>\n",
       "      <td>True</td>\n",
       "      <td>2021-09-20 10:22:53</td>\n",
       "      <td>R_32QPvOR6ucZ7VYD</td>\n",
       "      <td>NaN</td>\n",
       "      <td>...</td>\n",
       "      <td>26 - 35</td>\n",
       "      <td>Sí</td>\n",
       "      <td>\\tTelevisión ,\\tRedes Sociales ,\\tInternet ...</td>\n",
       "      <td>NaN</td>\n",
       "      <td>\\tSmartphones, Tablets, dispositivos IoT, gad...</td>\n",
       "      <td>NaN</td>\n",
       "      <td>prueba</td>\n",
       "      <td>NaN</td>\n",
       "      <td>NaN</td>\n",
       "      <td>NaN</td>\n",
       "    </tr>\n",
       "  </tbody>\n",
       "</table>\n",
       "<p>5 rows × 32 columns</p>\n",
       "</div>"
      ],
      "text/plain": [
       "             StartDate              EndDate          Status       IPAddress  \\\n",
       "2  2021-09-17 10:28:53  2021-09-17 10:29:31  Survey Preview             NaN   \n",
       "3  2021-09-17 10:32:44  2021-09-17 10:33:01  Survey Preview             NaN   \n",
       "4  2021-09-17 10:33:06  2021-09-17 10:33:35  Survey Preview             NaN   \n",
       "5  2021-09-20 09:55:22  2021-09-20 10:19:17      IP Address  200.68.129.118   \n",
       "6  2021-09-20 10:19:31  2021-09-20 10:22:53      IP Address  200.68.129.118   \n",
       "\n",
       "  Progress Duration (in seconds) Finished         RecordedDate  \\\n",
       "2      100                    37     True  2021-09-17 10:29:31   \n",
       "3      100                    16     True  2021-09-17 10:33:01   \n",
       "4      100                    28     True  2021-09-17 10:33:35   \n",
       "5      100                  1435     True  2021-09-20 10:19:18   \n",
       "6      100                   202     True  2021-09-20 10:22:53   \n",
       "\n",
       "          ResponseId RecipientLastName  ...           Q4   Q5  \\\n",
       "2  R_2EsCT7y1oIwGA2g               NaN  ...          NaN   No   \n",
       "3  R_3hlpRiDMpv4FHPr               NaN  ...  Menor de 18  NaN   \n",
       "4  R_RlChoneS7XItaBr               NaN  ...      26 - 35   Sí   \n",
       "5  R_1Hpgdq5Pn9fJqn4               NaN  ...  Menor de 18  NaN   \n",
       "6  R_32QPvOR6ucZ7VYD               NaN  ...      26 - 35   Sí   \n",
       "\n",
       "                                                  Q6 Q6_13_TEXT  \\\n",
       "2                                                NaN        NaN   \n",
       "3                                                NaN        NaN   \n",
       "4                                     \\tTelevisión         NaN   \n",
       "5                                                NaN        NaN   \n",
       "6  \\tTelevisión ,\\tRedes Sociales ,\\tInternet ...        NaN   \n",
       "\n",
       "                                                  Q7 Q7_13_TEXT      Q8  \\\n",
       "2                                                NaN        NaN     NaN   \n",
       "3                                                NaN        NaN     NaN   \n",
       "4     \\tPases para conciertos y eventos exclusivos         NaN       <   \n",
       "5                                                NaN        NaN     NaN   \n",
       "6  \\tSmartphones, Tablets, dispositivos IoT, gad...        NaN  prueba   \n",
       "\n",
       "                          Q9 Q9_8_TEXT  Q10  \n",
       "2  \\tNo me gusta el premio        NaN  NaN  \n",
       "3                        NaN       NaN  NaN  \n",
       "4                        NaN       NaN  NaN  \n",
       "5                        NaN       NaN  NaN  \n",
       "6                        NaN       NaN  NaN  \n",
       "\n",
       "[5 rows x 32 columns]"
      ]
     },
     "execution_count": 36,
     "metadata": {},
     "output_type": "execute_result"
    }
   ],
   "source": [
    "df.head()"
   ]
  },
  {
   "cell_type": "code",
   "execution_count": 28,
   "id": "e2603282",
   "metadata": {},
   "outputs": [
    {
     "data": {
      "text/plain": [
       "No    2877\n",
       "Sí     410\n",
       "Name: Q5, dtype: int64"
      ]
     },
     "execution_count": 28,
     "metadata": {},
     "output_type": "execute_result"
    }
   ],
   "source": [
    "df['Q5'].value_counts()"
   ]
  },
  {
   "cell_type": "code",
   "execution_count": 29,
   "id": "7a03d039",
   "metadata": {},
   "outputs": [],
   "source": [
    "dfg=df[df['Q8'].notna()]"
   ]
  },
  {
   "cell_type": "code",
   "execution_count": 30,
   "id": "28206a5c",
   "metadata": {},
   "outputs": [],
   "source": [
    "dfng=df[df['Q10'].notna()]"
   ]
  },
  {
   "cell_type": "code",
   "execution_count": 31,
   "id": "e9188c9b",
   "metadata": {},
   "outputs": [],
   "source": [
    "a=dfg[['Q8']].append(dfng['Q10'])"
   ]
  },
  {
   "cell_type": "code",
   "execution_count": 34,
   "id": "e8bee228",
   "metadata": {},
   "outputs": [],
   "source": [
    "c=dfg['ExternalReference'].append(dfng['ExternalReference'])"
   ]
  },
  {
   "cell_type": "code",
   "execution_count": 36,
   "id": "985bc89c",
   "metadata": {},
   "outputs": [],
   "source": [
    "c.to_csv('Lineas.csv',index=False)"
   ]
  },
  {
   "cell_type": "code",
   "execution_count": 37,
   "id": "6fa27336",
   "metadata": {},
   "outputs": [
    {
     "data": {
      "text/plain": [
       "4              NaN\n",
       "6              NaN\n",
       "8              NaN\n",
       "15      9211846163\n",
       "19      4981162396\n",
       "           ...    \n",
       "3325    8333263939\n",
       "3327    5522988795\n",
       "3328    5545852367\n",
       "3329    5540320424\n",
       "3330    4771315354\n",
       "Name: ExternalReference, Length: 3286, dtype: object"
      ]
     },
     "execution_count": 37,
     "metadata": {},
     "output_type": "execute_result"
    }
   ],
   "source": [
    "c"
   ]
  },
  {
   "cell_type": "code",
   "execution_count": 42,
   "id": "eca9b27a",
   "metadata": {},
   "outputs": [],
   "source": [
    "b=a.copy()"
   ]
  },
  {
   "cell_type": "code",
   "execution_count": 43,
   "id": "d4e25447",
   "metadata": {},
   "outputs": [],
   "source": [
    "def tokestem(x):\n",
    "    stemmer = SnowballStemmer('spanish')\n",
    "    a=word_tokenize(x)\n",
    "    a=[stemmer.stem(i) for i in a]\n",
    "    return a"
   ]
  },
  {
   "cell_type": "code",
   "execution_count": 44,
   "id": "54a66843",
   "metadata": {},
   "outputs": [],
   "source": [
    "a=a.str.replace(\"\\n\", \"\").map(clean_text).map(tokestem).str.join(\" \")"
   ]
  },
  {
   "cell_type": "code",
   "execution_count": 45,
   "id": "a138c6ef",
   "metadata": {},
   "outputs": [
    {
     "data": {
      "text/plain": [
       "4                                      \n",
       "6                                 prueb\n",
       "8                                 kwkwk\n",
       "15                    referent al premi\n",
       "19                                no se\n",
       "                     ...               \n",
       "3325                                 no\n",
       "3327                               avis\n",
       "3328                       equip telcel\n",
       "3329    es una telefoni car considerenl\n",
       "3330         pues cualqui premi es buen\n",
       "Length: 3286, dtype: object"
      ]
     },
     "execution_count": 45,
     "metadata": {},
     "output_type": "execute_result"
    }
   ],
   "source": [
    "a"
   ]
  },
  {
   "cell_type": "code",
   "execution_count": 46,
   "id": "a166617c",
   "metadata": {},
   "outputs": [],
   "source": [
    "from nltk.corpus import stopwords\n",
    "from sklearn.feature_extraction.text import TfidfVectorizer"
   ]
  },
  {
   "cell_type": "code",
   "execution_count": 47,
   "id": "b6f05a48",
   "metadata": {},
   "outputs": [],
   "source": [
    "sw=stopwords.words('spanish')"
   ]
  },
  {
   "cell_type": "code",
   "execution_count": 48,
   "id": "95bb5466",
   "metadata": {},
   "outputs": [],
   "source": [
    "stemmer = SnowballStemmer('spanish')"
   ]
  },
  {
   "cell_type": "code",
   "execution_count": 49,
   "id": "53cf1ab8",
   "metadata": {},
   "outputs": [],
   "source": [
    "sw=list(set([stemmer.stem(i) for i in sw]))"
   ]
  },
  {
   "cell_type": "code",
   "execution_count": 50,
   "id": "985c54c7",
   "metadata": {},
   "outputs": [],
   "source": [
    "sw=list(pd.Series(sw).map(clean_text))"
   ]
  },
  {
   "cell_type": "code",
   "execution_count": 813,
   "id": "a0bf9c6e",
   "metadata": {},
   "outputs": [],
   "source": [
    "sw.remove('nad')"
   ]
  },
  {
   "cell_type": "code",
   "execution_count": 814,
   "id": "22706138",
   "metadata": {},
   "outputs": [],
   "source": [
    "sw.append('gust')"
   ]
  },
  {
   "cell_type": "code",
   "execution_count": 815,
   "id": "d928df64",
   "metadata": {},
   "outputs": [],
   "source": [
    "sw.remove('no')"
   ]
  },
  {
   "cell_type": "code",
   "execution_count": 816,
   "id": "0b5f2166",
   "metadata": {},
   "outputs": [],
   "source": [
    "sw.append('nad')"
   ]
  },
  {
   "cell_type": "code",
   "execution_count": 817,
   "id": "6320e2aa",
   "metadata": {},
   "outputs": [],
   "source": [
    "sw.append('consum')"
   ]
  },
  {
   "cell_type": "code",
   "execution_count": 818,
   "id": "becafb81",
   "metadata": {},
   "outputs": [],
   "source": [
    "sw.append('no')"
   ]
  },
  {
   "cell_type": "code",
   "execution_count": 819,
   "id": "b7613070",
   "metadata": {},
   "outputs": [],
   "source": [
    "sw.append('bien')"
   ]
  },
  {
   "cell_type": "code",
   "execution_count": 820,
   "id": "5ec604e5",
   "metadata": {},
   "outputs": [],
   "source": [
    "sw.append('dat')"
   ]
  },
  {
   "cell_type": "code",
   "execution_count": 91,
   "id": "7950cec3",
   "metadata": {},
   "outputs": [],
   "source": [
    "a=a.str.replace('telefon','equip')"
   ]
  },
  {
   "cell_type": "code",
   "execution_count": 92,
   "id": "0482d8aa",
   "metadata": {},
   "outputs": [],
   "source": [
    "vect = TfidfVectorizer(min_df=20, ngram_range=(1,3), stop_words=list( sw))"
   ]
  },
  {
   "cell_type": "code",
   "execution_count": 93,
   "id": "377425f9",
   "metadata": {},
   "outputs": [],
   "source": [
    "X=vect.fit_transform(a)"
   ]
  },
  {
   "cell_type": "code",
   "execution_count": 94,
   "id": "a1a21350",
   "metadata": {},
   "outputs": [
    {
     "data": {
      "text/plain": [
       "(3286, 80)"
      ]
     },
     "execution_count": 94,
     "metadata": {},
     "output_type": "execute_result"
    }
   ],
   "source": [
    "X.shape"
   ]
  },
  {
   "cell_type": "code",
   "execution_count": 95,
   "id": "629bc85a",
   "metadata": {},
   "outputs": [
    {
     "data": {
      "text/plain": [
       "7"
      ]
     },
     "execution_count": 95,
     "metadata": {},
     "output_type": "execute_result"
    }
   ],
   "source": [
    "from sklearn.decomposition import TruncatedSVD\n",
    "\n",
    "# SVD represent documents and terms in vectors \n",
    "svd_model = TruncatedSVD(n_components=7, algorithm='randomized', n_iter=100, random_state=122)\n",
    "\n",
    "svd_model.fit(X)\n",
    "\n",
    "len(svd_model.components_)"
   ]
  },
  {
   "cell_type": "code",
   "execution_count": 96,
   "id": "a03b68b3",
   "metadata": {},
   "outputs": [
    {
     "name": "stdout",
     "output_type": "stream",
     "text": [
      "Topic 0: \n",
      "premi\n",
      " \n",
      "equip\n",
      " \n",
      "tiemp\n",
      " \n",
      "air\n",
      " \n",
      "tiemp air\n",
      " \n",
      "celular\n",
      " \n",
      "gratis\n",
      " \n",
      "Topic 1: \n",
      "equip\n",
      " \n",
      "tiemp\n",
      " \n",
      "tiemp air\n",
      " \n",
      "air\n",
      " \n",
      "gratis\n",
      " \n",
      "plan\n",
      " \n",
      "celular\n",
      " \n",
      "Topic 2: \n",
      "tiemp\n",
      " \n",
      "air\n",
      " \n",
      "tiemp air\n",
      " \n",
      "gratis\n",
      " \n",
      "celular\n",
      " \n",
      "meg\n",
      " \n",
      "etc\n",
      " \n",
      "Topic 3: \n",
      "celular\n",
      " \n",
      "sald\n",
      " \n",
      "gratis\n",
      " \n",
      "recarg\n",
      " \n",
      "meg\n",
      " \n",
      "equip celular\n",
      " \n",
      "plan\n",
      " \n",
      "Topic 4: \n",
      "sald\n",
      " \n",
      "promocion\n",
      " \n",
      "gratis\n",
      " \n",
      "meg\n",
      " \n",
      "gan\n",
      " \n",
      "plan\n",
      " \n",
      "recarg\n",
      " \n",
      "Topic 5: \n",
      "conozc\n",
      " \n",
      "promocion\n",
      " \n",
      "gan\n",
      " \n",
      "ide\n",
      " \n",
      "telcel\n",
      " \n",
      "dinam\n",
      " \n",
      "experient\n",
      " \n",
      "Topic 6: \n",
      "gan\n",
      " \n",
      "facil\n",
      " \n",
      "oportun\n",
      " \n",
      "particip\n",
      " \n",
      "celul\n",
      " \n",
      "meg\n",
      " \n",
      "trivi\n",
      " \n"
     ]
    }
   ],
   "source": [
    "terms = vect.get_feature_names()\n",
    "\n",
    "for i, comp in enumerate(svd_model.components_):\n",
    "    terms_comp = zip(terms, comp)\n",
    "    sorted_terms = sorted(terms_comp, key= lambda x:x[1], reverse=True)[:7]\n",
    "    print(\"Topic \"+str(i)+\": \")\n",
    "    for t in sorted_terms:\n",
    "        print(t[0])\n",
    "        print(\" \")"
   ]
  },
  {
   "cell_type": "code",
   "execution_count": 97,
   "id": "f536e859",
   "metadata": {},
   "outputs": [],
   "source": [
    "aux=pd.concat([pd.Series(np.argmax(svd_model.transform(X),axis=1)),pd.Series(np.sum(svd_model.transform(X),axis=1)),b.reset_index(drop=True)],axis=1)"
   ]
  },
  {
   "cell_type": "code",
   "execution_count": 98,
   "id": "898095b4",
   "metadata": {},
   "outputs": [
    {
     "data": {
      "text/html": [
       "<div>\n",
       "<style scoped>\n",
       "    .dataframe tbody tr th:only-of-type {\n",
       "        vertical-align: middle;\n",
       "    }\n",
       "\n",
       "    .dataframe tbody tr th {\n",
       "        vertical-align: top;\n",
       "    }\n",
       "\n",
       "    .dataframe thead th {\n",
       "        text-align: right;\n",
       "    }\n",
       "</style>\n",
       "<table border=\"1\" class=\"dataframe\">\n",
       "  <thead>\n",
       "    <tr style=\"text-align: right;\">\n",
       "      <th></th>\n",
       "      <th>0</th>\n",
       "      <th>1</th>\n",
       "      <th>2</th>\n",
       "    </tr>\n",
       "  </thead>\n",
       "  <tbody>\n",
       "    <tr>\n",
       "      <th>0</th>\n",
       "      <td>0</td>\n",
       "      <td>0.000000</td>\n",
       "      <td>&lt;</td>\n",
       "    </tr>\n",
       "    <tr>\n",
       "      <th>1</th>\n",
       "      <td>0</td>\n",
       "      <td>0.000000</td>\n",
       "      <td>prueba</td>\n",
       "    </tr>\n",
       "    <tr>\n",
       "      <th>2</th>\n",
       "      <td>0</td>\n",
       "      <td>0.000000</td>\n",
       "      <td>kwkwk</td>\n",
       "    </tr>\n",
       "    <tr>\n",
       "      <th>3</th>\n",
       "      <td>0</td>\n",
       "      <td>-0.286408</td>\n",
       "      <td>Referente al premio</td>\n",
       "    </tr>\n",
       "    <tr>\n",
       "      <th>4</th>\n",
       "      <td>0</td>\n",
       "      <td>0.000000</td>\n",
       "      <td>No se</td>\n",
       "    </tr>\n",
       "    <tr>\n",
       "      <th>...</th>\n",
       "      <td>...</td>\n",
       "      <td>...</td>\n",
       "      <td>...</td>\n",
       "    </tr>\n",
       "    <tr>\n",
       "      <th>3281</th>\n",
       "      <td>0</td>\n",
       "      <td>0.000000</td>\n",
       "      <td>No</td>\n",
       "    </tr>\n",
       "    <tr>\n",
       "      <th>3282</th>\n",
       "      <td>0</td>\n",
       "      <td>0.000000</td>\n",
       "      <td>Avisos</td>\n",
       "    </tr>\n",
       "    <tr>\n",
       "      <th>3283</th>\n",
       "      <td>1</td>\n",
       "      <td>0.584008</td>\n",
       "      <td>Equipos telcel</td>\n",
       "    </tr>\n",
       "    <tr>\n",
       "      <th>3284</th>\n",
       "      <td>0</td>\n",
       "      <td>0.000000</td>\n",
       "      <td>Es una telefonía cara. Considerenlo</td>\n",
       "    </tr>\n",
       "    <tr>\n",
       "      <th>3285</th>\n",
       "      <td>0</td>\n",
       "      <td>-0.036266</td>\n",
       "      <td>Pues cualquier premio es bueno</td>\n",
       "    </tr>\n",
       "  </tbody>\n",
       "</table>\n",
       "<p>3286 rows × 3 columns</p>\n",
       "</div>"
      ],
      "text/plain": [
       "      0         1                                    2\n",
       "0     0  0.000000                                    <\n",
       "1     0  0.000000                               prueba\n",
       "2     0  0.000000                                kwkwk\n",
       "3     0 -0.286408                  Referente al premio\n",
       "4     0  0.000000                               No se \n",
       "...  ..       ...                                  ...\n",
       "3281  0  0.000000                                   No\n",
       "3282  0  0.000000                              Avisos \n",
       "3283  1  0.584008                       Equipos telcel\n",
       "3284  0  0.000000  Es una telefonía cara. Considerenlo\n",
       "3285  0 -0.036266      Pues cualquier premio es bueno \n",
       "\n",
       "[3286 rows x 3 columns]"
      ]
     },
     "execution_count": 98,
     "metadata": {},
     "output_type": "execute_result"
    }
   ],
   "source": [
    "aux"
   ]
  },
  {
   "cell_type": "code",
   "execution_count": 99,
   "id": "41f9f57f",
   "metadata": {},
   "outputs": [],
   "source": [
    "aux.columns=['Tema','aux','Texto']"
   ]
  },
  {
   "cell_type": "code",
   "execution_count": 100,
   "id": "c2027d55",
   "metadata": {},
   "outputs": [],
   "source": [
    "aux['Tema1']=pd.Series(map(lambda x,y: 7 if y==0 else x, aux['Tema'],aux['aux']))"
   ]
  },
  {
   "cell_type": "code",
   "execution_count": 101,
   "id": "cc379fd5",
   "metadata": {},
   "outputs": [
    {
     "data": {
      "text/plain": [
       "7    838\n",
       "4    589\n",
       "5    552\n",
       "0    378\n",
       "6    369\n",
       "1    228\n",
       "2    196\n",
       "3    136\n",
       "Name: Tema1, dtype: int64"
      ]
     },
     "execution_count": 101,
     "metadata": {},
     "output_type": "execute_result"
    }
   ],
   "source": [
    "aux['Tema1'].value_counts()"
   ]
  },
  {
   "cell_type": "code",
   "execution_count": 118,
   "id": "b5422651",
   "metadata": {},
   "outputs": [
    {
     "data": {
      "text/html": [
       "<div>\n",
       "<style scoped>\n",
       "    .dataframe tbody tr th:only-of-type {\n",
       "        vertical-align: middle;\n",
       "    }\n",
       "\n",
       "    .dataframe tbody tr th {\n",
       "        vertical-align: top;\n",
       "    }\n",
       "\n",
       "    .dataframe thead th {\n",
       "        text-align: right;\n",
       "    }\n",
       "</style>\n",
       "<table border=\"1\" class=\"dataframe\">\n",
       "  <thead>\n",
       "    <tr style=\"text-align: right;\">\n",
       "      <th></th>\n",
       "      <th>Tema</th>\n",
       "      <th>aux</th>\n",
       "      <th>Texto</th>\n",
       "      <th>Tema1</th>\n",
       "    </tr>\n",
       "  </thead>\n",
       "  <tbody>\n",
       "    <tr>\n",
       "      <th>1653</th>\n",
       "      <td>3</td>\n",
       "      <td>0.913901</td>\n",
       "      <td>Celulares</td>\n",
       "      <td>3</td>\n",
       "    </tr>\n",
       "    <tr>\n",
       "      <th>2298</th>\n",
       "      <td>3</td>\n",
       "      <td>0.913901</td>\n",
       "      <td>Celulares</td>\n",
       "      <td>3</td>\n",
       "    </tr>\n",
       "    <tr>\n",
       "      <th>1014</th>\n",
       "      <td>3</td>\n",
       "      <td>0.440350</td>\n",
       "      <td>Celulares premios en efectivo o paquetes sin l...</td>\n",
       "      <td>3</td>\n",
       "    </tr>\n",
       "    <tr>\n",
       "      <th>2407</th>\n",
       "      <td>3</td>\n",
       "      <td>0.565125</td>\n",
       "      <td>Algunos minutos , bocinas , celulares , cursos...</td>\n",
       "      <td>3</td>\n",
       "    </tr>\n",
       "    <tr>\n",
       "      <th>2443</th>\n",
       "      <td>3</td>\n",
       "      <td>0.820043</td>\n",
       "      <td>$ dinero $ viajes $ equipos celulares gratis</td>\n",
       "      <td>3</td>\n",
       "    </tr>\n",
       "    <tr>\n",
       "      <th>1610</th>\n",
       "      <td>3</td>\n",
       "      <td>0.549208</td>\n",
       "      <td>Celulares, o accesorios o mochilas</td>\n",
       "      <td>3</td>\n",
       "    </tr>\n",
       "    <tr>\n",
       "      <th>866</th>\n",
       "      <td>3</td>\n",
       "      <td>0.829094</td>\n",
       "      <td>Teléfonos celulares</td>\n",
       "      <td>3</td>\n",
       "    </tr>\n",
       "    <tr>\n",
       "      <th>2491</th>\n",
       "      <td>3</td>\n",
       "      <td>0.913901</td>\n",
       "      <td>Celulares</td>\n",
       "      <td>3</td>\n",
       "    </tr>\n",
       "    <tr>\n",
       "      <th>1044</th>\n",
       "      <td>3</td>\n",
       "      <td>0.913901</td>\n",
       "      <td>Celulares</td>\n",
       "      <td>3</td>\n",
       "    </tr>\n",
       "    <tr>\n",
       "      <th>1226</th>\n",
       "      <td>3</td>\n",
       "      <td>0.680405</td>\n",
       "      <td>Celulares gratis de gama alta</td>\n",
       "      <td>3</td>\n",
       "    </tr>\n",
       "    <tr>\n",
       "      <th>513</th>\n",
       "      <td>3</td>\n",
       "      <td>0.913901</td>\n",
       "      <td>Celulares y tabletas</td>\n",
       "      <td>3</td>\n",
       "    </tr>\n",
       "    <tr>\n",
       "      <th>1169</th>\n",
       "      <td>3</td>\n",
       "      <td>0.829094</td>\n",
       "      <td>Equipos celulares</td>\n",
       "      <td>3</td>\n",
       "    </tr>\n",
       "    <tr>\n",
       "      <th>978</th>\n",
       "      <td>3</td>\n",
       "      <td>0.553974</td>\n",
       "      <td>Ofertas en celulares</td>\n",
       "      <td>3</td>\n",
       "    </tr>\n",
       "    <tr>\n",
       "      <th>2172</th>\n",
       "      <td>3</td>\n",
       "      <td>0.913901</td>\n",
       "      <td>Celulares huawei</td>\n",
       "      <td>3</td>\n",
       "    </tr>\n",
       "    <tr>\n",
       "      <th>3192</th>\n",
       "      <td>3</td>\n",
       "      <td>0.028667</td>\n",
       "      <td>Dinero</td>\n",
       "      <td>3</td>\n",
       "    </tr>\n",
       "    <tr>\n",
       "      <th>731</th>\n",
       "      <td>3</td>\n",
       "      <td>0.913901</td>\n",
       "      <td>Celulares</td>\n",
       "      <td>3</td>\n",
       "    </tr>\n",
       "    <tr>\n",
       "      <th>1685</th>\n",
       "      <td>3</td>\n",
       "      <td>1.113035</td>\n",
       "      <td>Celulares, Créditos gratis y mensualidades muy...</td>\n",
       "      <td>3</td>\n",
       "    </tr>\n",
       "    <tr>\n",
       "      <th>1759</th>\n",
       "      <td>3</td>\n",
       "      <td>0.913901</td>\n",
       "      <td>Celulares</td>\n",
       "      <td>3</td>\n",
       "    </tr>\n",
       "    <tr>\n",
       "      <th>2543</th>\n",
       "      <td>3</td>\n",
       "      <td>1.113035</td>\n",
       "      <td>Celulares gratis</td>\n",
       "      <td>3</td>\n",
       "    </tr>\n",
       "    <tr>\n",
       "      <th>647</th>\n",
       "      <td>3</td>\n",
       "      <td>0.913901</td>\n",
       "      <td>Celulares</td>\n",
       "      <td>3</td>\n",
       "    </tr>\n",
       "  </tbody>\n",
       "</table>\n",
       "</div>"
      ],
      "text/plain": [
       "      Tema       aux                                              Texto  Tema1\n",
       "1653     3  0.913901                                          Celulares      3\n",
       "2298     3  0.913901                                         Celulares       3\n",
       "1014     3  0.440350  Celulares premios en efectivo o paquetes sin l...      3\n",
       "2407     3  0.565125  Algunos minutos , bocinas , celulares , cursos...      3\n",
       "2443     3  0.820043      $ dinero $ viajes $ equipos celulares gratis       3\n",
       "1610     3  0.549208                 Celulares, o accesorios o mochilas      3\n",
       "866      3  0.829094                               Teléfonos celulares       3\n",
       "2491     3  0.913901                                          Celulares      3\n",
       "1044     3  0.913901                                         Celulares       3\n",
       "1226     3  0.680405                      Celulares gratis de gama alta      3\n",
       "513      3  0.913901                               Celulares y tabletas      3\n",
       "1169     3  0.829094                                  Equipos celulares      3\n",
       "978      3  0.553974                               Ofertas en celulares      3\n",
       "2172     3  0.913901                                   Celulares huawei      3\n",
       "3192     3  0.028667                                             Dinero      3\n",
       "731      3  0.913901                                         Celulares       3\n",
       "1685     3  1.113035  Celulares, Créditos gratis y mensualidades muy...      3\n",
       "1759     3  0.913901                                          Celulares      3\n",
       "2543     3  1.113035                                   Celulares gratis      3\n",
       "647      3  0.913901                                          Celulares      3"
      ]
     },
     "execution_count": 118,
     "metadata": {},
     "output_type": "execute_result"
    }
   ],
   "source": [
    "aux[aux['Tema1']==3].sample(20)"
   ]
  },
  {
   "cell_type": "code",
   "execution_count": 119,
   "id": "f759e413",
   "metadata": {},
   "outputs": [],
   "source": [
    "aux['Tema1']=aux['Tema1'].replace(3,1)"
   ]
  },
  {
   "cell_type": "code",
   "execution_count": 120,
   "id": "05626dd3",
   "metadata": {},
   "outputs": [],
   "source": [
    "aux['Tema1']=aux['Tema1'].replace(4,2)"
   ]
  },
  {
   "cell_type": "code",
   "execution_count": 121,
   "id": "d2c18081",
   "metadata": {},
   "outputs": [
    {
     "data": {
      "text/html": [
       "<div>\n",
       "<style scoped>\n",
       "    .dataframe tbody tr th:only-of-type {\n",
       "        vertical-align: middle;\n",
       "    }\n",
       "\n",
       "    .dataframe tbody tr th {\n",
       "        vertical-align: top;\n",
       "    }\n",
       "\n",
       "    .dataframe thead th {\n",
       "        text-align: right;\n",
       "    }\n",
       "</style>\n",
       "<table border=\"1\" class=\"dataframe\">\n",
       "  <thead>\n",
       "    <tr style=\"text-align: right;\">\n",
       "      <th></th>\n",
       "      <th>Tema</th>\n",
       "      <th>aux</th>\n",
       "      <th>Texto</th>\n",
       "      <th>Tema1</th>\n",
       "    </tr>\n",
       "  </thead>\n",
       "  <tbody>\n",
       "    <tr>\n",
       "      <th>0</th>\n",
       "      <td>0</td>\n",
       "      <td>0.000000</td>\n",
       "      <td>&lt;</td>\n",
       "      <td>7</td>\n",
       "    </tr>\n",
       "    <tr>\n",
       "      <th>1</th>\n",
       "      <td>0</td>\n",
       "      <td>0.000000</td>\n",
       "      <td>prueba</td>\n",
       "      <td>7</td>\n",
       "    </tr>\n",
       "    <tr>\n",
       "      <th>2</th>\n",
       "      <td>0</td>\n",
       "      <td>0.000000</td>\n",
       "      <td>kwkwk</td>\n",
       "      <td>7</td>\n",
       "    </tr>\n",
       "    <tr>\n",
       "      <th>3</th>\n",
       "      <td>0</td>\n",
       "      <td>-0.286408</td>\n",
       "      <td>Referente al premio</td>\n",
       "      <td>0</td>\n",
       "    </tr>\n",
       "    <tr>\n",
       "      <th>4</th>\n",
       "      <td>0</td>\n",
       "      <td>0.000000</td>\n",
       "      <td>No se</td>\n",
       "      <td>7</td>\n",
       "    </tr>\n",
       "    <tr>\n",
       "      <th>...</th>\n",
       "      <td>...</td>\n",
       "      <td>...</td>\n",
       "      <td>...</td>\n",
       "      <td>...</td>\n",
       "    </tr>\n",
       "    <tr>\n",
       "      <th>3281</th>\n",
       "      <td>0</td>\n",
       "      <td>0.000000</td>\n",
       "      <td>No</td>\n",
       "      <td>7</td>\n",
       "    </tr>\n",
       "    <tr>\n",
       "      <th>3282</th>\n",
       "      <td>0</td>\n",
       "      <td>0.000000</td>\n",
       "      <td>Avisos</td>\n",
       "      <td>7</td>\n",
       "    </tr>\n",
       "    <tr>\n",
       "      <th>3283</th>\n",
       "      <td>1</td>\n",
       "      <td>0.584008</td>\n",
       "      <td>Equipos telcel</td>\n",
       "      <td>1</td>\n",
       "    </tr>\n",
       "    <tr>\n",
       "      <th>3284</th>\n",
       "      <td>0</td>\n",
       "      <td>0.000000</td>\n",
       "      <td>Es una telefonía cara. Considerenlo</td>\n",
       "      <td>7</td>\n",
       "    </tr>\n",
       "    <tr>\n",
       "      <th>3285</th>\n",
       "      <td>0</td>\n",
       "      <td>-0.036266</td>\n",
       "      <td>Pues cualquier premio es bueno</td>\n",
       "      <td>0</td>\n",
       "    </tr>\n",
       "  </tbody>\n",
       "</table>\n",
       "<p>3286 rows × 4 columns</p>\n",
       "</div>"
      ],
      "text/plain": [
       "      Tema       aux                                Texto  Tema1\n",
       "0        0  0.000000                                    <      7\n",
       "1        0  0.000000                               prueba      7\n",
       "2        0  0.000000                                kwkwk      7\n",
       "3        0 -0.286408                  Referente al premio      0\n",
       "4        0  0.000000                               No se       7\n",
       "...    ...       ...                                  ...    ...\n",
       "3281     0  0.000000                                   No      7\n",
       "3282     0  0.000000                              Avisos       7\n",
       "3283     1  0.584008                       Equipos telcel      1\n",
       "3284     0  0.000000  Es una telefonía cara. Considerenlo      7\n",
       "3285     0 -0.036266      Pues cualquier premio es bueno       0\n",
       "\n",
       "[3286 rows x 4 columns]"
      ]
     },
     "execution_count": 121,
     "metadata": {},
     "output_type": "execute_result"
    }
   ],
   "source": [
    "aux"
   ]
  },
  {
   "cell_type": "code",
   "execution_count": 122,
   "id": "dcde3b5e",
   "metadata": {},
   "outputs": [],
   "source": [
    "aux['Nombre']=aux['Tema1'].replace({0:'Premios llamativos',1:'Equipos/Accesorios',2:'Promociones en servicio',5:'No conozco para opinar',6:'Posibilidades de ganar/Trivias',7:'Otros'})"
   ]
  },
  {
   "cell_type": "code",
   "execution_count": 123,
   "id": "834115c5",
   "metadata": {
    "scrolled": false
   },
   "outputs": [
    {
     "data": {
      "text/html": [
       "<div>\n",
       "<style scoped>\n",
       "    .dataframe tbody tr th:only-of-type {\n",
       "        vertical-align: middle;\n",
       "    }\n",
       "\n",
       "    .dataframe tbody tr th {\n",
       "        vertical-align: top;\n",
       "    }\n",
       "\n",
       "    .dataframe thead th {\n",
       "        text-align: right;\n",
       "    }\n",
       "</style>\n",
       "<table border=\"1\" class=\"dataframe\">\n",
       "  <thead>\n",
       "    <tr style=\"text-align: right;\">\n",
       "      <th></th>\n",
       "      <th>Texto</th>\n",
       "      <th>Nombre</th>\n",
       "    </tr>\n",
       "  </thead>\n",
       "  <tbody>\n",
       "    <tr>\n",
       "      <th>0</th>\n",
       "      <td>&lt;</td>\n",
       "      <td>Otros</td>\n",
       "    </tr>\n",
       "    <tr>\n",
       "      <th>1</th>\n",
       "      <td>prueba</td>\n",
       "      <td>Otros</td>\n",
       "    </tr>\n",
       "    <tr>\n",
       "      <th>2</th>\n",
       "      <td>kwkwk</td>\n",
       "      <td>Otros</td>\n",
       "    </tr>\n",
       "    <tr>\n",
       "      <th>3</th>\n",
       "      <td>Referente al premio</td>\n",
       "      <td>Premios llamativos</td>\n",
       "    </tr>\n",
       "    <tr>\n",
       "      <th>4</th>\n",
       "      <td>No se</td>\n",
       "      <td>Otros</td>\n",
       "    </tr>\n",
       "    <tr>\n",
       "      <th>...</th>\n",
       "      <td>...</td>\n",
       "      <td>...</td>\n",
       "    </tr>\n",
       "    <tr>\n",
       "      <th>3281</th>\n",
       "      <td>No</td>\n",
       "      <td>Otros</td>\n",
       "    </tr>\n",
       "    <tr>\n",
       "      <th>3282</th>\n",
       "      <td>Avisos</td>\n",
       "      <td>Otros</td>\n",
       "    </tr>\n",
       "    <tr>\n",
       "      <th>3283</th>\n",
       "      <td>Equipos telcel</td>\n",
       "      <td>Equipos/Accesorios</td>\n",
       "    </tr>\n",
       "    <tr>\n",
       "      <th>3284</th>\n",
       "      <td>Es una telefonía cara. Considerenlo</td>\n",
       "      <td>Otros</td>\n",
       "    </tr>\n",
       "    <tr>\n",
       "      <th>3285</th>\n",
       "      <td>Pues cualquier premio es bueno</td>\n",
       "      <td>Premios llamativos</td>\n",
       "    </tr>\n",
       "  </tbody>\n",
       "</table>\n",
       "<p>3286 rows × 2 columns</p>\n",
       "</div>"
      ],
      "text/plain": [
       "                                    Texto              Nombre\n",
       "0                                       <               Otros\n",
       "1                                  prueba               Otros\n",
       "2                                   kwkwk               Otros\n",
       "3                     Referente al premio  Premios llamativos\n",
       "4                                  No se                Otros\n",
       "...                                   ...                 ...\n",
       "3281                                   No               Otros\n",
       "3282                              Avisos                Otros\n",
       "3283                       Equipos telcel  Equipos/Accesorios\n",
       "3284  Es una telefonía cara. Considerenlo               Otros\n",
       "3285      Pues cualquier premio es bueno   Premios llamativos\n",
       "\n",
       "[3286 rows x 2 columns]"
      ]
     },
     "execution_count": 123,
     "metadata": {},
     "output_type": "execute_result"
    }
   ],
   "source": [
    "aux[['Texto','Nombre']]"
   ]
  },
  {
   "cell_type": "code",
   "execution_count": 124,
   "id": "ddf5f110",
   "metadata": {},
   "outputs": [
    {
     "name": "stderr",
     "output_type": "stream",
     "text": [
      "<ipython-input-124-247c4e7d909c>:1: SettingWithCopyWarning: \n",
      "A value is trying to be set on a copy of a slice from a DataFrame.\n",
      "Try using .loc[row_indexer,col_indexer] = value instead\n",
      "\n",
      "See the caveats in the documentation: https://pandas.pydata.org/pandas-docs/stable/user_guide/indexing.html#returning-a-view-versus-a-copy\n",
      "  dfg['Participó']=1\n"
     ]
    }
   ],
   "source": [
    "dfg['Participó']=1"
   ]
  },
  {
   "cell_type": "code",
   "execution_count": 125,
   "id": "dd9a5075",
   "metadata": {},
   "outputs": [
    {
     "name": "stderr",
     "output_type": "stream",
     "text": [
      "<ipython-input-125-15f1703c6d36>:1: SettingWithCopyWarning: \n",
      "A value is trying to be set on a copy of a slice from a DataFrame.\n",
      "Try using .loc[row_indexer,col_indexer] = value instead\n",
      "\n",
      "See the caveats in the documentation: https://pandas.pydata.org/pandas-docs/stable/user_guide/indexing.html#returning-a-view-versus-a-copy\n",
      "  dfng['Participó']=0\n"
     ]
    }
   ],
   "source": [
    "dfng['Participó']=0"
   ]
  },
  {
   "cell_type": "code",
   "execution_count": 126,
   "id": "5b94d030",
   "metadata": {},
   "outputs": [],
   "source": [
    "c=dfg['Participó'].append(dfng['Participó'])"
   ]
  },
  {
   "cell_type": "code",
   "execution_count": 127,
   "id": "33bd0816",
   "metadata": {},
   "outputs": [
    {
     "data": {
      "text/plain": [
       "4       1\n",
       "6       1\n",
       "8       1\n",
       "15      1\n",
       "19      1\n",
       "       ..\n",
       "3325    0\n",
       "3327    0\n",
       "3328    0\n",
       "3329    0\n",
       "3330    0\n",
       "Name: Participó, Length: 3286, dtype: int64"
      ]
     },
     "execution_count": 127,
     "metadata": {},
     "output_type": "execute_result"
    }
   ],
   "source": [
    "c"
   ]
  },
  {
   "cell_type": "code",
   "execution_count": 846,
   "id": "7c54feef",
   "metadata": {},
   "outputs": [],
   "source": [
    "c1=dfg1[['Encuesta','Gusta']].append(dfng1[['Encuesta','Gusta']])"
   ]
  },
  {
   "cell_type": "code",
   "execution_count": 847,
   "id": "a5cb97e6",
   "metadata": {},
   "outputs": [],
   "source": [
    "c=c.append(c1)"
   ]
  },
  {
   "cell_type": "code",
   "execution_count": 787,
   "id": "29b5ff24",
   "metadata": {},
   "outputs": [],
   "source": [
    "c['Texto']=b"
   ]
  },
  {
   "cell_type": "code",
   "execution_count": 848,
   "id": "eff13d2f",
   "metadata": {},
   "outputs": [
    {
     "data": {
      "text/html": [
       "<div>\n",
       "<style scoped>\n",
       "    .dataframe tbody tr th:only-of-type {\n",
       "        vertical-align: middle;\n",
       "    }\n",
       "\n",
       "    .dataframe tbody tr th {\n",
       "        vertical-align: top;\n",
       "    }\n",
       "\n",
       "    .dataframe thead th {\n",
       "        text-align: right;\n",
       "    }\n",
       "</style>\n",
       "<table border=\"1\" class=\"dataframe\">\n",
       "  <thead>\n",
       "    <tr style=\"text-align: right;\">\n",
       "      <th></th>\n",
       "      <th>Encuesta</th>\n",
       "      <th>Gusta</th>\n",
       "    </tr>\n",
       "  </thead>\n",
       "  <tbody>\n",
       "    <tr>\n",
       "      <th>4</th>\n",
       "      <td>Nacional</td>\n",
       "      <td>1</td>\n",
       "    </tr>\n",
       "    <tr>\n",
       "      <th>7</th>\n",
       "      <td>Nacional</td>\n",
       "      <td>1</td>\n",
       "    </tr>\n",
       "    <tr>\n",
       "      <th>8</th>\n",
       "      <td>Nacional</td>\n",
       "      <td>1</td>\n",
       "    </tr>\n",
       "    <tr>\n",
       "      <th>10</th>\n",
       "      <td>Nacional</td>\n",
       "      <td>1</td>\n",
       "    </tr>\n",
       "    <tr>\n",
       "      <th>11</th>\n",
       "      <td>Nacional</td>\n",
       "      <td>1</td>\n",
       "    </tr>\n",
       "    <tr>\n",
       "      <th>...</th>\n",
       "      <td>...</td>\n",
       "      <td>...</td>\n",
       "    </tr>\n",
       "    <tr>\n",
       "      <th>1057</th>\n",
       "      <td>Roaming</td>\n",
       "      <td>0</td>\n",
       "    </tr>\n",
       "    <tr>\n",
       "      <th>1058</th>\n",
       "      <td>Roaming</td>\n",
       "      <td>0</td>\n",
       "    </tr>\n",
       "    <tr>\n",
       "      <th>1059</th>\n",
       "      <td>Roaming</td>\n",
       "      <td>0</td>\n",
       "    </tr>\n",
       "    <tr>\n",
       "      <th>1060</th>\n",
       "      <td>Roaming</td>\n",
       "      <td>0</td>\n",
       "    </tr>\n",
       "    <tr>\n",
       "      <th>1061</th>\n",
       "      <td>Roaming</td>\n",
       "      <td>0</td>\n",
       "    </tr>\n",
       "  </tbody>\n",
       "</table>\n",
       "<p>4141 rows × 2 columns</p>\n",
       "</div>"
      ],
      "text/plain": [
       "      Encuesta  Gusta\n",
       "4     Nacional      1\n",
       "7     Nacional      1\n",
       "8     Nacional      1\n",
       "10    Nacional      1\n",
       "11    Nacional      1\n",
       "...        ...    ...\n",
       "1057   Roaming      0\n",
       "1058   Roaming      0\n",
       "1059   Roaming      0\n",
       "1060   Roaming      0\n",
       "1061   Roaming      0\n",
       "\n",
       "[4141 rows x 2 columns]"
      ]
     },
     "execution_count": 848,
     "metadata": {},
     "output_type": "execute_result"
    }
   ],
   "source": [
    "c"
   ]
  },
  {
   "cell_type": "code",
   "execution_count": 128,
   "id": "ddda5614",
   "metadata": {},
   "outputs": [],
   "source": [
    "aux=pd.concat([aux,c.reset_index(drop=True)],axis=1)"
   ]
  },
  {
   "cell_type": "code",
   "execution_count": 140,
   "id": "1b11c094",
   "metadata": {},
   "outputs": [],
   "source": [
    "aux[['Texto','Nombre','Participó']].to_csv('Texto_Exp.csv',index=False)"
   ]
  },
  {
   "cell_type": "code",
   "execution_count": 147,
   "id": "eb6d847c",
   "metadata": {},
   "outputs": [
    {
     "data": {
      "text/plain": [
       "308     Ppr los correos que mandan de promociones\n",
       "761                                         Buzón\n",
       "2279                                        Email\n",
       "2306                          Correo electrónico \n",
       "2635                                          Sms\n",
       "2652                               Un sitio porno\n",
       "Name: Q6_13_TEXT, dtype: object"
      ]
     },
     "execution_count": 147,
     "metadata": {},
     "output_type": "execute_result"
    }
   ],
   "source": [
    "df[df['Q6_13_TEXT'].notna()]['Q6_13_TEXT']"
   ]
  },
  {
   "cell_type": "code",
   "execution_count": 149,
   "id": "379ff9c9",
   "metadata": {},
   "outputs": [
    {
     "data": {
      "text/plain": [
       "Index(['StartDate', 'EndDate', 'Status', 'IPAddress', 'Progress',\n",
       "       'Duration (in seconds)', 'Finished', 'RecordedDate', 'ResponseId',\n",
       "       'RecipientLastName', 'RecipientFirstName', 'RecipientEmail',\n",
       "       'ExternalReference', 'LocationLatitude', 'LocationLongitude',\n",
       "       'DistributionChannel', 'UserLanguage', 'Q2_Browser', 'Q2_Version',\n",
       "       'Q2_Operating System', 'Q2_Resolution', 'Q3', 'Q4', 'Q5', 'Q6',\n",
       "       'Q6_13_TEXT', 'Q7', 'Q7_13_TEXT', 'Q8', 'Q9', 'Q9_8_TEXT', 'Q10'],\n",
       "      dtype='object')"
      ]
     },
     "execution_count": 149,
     "metadata": {},
     "output_type": "execute_result"
    }
   ],
   "source": [
    "df.columns"
   ]
  },
  {
   "cell_type": "code",
   "execution_count": 154,
   "id": "11a00b59",
   "metadata": {},
   "outputs": [
    {
     "data": {
      "text/plain": [
       "\\tMi Telcel                                                                                                                                                                         166\n",
       "\\tRedes Sociales                                                                                                                                                                     33\n",
       "\\tMi Telcel,\\tTelcel.com                                                                                                                                                            32\n",
       "\\tRedes Sociales ,\\tMi Telcel                                                                                                                                                       31\n",
       "\\tInternet                                                                                                                                                                           15\n",
       "\\tInternet ,\\tMi Telcel                                                                                                                                                             11\n",
       "\\tRedes Sociales ,\\tInternet ,\\tMi Telcel,\\tTelcel.com                                                                                                                            10\n",
       "\\tRedes Sociales ,\\tInternet ,\\tMi Telcel                                                                                                                                          10\n",
       "\\tRedes Sociales ,\\tInternet ,\\tMi Telcel,\\tTelcel.com,\\tCentros de Atención a Clientes                                                                                           9\n",
       "\\tTelcel.com                                                                                                                                                                          7\n",
       "\\tRedes Sociales ,\\tMi Telcel,\\tTelcel.com                                                                                                                                          6\n",
       "\\tTelevisión                                                                                                                                                                          6\n",
       "\\tRedes Sociales ,\\tInternet                                                                                                                                                         6\n",
       " Otro:                                                                                                                                                                                6\n",
       "\\tTelevisión ,\\tRedes Sociales ,\\tInternet ,\\tMi Telcel                                                                                                                            5\n",
       "\\tRedes Sociales ,\\tMi Telcel,\\tCentros de Atención a Clientes                                                                                                                      4\n",
       "\\tInternet ,\\tMi Telcel,\\tTelcel.com                                                                                                                                                4\n",
       "\\tTelevisión ,\\tRedes Sociales ,\\tInternet ,\\tMi Telcel,\\tTelcel.com,\\tCentros de Atención a Clientes                                                                            4\n",
       "\\tCentros de Atención a Clientes                                                                                                                                                      4\n",
       "\\tMi Telcel,\\tTelcel.com,\\tCentros de Atención a Clientes                                                                                                                           3\n",
       "\\tRedes Sociales ,\\tMi Telcel,\\tTelcel.com,\\tCentros de Atención a Clientes                                                                                                        3\n",
       "\\tTelevisión ,\\tExteriores (Pantallas electrónicas, vallas, kioscos de periódicos),\\tRedes Sociales ,\\tInternet ,\\tMi Telcel,\\tTelcel.com,\\tCentros de Atención a Clientes      3\n",
       "\\tTelevisión ,\\tRedes Sociales ,\\tInternet ,\\tMi Telcel,\\tTelcel.com                                                                                                              2\n",
       "\\tTelevisión ,\\tRedes Sociales ,\\tInternet                                                                                                                                          2\n",
       "\\tTelevisión ,\\tRedes Sociales ,\\tInternet ,\\tMi Telcel,\\tCentros de Atención a Clientes                                                                                          2\n",
       "\\tTelevisión ,\\tExteriores (Pantallas electrónicas, vallas, kioscos de periódicos),\\tRedes Sociales ,\\tMi Telcel,\\tCentros de Atención a Clientes                                 2\n",
       "\\tInternet ,\\tMi Telcel,\\tTelcel.com,\\tCentros de Atención a Clientes                                                                                                              2\n",
       "\\tRedes Sociales ,\\tInternet ,\\tTelcel.com                                                                                                                                          2\n",
       "\\tTelevisión ,\\tInternet ,\\tCentros de Atención a Clientes                                                                                                                          1\n",
       "\\tExteriores (Pantallas electrónicas, vallas, kioscos de periódicos),\\tRedes Sociales ,\\tInternet ,\\tMi Telcel,\\tTelcel.com,\\tCentros de Atención a Clientes                     1\n",
       "\\tTelevisión ,\\tRedes Sociales ,\\tMi Telcel,\\tTelcel.com                                                                                                                           1\n",
       "\\tTelcel.com,\\tCentros de Atención a Clientes                                                                                                                                        1\n",
       "\\tTelevisión , Otro:                                                                                                                                                                 1\n",
       "\\tTelevisión ,\\tExteriores (Pantallas electrónicas, vallas, kioscos de periódicos),\\tRedes Sociales ,\\tInternet ,\\tMi Telcel,\\tCentros de Atención a Clientes                    1\n",
       "\\tExteriores (Pantallas electrónicas, vallas, kioscos de periódicos),\\tCentros de Atención a Clientes                                                                                1\n",
       "\\tExteriores (Pantallas electrónicas, vallas, kioscos de periódicos),\\tMi Telcel,\\tTelcel.com                                                                                       1\n",
       "\\tExteriores (Pantallas electrónicas, vallas, kioscos de periódicos),\\tRedes Sociales ,\\tMi Telcel,\\tTelcel.com                                                                    1\n",
       "\\tExteriores (Pantallas electrónicas, vallas, kioscos de periódicos),\\tRedes Sociales ,\\tInternet ,\\tMi Telcel,\\tCentros de Atención a Clientes                                   1\n",
       "\\tRedes Sociales ,\\tCentros de Atención a Clientes                                                                                                                                   1\n",
       "\\tTelevisión ,\\tInternet ,\\tMi Telcel                                                                                                                                               1\n",
       "\\tTelevisión ,\\tRedes Sociales ,\\tMi Telcel,\\tCentros de Atención a Clientes                                                                                                       1\n",
       "\\tTelevisión ,\\tExteriores (Pantallas electrónicas, vallas, kioscos de periódicos),\\tRedes Sociales ,\\tInternet ,\\tCentros de Atención a Clientes                                 1\n",
       "\\tMi Telcel,\\tCentros de Atención a Clientes                                                                                                                                         1\n",
       "\\tExteriores (Pantallas electrónicas, vallas, kioscos de periódicos),\\tRedes Sociales ,\\tInternet ,\\tMi Telcel                                                                     1\n",
       "\\tRedes Sociales ,\\tTelcel.com                                                                                                                                                       1\n",
       "\\tTelevisión ,\\tInternet ,\\tMi Telcel,\\tTelcel.com                                                                                                                                 1\n",
       "\\tTelevisión ,\\tMi Telcel                                                                                                                                                            1\n",
       "\\tMi Telcel, Otro:                                                                                                                                                                   1\n",
       "Name: Q6, dtype: int64"
      ]
     },
     "execution_count": 154,
     "metadata": {},
     "output_type": "execute_result"
    }
   ],
   "source": [
    "df[df['Q6'].notna()]['Q6'].value_counts()"
   ]
  },
  {
   "cell_type": "code",
   "execution_count": null,
   "id": "51e55afa",
   "metadata": {},
   "outputs": [],
   "source": []
  }
 ],
 "metadata": {
  "kernelspec": {
   "display_name": "Python 3",
   "language": "python",
   "name": "python3"
  },
  "language_info": {
   "codemirror_mode": {
    "name": "ipython",
    "version": 3
   },
   "file_extension": ".py",
   "mimetype": "text/x-python",
   "name": "python",
   "nbconvert_exporter": "python",
   "pygments_lexer": "ipython3",
   "version": "3.8.8"
  }
 },
 "nbformat": 4,
 "nbformat_minor": 5
}
