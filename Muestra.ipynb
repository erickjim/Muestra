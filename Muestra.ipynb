{
 "cells": [
  {
   "cell_type": "markdown",
   "metadata": {},
   "source": [
    "# Muestra de proyecto"
   ]
  },
  {
   "cell_type": "code",
   "execution_count": null,
   "metadata": {},
   "outputs": [],
   "source": [
    "import pandas as pd\n",
    "import os\n",
    "import collections\n",
    "import numpy as np\n",
    "import zipfile \n",
    "from __future__ import division"
   ]
  },
  {
   "cell_type": "markdown",
   "metadata": {},
   "source": [
    "## Lectura de Datos"
   ]
  },
  {
   "cell_type": "code",
   "execution_count": null,
   "metadata": {},
   "outputs": [],
   "source": [
    "#Se leen todas las bases de datos corresp a las diferentes comunidades\n",
    "a=[]\n",
    "for i in os.listdir(r'C:/Users/ejimenez/Bases_de_datos/'):\n",
    "    if (i != '.ipynb_checkpoints') & (i!= 'Carpeta_Orden_Datos') &(i != 'Muestra.ipynb') & (i != 'Comprimidos'):\n",
    "        a.append(pd.read_excel(i))\n",
    "        print i"
   ]
  },
  {
   "cell_type": "code",
   "execution_count": null,
   "metadata": {},
   "outputs": [],
   "source": [
    "b=pd.concat(a)"
   ]
  },
  {
   "cell_type": "markdown",
   "metadata": {},
   "source": [
    "## Creación de carpetas para el ordenamiento de datos ya procesados"
   ]
  },
  {
   "cell_type": "code",
   "execution_count": null,
   "metadata": {},
   "outputs": [],
   "source": [
    "#Se crean las carpetas donde se guardarán resultados e incidencias (Ahí se guardan los datos ya procesados)\n",
    "path=r'C:/Users/ejimenez/Bases_de_datos/Carpeta_Orden_Datos'\n",
    "for i in b['Comunidades'].value_counts().index:\n",
    "    os.makedirs(path + i)\n",
    "for i in b['Comunidades'].value_counts().index:\n",
    "    os.makedirs(path + i + '/Incidencias')\n",
    "    os.makedirs(path + i + '/Resultados')\n",
    "#Se crea la carpeta que corresponde a los resultados EDI\n",
    "for i in b['Comunidades'].value_counts().index:\n",
    "    os.makedirs(path + i + u'/Resultados/EDI')\n",
    "#Se exporta la base de datos consolidada\n",
    "b.to_excel('CVS_2019.xlsx',index=False)"
   ]
  },
  {
   "cell_type": "markdown",
   "metadata": {},
   "source": [
    "## Ejemplo de manipulación de datos."
   ]
  },
  {
   "cell_type": "code",
   "execution_count": null,
   "metadata": {},
   "outputs": [],
   "source": [
    "#Creación de nuevas variables de acuerdo a condiciones y criterios de variables ya existentes\n",
    "b['Variable']=map(lambda x,y,z :u'Sí' if ((x==u'criterio_1') & (y==u'criterio_2')) | ((z==u'Condición_1') & (y==u'criterio_3')) else 'No', b['Variable_1'],b['Variable_2'],b['Variable_3'])"
   ]
  },
  {
   "cell_type": "code",
   "execution_count": null,
   "metadata": {},
   "outputs": [],
   "source": [
    "#Agrupamiento de datos de acuerdo a condiciones\n",
    "b[b['Variable']==u'Sí'].groupby(['Comunidades','Otra_variable'])['Libre_de_NAs'].count().unstack().fillna(0)"
   ]
  },
  {
   "cell_type": "markdown",
   "metadata": {},
   "source": [
    "## Procesamiento de datos y guardado de acuerdo a la variable deseada y a la variable Comunidad."
   ]
  },
  {
   "cell_type": "code",
   "execution_count": null,
   "metadata": {},
   "outputs": [],
   "source": [
    "for i in b['Comunidades'].value_counts().index:\n",
    "    variable=b.groupby(['Comunidades','Etapa_de_vida','Variable'])['Libre_de_NAs'].count().unstack().fillna(0).loc[i]\n",
    "    variable=variable.reset_index().append(variable.sum(numeric_only=True), ignore_index=True)\n",
    "    tote=list(variable.dropna()['Etapa_de_vida'])\n",
    "    tote.append('Total')\n",
    "    variable['Etapa_de_vida']=tote\n",
    "    variable.to_excel('Carpeta_Orden_Datos/'+ i + '/Resultados/' + u'Niños presentes al momento de la entrevista de acuerdo a etapa de vida.xlsx', index=False)"
   ]
  },
  {
   "cell_type": "markdown",
   "metadata": {},
   "source": [
    "## Compresión de carpetas"
   ]
  },
  {
   "cell_type": "code",
   "execution_count": null,
   "metadata": {},
   "outputs": [],
   "source": [
    "path=r'C:/Users/ejimenez//Bases_de_datos/Carpeta_Orden_Datos'\n",
    "for i in b['Comunidades'].value_counts().index:\n",
    "    zp = zipfile.ZipFile('Comprimidos/'+i+'.zip', 'w')\n",
    "    for j in os.listdir(path + '/' + i + '/Resultados'):\n",
    "        if (j != '.ipynb_checkpoints') & (j!= 'EDI'):\n",
    "            zp.write( 'Carpeta_Orden_Datos/'+i + '/Resultados/'+j )\n",
    "        else:\n",
    "            for k in os.listdir(path + '/' + i + '/Resultados/EDI'):\n",
    "                zp.write( 'Carpeta_Orden_Datos/'+i + '/Resultados/EDI/'+k )\n",
    "    for j in os.listdir(path + '/' + i + '/Incidencias'):\n",
    "        if (j != '.ipynb_checkpoints'):\n",
    "            zp.write( 'Carpeta_Orden_Datos/'+i + '/Incidencias/'+j )\n",
    "    zp.close()"
   ]
  }
 ],
 "metadata": {
  "kernelspec": {
   "display_name": "Python 2",
   "language": "python",
   "name": "python2"
  },
  "language_info": {
   "codemirror_mode": {
    "name": "ipython",
    "version": 2
   },
   "file_extension": ".py",
   "mimetype": "text/x-python",
   "name": "python",
   "nbconvert_exporter": "python",
   "pygments_lexer": "ipython2",
   "version": "2.7.15"
  }
 },
 "nbformat": 4,
 "nbformat_minor": 2
}
