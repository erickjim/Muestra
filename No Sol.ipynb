{
 "cells": [
  {
   "cell_type": "markdown",
   "id": "b75e5ee7",
   "metadata": {},
   "source": [
    "# Razones de No Solución Qx"
   ]
  },
  {
   "cell_type": "markdown",
   "id": "46ae370f",
   "metadata": {},
   "source": [
    "## Dependencias"
   ]
  },
  {
   "cell_type": "code",
   "execution_count": 1,
   "id": "37ee7db5",
   "metadata": {},
   "outputs": [],
   "source": [
    "import pandas as pd\n",
    "import numpy as np\n",
    "import re\n",
    "import unicodedata\n",
    "from nltk.tokenize import word_tokenize\n",
    "from nltk.corpus import stopwords\n",
    "from nltk.stem import SnowballStemmer\n",
    "import nltk\n",
    "\n",
    "import spacy\n",
    "from spacy.lang.es import Spanish\n",
    "from spacy.lang.es.stop_words import STOP_WORDS\n",
    "from sklearn.feature_extraction.text import TfidfVectorizer\n",
    "\n",
    "from varclushi import VarClusHi"
   ]
  },
  {
   "cell_type": "markdown",
   "id": "dc291309",
   "metadata": {},
   "source": [
    "## Funciones"
   ]
  },
  {
   "cell_type": "code",
   "execution_count": 2,
   "id": "11c52fea",
   "metadata": {},
   "outputs": [],
   "source": [
    "def clean_text(text, pattern=\"[^a-zA-Z ]\"):\n",
    "    cleaned_text = unicodedata.normalize('NFD', text).encode('ascii', 'ignore')\n",
    "    cleaned_text = re.sub(pattern, \"\", cleaned_text.decode(\"utf-8\"), flags=re.UNICODE)\n",
    "    cleaned_text = u' '.join(cleaned_text.lower().split())\n",
    "    return cleaned_text"
   ]
  },
  {
   "cell_type": "code",
   "execution_count": 3,
   "id": "4cc98ba8",
   "metadata": {},
   "outputs": [],
   "source": [
    "def tokestem(x):\n",
    "    stemmer = SnowballStemmer('spanish')\n",
    "    a=word_tokenize(x)\n",
    "    a=[stemmer.stem(i) for i in a]\n",
    "    return a"
   ]
  },
  {
   "cell_type": "markdown",
   "id": "22f2ed3f",
   "metadata": {},
   "source": [
    "## Lectura de Archivo"
   ]
  },
  {
   "cell_type": "code",
   "execution_count": 291,
   "id": "5da98431",
   "metadata": {},
   "outputs": [],
   "source": [
    "df=pd.read_pickle('No_solucion.pkl')"
   ]
  },
  {
   "cell_type": "code",
   "execution_count": 292,
   "id": "0dd5be4e",
   "metadata": {},
   "outputs": [
    {
     "data": {
      "text/html": [
       "<div>\n",
       "<style scoped>\n",
       "    .dataframe tbody tr th:only-of-type {\n",
       "        vertical-align: middle;\n",
       "    }\n",
       "\n",
       "    .dataframe tbody tr th {\n",
       "        vertical-align: top;\n",
       "    }\n",
       "\n",
       "    .dataframe thead th {\n",
       "        text-align: right;\n",
       "    }\n",
       "</style>\n",
       "<table border=\"1\" class=\"dataframe\">\n",
       "  <thead>\n",
       "    <tr style=\"text-align: right;\">\n",
       "      <th></th>\n",
       "      <th>linea</th>\n",
       "      <th>fecha</th>\n",
       "      <th>no_sol</th>\n",
       "    </tr>\n",
       "  </thead>\n",
       "  <tbody>\n",
       "    <tr>\n",
       "      <th>79</th>\n",
       "      <td>7225557236</td>\n",
       "      <td>2021-03-23</td>\n",
       "      <td>No tenían el equipo en existencia</td>\n",
       "    </tr>\n",
       "    <tr>\n",
       "      <th>100</th>\n",
       "      <td>5521287428</td>\n",
       "      <td>2021-10-14</td>\n",
       "      <td>Quiero renovar mi plan, pero Requiero el equip...</td>\n",
       "    </tr>\n",
       "    <tr>\n",
       "      <th>540</th>\n",
       "      <td>5540571174</td>\n",
       "      <td>2021-06-06</td>\n",
       "      <td>Por qué al parecer el sistema no le permitía a...</td>\n",
       "    </tr>\n",
       "    <tr>\n",
       "      <th>593</th>\n",
       "      <td>5520174180</td>\n",
       "      <td>2021-09-29</td>\n",
       "      <td>Atencion del asesor, nunca estuvo dispuesto a ...</td>\n",
       "    </tr>\n",
       "    <tr>\n",
       "      <th>696</th>\n",
       "      <td>7773040403</td>\n",
       "      <td>2021-10-03</td>\n",
       "      <td>Falta de claridad y de equipos\\n</td>\n",
       "    </tr>\n",
       "    <tr>\n",
       "      <th>...</th>\n",
       "      <td>...</td>\n",
       "      <td>...</td>\n",
       "      <td>...</td>\n",
       "    </tr>\n",
       "    <tr>\n",
       "      <th>569638</th>\n",
       "      <td>5528257566</td>\n",
       "      <td>2021-09-13</td>\n",
       "      <td>Solo me comentaron que ya no podría adquirir u...</td>\n",
       "    </tr>\n",
       "    <tr>\n",
       "      <th>569982</th>\n",
       "      <td>5537079349</td>\n",
       "      <td>2021-01-07</td>\n",
       "      <td>Fui hacer la cancelación de mi plan por que ot...</td>\n",
       "    </tr>\n",
       "    <tr>\n",
       "      <th>569987</th>\n",
       "      <td>5531065286</td>\n",
       "      <td>2021-09-20</td>\n",
       "      <td>No hubo señal de internet y no recibí atención...</td>\n",
       "    </tr>\n",
       "    <tr>\n",
       "      <th>570031</th>\n",
       "      <td>5531151067</td>\n",
       "      <td>2021-02-13</td>\n",
       "      <td>El Telcel up es un engaño, roban el dinero y n...</td>\n",
       "    </tr>\n",
       "    <tr>\n",
       "      <th>570036</th>\n",
       "      <td>5526557624</td>\n",
       "      <td>2021-10-14</td>\n",
       "      <td>No estaba disponible el equipo</td>\n",
       "    </tr>\n",
       "  </tbody>\n",
       "</table>\n",
       "<p>5360 rows × 3 columns</p>\n",
       "</div>"
      ],
      "text/plain": [
       "             linea      fecha  \\\n",
       "79      7225557236 2021-03-23   \n",
       "100     5521287428 2021-10-14   \n",
       "540     5540571174 2021-06-06   \n",
       "593     5520174180 2021-09-29   \n",
       "696     7773040403 2021-10-03   \n",
       "...            ...        ...   \n",
       "569638  5528257566 2021-09-13   \n",
       "569982  5537079349 2021-01-07   \n",
       "569987  5531065286 2021-09-20   \n",
       "570031  5531151067 2021-02-13   \n",
       "570036  5526557624 2021-10-14   \n",
       "\n",
       "                                                   no_sol  \n",
       "79                     No tenían el equipo en existencia   \n",
       "100     Quiero renovar mi plan, pero Requiero el equip...  \n",
       "540     Por qué al parecer el sistema no le permitía a...  \n",
       "593     Atencion del asesor, nunca estuvo dispuesto a ...  \n",
       "696                      Falta de claridad y de equipos\\n  \n",
       "...                                                   ...  \n",
       "569638  Solo me comentaron que ya no podría adquirir u...  \n",
       "569982  Fui hacer la cancelación de mi plan por que ot...  \n",
       "569987  No hubo señal de internet y no recibí atención...  \n",
       "570031  El Telcel up es un engaño, roban el dinero y n...  \n",
       "570036                     No estaba disponible el equipo  \n",
       "\n",
       "[5360 rows x 3 columns]"
      ]
     },
     "execution_count": 292,
     "metadata": {},
     "output_type": "execute_result"
    }
   ],
   "source": [
    "df"
   ]
  },
  {
   "cell_type": "markdown",
   "id": "bc39b388",
   "metadata": {},
   "source": [
    "## Stemming, Lematización"
   ]
  },
  {
   "cell_type": "code",
   "execution_count": 5,
   "id": "283d9429",
   "metadata": {},
   "outputs": [],
   "source": [
    "stemmer = SnowballStemmer('spanish')"
   ]
  },
  {
   "cell_type": "code",
   "execution_count": 6,
   "id": "44a0e1da",
   "metadata": {},
   "outputs": [],
   "source": [
    "nlp = spacy.load('es_core_news_sm')"
   ]
  },
  {
   "cell_type": "code",
   "execution_count": 96,
   "id": "aba2937d",
   "metadata": {},
   "outputs": [],
   "source": [
    "# Lemma + Stemming\n",
    "#df['text']=df['no_sol'].str.replace(\"\\n\", \"\").map(nlp).map(lambda x:[w.lemma_ for w in x]).apply(\" \".join).map(clean_text).map(tokestem).str.join(\" \")\n",
    "# Stemming\n",
    "df['text']=df['no_sol'].str.replace(\"\\n\", \"\").map(clean_text).map(tokestem).str.join(\" \")"
   ]
  },
  {
   "cell_type": "markdown",
   "id": "b09d8893",
   "metadata": {},
   "source": [
    "## Stop Words"
   ]
  },
  {
   "cell_type": "code",
   "execution_count": 155,
   "id": "2a3ed5b0",
   "metadata": {},
   "outputs": [],
   "source": [
    "sw=list(STOP_WORDS.union(set(stopwords.words('spanish'))))"
   ]
  },
  {
   "cell_type": "code",
   "execution_count": 151,
   "id": "63ee5eb8",
   "metadata": {},
   "outputs": [],
   "source": [
    "sw=list(set([w.lemma_ for w in nlp(\" \".join(sw))]))"
   ]
  },
  {
   "cell_type": "code",
   "execution_count": 156,
   "id": "80504ba9",
   "metadata": {},
   "outputs": [],
   "source": [
    "sw=list(pd.Series(sw).map(clean_text))"
   ]
  },
  {
   "cell_type": "code",
   "execution_count": 157,
   "id": "1c745864",
   "metadata": {},
   "outputs": [],
   "source": [
    "stemmer = SnowballStemmer('spanish')\n",
    "sw=list(set([stemmer.stem(i) for i in sw]))"
   ]
  },
  {
   "cell_type": "markdown",
   "id": "70ae5a4a",
   "metadata": {},
   "source": [
    "## Modificaciones"
   ]
  },
  {
   "cell_type": "code",
   "execution_count": 201,
   "id": "036d84ef",
   "metadata": {},
   "outputs": [],
   "source": [
    "sw.append('pod')\n",
    "#sw.append('quer')\n",
    "sw.append('renov')\n",
    "sw.append('renovacion')\n",
    "sw.append('dec')\n",
    "sw.append('dar')\n",
    "sw.append('telcel')\n",
    "#sw.append('equip')\n",
    "#sw.append('ten')\n",
    "#sw.append('cotiz')\n",
    "sw.append('apart')\n",
    "sw.append('no')\n",
    "sw.append('quer')\n",
    "sw.append('centr')\n",
    "sw.append('plan')\n",
    "sw.append('cambi')\n",
    "sw.append('queri')"
   ]
  },
  {
   "cell_type": "code",
   "execution_count": 159,
   "id": "b4505901",
   "metadata": {},
   "outputs": [],
   "source": [
    "sw.remove('hab')"
   ]
  },
  {
   "cell_type": "markdown",
   "id": "ab94c51d",
   "metadata": {},
   "source": [
    "## Stop Words Check "
   ]
  },
  {
   "cell_type": "code",
   "execution_count": 342,
   "id": "5fbf3fcd",
   "metadata": {},
   "outputs": [],
   "source": [
    "Sw=pd.Series(sw)"
   ]
  },
  {
   "cell_type": "code",
   "execution_count": 343,
   "id": "f44898ec",
   "metadata": {},
   "outputs": [
    {
     "data": {
      "text/plain": [
       "Series([], dtype: object)"
      ]
     },
     "execution_count": 343,
     "metadata": {},
     "output_type": "execute_result"
    }
   ],
   "source": [
    "Sw[Sw.str.contains('cuo')]"
   ]
  },
  {
   "cell_type": "code",
   "execution_count": 344,
   "id": "8bc638c8",
   "metadata": {},
   "outputs": [
    {
     "data": {
      "text/plain": [
       "['ayer',\n",
       " 'hubim',\n",
       " 'ejempl',\n",
       " 'trabaj',\n",
       " 'con',\n",
       " 'qued',\n",
       " 'pod',\n",
       " 'haz',\n",
       " 'bastant',\n",
       " 'hayais',\n",
       " 'hub',\n",
       " 'rar',\n",
       " 'pes',\n",
       " 'sea',\n",
       " 'dias',\n",
       " 'much',\n",
       " 'asegur',\n",
       " 'usais',\n",
       " 'sois',\n",
       " 'dich',\n",
       " 'respect',\n",
       " 'cinc',\n",
       " 'cuatr',\n",
       " 'tempran',\n",
       " 'habeis',\n",
       " 'habl',\n",
       " 'grand',\n",
       " 'nuev',\n",
       " 'ultim',\n",
       " 'parec',\n",
       " 'ahor',\n",
       " 'el',\n",
       " 'trabajai',\n",
       " 'hor',\n",
       " 'tuvies',\n",
       " 'cuand',\n",
       " 'estariais',\n",
       " 'habr',\n",
       " 'algo',\n",
       " 'haci',\n",
       " 'pues',\n",
       " 'hoy',\n",
       " 'todavi',\n",
       " 'maner',\n",
       " 'nosotr',\n",
       " 'embarg',\n",
       " 'tuvieram',\n",
       " 'o',\n",
       " 'tras',\n",
       " 'conoc',\n",
       " 'lueg',\n",
       " 'trat',\n",
       " 'podei',\n",
       " 'estais',\n",
       " 'emple',\n",
       " 'arrib',\n",
       " 'fuim',\n",
       " 'sereis',\n",
       " 'demasi',\n",
       " 'bien',\n",
       " 'adem',\n",
       " 'ocho',\n",
       " 'adel',\n",
       " 'baj',\n",
       " 'general',\n",
       " 'podriais',\n",
       " 'que',\n",
       " 'delant',\n",
       " 'fuisteis',\n",
       " 'vari',\n",
       " 'habreis',\n",
       " 'segun',\n",
       " 'menud',\n",
       " 'este',\n",
       " 'ir',\n",
       " 'contr',\n",
       " 'manifest',\n",
       " 'hubies',\n",
       " 'asi',\n",
       " 'mientr',\n",
       " 'peor',\n",
       " 'part',\n",
       " 'hubiesei',\n",
       " 'a',\n",
       " 'soy',\n",
       " 'tampoc',\n",
       " 'hast',\n",
       " 'expres',\n",
       " 'cualqu',\n",
       " 'agreg',\n",
       " 'tant',\n",
       " 'encim',\n",
       " 'ya',\n",
       " 'principal',\n",
       " 'dem',\n",
       " 'clar',\n",
       " 'anad',\n",
       " 'igual',\n",
       " 'entonc',\n",
       " 'estari',\n",
       " 'pon',\n",
       " 'trav',\n",
       " 'valor',\n",
       " 'podri',\n",
       " 'deb',\n",
       " 'par',\n",
       " 'mediant',\n",
       " 'diferent',\n",
       " 'consider',\n",
       " 'estabais',\n",
       " 'hech',\n",
       " 'cual',\n",
       " 'sab',\n",
       " 'e',\n",
       " 'debaj',\n",
       " 'ensegu',\n",
       " 'per',\n",
       " 'desd',\n",
       " 'lad',\n",
       " 'primer',\n",
       " 'seriais',\n",
       " 'estad',\n",
       " 'qeu',\n",
       " 'exist',\n",
       " 'seri',\n",
       " 'tuy',\n",
       " 'brev',\n",
       " 'mejor',\n",
       " 'arribaabaj',\n",
       " 'su',\n",
       " 'repent',\n",
       " 'estarei',\n",
       " 'pais',\n",
       " 'no',\n",
       " 'ex',\n",
       " 'esa',\n",
       " 'mism',\n",
       " 'enfrent',\n",
       " 'cuant',\n",
       " 'tu',\n",
       " 'dia',\n",
       " 'pas',\n",
       " 'erir',\n",
       " 'segu',\n",
       " 'despaci',\n",
       " 'ese',\n",
       " 'va',\n",
       " 'cont',\n",
       " 'cos',\n",
       " 'inclus',\n",
       " 'vez',\n",
       " 'aqui',\n",
       " 'uno',\n",
       " 'ciert',\n",
       " 'y',\n",
       " 'durant',\n",
       " 'algun',\n",
       " 'propi',\n",
       " 'usa',\n",
       " 'yo',\n",
       " 'sobr',\n",
       " 'fuerais',\n",
       " 'mencion',\n",
       " 'pront',\n",
       " 'haceis',\n",
       " 'esteis',\n",
       " 'seais',\n",
       " 'acuerd',\n",
       " 'supuest',\n",
       " 'tambi',\n",
       " 'ahi',\n",
       " 'tuv',\n",
       " 'hay',\n",
       " 'usted',\n",
       " 'estuv',\n",
       " 'ser',\n",
       " 'dad',\n",
       " 'eras',\n",
       " 'qui',\n",
       " 'habriais',\n",
       " 'tres',\n",
       " 'estuvier',\n",
       " 'empleai',\n",
       " 'adred',\n",
       " 'mal',\n",
       " 'proxim',\n",
       " 'poc',\n",
       " 'junt',\n",
       " 'buen',\n",
       " 'sabeis',\n",
       " 'aproxim',\n",
       " 'vuestr',\n",
       " 'mas',\n",
       " 'mio',\n",
       " 'seis',\n",
       " 'dec',\n",
       " 'guen',\n",
       " 'casi',\n",
       " 'salv',\n",
       " 'verd',\n",
       " 'al',\n",
       " 'en',\n",
       " 'except',\n",
       " 'hac',\n",
       " 'segund',\n",
       " 'cre',\n",
       " 'estes',\n",
       " 'siguient',\n",
       " 'tard',\n",
       " 'estab',\n",
       " 'llev',\n",
       " 'aquell',\n",
       " 'quiz',\n",
       " 'final',\n",
       " 'ni',\n",
       " 'habi',\n",
       " 'nad',\n",
       " 'afirm',\n",
       " 'vosotr',\n",
       " 'antes',\n",
       " 'dond',\n",
       " 'actual',\n",
       " 'tod',\n",
       " 'del',\n",
       " 'aun',\n",
       " 'mia',\n",
       " 'tien',\n",
       " 'mi',\n",
       " 'fueseis',\n",
       " 'de',\n",
       " 'sient',\n",
       " 'larg',\n",
       " 'sin',\n",
       " 'posibl',\n",
       " 'habiais',\n",
       " 'nuestr',\n",
       " 'mayor',\n",
       " 'quer',\n",
       " 'inform',\n",
       " 'apen',\n",
       " 'siempr',\n",
       " 'siet',\n",
       " 'despu',\n",
       " 'estuvi',\n",
       " 'consegu',\n",
       " 'moment',\n",
       " 'uso',\n",
       " 'com',\n",
       " 'atra',\n",
       " 'alrededor',\n",
       " 'fin',\n",
       " 'habri',\n",
       " 'sent',\n",
       " 'diar',\n",
       " 'usar',\n",
       " 'hacer el',\n",
       " 'dar',\n",
       " 'suy',\n",
       " 'nadi',\n",
       " 'senal',\n",
       " 'estuvies',\n",
       " 'nunc',\n",
       " 'ambos',\n",
       " 'si',\n",
       " 'consig',\n",
       " 'ante',\n",
       " 'cad',\n",
       " 'mod',\n",
       " 'detr',\n",
       " 'fuer',\n",
       " 'lej',\n",
       " 'explic',\n",
       " 'otro',\n",
       " 'dentr',\n",
       " 'fues',\n",
       " 'aquel el',\n",
       " 'tuvistei',\n",
       " 'soy tu',\n",
       " 'porqu',\n",
       " 'dos',\n",
       " 'sol',\n",
       " 'entre',\n",
       " 'indic',\n",
       " 'lug',\n",
       " 'verdader',\n",
       " 'antan',\n",
       " 'vais',\n",
       " 'realiz',\n",
       " 'lleg',\n",
       " 'alli',\n",
       " 'depris',\n",
       " 'erais',\n",
       " 'ver',\n",
       " 'medi',\n",
       " 'aunqu',\n",
       " 'cerc',\n",
       " 'ample',\n",
       " 'aquel',\n",
       " 'fuist',\n",
       " 'por',\n",
       " 'ningun',\n",
       " 'estai',\n",
       " 'tal',\n",
       " 'hubi',\n",
       " 'tercer',\n",
       " 'coment',\n",
       " 'gran',\n",
       " 'total',\n",
       " 'men',\n",
       " 'usam',\n",
       " 'encontr',\n",
       " 'anterior',\n",
       " 'dej',\n",
       " 'pod',\n",
       " 'quer',\n",
       " 'renov',\n",
       " 'renovacion',\n",
       " 'dec',\n",
       " 'dar',\n",
       " 'pod',\n",
       " 'quer',\n",
       " 'renov',\n",
       " 'renovacion',\n",
       " 'dec',\n",
       " 'dar',\n",
       " 'telcel',\n",
       " 'pod',\n",
       " 'quer',\n",
       " 'renov',\n",
       " 'renovacion',\n",
       " 'dec',\n",
       " 'dar',\n",
       " 'telcel',\n",
       " 'pod',\n",
       " 'quer',\n",
       " 'renov',\n",
       " 'renovacion',\n",
       " 'dec',\n",
       " 'dar',\n",
       " 'telcel',\n",
       " 'equip',\n",
       " 'cotiz',\n",
       " 'des',\n",
       " 'hac',\n",
       " 'renovacion',\n",
       " 'anticip',\n",
       " 'de',\n",
       " 'mi',\n",
       " 'mism',\n",
       " 'plan',\n",
       " 'con',\n",
       " 'cambi',\n",
       " 'de',\n",
       " 'equip',\n",
       " 'y',\n",
       " 'ahor',\n",
       " 'uno',\n",
       " 'pod',\n",
       " 'quer',\n",
       " 'renov',\n",
       " 'renovacion',\n",
       " 'dec',\n",
       " 'dar',\n",
       " 'telcel',\n",
       " 'equip',\n",
       " 'cotiz',\n",
       " 'venc',\n",
       " 'el',\n",
       " 'proxim',\n",
       " 'mes',\n",
       " 'pod',\n",
       " 'quer',\n",
       " 'renov',\n",
       " 'renovacion',\n",
       " 'dec',\n",
       " 'dar',\n",
       " 'telcel',\n",
       " 'equip',\n",
       " 'ten',\n",
       " 'cotiz',\n",
       " 'apart',\n",
       " 'pod',\n",
       " 'quer',\n",
       " 'renov',\n",
       " 'renovacion',\n",
       " 'dec',\n",
       " 'dar',\n",
       " 'telcel',\n",
       " 'equip',\n",
       " 'ten',\n",
       " 'cotiz',\n",
       " 'apart']"
      ]
     },
     "execution_count": 344,
     "metadata": {},
     "output_type": "execute_result"
    }
   ],
   "source": [
    "sw"
   ]
  },
  {
   "cell_type": "code",
   "execution_count": 345,
   "id": "2f947bf7",
   "metadata": {},
   "outputs": [
    {
     "ename": "ValueError",
     "evalue": "list.remove(x): x not in list",
     "output_type": "error",
     "traceback": [
      "\u001b[1;31m---------------------------------------------------------------------------\u001b[0m",
      "\u001b[1;31mValueError\u001b[0m                                Traceback (most recent call last)",
      "\u001b[1;32m<ipython-input-345-5b54bca3a543>\u001b[0m in \u001b[0;36m<module>\u001b[1;34m\u001b[0m\n\u001b[1;32m----> 1\u001b[1;33m \u001b[0msw\u001b[0m\u001b[1;33m.\u001b[0m\u001b[0mremove\u001b[0m\u001b[1;33m(\u001b[0m\u001b[1;34m'tiemp'\u001b[0m\u001b[1;33m)\u001b[0m\u001b[1;33m\u001b[0m\u001b[1;33m\u001b[0m\u001b[0m\n\u001b[0m",
      "\u001b[1;31mValueError\u001b[0m: list.remove(x): x not in list"
     ]
    }
   ],
   "source": [
    "sw.remove('tiemp')"
   ]
  },
  {
   "cell_type": "code",
   "execution_count": 346,
   "id": "8a8e295a",
   "metadata": {},
   "outputs": [],
   "source": [
    "for i in 'des hac renovacion anticip de mi mism plan con cambi de equip y ahor'.split():\n",
    "    sw.append(i)"
   ]
  },
  {
   "cell_type": "code",
   "execution_count": 371,
   "id": "82f1d94e",
   "metadata": {},
   "outputs": [],
   "source": [
    "sw.remove('equip')"
   ]
  },
  {
   "cell_type": "code",
   "execution_count": 372,
   "id": "d72c0f98",
   "metadata": {},
   "outputs": [],
   "source": [
    "sw.remove('ten')"
   ]
  },
  {
   "cell_type": "code",
   "execution_count": 350,
   "id": "dc76a697",
   "metadata": {},
   "outputs": [],
   "source": [
    "for i in 'venc el proxim mes'.split():\n",
    "    sw.append(i)"
   ]
  },
  {
   "cell_type": "code",
   "execution_count": 351,
   "id": "ddeaf133",
   "metadata": {},
   "outputs": [
    {
     "ename": "ValueError",
     "evalue": "list.remove(x): x not in list",
     "output_type": "error",
     "traceback": [
      "\u001b[1;31m---------------------------------------------------------------------------\u001b[0m",
      "\u001b[1;31mValueError\u001b[0m                                Traceback (most recent call last)",
      "\u001b[1;32m<ipython-input-351-e3e5c8ff23c9>\u001b[0m in \u001b[0;36m<module>\u001b[1;34m\u001b[0m\n\u001b[1;32m----> 1\u001b[1;33m \u001b[0msw\u001b[0m\u001b[1;33m.\u001b[0m\u001b[0mremove\u001b[0m\u001b[1;33m(\u001b[0m\u001b[1;34m'estar'\u001b[0m\u001b[1;33m)\u001b[0m\u001b[1;33m\u001b[0m\u001b[1;33m\u001b[0m\u001b[0m\n\u001b[0m",
      "\u001b[1;31mValueError\u001b[0m: list.remove(x): x not in list"
     ]
    }
   ],
   "source": [
    "sw.remove('estar')"
   ]
  },
  {
   "cell_type": "code",
   "execution_count": 352,
   "id": "22be6336",
   "metadata": {},
   "outputs": [],
   "source": [
    "sw.append('uno')"
   ]
  },
  {
   "cell_type": "markdown",
   "id": "f65f7e9c",
   "metadata": {},
   "source": [
    "## TFIDF"
   ]
  },
  {
   "cell_type": "code",
   "execution_count": 202,
   "id": "77a65569",
   "metadata": {},
   "outputs": [],
   "source": [
    "#vect = TfidfVectorizer(min_df=70, ngram_range=(1,3))\n",
    "vect = TfidfVectorizer(min_df=100, ngram_range=(1,3), stop_words=list( sw))"
   ]
  },
  {
   "cell_type": "code",
   "execution_count": 203,
   "id": "e92ba0e7",
   "metadata": {},
   "outputs": [],
   "source": [
    "X=vect.fit_transform(df['text'])"
   ]
  },
  {
   "cell_type": "code",
   "execution_count": 204,
   "id": "29c9cd6b",
   "metadata": {},
   "outputs": [
    {
     "data": {
      "text/plain": [
       "(5360, 59)"
      ]
     },
     "execution_count": 204,
     "metadata": {},
     "output_type": "execute_result"
    }
   ],
   "source": [
    "X.shape"
   ]
  },
  {
   "cell_type": "markdown",
   "id": "50773219",
   "metadata": {},
   "source": [
    "vc = VarClusHi(df=pd.DataFrame(X.todense(),columns=vect.get_feature_names()),feat_list=vect.get_feature_names())\n",
    "vc.varclus()\n",
    "rs = vc.rsquare.sort_values(by=['Cluster','RS_Ratio'])\n",
    "best_cv = rs.groupby('Cluster').first()['Variable'].to_list()\n"
   ]
  },
  {
   "cell_type": "markdown",
   "id": "79cb36e1",
   "metadata": {},
   "source": [
    "len(best_cv)"
   ]
  },
  {
   "cell_type": "markdown",
   "id": "9823e06b",
   "metadata": {},
   "source": [
    "X=pd.DataFrame(X.todense(),columns=vect.get_feature_names())"
   ]
  },
  {
   "cell_type": "markdown",
   "id": "3ecabd7a",
   "metadata": {},
   "source": [
    "X[best_cv]"
   ]
  },
  {
   "cell_type": "markdown",
   "id": "2deb2be7",
   "metadata": {},
   "source": [
    "## Singular Value Descomposition"
   ]
  },
  {
   "cell_type": "code",
   "execution_count": 205,
   "id": "1f8d6a77",
   "metadata": {},
   "outputs": [
    {
     "data": {
      "text/plain": [
       "7"
      ]
     },
     "execution_count": 205,
     "metadata": {},
     "output_type": "execute_result"
    }
   ],
   "source": [
    "from sklearn.decomposition import TruncatedSVD\n",
    "\n",
    "# SVD represent documents and terms in vectors \n",
    "svd_model = TruncatedSVD(n_components=7, algorithm='randomized', n_iter=100, random_state=0)\n",
    "\n",
    "svd_model.fit(X)\n",
    "\n",
    "len(svd_model.components_)"
   ]
  },
  {
   "cell_type": "markdown",
   "id": "887322f8",
   "metadata": {},
   "source": [
    "## Tópicos"
   ]
  },
  {
   "cell_type": "code",
   "execution_count": 206,
   "id": "0acc7402",
   "metadata": {},
   "outputs": [
    {
     "name": "stdout",
     "output_type": "stream",
     "text": [
      "Topic 0: \n",
      "equip\n",
      " \n",
      "asesor\n",
      " \n",
      "pag\n",
      " \n",
      "sistem\n",
      " \n",
      "ofrec\n",
      " \n",
      "dispon\n",
      " \n",
      "compr\n",
      " \n",
      "Topic 1: \n",
      "sistem\n",
      " \n",
      "asesor\n",
      " \n",
      "informacion\n",
      " \n",
      "atencion\n",
      " \n",
      "servici\n",
      " \n",
      "pag\n",
      " \n",
      "tramit\n",
      " \n",
      "Topic 2: \n",
      "sistem\n",
      " \n",
      "equip\n",
      " \n",
      "problem\n",
      " \n",
      "financi\n",
      " \n",
      "esper\n",
      " \n",
      "enganch\n",
      " \n",
      "adquir equip\n",
      " \n",
      "Topic 3: \n",
      "asesor\n",
      " \n",
      "sistem\n",
      " \n",
      "equip\n",
      " \n",
      "existent\n",
      " \n",
      "inter\n",
      " \n",
      "groser\n",
      " \n",
      "sup\n",
      " \n",
      "Topic 4: \n",
      "informacion\n",
      " \n",
      "falt\n",
      " \n",
      "solicit\n",
      " \n",
      "existent\n",
      " \n",
      "equip\n",
      " \n",
      "atencion\n",
      " \n",
      "dispon\n",
      " \n",
      "Topic 5: \n",
      "atencion\n",
      " \n",
      "pesim\n",
      " \n",
      "client\n",
      " \n",
      "servici\n",
      " \n",
      "equip\n",
      " \n",
      "actitud\n",
      " \n",
      "groser\n",
      " \n",
      "Topic 6: \n",
      "ofrec\n",
      " \n",
      "opcion\n",
      " \n",
      "telefon\n",
      " \n",
      "informacion\n",
      " \n",
      "promocion\n",
      " \n",
      "sistem\n",
      " \n",
      "cost\n",
      " \n"
     ]
    }
   ],
   "source": [
    "terms = vect.get_feature_names()\n",
    "\n",
    "for i, comp in enumerate(svd_model.components_):\n",
    "    terms_comp = zip(terms, comp)\n",
    "    sorted_terms = sorted(terms_comp, key= lambda x:x[1], reverse=True)[:7]\n",
    "    print(\"Topic \"+str(i)+\": \")\n",
    "    for t in sorted_terms:\n",
    "        print(t[0])\n",
    "        print(\" \")"
   ]
  },
  {
   "cell_type": "markdown",
   "id": "4d07009d",
   "metadata": {},
   "source": [
    "## Tabla Texto-Tópico"
   ]
  },
  {
   "cell_type": "code",
   "execution_count": 207,
   "id": "c8f96e0b",
   "metadata": {},
   "outputs": [],
   "source": [
    "aux=pd.concat([pd.Series(np.argmax(svd_model.transform(X),axis=1)),pd.Series(np.sum(svd_model.transform(X),axis=1)),df['text'].reset_index(drop=True),df['no_sol'].reset_index(drop=True)],axis=1)"
   ]
  },
  {
   "cell_type": "code",
   "execution_count": 208,
   "id": "bc059ec7",
   "metadata": {},
   "outputs": [],
   "source": [
    "aux.columns=['Tema','aux','Texto','Texto1']"
   ]
  },
  {
   "cell_type": "code",
   "execution_count": 209,
   "id": "29f60d1a",
   "metadata": {},
   "outputs": [],
   "source": [
    "aux['Tema1']=pd.Series(map(lambda x,y: 7 if y==0 else x, aux['Tema'],aux['aux']))"
   ]
  },
  {
   "cell_type": "markdown",
   "id": "1ab01dc7",
   "metadata": {},
   "source": [
    "## Documentos por tópico"
   ]
  },
  {
   "cell_type": "code",
   "execution_count": 283,
   "id": "d2db000d",
   "metadata": {},
   "outputs": [
    {
     "data": {
      "text/plain": [
       "0    1872\n",
       "1    1599\n",
       "7     560\n",
       "6     412\n",
       "5     292\n",
       "4     283\n",
       "2     222\n",
       "3     120\n",
       "Name: Tema1, dtype: int64"
      ]
     },
     "execution_count": 283,
     "metadata": {},
     "output_type": "execute_result"
    }
   ],
   "source": [
    "aux['Tema1'].value_counts()"
   ]
  },
  {
   "cell_type": "markdown",
   "id": "229ddb1c",
   "metadata": {},
   "source": [
    "## Validación"
   ]
  },
  {
   "cell_type": "code",
   "execution_count": 301,
   "id": "745699c1",
   "metadata": {},
   "outputs": [
    {
     "data": {
      "text/plain": [
       "array(['No los conté exactamente pero más o menos serían 20 empleados y tres o cuatro clientes \\nDefinitivamente la atención es nefasta \\nY creo les falta preparación y amabilidad!!',\n",
       "       'Por que llevo varios días buscando un equipo de la marca samsum y en ni gun sentro de atención hay y ni fecha tienen de entrega ',\n",
       "       'Al momento de cambiar el titular elevaron el precio del plan sin ningún beneficio extra y la atención de la persona que atendía no se veía interesada en ayudarme a resolver el problema ',\n",
       "       'Pésimo servicio en general ! Cobros excesivos y la red es pésima ',\n",
       "       'Tuve que salir de la tienda por la pésima atención de la Gerente de la tienda grosera y prepotente le falto al respeto a mi familia son un asco de sucursal por culpa de personal ',\n",
       "       'Se supone que ya puedo renovar plan y el miércoles me dijeron en un centro de atención que no se podía conteste está encuesta y me llaman  el jueves de esta semana para decirme que sí puedo renovar y al acudir nuevamente a otro centro de atención me dicen que siempre no',\n",
       "       'No tienen el equipo, no hay nadie que apoye con un seguimiento, tengo que estar preguntando en todo centro de atención como loco. ',\n",
       "       'Mala atención ', 'La atención del ejecutivo fue nefasta',\n",
       "       'Pésima atención de la recepcionista y de la asesora.',\n",
       "       'Por que tienen una pésima atención al cliente ', 'Mal atencion',\n",
       "       'Pedí de favor no me acosaran vía telefónica para recontratar un plan, por eso fui al centro de atención Telcel, ya que unas personas molestan a diario con eso de la contratación, me indicaron que debería ir al centro de atención si no quería seguir escuchando el teléfono. Opte por ir. De pronto al salir del centro de atención suena el teléfono nuevamente, creo lo hacen con el propósito de molestar. De continuar ésto mañana me cambio de compañía. ',\n",
       "       'Explicación no clara el operador tenía dudas y no se me Atencion es asuntos técnicos soy adulto mayor con conocimientos técnicos limitados',\n",
       "       'No resolvió dudas además de una pésima atención al cliente.  \\n'],\n",
       "      dtype=object)"
      ]
     },
     "execution_count": 301,
     "metadata": {},
     "output_type": "execute_result"
    }
   ],
   "source": [
    "aux[aux['Tema1']==5]['Texto1'].sample(15).values"
   ]
  },
  {
   "cell_type": "code",
   "execution_count": 285,
   "id": "cd93ca63",
   "metadata": {},
   "outputs": [
    {
     "data": {
      "text/html": [
       "<div>\n",
       "<style scoped>\n",
       "    .dataframe tbody tr th:only-of-type {\n",
       "        vertical-align: middle;\n",
       "    }\n",
       "\n",
       "    .dataframe tbody tr th {\n",
       "        vertical-align: top;\n",
       "    }\n",
       "\n",
       "    .dataframe thead th {\n",
       "        text-align: right;\n",
       "    }\n",
       "</style>\n",
       "<table border=\"1\" class=\"dataframe\">\n",
       "  <thead>\n",
       "    <tr style=\"text-align: right;\">\n",
       "      <th></th>\n",
       "      <th>Tema</th>\n",
       "      <th>aux</th>\n",
       "      <th>Texto</th>\n",
       "      <th>Texto1</th>\n",
       "      <th>Tema1</th>\n",
       "    </tr>\n",
       "  </thead>\n",
       "  <tbody>\n",
       "    <tr>\n",
       "      <th>0</th>\n",
       "      <td>0</td>\n",
       "      <td>0.505889</td>\n",
       "      <td>no teni el equip en existent</td>\n",
       "      <td>No tenían el equipo en existencia</td>\n",
       "      <td>0</td>\n",
       "    </tr>\n",
       "    <tr>\n",
       "      <th>1</th>\n",
       "      <td>0</td>\n",
       "      <td>0.441241</td>\n",
       "      <td>quier renov mi plan per requier el equip xiaom...</td>\n",
       "      <td>Quiero renovar mi plan, pero Requiero el equip...</td>\n",
       "      <td>0</td>\n",
       "    </tr>\n",
       "    <tr>\n",
       "      <th>2</th>\n",
       "      <td>2</td>\n",
       "      <td>1.683986</td>\n",
       "      <td>por que al parec el sistem no le permiti actua...</td>\n",
       "      <td>Por qué al parecer el sistema no le permitía a...</td>\n",
       "      <td>2</td>\n",
       "    </tr>\n",
       "    <tr>\n",
       "      <th>3</th>\n",
       "      <td>1</td>\n",
       "      <td>0.544591</td>\n",
       "      <td>atencion del asesor nunc estuv dispuest a acla...</td>\n",
       "      <td>Atencion del asesor, nunca estuvo dispuesto a ...</td>\n",
       "      <td>1</td>\n",
       "    </tr>\n",
       "    <tr>\n",
       "      <th>4</th>\n",
       "      <td>0</td>\n",
       "      <td>0.271735</td>\n",
       "      <td>falt de clarid y de equip</td>\n",
       "      <td>Falta de claridad y de equipos\\n</td>\n",
       "      <td>0</td>\n",
       "    </tr>\n",
       "    <tr>\n",
       "      <th>...</th>\n",
       "      <td>...</td>\n",
       "      <td>...</td>\n",
       "      <td>...</td>\n",
       "      <td>...</td>\n",
       "      <td>...</td>\n",
       "    </tr>\n",
       "    <tr>\n",
       "      <th>5355</th>\n",
       "      <td>0</td>\n",
       "      <td>0.258562</td>\n",
       "      <td>sol me coment que ya no podri adquir un equip ...</td>\n",
       "      <td>Solo me comentaron que ya no podría adquirir u...</td>\n",
       "      <td>0</td>\n",
       "    </tr>\n",
       "    <tr>\n",
       "      <th>5356</th>\n",
       "      <td>1</td>\n",
       "      <td>0.009696</td>\n",
       "      <td>fui hac la cancelacion de mi plan por que otra...</td>\n",
       "      <td>Fui hacer la cancelación de mi plan por que ot...</td>\n",
       "      <td>1</td>\n",
       "    </tr>\n",
       "    <tr>\n",
       "      <th>5357</th>\n",
       "      <td>5</td>\n",
       "      <td>0.407636</td>\n",
       "      <td>no hub senal de internet y no recibi atencion ...</td>\n",
       "      <td>No hubo señal de internet y no recibí atención...</td>\n",
       "      <td>5</td>\n",
       "    </tr>\n",
       "    <tr>\n",
       "      <th>5358</th>\n",
       "      <td>3</td>\n",
       "      <td>0.361208</td>\n",
       "      <td>el telcel up es un engan rob el diner y no cum...</td>\n",
       "      <td>El Telcel up es un engaño, roban el dinero y n...</td>\n",
       "      <td>3</td>\n",
       "    </tr>\n",
       "    <tr>\n",
       "      <th>5359</th>\n",
       "      <td>0</td>\n",
       "      <td>0.554444</td>\n",
       "      <td>no estab dispon el equip</td>\n",
       "      <td>No estaba disponible el equipo</td>\n",
       "      <td>0</td>\n",
       "    </tr>\n",
       "  </tbody>\n",
       "</table>\n",
       "<p>5360 rows × 5 columns</p>\n",
       "</div>"
      ],
      "text/plain": [
       "      Tema       aux                                              Texto  \\\n",
       "0        0  0.505889                       no teni el equip en existent   \n",
       "1        0  0.441241  quier renov mi plan per requier el equip xiaom...   \n",
       "2        2  1.683986  por que al parec el sistem no le permiti actua...   \n",
       "3        1  0.544591  atencion del asesor nunc estuv dispuest a acla...   \n",
       "4        0  0.271735                          falt de clarid y de equip   \n",
       "...    ...       ...                                                ...   \n",
       "5355     0  0.258562  sol me coment que ya no podri adquir un equip ...   \n",
       "5356     1  0.009696  fui hac la cancelacion de mi plan por que otra...   \n",
       "5357     5  0.407636  no hub senal de internet y no recibi atencion ...   \n",
       "5358     3  0.361208  el telcel up es un engan rob el diner y no cum...   \n",
       "5359     0  0.554444                           no estab dispon el equip   \n",
       "\n",
       "                                                 Texto1  Tema1  \n",
       "0                    No tenían el equipo en existencia       0  \n",
       "1     Quiero renovar mi plan, pero Requiero el equip...      0  \n",
       "2     Por qué al parecer el sistema no le permitía a...      2  \n",
       "3     Atencion del asesor, nunca estuvo dispuesto a ...      1  \n",
       "4                      Falta de claridad y de equipos\\n      0  \n",
       "...                                                 ...    ...  \n",
       "5355  Solo me comentaron que ya no podría adquirir u...      0  \n",
       "5356  Fui hacer la cancelación de mi plan por que ot...      1  \n",
       "5357  No hubo señal de internet y no recibí atención...      5  \n",
       "5358  El Telcel up es un engaño, roban el dinero y n...      3  \n",
       "5359                     No estaba disponible el equipo      0  \n",
       "\n",
       "[5360 rows x 5 columns]"
      ]
     },
     "execution_count": 285,
     "metadata": {},
     "output_type": "execute_result"
    }
   ],
   "source": [
    "aux"
   ]
  },
  {
   "cell_type": "code",
   "execution_count": 294,
   "id": "5ff7eb78",
   "metadata": {},
   "outputs": [],
   "source": [
    "df=df.reset_index(drop=True)"
   ]
  },
  {
   "cell_type": "code",
   "execution_count": 295,
   "id": "ef1b744a",
   "metadata": {},
   "outputs": [],
   "source": [
    "df['Tema']=aux['Tema1']"
   ]
  },
  {
   "cell_type": "code",
   "execution_count": null,
   "id": "902385e5",
   "metadata": {},
   "outputs": [],
   "source": []
  },
  {
   "cell_type": "code",
   "execution_count": 303,
   "id": "a602e3e1",
   "metadata": {},
   "outputs": [],
   "source": [
    "df['Tema']=df['Tema'].replace({0:'Falta de Equipo/Equipo Forzoso',1:'Asesor Mal Informado/Burocracia',2:'Fallas en el Sistema',3:'Actitud',4:'Malos Entendidos',5:'Mala Atención/Mal Servicio',6:'No Hubo Oferta de Alternativas',7:'No Clasificado'})"
   ]
  },
  {
   "cell_type": "code",
   "execution_count": 304,
   "id": "fa3f7ee8",
   "metadata": {},
   "outputs": [],
   "source": [
    "df.index=pd.read_pickle('No_solucion.pkl').index"
   ]
  },
  {
   "cell_type": "code",
   "execution_count": 306,
   "id": "44f164b8",
   "metadata": {},
   "outputs": [],
   "source": [
    "df.to_pickle('Temas_No_sol.pkl')"
   ]
  },
  {
   "cell_type": "code",
   "execution_count": 214,
   "id": "c0f4d97c",
   "metadata": {},
   "outputs": [
    {
     "data": {
      "text/plain": [
       "'Comentaron que por las nuevas políticas de la empresa aún no puedo renovar mi plan aunque quiera dar el monto de penalización para renovarlo cuando yo quiera'"
      ]
     },
     "execution_count": 214,
     "metadata": {},
     "output_type": "execute_result"
    }
   ],
   "source": [
    "aux['Texto1'].loc[3252]"
   ]
  },
  {
   "cell_type": "code",
   "execution_count": 147,
   "id": "b472c496",
   "metadata": {
    "scrolled": true
   },
   "outputs": [
    {
     "data": {
      "text/plain": [
       "'no hay promocion cad ves mas car'"
      ]
     },
     "execution_count": 147,
     "metadata": {},
     "output_type": "execute_result"
    }
   ],
   "source": [
    "aux['Texto'].loc[2225]"
   ]
  },
  {
   "cell_type": "code",
   "execution_count": 273,
   "id": "e66b58f6",
   "metadata": {},
   "outputs": [
    {
     "data": {
      "text/html": [
       "<div>\n",
       "<style scoped>\n",
       "    .dataframe tbody tr th:only-of-type {\n",
       "        vertical-align: middle;\n",
       "    }\n",
       "\n",
       "    .dataframe tbody tr th {\n",
       "        vertical-align: top;\n",
       "    }\n",
       "\n",
       "    .dataframe thead th {\n",
       "        text-align: right;\n",
       "    }\n",
       "</style>\n",
       "<table border=\"1\" class=\"dataframe\">\n",
       "  <thead>\n",
       "    <tr style=\"text-align: right;\">\n",
       "      <th></th>\n",
       "      <th>Tema</th>\n",
       "      <th>aux</th>\n",
       "      <th>Texto</th>\n",
       "      <th>Texto1</th>\n",
       "      <th>Tema1</th>\n",
       "    </tr>\n",
       "  </thead>\n",
       "  <tbody>\n",
       "    <tr>\n",
       "      <th>2680</th>\n",
       "      <td>0</td>\n",
       "      <td>-0.143969</td>\n",
       "      <td>yo quer cobr uno cuot por renov mi plan antici...</td>\n",
       "      <td>Me querían cobrar una cuota por renovar mi pla...</td>\n",
       "      <td>0</td>\n",
       "    </tr>\n",
       "  </tbody>\n",
       "</table>\n",
       "</div>"
      ],
      "text/plain": [
       "      Tema       aux                                              Texto  \\\n",
       "2680     0 -0.143969  yo quer cobr uno cuot por renov mi plan antici...   \n",
       "\n",
       "                                                 Texto1  Tema1  \n",
       "2680  Me querían cobrar una cuota por renovar mi pla...      0  "
      ]
     },
     "execution_count": 273,
     "metadata": {},
     "output_type": "execute_result"
    }
   ],
   "source": [
    "aux[aux['Texto1']=='Me querían cobrar una cuota por renovar mi plan anticipadamente ya qué vence el próximo mes ']"
   ]
  },
  {
   "cell_type": "code",
   "execution_count": null,
   "id": "c16a417c",
   "metadata": {},
   "outputs": [],
   "source": [
    "X=X[best_cv]"
   ]
  },
  {
   "cell_type": "code",
   "execution_count": null,
   "id": "bcdcc426",
   "metadata": {},
   "outputs": [],
   "source": [
    "from sklearn.mixture import GaussianMixture\n",
    "from sklearn.metrics import silhouette_score"
   ]
  },
  {
   "cell_type": "code",
   "execution_count": null,
   "id": "09c64f16",
   "metadata": {},
   "outputs": [],
   "source": [
    "l = []\n",
    "for k in range(2,10):\n",
    "    cl = GaussianMixture(n_components=k)\n",
    "    cl.fit(X)\n",
    "    l.append((k,silhouette_score(X,cl.predict(X))))\n",
    "sil = pd.DataFrame(l,columns=['k','sil']).set_index('k')\n",
    "sil.iplot(mode='lines+markers')"
   ]
  },
  {
   "cell_type": "code",
   "execution_count": null,
   "id": "3d879f66",
   "metadata": {},
   "outputs": [],
   "source": [
    "k = 5"
   ]
  },
  {
   "cell_type": "code",
   "execution_count": null,
   "id": "a560e963",
   "metadata": {},
   "outputs": [],
   "source": [
    "cl = GaussianMixture(n_components=k)\n",
    "cl.fit(X)"
   ]
  },
  {
   "cell_type": "code",
   "execution_count": null,
   "id": "21be59ae",
   "metadata": {},
   "outputs": [],
   "source": [
    "aux['cl_cv'] = cl.predict(X)"
   ]
  },
  {
   "cell_type": "code",
   "execution_count": null,
   "id": "f532c481",
   "metadata": {},
   "outputs": [],
   "source": [
    "aux[\"cl_cv\"].value_counts(True).reset_index().iplot(kind=\"pie\", labels='index',values='cl_cv',hole=.7, title='Clientes por Cluster')"
   ]
  },
  {
   "cell_type": "code",
   "execution_count": null,
   "id": "b6b30ba3",
   "metadata": {},
   "outputs": [],
   "source": [
    "aux[aux['cl_cv']==1]['Tema1'].value_counts()"
   ]
  },
  {
   "cell_type": "code",
   "execution_count": null,
   "id": "dc0bc298",
   "metadata": {},
   "outputs": [],
   "source": [
    "aux[aux['cl_cv']==0]['Tema1'].value_counts()"
   ]
  },
  {
   "cell_type": "code",
   "execution_count": null,
   "id": "d051257b",
   "metadata": {},
   "outputs": [],
   "source": [
    "aux[aux['cl_cv']==3]['Tema1'].value_counts()"
   ]
  },
  {
   "cell_type": "code",
   "execution_count": null,
   "id": "771b1379",
   "metadata": {},
   "outputs": [],
   "source": [
    "aux[aux['cl_cv']==2]['Tema1'].value_counts()"
   ]
  },
  {
   "cell_type": "code",
   "execution_count": null,
   "id": "1a3bf797",
   "metadata": {},
   "outputs": [],
   "source": [
    "aux[aux['cl_cv']==4]['Tema1'].value_counts()"
   ]
  },
  {
   "cell_type": "code",
   "execution_count": null,
   "id": "e6b961ed",
   "metadata": {},
   "outputs": [],
   "source": []
  }
 ],
 "metadata": {
  "kernelspec": {
   "display_name": "Python 3",
   "language": "python",
   "name": "python3"
  },
  "language_info": {
   "codemirror_mode": {
    "name": "ipython",
    "version": 3
   },
   "file_extension": ".py",
   "mimetype": "text/x-python",
   "name": "python",
   "nbconvert_exporter": "python",
   "pygments_lexer": "ipython3",
   "version": "3.8.8"
  }
 },
 "nbformat": 4,
 "nbformat_minor": 5
}
