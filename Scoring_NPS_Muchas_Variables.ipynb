{
 "cells": [
  {
   "cell_type": "markdown",
   "id": "saving-tiger",
   "metadata": {},
   "source": [
    "## Dependencias"
   ]
  },
  {
   "cell_type": "code",
   "execution_count": 1,
   "id": "victorian-diversity",
   "metadata": {
    "ExecuteTime": {
     "end_time": "2021-11-27T17:48:22.126760Z",
     "start_time": "2021-11-27T17:48:20.965380Z"
    }
   },
   "outputs": [
    {
     "data": {
      "text/html": [
       "        <script type=\"text/javascript\">\n",
       "        window.PlotlyConfig = {MathJaxConfig: 'local'};\n",
       "        if (window.MathJax) {MathJax.Hub.Config({SVG: {font: \"STIX-Web\"}});}\n",
       "        if (typeof require !== 'undefined') {\n",
       "        require.undef(\"plotly\");\n",
       "        requirejs.config({\n",
       "            paths: {\n",
       "                'plotly': ['https://cdn.plot.ly/plotly-2.2.0.min']\n",
       "            }\n",
       "        });\n",
       "        require(['plotly'], function(Plotly) {\n",
       "            window._Plotly = Plotly;\n",
       "        });\n",
       "        }\n",
       "        </script>\n",
       "        "
      ]
     },
     "metadata": {},
     "output_type": "display_data"
    }
   ],
   "source": [
    "import numpy as np\n",
    "import pandas as pd\n",
    "import os\n",
    "import json\n",
    "from sqlalchemy.engine import create_engine\n",
    "\n",
    "import matplotlib.pyplot as plt\n",
    "import seaborn as sns\n",
    "import cufflinks as cf\n",
    "from scikitplot.metrics import plot_roc\n",
    "\n",
    "from sklearn.impute import SimpleImputer\n",
    "from sklearn.preprocessing import MinMaxScaler\n",
    "from sklearn.feature_selection import VarianceThreshold\n",
    "from sklearn.preprocessing import KBinsDiscretizer\n",
    "from sklearn.model_selection import train_test_split\n",
    "from sklearn.linear_model import LogisticRegression\n",
    "from sklearn.metrics import roc_auc_score\n",
    "\n",
    "\n",
    "from scipy import stats\n",
    "from varclushi import VarClusHi\n",
    "\n",
    "from functools import reduce\n",
    "\n",
    "import pickle\n",
    "import asyncio\n",
    "import warnings\n",
    "\n",
    "warnings.filterwarnings('ignore')\n",
    "pd.set_option('display.max_columns',None)\n",
    "cf.go_offline()"
   ]
  },
  {
   "cell_type": "code",
   "execution_count": 2,
   "id": "immune-portuguese",
   "metadata": {
    "ExecuteTime": {
     "end_time": "2021-11-27T17:48:22.131002Z",
     "start_time": "2021-11-27T17:48:22.127898Z"
    }
   },
   "outputs": [],
   "source": [
    "def freq(df,var):\n",
    "    if type(var)!=list:\n",
    "        var = [var]\n",
    "    for v in var:\n",
    "        aux = df[v].value_counts().sort_index().to_frame().rename(columns={v:'FA'})\n",
    "        aux['FR'] = aux['FA']/aux['FA'].sum()\n",
    "        aux[['FAA','FRA']] = aux.apply(np.cumsum)\n",
    "        print(\"Tabla de frecuencias para la variable **\",v,\"**\",\"\\n\"*2)\n",
    "        print(aux,\"\\n\"*2)"
   ]
  },
  {
   "cell_type": "code",
   "execution_count": 3,
   "id": "aba0ef68-3652-42c0-9270-03ec6d072ae7",
   "metadata": {},
   "outputs": [],
   "source": [
    "dic=pd.read_excel('SIMAEC_NPS_Dic.xlsx')\n",
    "nov=pd.read_excel('SIMAEC_NPS_Nov.xlsx')\n",
    "oc= pd.read_excel('SIMAEC_NPS_Oct.xlsx')\n",
    "sep=pd.read_excel('SIMAEC_NPS_Sep.xlsx')\n",
    "ago=pd.read_excel('SIMAEC_NPS_Ago.xlsx')\n",
    "jul=pd.read_excel('SIMAEC_NPS_Jul.xlsx')\n",
    "jun=pd.read_excel('SIMAEC_NPS_Jun.xlsx')\n",
    "may=pd.read_excel('SIMAEC_NPS_May.xlsx')\n",
    "abr=pd.read_excel('SIMAEC_NPS_Abr.xlsx')\n",
    "mar=pd.read_excel('SIMAEC_NPS_Mar.xlsx')\n",
    "feb=pd.read_excel('SIMAEC_NPS_Feb.xlsx')\n",
    "ene=pd.read_excel('SIMAEC_NPS_Ene.xlsx')"
   ]
  },
  {
   "cell_type": "code",
   "execution_count": 17,
   "id": "147d7cd5-2be3-4b66-af4d-d19c86031710",
   "metadata": {},
   "outputs": [],
   "source": [
    "df=pd.concat([ene,feb,mar,abr,may,jun,jul,ago,sep,oc,nov,dic])"
   ]
  },
  {
   "cell_type": "code",
   "execution_count": 5,
   "id": "f143e2e5-2664-4438-996b-7b8ae0a50043",
   "metadata": {},
   "outputs": [
    {
     "data": {
      "text/plain": [
       "(426630, 11)"
      ]
     },
     "execution_count": 5,
     "metadata": {},
     "output_type": "execute_result"
    }
   ],
   "source": [
    "df.shape"
   ]
  },
  {
   "cell_type": "code",
   "execution_count": 6,
   "id": "2c1bf082-ab1a-46eb-9780-028158064bc8",
   "metadata": {},
   "outputs": [
    {
     "name": "stdout",
     "output_type": "stream",
     "text": [
      "Encuesta CAC F_22 diciembre 2021_12.49.csv\n",
      "Encuesta CAC F_23 diciembre 2021_17.34.csv\n",
      "Encuesta CAC F_24 diciembre 2021_12.52.csv\n",
      "Encuesta CAC F_24 diciembre 2021_13.00.csv\n"
     ]
    }
   ],
   "source": [
    "a=[]\n",
    "for file in os.listdir(r'C:\\Users\\VDMG015\\Documents\\Esteban\\Tramites\\Datos'):\n",
    "        cdmx = pd.read_csv('Datos/'+file, dtype='str', usecols=['StartDate','telefonoUsuario','Q6'])\n",
    "        cdmx = cdmx.iloc[2:].reset_index(drop=True)\n",
    "        cdmx['StartDate']=pd.to_datetime(cdmx['StartDate'], format='%Y-%m-%d')\n",
    "        cdmx['StartDate']=cdmx['StartDate'].dt.date\n",
    "        cdmx = cdmx.rename(columns={'telefonoUsuario':'linea','StartDate':'fecha','Q6':'Solucion'})\n",
    "        cdmx['fecha'] = cdmx['fecha'].astype(str)\n",
    "        cdmx['Solucion'] = cdmx['Solucion'].replace({'Sí, y estoy satisfecho con el resultado.':'Sí', 'Sí, pero no estoy satisfecho con el resultado.':'Sí','No, mi requerimiento/trámite no se resolvió.':'No' })\n",
    "        print(file)\n",
    "        a.append(cdmx)\n",
    "qx=pd.concat(a)"
   ]
  },
  {
   "cell_type": "code",
   "execution_count": 7,
   "id": "4384ef38-a6ac-49a3-a4ae-39143f786a0d",
   "metadata": {},
   "outputs": [
    {
     "data": {
      "text/plain": [
       "((875429, 3), (879918, 3))"
      ]
     },
     "execution_count": 7,
     "metadata": {},
     "output_type": "execute_result"
    }
   ],
   "source": [
    "qx.drop_duplicates().shape, qx.shape"
   ]
  },
  {
   "cell_type": "code",
   "execution_count": 8,
   "id": "9d1dc015-e198-4be7-bd47-8b8b678c2826",
   "metadata": {},
   "outputs": [],
   "source": [
    "qx=qx.drop_duplicates().reset_index(drop=True)"
   ]
  },
  {
   "cell_type": "code",
   "execution_count": 18,
   "id": "0b53b1e7-c8b8-4d27-806b-ce2c69d4dc32",
   "metadata": {},
   "outputs": [],
   "source": [
    "df['region']=df['region'].astype(str)"
   ]
  },
  {
   "cell_type": "code",
   "execution_count": 19,
   "id": "11ed9968-5d73-40d0-967a-87e62a6ee552",
   "metadata": {},
   "outputs": [],
   "source": [
    "df['tramites']=df['tramites'].astype(str)"
   ]
  },
  {
   "cell_type": "code",
   "execution_count": 20,
   "id": "6979d349-9081-4218-a132-7e645a68b570",
   "metadata": {},
   "outputs": [],
   "source": [
    "df['linea'] = df['linea'].astype(str)"
   ]
  },
  {
   "cell_type": "code",
   "execution_count": 21,
   "id": "a2bfd39d-119c-4718-969f-19048daea0e9",
   "metadata": {},
   "outputs": [],
   "source": [
    "df=df.merge(qx)"
   ]
  },
  {
   "cell_type": "code",
   "execution_count": 22,
   "id": "6eef836f-bd57-45fb-be95-529a8947655e",
   "metadata": {},
   "outputs": [],
   "source": [
    "df=df[df['NPS_Asesor'].isin(['Detractor','Promotor'])].reset_index(drop=True)\n",
    "df=df.dropna().reset_index(drop=True)"
   ]
  },
  {
   "cell_type": "code",
   "execution_count": 26,
   "id": "bc92252d-03b3-4c88-a517-11dc95a778dc",
   "metadata": {},
   "outputs": [],
   "source": [
    "df=df.rename(columns={'tiempo_espera':'c_tiempo_espera','tiempo_tramite':'c_tiempo_tramite','motivo':'d_motivo'})"
   ]
  },
  {
   "cell_type": "code",
   "execution_count": 27,
   "id": "19749578-c722-4a0b-8784-72f878677cf3",
   "metadata": {},
   "outputs": [],
   "source": [
    "df['target']=(df['NPS_Asesor']=='Detractor').astype(int)"
   ]
  },
  {
   "cell_type": "code",
   "execution_count": 23,
   "id": "ef27e851-8105-4e24-8c55-366af10f458d",
   "metadata": {},
   "outputs": [
    {
     "data": {
      "text/html": [
       "<div>\n",
       "<style scoped>\n",
       "    .dataframe tbody tr th:only-of-type {\n",
       "        vertical-align: middle;\n",
       "    }\n",
       "\n",
       "    .dataframe tbody tr th {\n",
       "        vertical-align: top;\n",
       "    }\n",
       "\n",
       "    .dataframe thead th {\n",
       "        text-align: right;\n",
       "    }\n",
       "</style>\n",
       "<table border=\"1\" class=\"dataframe\">\n",
       "  <thead>\n",
       "    <tr style=\"text-align: right;\">\n",
       "      <th></th>\n",
       "      <th>linea</th>\n",
       "      <th>fecha</th>\n",
       "      <th>tiempo_espera</th>\n",
       "      <th>tiempo_tramite</th>\n",
       "      <th>tramites</th>\n",
       "      <th>motivo</th>\n",
       "      <th>cac</th>\n",
       "      <th>region</th>\n",
       "      <th>Asesor</th>\n",
       "      <th>NPS_Asesor</th>\n",
       "      <th>NPS_CAC</th>\n",
       "      <th>Solucion</th>\n",
       "    </tr>\n",
       "  </thead>\n",
       "  <tbody>\n",
       "    <tr>\n",
       "      <th>0</th>\n",
       "      <td>2211011053</td>\n",
       "      <td>2021-01-07</td>\n",
       "      <td>19</td>\n",
       "      <td>352</td>\n",
       "      <td>1</td>\n",
       "      <td>A PORTABILIDAD</td>\n",
       "      <td>PUEBLA V</td>\n",
       "      <td>7</td>\n",
       "      <td>PAC3AD8</td>\n",
       "      <td>Promotor</td>\n",
       "      <td>Promotor</td>\n",
       "      <td>Sí</td>\n",
       "    </tr>\n",
       "    <tr>\n",
       "      <th>1</th>\n",
       "      <td>2211020306</td>\n",
       "      <td>2021-01-22</td>\n",
       "      <td>75</td>\n",
       "      <td>816</td>\n",
       "      <td>1</td>\n",
       "      <td>A INFORMES DE PORTABILIDAD</td>\n",
       "      <td>PUEBLA ZOCALO</td>\n",
       "      <td>7</td>\n",
       "      <td>PACD35A</td>\n",
       "      <td>Promotor</td>\n",
       "      <td>Promotor</td>\n",
       "      <td>Sí</td>\n",
       "    </tr>\n",
       "    <tr>\n",
       "      <th>2</th>\n",
       "      <td>2211030413</td>\n",
       "      <td>2021-01-26</td>\n",
       "      <td>64</td>\n",
       "      <td>476</td>\n",
       "      <td>1</td>\n",
       "      <td>A POR ACTUALIZACION VERSION</td>\n",
       "      <td>PUE II SAN ANGEL</td>\n",
       "      <td>7</td>\n",
       "      <td>PACF9E1</td>\n",
       "      <td>Promotor</td>\n",
       "      <td>Promotor</td>\n",
       "      <td>Sí</td>\n",
       "    </tr>\n",
       "    <tr>\n",
       "      <th>3</th>\n",
       "      <td>2211035205</td>\n",
       "      <td>2021-01-19</td>\n",
       "      <td>46</td>\n",
       "      <td>798</td>\n",
       "      <td>1</td>\n",
       "      <td>A INGRESO Y ENTREGA DE EQUIPO (REVISION / REPA...</td>\n",
       "      <td>SAN PEDRO</td>\n",
       "      <td>7</td>\n",
       "      <td>PACD835</td>\n",
       "      <td>Promotor</td>\n",
       "      <td>Promotor</td>\n",
       "      <td>Sí</td>\n",
       "    </tr>\n",
       "    <tr>\n",
       "      <th>4</th>\n",
       "      <td>2211056982</td>\n",
       "      <td>2021-01-19</td>\n",
       "      <td>24</td>\n",
       "      <td>530</td>\n",
       "      <td>1</td>\n",
       "      <td>A INFORMES DE PORTABILIDAD</td>\n",
       "      <td>GALERIAS TLAXCALA</td>\n",
       "      <td>7</td>\n",
       "      <td>PACFADD</td>\n",
       "      <td>Promotor</td>\n",
       "      <td>Promotor</td>\n",
       "      <td>Sí</td>\n",
       "    </tr>\n",
       "  </tbody>\n",
       "</table>\n",
       "</div>"
      ],
      "text/plain": [
       "        linea       fecha  tiempo_espera  tiempo_tramite tramites  \\\n",
       "0  2211011053  2021-01-07             19             352        1   \n",
       "1  2211020306  2021-01-22             75             816        1   \n",
       "2  2211030413  2021-01-26             64             476        1   \n",
       "3  2211035205  2021-01-19             46             798        1   \n",
       "4  2211056982  2021-01-19             24             530        1   \n",
       "\n",
       "                                              motivo                cac  \\\n",
       "0                                     A PORTABILIDAD           PUEBLA V   \n",
       "1                         A INFORMES DE PORTABILIDAD      PUEBLA ZOCALO   \n",
       "2                        A POR ACTUALIZACION VERSION   PUE II SAN ANGEL   \n",
       "3  A INGRESO Y ENTREGA DE EQUIPO (REVISION / REPA...          SAN PEDRO   \n",
       "4                         A INFORMES DE PORTABILIDAD  GALERIAS TLAXCALA   \n",
       "\n",
       "  region   Asesor NPS_Asesor   NPS_CAC Solucion  \n",
       "0      7  PAC3AD8   Promotor  Promotor       Sí  \n",
       "1      7  PACD35A   Promotor  Promotor       Sí  \n",
       "2      7  PACF9E1   Promotor  Promotor       Sí  \n",
       "3      7  PACD835   Promotor  Promotor       Sí  \n",
       "4      7  PACFADD   Promotor  Promotor       Sí  "
      ]
     },
     "execution_count": 23,
     "metadata": {},
     "output_type": "execute_result"
    }
   ],
   "source": [
    "df.head()"
   ]
  },
  {
   "cell_type": "code",
   "execution_count": 24,
   "id": "ca108cd7-bcc8-4e7d-b070-8651bdfc86af",
   "metadata": {},
   "outputs": [],
   "source": [
    "df=df[df['Solucion']=='Sí'].reset_index(drop=True)"
   ]
  },
  {
   "cell_type": "markdown",
   "id": "likely-sudan",
   "metadata": {},
   "source": [
    "## Variables"
   ]
  },
  {
   "cell_type": "code",
   "execution_count": 28,
   "id": "aging-stopping",
   "metadata": {
    "ExecuteTime": {
     "end_time": "2021-11-27T17:48:28.378793Z",
     "start_time": "2021-11-27T17:48:28.359837Z"
    }
   },
   "outputs": [
    {
     "data": {
      "text/plain": [
       "(2, 1)"
      ]
     },
     "execution_count": 28,
     "metadata": {},
     "output_type": "execute_result"
    }
   ],
   "source": [
    "um = ['linea','fecha']\n",
    "varc = [v for v in df.columns if v[:2]=='c_']\n",
    "vard = [v for v in df.columns if v[:2]=='d_']\n",
    "vart =['target']\n",
    "len(varc),len(vard)"
   ]
  },
  {
   "cell_type": "code",
   "execution_count": 29,
   "id": "ed9fb10f-2626-4919-83b4-5670bbeea2bb",
   "metadata": {},
   "outputs": [],
   "source": [
    "df=df.drop_duplicates(um).reset_index(drop=True)"
   ]
  },
  {
   "cell_type": "code",
   "execution_count": 30,
   "id": "4dff4109-69bc-4fd7-9de8-2d6e5893d70f",
   "metadata": {},
   "outputs": [
    {
     "name": "stdout",
     "output_type": "stream",
     "text": [
      "<class 'pandas.core.frame.DataFrame'>\n",
      "RangeIndex: 301143 entries, 0 to 301142\n",
      "Data columns (total 13 columns):\n",
      " #   Column            Non-Null Count   Dtype \n",
      "---  ------            --------------   ----- \n",
      " 0   linea             301143 non-null  object\n",
      " 1   fecha             301143 non-null  object\n",
      " 2   c_tiempo_espera   301143 non-null  int64 \n",
      " 3   c_tiempo_tramite  301143 non-null  int64 \n",
      " 4   tramites          301143 non-null  object\n",
      " 5   d_motivo          301143 non-null  object\n",
      " 6   cac               301143 non-null  object\n",
      " 7   region            301143 non-null  object\n",
      " 8   Asesor            301143 non-null  object\n",
      " 9   NPS_Asesor        301143 non-null  object\n",
      " 10  NPS_CAC           301143 non-null  object\n",
      " 11  Solucion          301143 non-null  object\n",
      " 12  target            301143 non-null  int32 \n",
      "dtypes: int32(1), int64(2), object(10)\n",
      "memory usage: 28.7+ MB\n"
     ]
    }
   ],
   "source": [
    "df.info()"
   ]
  },
  {
   "cell_type": "markdown",
   "id": "infrared-perspective",
   "metadata": {},
   "source": [
    "## Análisis Exploratorio"
   ]
  },
  {
   "cell_type": "markdown",
   "id": "upset-catholic",
   "metadata": {},
   "source": [
    "#### Varianza Nula"
   ]
  },
  {
   "cell_type": "code",
   "execution_count": 31,
   "id": "exceptional-maldives",
   "metadata": {
    "ExecuteTime": {
     "end_time": "2021-11-27T17:48:35.309862Z",
     "start_time": "2021-11-27T17:48:35.170888Z"
    }
   },
   "outputs": [
    {
     "data": {
      "text/plain": [
       "VarianceThreshold()"
      ]
     },
     "execution_count": 31,
     "metadata": {},
     "output_type": "execute_result"
    }
   ],
   "source": [
    "vt = VarianceThreshold()\n",
    "vt.fit(df[varc])"
   ]
  },
  {
   "cell_type": "code",
   "execution_count": 32,
   "id": "9b935d0a-910b-4754-a2c5-e016b533af71",
   "metadata": {},
   "outputs": [
    {
     "data": {
      "text/html": [
       "<div>\n",
       "<style scoped>\n",
       "    .dataframe tbody tr th:only-of-type {\n",
       "        vertical-align: middle;\n",
       "    }\n",
       "\n",
       "    .dataframe tbody tr th {\n",
       "        vertical-align: top;\n",
       "    }\n",
       "\n",
       "    .dataframe thead th {\n",
       "        text-align: right;\n",
       "    }\n",
       "</style>\n",
       "<table border=\"1\" class=\"dataframe\">\n",
       "  <thead>\n",
       "    <tr style=\"text-align: right;\">\n",
       "      <th></th>\n",
       "      <th>c_tiempo_espera</th>\n",
       "      <th>c_tiempo_tramite</th>\n",
       "    </tr>\n",
       "  </thead>\n",
       "  <tbody>\n",
       "    <tr>\n",
       "      <th>0</th>\n",
       "      <td>19</td>\n",
       "      <td>352</td>\n",
       "    </tr>\n",
       "    <tr>\n",
       "      <th>1</th>\n",
       "      <td>75</td>\n",
       "      <td>816</td>\n",
       "    </tr>\n",
       "    <tr>\n",
       "      <th>2</th>\n",
       "      <td>64</td>\n",
       "      <td>476</td>\n",
       "    </tr>\n",
       "    <tr>\n",
       "      <th>3</th>\n",
       "      <td>46</td>\n",
       "      <td>798</td>\n",
       "    </tr>\n",
       "    <tr>\n",
       "      <th>4</th>\n",
       "      <td>24</td>\n",
       "      <td>530</td>\n",
       "    </tr>\n",
       "    <tr>\n",
       "      <th>...</th>\n",
       "      <td>...</td>\n",
       "      <td>...</td>\n",
       "    </tr>\n",
       "    <tr>\n",
       "      <th>301138</th>\n",
       "      <td>30</td>\n",
       "      <td>345</td>\n",
       "    </tr>\n",
       "    <tr>\n",
       "      <th>301139</th>\n",
       "      <td>25</td>\n",
       "      <td>1477</td>\n",
       "    </tr>\n",
       "    <tr>\n",
       "      <th>301140</th>\n",
       "      <td>303</td>\n",
       "      <td>3311</td>\n",
       "    </tr>\n",
       "    <tr>\n",
       "      <th>301141</th>\n",
       "      <td>28</td>\n",
       "      <td>62</td>\n",
       "    </tr>\n",
       "    <tr>\n",
       "      <th>301142</th>\n",
       "      <td>469</td>\n",
       "      <td>755</td>\n",
       "    </tr>\n",
       "  </tbody>\n",
       "</table>\n",
       "<p>301143 rows × 2 columns</p>\n",
       "</div>"
      ],
      "text/plain": [
       "        c_tiempo_espera  c_tiempo_tramite\n",
       "0                    19               352\n",
       "1                    75               816\n",
       "2                    64               476\n",
       "3                    46               798\n",
       "4                    24               530\n",
       "...                 ...               ...\n",
       "301138               30               345\n",
       "301139               25              1477\n",
       "301140              303              3311\n",
       "301141               28                62\n",
       "301142              469               755\n",
       "\n",
       "[301143 rows x 2 columns]"
      ]
     },
     "execution_count": 32,
     "metadata": {},
     "output_type": "execute_result"
    }
   ],
   "source": [
    "df[varc]"
   ]
  },
  {
   "cell_type": "code",
   "execution_count": 33,
   "id": "b3cb705a-1589-4a76-af97-c17c33c0eb5a",
   "metadata": {},
   "outputs": [
    {
     "data": {
      "text/plain": [
       "array([[  19,  352],\n",
       "       [  75,  816],\n",
       "       [  64,  476],\n",
       "       ...,\n",
       "       [ 303, 3311],\n",
       "       [  28,   62],\n",
       "       [ 469,  755]], dtype=int64)"
      ]
     },
     "execution_count": 33,
     "metadata": {},
     "output_type": "execute_result"
    }
   ],
   "source": [
    "vt.transform(df[varc])"
   ]
  },
  {
   "cell_type": "code",
   "execution_count": 34,
   "id": "julian-nickel",
   "metadata": {
    "ExecuteTime": {
     "end_time": "2021-11-27T17:48:35.366270Z",
     "start_time": "2021-11-27T17:48:35.311219Z"
    }
   },
   "outputs": [
    {
     "data": {
      "text/plain": [
       "2"
      ]
     },
     "execution_count": 34,
     "metadata": {},
     "output_type": "execute_result"
    }
   ],
   "source": [
    "varc = [v for v,f in zip(varc,vt.get_support()) if f]\n",
    "len(varc)"
   ]
  },
  {
   "cell_type": "code",
   "execution_count": 35,
   "id": "convinced-franklin",
   "metadata": {
    "ExecuteTime": {
     "end_time": "2021-11-27T17:48:42.923035Z",
     "start_time": "2021-11-27T17:48:42.776263Z"
    }
   },
   "outputs": [
    {
     "data": {
      "text/plain": [
       "['c_tiempo_espera', 'c_tiempo_tramite']"
      ]
     },
     "execution_count": 35,
     "metadata": {},
     "output_type": "execute_result"
    }
   ],
   "source": [
    "varc"
   ]
  },
  {
   "cell_type": "code",
   "execution_count": 59,
   "id": "52e271a2-d71f-4602-b243-7b6ff746604f",
   "metadata": {},
   "outputs": [
    {
     "data": {
      "text/plain": [
       "[30, 60, 120, 240, 480]"
      ]
     },
     "execution_count": 59,
     "metadata": {},
     "output_type": "execute_result"
    }
   ],
   "source": [
    "labels=['(0 - 30seg]', '(30seg - 1min]', '(1min - 2min]', '(2min - 4min]', '(4min - 8min]', '(8min - 15min]', '+15']"
   ]
  },
  {
   "cell_type": "markdown",
   "id": "alpha-civilian",
   "metadata": {},
   "source": [
    "#### Discretización"
   ]
  },
  {
   "cell_type": "code",
   "execution_count": 74,
   "id": "e0b00104-6eab-4103-a9ae-32d1b5aa11cb",
   "metadata": {},
   "outputs": [],
   "source": [
    "df['d_c_tiempo_espera']=pd.cut(df['c_tiempo_espera'],bins=[0]+[(30*2**x) for x in range(5)]+[900, np.inf],right=True, labels=['(0 - 30seg]', '(30seg - 1min]', '(1min - 2min]', '(2min - 4min]', '(4min - 8min]', '(8min - 15min]', '+15']).astype(str)\n",
    "df['d_c_tiempo_tramite']=pd.cut(df['c_tiempo_tramite'],bins=[x*60 for x in range(0,70,10)] + [np.inf],right=True, labels=['(0 - 10min]', '(10min - 20min]', '(20min - 30min]', '(30min - 40min]', '(40min - 50min]', '(50min - 60min]', '+1hr']).astype(str)"
   ]
  },
  {
   "cell_type": "code",
   "execution_count": 125,
   "id": "suited-flood",
   "metadata": {
    "ExecuteTime": {
     "end_time": "2021-11-27T17:48:43.021102Z",
     "start_time": "2021-11-27T17:48:42.924361Z"
    },
    "jupyter": {
     "source_hidden": true
    },
    "tags": []
   },
   "outputs": [],
   "source": [
    "def discretizar(k,metodo,variable):\n",
    "    nm = df[um+[variable]].copy()\n",
    "\n",
    "    kb = KBinsDiscretizer(n_bins=k,encode='ordinal',strategy=metodo)\n",
    "    kb.fit(nm[[variable]])\n",
    "\n",
    "    nm['d'] = kb.transform(nm[[variable]])\n",
    "    mapa = dict(zip(range(k),['%02d. |%.1f---%.1f|'%(i+1,*s) for i,s in enumerate(list(zip(kb.bin_edges_[0],kb.bin_edges_[0][1:])))]))\n",
    "    nm['d'].replace(mapa,inplace=True)\n",
    "    nombre = f'd_{metodo[0]}_{k}_{variable}'\n",
    "    nm = nm[um+['d']].rename(columns={'d':nombre})\n",
    "    \n",
    "    return nm"
   ]
  },
  {
   "cell_type": "code",
   "execution_count": 126,
   "id": "e5bce7c9-7fcb-4cd3-bf1c-c76e3525f2b8",
   "metadata": {
    "jupyter": {
     "source_hidden": true
    },
    "tags": []
   },
   "outputs": [],
   "source": [
    "l=[]\n",
    "for i in [(k,m,v) for k in range(2,6) for m in ['quantile','uniform'] for v in varc]:\n",
    "    a,b,c=i\n",
    "    l.append(discretizar(a,b,c).iloc[:,2])"
   ]
  },
  {
   "cell_type": "code",
   "execution_count": 127,
   "id": "174acd99-5462-4afc-99c5-7c6e67e56f77",
   "metadata": {
    "jupyter": {
     "source_hidden": true
    },
    "tags": []
   },
   "outputs": [],
   "source": [
    "dfd=pd.concat(l,axis=1)"
   ]
  },
  {
   "cell_type": "code",
   "execution_count": 128,
   "id": "6636af66-a718-4f06-8cf9-af104a4bdb1e",
   "metadata": {
    "jupyter": {
     "source_hidden": true
    },
    "tags": []
   },
   "outputs": [],
   "source": [
    "dfd[um]=df[um]"
   ]
  },
  {
   "cell_type": "code",
   "execution_count": 79,
   "id": "classified-beaver",
   "metadata": {
    "ExecuteTime": {
     "end_time": "2021-11-27T17:48:58.381118Z",
     "start_time": "2021-11-27T17:48:58.378162Z"
    }
   },
   "outputs": [],
   "source": [
    "varcd = ['d_c_tiempo_tramite','d_c_tiempo_espera']"
   ]
  },
  {
   "cell_type": "code",
   "execution_count": 80,
   "id": "740fe454-0dea-43e4-800c-7b26cf1555ec",
   "metadata": {},
   "outputs": [
    {
     "data": {
      "text/html": [
       "<div>\n",
       "<style scoped>\n",
       "    .dataframe tbody tr th:only-of-type {\n",
       "        vertical-align: middle;\n",
       "    }\n",
       "\n",
       "    .dataframe tbody tr th {\n",
       "        vertical-align: top;\n",
       "    }\n",
       "\n",
       "    .dataframe thead th {\n",
       "        text-align: right;\n",
       "    }\n",
       "</style>\n",
       "<table border=\"1\" class=\"dataframe\">\n",
       "  <thead>\n",
       "    <tr style=\"text-align: right;\">\n",
       "      <th></th>\n",
       "      <th>linea</th>\n",
       "      <th>fecha</th>\n",
       "      <th>c_tiempo_espera</th>\n",
       "      <th>c_tiempo_tramite</th>\n",
       "      <th>tramites</th>\n",
       "      <th>d_motivo</th>\n",
       "      <th>cac</th>\n",
       "      <th>region</th>\n",
       "      <th>Asesor</th>\n",
       "      <th>NPS_Asesor</th>\n",
       "      <th>NPS_CAC</th>\n",
       "      <th>Solucion</th>\n",
       "      <th>target</th>\n",
       "      <th>d_c_tiempo_espera</th>\n",
       "      <th>d_c_tiempo_tramite</th>\n",
       "    </tr>\n",
       "  </thead>\n",
       "  <tbody>\n",
       "    <tr>\n",
       "      <th>0</th>\n",
       "      <td>2211011053</td>\n",
       "      <td>2021-01-07</td>\n",
       "      <td>19</td>\n",
       "      <td>352</td>\n",
       "      <td>1</td>\n",
       "      <td>A PORTABILIDAD</td>\n",
       "      <td>PUEBLA V</td>\n",
       "      <td>7</td>\n",
       "      <td>PAC3AD8</td>\n",
       "      <td>Promotor</td>\n",
       "      <td>Promotor</td>\n",
       "      <td>Sí</td>\n",
       "      <td>0</td>\n",
       "      <td>(0 - 30seg]</td>\n",
       "      <td>(0 - 10min]</td>\n",
       "    </tr>\n",
       "    <tr>\n",
       "      <th>1</th>\n",
       "      <td>2211020306</td>\n",
       "      <td>2021-01-22</td>\n",
       "      <td>75</td>\n",
       "      <td>816</td>\n",
       "      <td>1</td>\n",
       "      <td>A INFORMES DE PORTABILIDAD</td>\n",
       "      <td>PUEBLA ZOCALO</td>\n",
       "      <td>7</td>\n",
       "      <td>PACD35A</td>\n",
       "      <td>Promotor</td>\n",
       "      <td>Promotor</td>\n",
       "      <td>Sí</td>\n",
       "      <td>0</td>\n",
       "      <td>(1min - 2min]</td>\n",
       "      <td>(10min - 20min]</td>\n",
       "    </tr>\n",
       "    <tr>\n",
       "      <th>2</th>\n",
       "      <td>2211030413</td>\n",
       "      <td>2021-01-26</td>\n",
       "      <td>64</td>\n",
       "      <td>476</td>\n",
       "      <td>1</td>\n",
       "      <td>A POR ACTUALIZACION VERSION</td>\n",
       "      <td>PUE II SAN ANGEL</td>\n",
       "      <td>7</td>\n",
       "      <td>PACF9E1</td>\n",
       "      <td>Promotor</td>\n",
       "      <td>Promotor</td>\n",
       "      <td>Sí</td>\n",
       "      <td>0</td>\n",
       "      <td>(1min - 2min]</td>\n",
       "      <td>(0 - 10min]</td>\n",
       "    </tr>\n",
       "    <tr>\n",
       "      <th>3</th>\n",
       "      <td>2211035205</td>\n",
       "      <td>2021-01-19</td>\n",
       "      <td>46</td>\n",
       "      <td>798</td>\n",
       "      <td>1</td>\n",
       "      <td>A INGRESO Y ENTREGA DE EQUIPO (REVISION / REPA...</td>\n",
       "      <td>SAN PEDRO</td>\n",
       "      <td>7</td>\n",
       "      <td>PACD835</td>\n",
       "      <td>Promotor</td>\n",
       "      <td>Promotor</td>\n",
       "      <td>Sí</td>\n",
       "      <td>0</td>\n",
       "      <td>(30seg - 1min]</td>\n",
       "      <td>(10min - 20min]</td>\n",
       "    </tr>\n",
       "    <tr>\n",
       "      <th>4</th>\n",
       "      <td>2211056982</td>\n",
       "      <td>2021-01-19</td>\n",
       "      <td>24</td>\n",
       "      <td>530</td>\n",
       "      <td>1</td>\n",
       "      <td>A INFORMES DE PORTABILIDAD</td>\n",
       "      <td>GALERIAS TLAXCALA</td>\n",
       "      <td>7</td>\n",
       "      <td>PACFADD</td>\n",
       "      <td>Promotor</td>\n",
       "      <td>Promotor</td>\n",
       "      <td>Sí</td>\n",
       "      <td>0</td>\n",
       "      <td>(0 - 30seg]</td>\n",
       "      <td>(0 - 10min]</td>\n",
       "    </tr>\n",
       "    <tr>\n",
       "      <th>...</th>\n",
       "      <td>...</td>\n",
       "      <td>...</td>\n",
       "      <td>...</td>\n",
       "      <td>...</td>\n",
       "      <td>...</td>\n",
       "      <td>...</td>\n",
       "      <td>...</td>\n",
       "      <td>...</td>\n",
       "      <td>...</td>\n",
       "      <td>...</td>\n",
       "      <td>...</td>\n",
       "      <td>...</td>\n",
       "      <td>...</td>\n",
       "      <td>...</td>\n",
       "      <td>...</td>\n",
       "    </tr>\n",
       "    <tr>\n",
       "      <th>301138</th>\n",
       "      <td>9999940590</td>\n",
       "      <td>2021-12-16</td>\n",
       "      <td>30</td>\n",
       "      <td>345</td>\n",
       "      <td>1</td>\n",
       "      <td>A INFORMES DE PORTABILIDAD</td>\n",
       "      <td>ITZAES</td>\n",
       "      <td>8</td>\n",
       "      <td>RAC3026</td>\n",
       "      <td>Promotor</td>\n",
       "      <td>Promotor</td>\n",
       "      <td>Sí</td>\n",
       "      <td>0</td>\n",
       "      <td>(0 - 30seg]</td>\n",
       "      <td>(0 - 10min]</td>\n",
       "    </tr>\n",
       "    <tr>\n",
       "      <th>301139</th>\n",
       "      <td>9999945098</td>\n",
       "      <td>2021-12-11</td>\n",
       "      <td>25</td>\n",
       "      <td>1477</td>\n",
       "      <td>1</td>\n",
       "      <td>A VENTA DE AMIGO KIT</td>\n",
       "      <td>TUXTLA III NORTE</td>\n",
       "      <td>8</td>\n",
       "      <td>RAC88DB</td>\n",
       "      <td>Promotor</td>\n",
       "      <td>Promotor</td>\n",
       "      <td>Sí</td>\n",
       "      <td>0</td>\n",
       "      <td>(0 - 30seg]</td>\n",
       "      <td>(20min - 30min]</td>\n",
       "    </tr>\n",
       "    <tr>\n",
       "      <th>301140</th>\n",
       "      <td>9999950074</td>\n",
       "      <td>2021-12-16</td>\n",
       "      <td>303</td>\n",
       "      <td>3311</td>\n",
       "      <td>1</td>\n",
       "      <td>T COTIZACION DE PUNTOS DE CIRCULO AZUL</td>\n",
       "      <td>ITZAES</td>\n",
       "      <td>8</td>\n",
       "      <td>RAC3360</td>\n",
       "      <td>Promotor</td>\n",
       "      <td>Promotor</td>\n",
       "      <td>Sí</td>\n",
       "      <td>0</td>\n",
       "      <td>(4min - 8min]</td>\n",
       "      <td>(50min - 60min]</td>\n",
       "    </tr>\n",
       "    <tr>\n",
       "      <th>301141</th>\n",
       "      <td>9999966195</td>\n",
       "      <td>2021-12-17</td>\n",
       "      <td>28</td>\n",
       "      <td>62</td>\n",
       "      <td>1</td>\n",
       "      <td>CAMBIO DE RESIDENCIA</td>\n",
       "      <td>GRAN PLAZA</td>\n",
       "      <td>8</td>\n",
       "      <td>RACCD4D</td>\n",
       "      <td>Promotor</td>\n",
       "      <td>Promotor</td>\n",
       "      <td>Sí</td>\n",
       "      <td>0</td>\n",
       "      <td>(0 - 30seg]</td>\n",
       "      <td>(0 - 10min]</td>\n",
       "    </tr>\n",
       "    <tr>\n",
       "      <th>301142</th>\n",
       "      <td>9999982800</td>\n",
       "      <td>2021-12-13</td>\n",
       "      <td>469</td>\n",
       "      <td>755</td>\n",
       "      <td>1</td>\n",
       "      <td>A PORTABILIDAD</td>\n",
       "      <td>MERIDA IV</td>\n",
       "      <td>8</td>\n",
       "      <td>RAC5ED3</td>\n",
       "      <td>Promotor</td>\n",
       "      <td>Pasivo</td>\n",
       "      <td>Sí</td>\n",
       "      <td>0</td>\n",
       "      <td>(4min - 8min]</td>\n",
       "      <td>(10min - 20min]</td>\n",
       "    </tr>\n",
       "  </tbody>\n",
       "</table>\n",
       "<p>301143 rows × 15 columns</p>\n",
       "</div>"
      ],
      "text/plain": [
       "             linea       fecha  c_tiempo_espera  c_tiempo_tramite tramites  \\\n",
       "0       2211011053  2021-01-07               19               352        1   \n",
       "1       2211020306  2021-01-22               75               816        1   \n",
       "2       2211030413  2021-01-26               64               476        1   \n",
       "3       2211035205  2021-01-19               46               798        1   \n",
       "4       2211056982  2021-01-19               24               530        1   \n",
       "...            ...         ...              ...               ...      ...   \n",
       "301138  9999940590  2021-12-16               30               345        1   \n",
       "301139  9999945098  2021-12-11               25              1477        1   \n",
       "301140  9999950074  2021-12-16              303              3311        1   \n",
       "301141  9999966195  2021-12-17               28                62        1   \n",
       "301142  9999982800  2021-12-13              469               755        1   \n",
       "\n",
       "                                                 d_motivo                cac  \\\n",
       "0                                          A PORTABILIDAD           PUEBLA V   \n",
       "1                              A INFORMES DE PORTABILIDAD      PUEBLA ZOCALO   \n",
       "2                             A POR ACTUALIZACION VERSION   PUE II SAN ANGEL   \n",
       "3       A INGRESO Y ENTREGA DE EQUIPO (REVISION / REPA...          SAN PEDRO   \n",
       "4                              A INFORMES DE PORTABILIDAD  GALERIAS TLAXCALA   \n",
       "...                                                   ...                ...   \n",
       "301138                         A INFORMES DE PORTABILIDAD             ITZAES   \n",
       "301139                               A VENTA DE AMIGO KIT   TUXTLA III NORTE   \n",
       "301140             T COTIZACION DE PUNTOS DE CIRCULO AZUL             ITZAES   \n",
       "301141                               CAMBIO DE RESIDENCIA         GRAN PLAZA   \n",
       "301142                                     A PORTABILIDAD          MERIDA IV   \n",
       "\n",
       "       region   Asesor NPS_Asesor   NPS_CAC Solucion  target  \\\n",
       "0           7  PAC3AD8   Promotor  Promotor       Sí       0   \n",
       "1           7  PACD35A   Promotor  Promotor       Sí       0   \n",
       "2           7  PACF9E1   Promotor  Promotor       Sí       0   \n",
       "3           7  PACD835   Promotor  Promotor       Sí       0   \n",
       "4           7  PACFADD   Promotor  Promotor       Sí       0   \n",
       "...       ...      ...        ...       ...      ...     ...   \n",
       "301138      8  RAC3026   Promotor  Promotor       Sí       0   \n",
       "301139      8  RAC88DB   Promotor  Promotor       Sí       0   \n",
       "301140      8  RAC3360   Promotor  Promotor       Sí       0   \n",
       "301141      8  RACCD4D   Promotor  Promotor       Sí       0   \n",
       "301142      8  RAC5ED3   Promotor    Pasivo       Sí       0   \n",
       "\n",
       "       d_c_tiempo_espera d_c_tiempo_tramite  \n",
       "0            (0 - 30seg]        (0 - 10min]  \n",
       "1          (1min - 2min]    (10min - 20min]  \n",
       "2          (1min - 2min]        (0 - 10min]  \n",
       "3         (30seg - 1min]    (10min - 20min]  \n",
       "4            (0 - 30seg]        (0 - 10min]  \n",
       "...                  ...                ...  \n",
       "301138       (0 - 30seg]        (0 - 10min]  \n",
       "301139       (0 - 30seg]    (20min - 30min]  \n",
       "301140     (4min - 8min]    (50min - 60min]  \n",
       "301141       (0 - 30seg]        (0 - 10min]  \n",
       "301142     (4min - 8min]    (10min - 20min]  \n",
       "\n",
       "[301143 rows x 15 columns]"
      ]
     },
     "execution_count": 80,
     "metadata": {},
     "output_type": "execute_result"
    }
   ],
   "source": [
    "df"
   ]
  },
  {
   "cell_type": "markdown",
   "id": "classical-trailer",
   "metadata": {},
   "source": [
    "### Discreto"
   ]
  },
  {
   "cell_type": "markdown",
   "id": "subtle-management",
   "metadata": {},
   "source": [
    "#### Normalización"
   ]
  },
  {
   "cell_type": "code",
   "execution_count": 99,
   "id": "focused-nightmare",
   "metadata": {
    "ExecuteTime": {
     "end_time": "2021-11-27T17:48:59.091385Z",
     "start_time": "2021-11-27T17:48:59.087940Z"
    }
   },
   "outputs": [],
   "source": [
    "def normalizar(df,v,umbral=10):\n",
    "    aux = df[v].value_counts(True).to_frame()\n",
    "    aux[f'norm_{v}'] = np.where(aux[v]<umbral,'PEQUEÑAS CATEGORÍAS',aux.index)\n",
    "    moda = aux.head(1)[f'norm_{v}'].values[0]\n",
    "    if aux.loc[aux[f'norm_{v}']=='PEQUEÑAS CATEGORÍAS'][v].sum()<umbral:\n",
    "        aux[f'norm_{v}'].replace({'PEQUEÑAS CATEGORÍAS':moda},inplace=True)\n",
    "    aux.drop(v,axis=1,inplace=True)\n",
    "    aux.reset_index(inplace=True)\n",
    "    return v,aux[aux['index']!=aux[f'norm_{v}']].set_index('index').to_dict()[f'norm_{v}']"
   ]
  },
  {
   "cell_type": "code",
   "execution_count": 100,
   "id": "5fc6357d-f373-468f-b2a0-3a4598abf313",
   "metadata": {},
   "outputs": [],
   "source": [
    "df['n_d_motivo']=df['d_motivo'].replace(normalizar(df,'d_motivo',0.005)[1])"
   ]
  },
  {
   "cell_type": "code",
   "execution_count": 134,
   "id": "5b68f4e7-f1b3-4245-8c38-a0a1abd435e4",
   "metadata": {},
   "outputs": [],
   "source": [
    "df['n_d_region']=df['d_region'].copy()\n",
    "df['n_d_tramites']=df['d_tramites'].copy()\n",
    "df['n_d_Solucion']=df['d_Solucion'].copy()"
   ]
  },
  {
   "cell_type": "code",
   "execution_count": 90,
   "id": "demonstrated-chemical",
   "metadata": {
    "ExecuteTime": {
     "end_time": "2021-11-27T17:48:59.648493Z",
     "start_time": "2021-11-27T17:48:59.646580Z"
    }
   },
   "outputs": [],
   "source": [
    "varn = [v for v in df.columns if v[:2]=='n_']"
   ]
  },
  {
   "cell_type": "code",
   "execution_count": 101,
   "id": "listed-congress",
   "metadata": {
    "ExecuteTime": {
     "end_time": "2021-11-27T17:48:59.854046Z",
     "start_time": "2021-11-27T17:48:59.649336Z"
    }
   },
   "outputs": [
    {
     "name": "stdout",
     "output_type": "stream",
     "text": [
      "Tabla de frecuencias para la variable ** n_d_motivo ** \n",
      "\n",
      "\n",
      "                                                       FA        FR     FAA  \\\n",
      "A CAMBIO DE EQUIPO PREPAGO                           1826  0.006064    1826   \n",
      "A CONFIGURACION / FUNCIONES DEL EQUIPO               3367  0.011181    5193   \n",
      "A INFORMES DE PORTABILIDAD                          19689  0.065381   24882   \n",
      "A INFORMES DE PRECIOS DE EQUIPOS                     2796  0.009285   27678   \n",
      "A INGRESO Y ENTREGA DE EQUIPO (REVISION / REPAR...  10846  0.036016   38524   \n",
      "A MONITOREO DE LINEA                                 1529  0.005077   40053   \n",
      "A POR ACTUALIZACION VERSION                         13775  0.045742   53828   \n",
      "A POR DA?O / GARANTIA                                2071  0.006877   55899   \n",
      "A POR ROBO Y/O EXTRAVIO                              9610  0.031912   65509   \n",
      "A POR SALDO DE VOZ                                   3350  0.011124   68859   \n",
      "A PORTABILIDAD                                       6330  0.021020   75189   \n",
      "A VENTA DE AMIGO CHIP (VOZ)                          2197  0.007296   77386   \n",
      "A VENTA DE AMIGO KIT                                 7132  0.023683   84518   \n",
      "ACLARACION DE SALDO                                  2361  0.007840   86879   \n",
      "C ACLARACION DE SALDOS POR DATOS A GRANEL            3357  0.011148   90236   \n",
      "PEQUEÑAS CATEGORÍAS                                 39304  0.130516  129540   \n",
      "RETENCION GSM                                        2325  0.007721  131865   \n",
      "T ACLARACION DE SALDOS POR DATOS A GRANEL            2969  0.009859  134834   \n",
      "T ALTA / BAJA DE SERVICIOS ADICIONALES               4999  0.016600  139833   \n",
      "T CAMBIO DE FORMA DE PAGO                            3964  0.013163  143797   \n",
      "T CAMBIO DE IMEI CON REACTIVACION                    2179  0.007236  145976   \n",
      "T CAMBIO DE PLAN                                     1670  0.005546  147646   \n",
      "T CAMBIO PLAN                                        1636  0.005433  149282   \n",
      "T CARGO POR FIANZA                                   1754  0.005824  151036   \n",
      "T CESION DE DERECHOS                                 1956  0.006495  152992   \n",
      "T CONFIGURACION / FUNCIONES DEL EQUIPO               3315  0.011008  156307   \n",
      "T CONTRATACION DE LINEA                              7188  0.023869  163495   \n",
      "T COTIZACION DE PUNTOS DE CIRCULO AZUL              29599  0.098289  193094   \n",
      "T DESEMPLEO / FALTA DE LIQUIDEZ                      3481  0.011559  196575   \n",
      "T INFORMES DE CONTRATACION Y PRECIOS DE EQUIPOS      6629  0.022013  203204   \n",
      "T INFORMES DE TARIFA DE VOZ Y DATOS                  3262  0.010832  206466   \n",
      "T INGRESO Y ENTREGA DE EQUIPO (REVISION / REPAR...   7518  0.024965  213984   \n",
      "T MIGRACION A PREPAGO                                1954  0.006489  215938   \n",
      "T MIGRACION PREPAGO A POSTPAGO                       2184  0.007252  218122   \n",
      "T MONITOREO DE LINEA                                 4239  0.014076  222361   \n",
      "T POR ACTUALIZACION DE VERSION                       3036  0.010082  225397   \n",
      "T POR CIRCULO AZUL                                   6438  0.021379  231835   \n",
      "T POR ROBO Y/O EXTRAVIO                              1827  0.006067  233662   \n",
      "T POR SALDO DE DATOS                                 6341  0.021056  240003   \n",
      "T POR SALDOS DE VOZ                                 24006  0.079716  264009   \n",
      "T PROPIO (SWITCHEO)                                  1835  0.006093  265844   \n",
      "T RENOVACION (CIRCULO AZUL)                         27637  0.091774  293481   \n",
      "T RETENCION                                          2497  0.008292  295978   \n",
      "T VALE INBURSA                                       2103  0.006983  298081   \n",
      "T VENTA DE EQUIPO PRECIO PUBLICO                     3062  0.010168  301143   \n",
      "\n",
      "                                                         FRA  \n",
      "A CAMBIO DE EQUIPO PREPAGO                          0.006064  \n",
      "A CONFIGURACION / FUNCIONES DEL EQUIPO              0.017244  \n",
      "A INFORMES DE PORTABILIDAD                          0.082625  \n",
      "A INFORMES DE PRECIOS DE EQUIPOS                    0.091910  \n",
      "A INGRESO Y ENTREGA DE EQUIPO (REVISION / REPAR...  0.127926  \n",
      "A MONITOREO DE LINEA                                0.133003  \n",
      "A POR ACTUALIZACION VERSION                         0.178746  \n",
      "A POR DA?O / GARANTIA                               0.185623  \n",
      "A POR ROBO Y/O EXTRAVIO                             0.217535  \n",
      "A POR SALDO DE VOZ                                  0.228659  \n",
      "A PORTABILIDAD                                      0.249679  \n",
      "A VENTA DE AMIGO CHIP (VOZ)                         0.256974  \n",
      "A VENTA DE AMIGO KIT                                0.280657  \n",
      "ACLARACION DE SALDO                                 0.288497  \n",
      "C ACLARACION DE SALDOS POR DATOS A GRANEL           0.299645  \n",
      "PEQUEÑAS CATEGORÍAS                                 0.430161  \n",
      "RETENCION GSM                                       0.437882  \n",
      "T ACLARACION DE SALDOS POR DATOS A GRANEL           0.447741  \n",
      "T ALTA / BAJA DE SERVICIOS ADICIONALES              0.464341  \n",
      "T CAMBIO DE FORMA DE PAGO                           0.477504  \n",
      "T CAMBIO DE IMEI CON REACTIVACION                   0.484740  \n",
      "T CAMBIO DE PLAN                                    0.490285  \n",
      "T CAMBIO PLAN                                       0.495718  \n",
      "T CARGO POR FIANZA                                  0.501542  \n",
      "T CESION DE DERECHOS                                0.508038  \n",
      "T CONFIGURACION / FUNCIONES DEL EQUIPO              0.519046  \n",
      "T CONTRATACION DE LINEA                             0.542915  \n",
      "T COTIZACION DE PUNTOS DE CIRCULO AZUL              0.641204  \n",
      "T DESEMPLEO / FALTA DE LIQUIDEZ                     0.652763  \n",
      "T INFORMES DE CONTRATACION Y PRECIOS DE EQUIPOS     0.674776  \n",
      "T INFORMES DE TARIFA DE VOZ Y DATOS                 0.685608  \n",
      "T INGRESO Y ENTREGA DE EQUIPO (REVISION / REPAR...  0.710573  \n",
      "T MIGRACION A PREPAGO                               0.717061  \n",
      "T MIGRACION PREPAGO A POSTPAGO                      0.724314  \n",
      "T MONITOREO DE LINEA                                0.738390  \n",
      "T POR ACTUALIZACION DE VERSION                      0.748472  \n",
      "T POR CIRCULO AZUL                                  0.769850  \n",
      "T POR ROBO Y/O EXTRAVIO                             0.775917  \n",
      "T POR SALDO DE DATOS                                0.796974  \n",
      "T POR SALDOS DE VOZ                                 0.876690  \n",
      "T PROPIO (SWITCHEO)                                 0.882783  \n",
      "T RENOVACION (CIRCULO AZUL)                         0.974557  \n",
      "T RETENCION                                         0.982849  \n",
      "T VALE INBURSA                                      0.989832  \n",
      "T VENTA DE EQUIPO PRECIO PUBLICO                    1.000000   \n",
      "\n",
      "\n"
     ]
    }
   ],
   "source": [
    "freq(df,varn)"
   ]
  },
  {
   "cell_type": "markdown",
   "id": "yellow-alias",
   "metadata": {},
   "source": [
    "### Unarias"
   ]
  },
  {
   "cell_type": "code",
   "execution_count": 92,
   "id": "acceptable-albuquerque",
   "metadata": {
    "ExecuteTime": {
     "end_time": "2021-11-27T17:49:01.038305Z",
     "start_time": "2021-11-27T17:48:59.855198Z"
    }
   },
   "outputs": [],
   "source": [
    "unarias = [v for v,n in map(lambda v:(v,df[v].nunique()),varn+varcd) if n ==1]\n",
    "df.drop(unarias,axis=1,inplace=True)\n",
    "varn = [v for v in varn if v not in unarias]\n",
    "varcd = [v for v in varcd if v not in unarias]"
   ]
  },
  {
   "cell_type": "code",
   "execution_count": 93,
   "id": "2052dff3-ba63-4990-aec0-7bb86aca9d1d",
   "metadata": {},
   "outputs": [
    {
     "data": {
      "text/plain": [
       "['d_c_tiempo_tramite', 'd_c_tiempo_espera']"
      ]
     },
     "execution_count": 93,
     "metadata": {},
     "output_type": "execute_result"
    }
   ],
   "source": [
    "varcd"
   ]
  },
  {
   "cell_type": "markdown",
   "id": "equipped-france",
   "metadata": {},
   "source": [
    "## Análisis bi-variado"
   ]
  },
  {
   "cell_type": "code",
   "execution_count": 102,
   "id": "jewish-progressive",
   "metadata": {
    "ExecuteTime": {
     "end_time": "2021-11-27T17:49:01.042254Z",
     "start_time": "2021-11-27T17:49:01.039334Z"
    }
   },
   "outputs": [],
   "source": [
    "def calcularIV(df,v,tgt):\n",
    "    aux = df[[v]+tgt].copy().assign(n=1)\n",
    "    aux = aux.pivot_table(index=v,columns=tgt,values='n',aggfunc='sum',fill_value=0)\n",
    "    aux/=aux.sum()\n",
    "    aux['w'] = np.log(aux[0]/aux[1])\n",
    "    aux['iv'] = (aux[0]-aux[1])*aux['w']\n",
    "    return v,aux['iv'].sum()"
   ]
  },
  {
   "cell_type": "code",
   "execution_count": 103,
   "id": "patent-eating",
   "metadata": {
    "ExecuteTime": {
     "end_time": "2021-11-27T17:49:03.504688Z",
     "start_time": "2021-11-27T17:49:01.043308Z"
    }
   },
   "outputs": [],
   "source": [
    "ivreport = pd.DataFrame(map(lambda v:calcularIV(df,v,vart),varn+varcd),columns=['var','iv'])"
   ]
  },
  {
   "cell_type": "code",
   "execution_count": 104,
   "id": "virtual-executive",
   "metadata": {
    "ExecuteTime": {
     "end_time": "2021-11-27T17:49:03.509522Z",
     "start_time": "2021-11-27T17:49:03.505655Z"
    }
   },
   "outputs": [],
   "source": [
    "ivreport = ivreport.loc[(ivreport['iv']>=0.01)&(~np.isinf(ivreport['iv']))].reset_index(drop=True)"
   ]
  },
  {
   "cell_type": "code",
   "execution_count": 105,
   "id": "unique-monster",
   "metadata": {
    "ExecuteTime": {
     "end_time": "2021-11-27T17:49:03.705624Z",
     "start_time": "2021-11-27T17:49:03.510931Z"
    }
   },
   "outputs": [],
   "source": [
    "ivreport['raíz'] = ivreport['var'].map(lambda x:x if x[:2]=='n_' else \"_\".join(x.split('_')[3:]))"
   ]
  },
  {
   "cell_type": "code",
   "execution_count": 106,
   "id": "262b169c-f6cd-4d4f-bfb4-01e22aab6a0c",
   "metadata": {},
   "outputs": [
    {
     "data": {
      "text/html": [
       "<div>\n",
       "<style scoped>\n",
       "    .dataframe tbody tr th:only-of-type {\n",
       "        vertical-align: middle;\n",
       "    }\n",
       "\n",
       "    .dataframe tbody tr th {\n",
       "        vertical-align: top;\n",
       "    }\n",
       "\n",
       "    .dataframe thead th {\n",
       "        text-align: right;\n",
       "    }\n",
       "</style>\n",
       "<table border=\"1\" class=\"dataframe\">\n",
       "  <thead>\n",
       "    <tr style=\"text-align: right;\">\n",
       "      <th></th>\n",
       "      <th>var</th>\n",
       "      <th>iv</th>\n",
       "      <th>raíz</th>\n",
       "    </tr>\n",
       "  </thead>\n",
       "  <tbody>\n",
       "    <tr>\n",
       "      <th>0</th>\n",
       "      <td>n_d_motivo</td>\n",
       "      <td>0.118158</td>\n",
       "      <td>n_d_motivo</td>\n",
       "    </tr>\n",
       "    <tr>\n",
       "      <th>1</th>\n",
       "      <td>d_c_tiempo_tramite</td>\n",
       "      <td>0.028572</td>\n",
       "      <td>tramite</td>\n",
       "    </tr>\n",
       "    <tr>\n",
       "      <th>2</th>\n",
       "      <td>d_c_tiempo_espera</td>\n",
       "      <td>0.029981</td>\n",
       "      <td>espera</td>\n",
       "    </tr>\n",
       "  </tbody>\n",
       "</table>\n",
       "</div>"
      ],
      "text/plain": [
       "                  var        iv        raíz\n",
       "0          n_d_motivo  0.118158  n_d_motivo\n",
       "1  d_c_tiempo_tramite  0.028572     tramite\n",
       "2   d_c_tiempo_espera  0.029981      espera"
      ]
     },
     "execution_count": 106,
     "metadata": {},
     "output_type": "execute_result"
    }
   ],
   "source": [
    "ivreport"
   ]
  },
  {
   "cell_type": "code",
   "execution_count": 107,
   "id": "moderate-korean",
   "metadata": {
    "ExecuteTime": {
     "end_time": "2021-11-27T17:49:03.908603Z",
     "start_time": "2021-11-27T17:49:03.706782Z"
    }
   },
   "outputs": [],
   "source": [
    "best = list(ivreport.sort_values(by=['raíz','iv'],ascending=[1,0]).groupby('raíz').first()['var'])"
   ]
  },
  {
   "cell_type": "code",
   "execution_count": 108,
   "id": "swiss-trash",
   "metadata": {
    "ExecuteTime": {
     "end_time": "2021-11-27T17:49:04.189688Z",
     "start_time": "2021-11-27T17:49:03.910752Z"
    }
   },
   "outputs": [
    {
     "data": {
      "text/plain": [
       "['d_c_tiempo_espera', 'n_d_motivo', 'd_c_tiempo_tramite']"
      ]
     },
     "execution_count": 108,
     "metadata": {},
     "output_type": "execute_result"
    }
   ],
   "source": [
    "best"
   ]
  },
  {
   "cell_type": "code",
   "execution_count": 133,
   "id": "1c7d26f8-c2e1-4d4a-ad12-d31a5927c73a",
   "metadata": {},
   "outputs": [],
   "source": [
    "df=df.dropna().reset_index(drop=True)"
   ]
  },
  {
   "cell_type": "code",
   "execution_count": 154,
   "id": "1fcc0123-7c47-4f76-8296-8c74bd1c1841",
   "metadata": {},
   "outputs": [
    {
     "data": {
      "text/plain": [
       "0    267644\n",
       "1     25818\n",
       "Name: target, dtype: int64"
      ]
     },
     "execution_count": 154,
     "metadata": {},
     "output_type": "execute_result"
    }
   ],
   "source": [
    "df[vart[0]].value_counts()"
   ]
  },
  {
   "cell_type": "code",
   "execution_count": 156,
   "id": "129aa05e-b035-4f6e-86c7-bdcd30348d7c",
   "metadata": {},
   "outputs": [],
   "source": [
    "promo=df[df[vart[0]]==0].sample(25818).reset_index(drop=True)"
   ]
  },
  {
   "cell_type": "code",
   "execution_count": 157,
   "id": "6831337b-fdb4-4877-a2bb-05f55d213028",
   "metadata": {},
   "outputs": [],
   "source": [
    "detra=df[df[vart[0]]==1]"
   ]
  },
  {
   "cell_type": "code",
   "execution_count": 158,
   "id": "c5c3aca0-9bb5-45b8-8b4d-f9b7ec28c352",
   "metadata": {},
   "outputs": [],
   "source": [
    "df1=pd.concat([promo,detra]).reset_index(drop=True)"
   ]
  },
  {
   "cell_type": "markdown",
   "id": "statewide-fleet",
   "metadata": {},
   "source": [
    "## Partición"
   ]
  },
  {
   "cell_type": "code",
   "execution_count": 160,
   "id": "social-registration",
   "metadata": {
    "ExecuteTime": {
     "end_time": "2021-11-27T17:49:04.832931Z",
     "start_time": "2021-11-27T17:49:04.399525Z"
    }
   },
   "outputs": [],
   "source": [
    "train,val = train_test_split(df1.reset_index(drop=True).copy()[um+best+vart],train_size=0.7)\n",
    "train.reset_index(drop=True,inplace=True)\n",
    "val.reset_index(drop=True,inplace=True)"
   ]
  },
  {
   "cell_type": "code",
   "execution_count": 161,
   "id": "balanced-hospital",
   "metadata": {
    "ExecuteTime": {
     "end_time": "2021-11-27T17:49:04.841279Z",
     "start_time": "2021-11-27T17:49:04.834027Z"
    }
   },
   "outputs": [
    {
     "data": {
      "text/html": [
       "<div>\n",
       "<style scoped>\n",
       "    .dataframe tbody tr th:only-of-type {\n",
       "        vertical-align: middle;\n",
       "    }\n",
       "\n",
       "    .dataframe tbody tr th {\n",
       "        vertical-align: top;\n",
       "    }\n",
       "\n",
       "    .dataframe thead th {\n",
       "        text-align: right;\n",
       "    }\n",
       "</style>\n",
       "<table border=\"1\" class=\"dataframe\">\n",
       "  <thead>\n",
       "    <tr style=\"text-align: right;\">\n",
       "      <th></th>\n",
       "      <th>linea</th>\n",
       "      <th>fecha</th>\n",
       "      <th>d_c_tiempo_espera</th>\n",
       "      <th>n_d_motivo</th>\n",
       "      <th>d_c_tiempo_tramite</th>\n",
       "      <th>target</th>\n",
       "    </tr>\n",
       "  </thead>\n",
       "  <tbody>\n",
       "    <tr>\n",
       "      <th>0</th>\n",
       "      <td>7751448632</td>\n",
       "      <td>2021-05-29</td>\n",
       "      <td>(30seg - 1min]</td>\n",
       "      <td>PEQUEÑAS CATEGORÍAS</td>\n",
       "      <td>(0 - 10min]</td>\n",
       "      <td>1</td>\n",
       "    </tr>\n",
       "    <tr>\n",
       "      <th>1</th>\n",
       "      <td>7774500954</td>\n",
       "      <td>2021-08-01</td>\n",
       "      <td>+15</td>\n",
       "      <td>T COTIZACION DE PUNTOS DE CIRCULO AZUL</td>\n",
       "      <td>(10min - 20min]</td>\n",
       "      <td>0</td>\n",
       "    </tr>\n",
       "    <tr>\n",
       "      <th>2</th>\n",
       "      <td>5530454773</td>\n",
       "      <td>2021-12-05</td>\n",
       "      <td>(0 - 30seg]</td>\n",
       "      <td>T DESEMPLEO / FALTA DE LIQUIDEZ</td>\n",
       "      <td>(10min - 20min]</td>\n",
       "      <td>1</td>\n",
       "    </tr>\n",
       "    <tr>\n",
       "      <th>3</th>\n",
       "      <td>3121388817</td>\n",
       "      <td>2021-06-11</td>\n",
       "      <td>(0 - 30seg]</td>\n",
       "      <td>A POR ROBO Y/O EXTRAVIO</td>\n",
       "      <td>(10min - 20min]</td>\n",
       "      <td>0</td>\n",
       "    </tr>\n",
       "    <tr>\n",
       "      <th>4</th>\n",
       "      <td>4775647699</td>\n",
       "      <td>2021-07-24</td>\n",
       "      <td>(4min - 8min]</td>\n",
       "      <td>T COTIZACION DE PUNTOS DE CIRCULO AZUL</td>\n",
       "      <td>(10min - 20min]</td>\n",
       "      <td>1</td>\n",
       "    </tr>\n",
       "  </tbody>\n",
       "</table>\n",
       "</div>"
      ],
      "text/plain": [
       "        linea       fecha d_c_tiempo_espera  \\\n",
       "0  7751448632  2021-05-29    (30seg - 1min]   \n",
       "1  7774500954  2021-08-01               +15   \n",
       "2  5530454773  2021-12-05       (0 - 30seg]   \n",
       "3  3121388817  2021-06-11       (0 - 30seg]   \n",
       "4  4775647699  2021-07-24     (4min - 8min]   \n",
       "\n",
       "                               n_d_motivo d_c_tiempo_tramite  target  \n",
       "0                     PEQUEÑAS CATEGORÍAS        (0 - 10min]       1  \n",
       "1  T COTIZACION DE PUNTOS DE CIRCULO AZUL    (10min - 20min]       0  \n",
       "2         T DESEMPLEO / FALTA DE LIQUIDEZ    (10min - 20min]       1  \n",
       "3                 A POR ROBO Y/O EXTRAVIO    (10min - 20min]       0  \n",
       "4  T COTIZACION DE PUNTOS DE CIRCULO AZUL    (10min - 20min]       1  "
      ]
     },
     "execution_count": 161,
     "metadata": {},
     "output_type": "execute_result"
    }
   ],
   "source": [
    "train.head()"
   ]
  },
  {
   "cell_type": "code",
   "execution_count": 162,
   "id": "literary-essence",
   "metadata": {
    "ExecuteTime": {
     "end_time": "2021-11-27T17:49:04.998573Z",
     "start_time": "2021-11-27T17:49:04.842917Z"
    }
   },
   "outputs": [
    {
     "data": {
      "text/plain": [
       "((36145, 6), (15491, 6))"
      ]
     },
     "execution_count": 162,
     "metadata": {},
     "output_type": "execute_result"
    }
   ],
   "source": [
    "train.shape,val.shape"
   ]
  },
  {
   "cell_type": "markdown",
   "id": "minus-night",
   "metadata": {},
   "source": [
    "## WoE"
   ]
  },
  {
   "cell_type": "code",
   "execution_count": 163,
   "id": "loved-spray",
   "metadata": {
    "ExecuteTime": {
     "end_time": "2021-11-27T17:49:05.096294Z",
     "start_time": "2021-11-27T17:49:04.999742Z"
    }
   },
   "outputs": [],
   "source": [
    "def calcularWoE(df,v,tgt):\n",
    "    aux = df[[v]+tgt].copy().assign(n=1)\n",
    "    aux = aux.pivot_table(index=v,columns=tgt,values='n',aggfunc='sum',fill_value=0)\n",
    "    aux/=aux.sum()\n",
    "    aux['w'] = np.log(aux[0]/aux[1])\n",
    "    return v,aux['w'].to_dict()"
   ]
  },
  {
   "cell_type": "code",
   "execution_count": 164,
   "id": "hollywood-manner",
   "metadata": {
    "ExecuteTime": {
     "end_time": "2021-11-27T17:49:05.481522Z",
     "start_time": "2021-11-27T17:49:05.097413Z"
    }
   },
   "outputs": [],
   "source": [
    "for v,mapa in map(lambda v:calcularWoE(train,v,vart),best):\n",
    "    train[f'w_{v}'] = train[v].replace(mapa)\n",
    "    val[f'w_{v}'] = val[v].replace(mapa)"
   ]
  },
  {
   "cell_type": "code",
   "execution_count": 165,
   "id": "early-lawsuit",
   "metadata": {
    "ExecuteTime": {
     "end_time": "2021-11-27T17:49:05.484765Z",
     "start_time": "2021-11-27T17:49:05.482501Z"
    }
   },
   "outputs": [],
   "source": [
    "varw = [v for v in train.columns if v[:2]=='w_']"
   ]
  },
  {
   "cell_type": "markdown",
   "id": "initial-compiler",
   "metadata": {},
   "source": [
    "## Entrenamiento del modelo"
   ]
  },
  {
   "cell_type": "code",
   "execution_count": 166,
   "id": "executed-pattern",
   "metadata": {
    "ExecuteTime": {
     "end_time": "2021-11-27T17:49:05.586524Z",
     "start_time": "2021-11-27T17:49:05.486034Z"
    }
   },
   "outputs": [],
   "source": [
    "lr = LogisticRegression()"
   ]
  },
  {
   "cell_type": "code",
   "execution_count": 167,
   "id": "greek-column",
   "metadata": {
    "ExecuteTime": {
     "end_time": "2021-11-27T17:49:05.885048Z",
     "start_time": "2021-11-27T17:49:05.588073Z"
    }
   },
   "outputs": [
    {
     "data": {
      "text/plain": [
       "LogisticRegression()"
      ]
     },
     "execution_count": 167,
     "metadata": {},
     "output_type": "execute_result"
    }
   ],
   "source": [
    "lr.fit(train[varw],train[vart])"
   ]
  },
  {
   "cell_type": "code",
   "execution_count": 168,
   "id": "extended-jesus",
   "metadata": {
    "ExecuteTime": {
     "end_time": "2021-11-27T17:49:05.967678Z",
     "start_time": "2021-11-27T17:49:05.887060Z"
    }
   },
   "outputs": [],
   "source": [
    "train['proba'] = lr.predict_proba(train[varw])[:,1]\n",
    "val['proba']= lr.predict_proba(val[varw])[:,1]"
   ]
  },
  {
   "cell_type": "code",
   "execution_count": 169,
   "id": "warming-scotland",
   "metadata": {
    "ExecuteTime": {
     "end_time": "2021-11-27T17:49:06.092240Z",
     "start_time": "2021-11-27T17:49:05.970960Z"
    }
   },
   "outputs": [
    {
     "name": "stdout",
     "output_type": "stream",
     "text": [
      "0.6237314973787204\n",
      "0.6147737725642939\n"
     ]
    }
   ],
   "source": [
    "print(roc_auc_score(y_score=train['proba'],y_true=train[vart]))\n",
    "print(roc_auc_score(y_score=val['proba'],y_true=val[vart]))"
   ]
  },
  {
   "cell_type": "code",
   "execution_count": 170,
   "id": "4a83e8be-fb5e-485b-a0c2-01ddc62cb35d",
   "metadata": {},
   "outputs": [],
   "source": [
    "from scikitplot.metrics import plot_ks_statistic,plot_roc_curve"
   ]
  },
  {
   "cell_type": "code",
   "execution_count": 171,
   "id": "d992d4de-0c8f-408f-9545-e761ac3ec0b8",
   "metadata": {},
   "outputs": [
    {
     "data": {
      "text/plain": [
       "<AxesSubplot:title={'center':'KS Statistic Plot'}, xlabel='Threshold', ylabel='Percentage below threshold'>"
      ]
     },
     "execution_count": 171,
     "metadata": {},
     "output_type": "execute_result"
    },
    {
     "data": {
      "image/png": "[encoded data removed]",
      "text/plain": [
       "<Figure size 432x288 with 1 Axes>"
      ]
     },
     "metadata": {
      "needs_background": "light"
     },
     "output_type": "display_data"
    },
    {
     "data": {
      "image/png": "[encoded data removed]",
      "text/plain": [
       "<Figure size 432x288 with 1 Axes>"
      ]
     },
     "metadata": {
      "needs_background": "light"
     },
     "output_type": "display_data"
    },
    {
     "data": {
      "image/png": "[encoded data removed]",
      "text/plain": [
       "<Figure size 432x288 with 1 Axes>"
      ]
     },
     "metadata": {
      "needs_background": "light"
     },
     "output_type": "display_data"
    },
    {
     "data": {
      "image/png": "[encoded data removed]",
      "text/plain": [
       "<Figure size 432x288 with 1 Axes>"
      ]
     },
     "metadata": {
      "needs_background": "light"
     },
     "output_type": "display_data"
    }
   ],
   "source": [
    "plot_roc_curve(y_probas=lr.predict_proba(train[varw]),y_true=train[vart[0]],curves='macro')\n",
    "plot_roc_curve(y_probas=lr.predict_proba(val[varw]),y_true=val[vart[0]],curves='macro')\n",
    "\n",
    "plot_ks_statistic(y_probas=lr.predict_proba(train[varw]),y_true=train[vart[0]])\n",
    "plot_ks_statistic(y_probas=lr.predict_proba(val[varw]),y_true=val[vart[0]])"
   ]
  },
  {
   "cell_type": "markdown",
   "id": "chubby-apache",
   "metadata": {},
   "source": [
    "## Scoring"
   ]
  },
  {
   "cell_type": "code",
   "execution_count": 218,
   "id": "ranking-ownership",
   "metadata": {
    "ExecuteTime": {
     "end_time": "2021-11-27T17:50:09.345941Z",
     "start_time": "2021-11-27T17:50:09.339579Z"
    }
   },
   "outputs": [
    {
     "data": {
      "text/plain": [
       "(360.67376022224084, 550.0, 3)"
      ]
     },
     "execution_count": 218,
     "metadata": {},
     "output_type": "execute_result"
    }
   ],
   "source": [
    "score_base = 550\n",
    "momios_base = 1\n",
    "pdo = 250\n",
    "factor = pdo/np.log(2)\n",
    "offset = score_base-factor*np.log(momios_base)\n",
    "n = len(varw)\n",
    "factor,offset,n"
   ]
  },
  {
   "cell_type": "code",
   "execution_count": 219,
   "id": "attached-scenario",
   "metadata": {
    "ExecuteTime": {
     "end_time": "2021-11-27T17:50:09.858544Z",
     "start_time": "2021-11-27T17:50:09.854847Z"
    }
   },
   "outputs": [
    {
     "data": {
      "text/plain": [
       "([-1.042475375865602, -1.00333381702326, -0.9717543158142226],\n",
       " 0.01064609663462699)"
      ]
     },
     "execution_count": 219,
     "metadata": {},
     "output_type": "execute_result"
    }
   ],
   "source": [
    "betas,alpha = list(lr.coef_[0]),lr.intercept_[0]\n",
    "betas,alpha"
   ]
  },
  {
   "cell_type": "code",
   "execution_count": 220,
   "id": "comprehensive-intensity",
   "metadata": {
    "ExecuteTime": {
     "end_time": "2021-11-27T17:50:10.306857Z",
     "start_time": "2021-11-27T17:50:10.281161Z"
    }
   },
   "outputs": [],
   "source": [
    "for beta,v in zip(betas,varw):\n",
    "    train[f'P_{v}'] = np.round((-train[v]*beta+alpha/n)*factor+offset/n,0)\n",
    "    val[f'P_{v}'] = np.round((-val[v]*beta+alpha/n)*factor+offset/n,0)\n",
    "    test[f'P_{v}'] = np.round((-test[v]*beta+alpha/n)*factor+offset/n,0)"
   ]
  },
  {
   "cell_type": "code",
   "execution_count": 221,
   "id": "streaming-algeria",
   "metadata": {
    "ExecuteTime": {
     "end_time": "2021-11-27T17:50:10.681818Z",
     "start_time": "2021-11-27T17:50:10.670406Z"
    }
   },
   "outputs": [],
   "source": [
    "train['score'] = train.filter(like='P_').sum(axis=1)\n",
    "val['score'] = val.filter(like='P_').sum(axis=1)\n",
    "test['score'] = test.filter(like='P_').sum(axis=1)"
   ]
  },
  {
   "cell_type": "code",
   "execution_count": 222,
   "id": "numeric-knowing",
   "metadata": {
    "ExecuteTime": {
     "end_time": "2021-11-27T17:50:12.250303Z",
     "start_time": "2021-11-27T17:50:12.240140Z"
    }
   },
   "outputs": [
    {
     "data": {
      "text/plain": [
       "(score    1146.0\n",
       " Name: max, dtype: float64,\n",
       " score    75.0\n",
       " Name: min, dtype: float64,\n",
       " score    1071.0\n",
       " dtype: float64)"
      ]
     },
     "execution_count": 222,
     "metadata": {},
     "output_type": "execute_result"
    }
   ],
   "source": [
    "aux = test['score'].describe().to_frame().T\n",
    "aux['max'],aux['min'],aux['max']-aux['min']"
   ]
  },
  {
   "cell_type": "code",
   "execution_count": 202,
   "id": "classical-youth",
   "metadata": {
    "ExecuteTime": {
     "end_time": "2021-11-27T17:50:12.238614Z",
     "start_time": "2021-11-27T17:50:11.007039Z"
    }
   },
   "outputs": [
    {
     "data": {
      "text/plain": [
       "<AxesSubplot:xlabel='score', ylabel='Density'>"
      ]
     },
     "execution_count": 202,
     "metadata": {},
     "output_type": "execute_result"
    },
    {
     "data": {
      "image/png": "[encoded data removed]",
      "text/plain": [
       "<Figure size 432x288 with 1 Axes>"
      ]
     },
     "metadata": {
      "needs_background": "light"
     },
     "output_type": "display_data"
    }
   ],
   "source": [
    "sns.kdeplot(data=train,x='score',cumulative=True)\n",
    "sns.kdeplot(data=val,x='score',cumulative=True)\n",
    "sns.kdeplot(data=test,x='score',cumulative=True)"
   ]
  },
  {
   "cell_type": "code",
   "execution_count": 228,
   "id": "occupational-performance",
   "metadata": {
    "ExecuteTime": {
     "end_time": "2021-11-27T17:50:19.011736Z",
     "start_time": "2021-11-27T17:50:18.973877Z"
    }
   },
   "outputs": [],
   "source": [
    "train['r_score'] = pd.cut(train['score'],bins=range(74,1146+70,130),include_lowest=True).astype(str)\n",
    "val['r_score'] = pd.cut(val['score'],bins=range(74,1146+70,130),include_lowest=True).astype(str)\n",
    "test['r_score'] = pd.cut(test['score'],bins=range(74,1146+70,130),include_lowest=True).astype(str)"
   ]
  },
  {
   "cell_type": "code",
   "execution_count": 231,
   "id": "8da611c1-b1e0-4c4b-8cb4-85e0a827990c",
   "metadata": {},
   "outputs": [
    {
     "data": {
      "text/html": [
       "<div>\n",
       "<style scoped>\n",
       "    .dataframe tbody tr th:only-of-type {\n",
       "        vertical-align: middle;\n",
       "    }\n",
       "\n",
       "    .dataframe tbody tr th {\n",
       "        vertical-align: top;\n",
       "    }\n",
       "\n",
       "    .dataframe thead th {\n",
       "        text-align: right;\n",
       "    }\n",
       "</style>\n",
       "<table border=\"1\" class=\"dataframe\">\n",
       "  <thead>\n",
       "    <tr style=\"text-align: right;\">\n",
       "      <th></th>\n",
       "      <th>linea</th>\n",
       "      <th>fecha</th>\n",
       "      <th>d_c_tiempo_espera</th>\n",
       "      <th>n_d_motivo</th>\n",
       "      <th>d_c_tiempo_tramite</th>\n",
       "      <th>target</th>\n",
       "      <th>w_d_c_tiempo_espera</th>\n",
       "      <th>w_n_d_motivo</th>\n",
       "      <th>w_d_c_tiempo_tramite</th>\n",
       "      <th>proba</th>\n",
       "      <th>P_w_d_c_tiempo_espera</th>\n",
       "      <th>P_w_n_d_motivo</th>\n",
       "      <th>P_w_d_c_tiempo_tramite</th>\n",
       "      <th>score</th>\n",
       "      <th>r_score</th>\n",
       "    </tr>\n",
       "  </thead>\n",
       "  <tbody>\n",
       "    <tr>\n",
       "      <th>0</th>\n",
       "      <td>7751448632</td>\n",
       "      <td>2021-05-29</td>\n",
       "      <td>(30seg - 1min]</td>\n",
       "      <td>PEQUEÑAS CATEGORÍAS</td>\n",
       "      <td>(0 - 10min]</td>\n",
       "      <td>1</td>\n",
       "      <td>0.072040</td>\n",
       "      <td>0.088052</td>\n",
       "      <td>-0.101599</td>\n",
       "      <td>0.486486</td>\n",
       "      <td>212.0</td>\n",
       "      <td>216.0</td>\n",
       "      <td>149.0</td>\n",
       "      <td>577.0</td>\n",
       "      <td>(464.0, 594.0]</td>\n",
       "    </tr>\n",
       "    <tr>\n",
       "      <th>1</th>\n",
       "      <td>7774500954</td>\n",
       "      <td>2021-08-01</td>\n",
       "      <td>+15</td>\n",
       "      <td>T COTIZACION DE PUNTOS DE CIRCULO AZUL</td>\n",
       "      <td>(10min - 20min]</td>\n",
       "      <td>0</td>\n",
       "      <td>-0.383854</td>\n",
       "      <td>-0.391381</td>\n",
       "      <td>-0.162102</td>\n",
       "      <td>0.723325</td>\n",
       "      <td>40.0</td>\n",
       "      <td>43.0</td>\n",
       "      <td>128.0</td>\n",
       "      <td>211.0</td>\n",
       "      <td>(204.0, 334.0]</td>\n",
       "    </tr>\n",
       "    <tr>\n",
       "      <th>2</th>\n",
       "      <td>5530454773</td>\n",
       "      <td>2021-12-05</td>\n",
       "      <td>(0 - 30seg]</td>\n",
       "      <td>T DESEMPLEO / FALTA DE LIQUIDEZ</td>\n",
       "      <td>(10min - 20min]</td>\n",
       "      <td>1</td>\n",
       "      <td>0.142734</td>\n",
       "      <td>-0.440752</td>\n",
       "      <td>-0.162102</td>\n",
       "      <td>0.613392</td>\n",
       "      <td>238.0</td>\n",
       "      <td>25.0</td>\n",
       "      <td>128.0</td>\n",
       "      <td>391.0</td>\n",
       "      <td>(334.0, 464.0]</td>\n",
       "    </tr>\n",
       "    <tr>\n",
       "      <th>3</th>\n",
       "      <td>3121388817</td>\n",
       "      <td>2021-06-11</td>\n",
       "      <td>(0 - 30seg]</td>\n",
       "      <td>A POR ROBO Y/O EXTRAVIO</td>\n",
       "      <td>(10min - 20min]</td>\n",
       "      <td>0</td>\n",
       "      <td>0.142734</td>\n",
       "      <td>0.509781</td>\n",
       "      <td>-0.162102</td>\n",
       "      <td>0.379397</td>\n",
       "      <td>238.0</td>\n",
       "      <td>369.0</td>\n",
       "      <td>128.0</td>\n",
       "      <td>735.0</td>\n",
       "      <td>(724.0, 854.0]</td>\n",
       "    </tr>\n",
       "    <tr>\n",
       "      <th>4</th>\n",
       "      <td>4775647699</td>\n",
       "      <td>2021-07-24</td>\n",
       "      <td>(4min - 8min]</td>\n",
       "      <td>T COTIZACION DE PUNTOS DE CIRCULO AZUL</td>\n",
       "      <td>(10min - 20min]</td>\n",
       "      <td>1</td>\n",
       "      <td>-0.024879</td>\n",
       "      <td>-0.391381</td>\n",
       "      <td>-0.162102</td>\n",
       "      <td>0.642628</td>\n",
       "      <td>175.0</td>\n",
       "      <td>43.0</td>\n",
       "      <td>128.0</td>\n",
       "      <td>346.0</td>\n",
       "      <td>(334.0, 464.0]</td>\n",
       "    </tr>\n",
       "    <tr>\n",
       "      <th>...</th>\n",
       "      <td>...</td>\n",
       "      <td>...</td>\n",
       "      <td>...</td>\n",
       "      <td>...</td>\n",
       "      <td>...</td>\n",
       "      <td>...</td>\n",
       "      <td>...</td>\n",
       "      <td>...</td>\n",
       "      <td>...</td>\n",
       "      <td>...</td>\n",
       "      <td>...</td>\n",
       "      <td>...</td>\n",
       "      <td>...</td>\n",
       "      <td>...</td>\n",
       "      <td>...</td>\n",
       "    </tr>\n",
       "    <tr>\n",
       "      <th>36140</th>\n",
       "      <td>8713355752</td>\n",
       "      <td>2021-03-28</td>\n",
       "      <td>(2min - 4min]</td>\n",
       "      <td>T INFORMES DE CONTRATACION Y PRECIOS DE EQUIPOS</td>\n",
       "      <td>(0 - 10min]</td>\n",
       "      <td>0</td>\n",
       "      <td>-0.003496</td>\n",
       "      <td>-0.028050</td>\n",
       "      <td>-0.101599</td>\n",
       "      <td>0.535232</td>\n",
       "      <td>183.0</td>\n",
       "      <td>174.0</td>\n",
       "      <td>149.0</td>\n",
       "      <td>506.0</td>\n",
       "      <td>(464.0, 594.0]</td>\n",
       "    </tr>\n",
       "    <tr>\n",
       "      <th>36141</th>\n",
       "      <td>4772646016</td>\n",
       "      <td>2021-09-27</td>\n",
       "      <td>(30seg - 1min]</td>\n",
       "      <td>A POR ROBO Y/O EXTRAVIO</td>\n",
       "      <td>(10min - 20min]</td>\n",
       "      <td>1</td>\n",
       "      <td>0.072040</td>\n",
       "      <td>0.509781</td>\n",
       "      <td>-0.162102</td>\n",
       "      <td>0.396897</td>\n",
       "      <td>212.0</td>\n",
       "      <td>369.0</td>\n",
       "      <td>128.0</td>\n",
       "      <td>709.0</td>\n",
       "      <td>(594.0, 724.0]</td>\n",
       "    </tr>\n",
       "    <tr>\n",
       "      <th>36142</th>\n",
       "      <td>5522173334</td>\n",
       "      <td>2021-12-20</td>\n",
       "      <td>(0 - 30seg]</td>\n",
       "      <td>T POR SALDOS DE VOZ</td>\n",
       "      <td>(20min - 30min]</td>\n",
       "      <td>1</td>\n",
       "      <td>0.142734</td>\n",
       "      <td>-0.473920</td>\n",
       "      <td>-0.051263</td>\n",
       "      <td>0.595600</td>\n",
       "      <td>238.0</td>\n",
       "      <td>13.0</td>\n",
       "      <td>167.0</td>\n",
       "      <td>418.0</td>\n",
       "      <td>(334.0, 464.0]</td>\n",
       "    </tr>\n",
       "    <tr>\n",
       "      <th>36143</th>\n",
       "      <td>9982464662</td>\n",
       "      <td>2021-12-15</td>\n",
       "      <td>(0 - 30seg]</td>\n",
       "      <td>T CONTRATACION DE LINEA</td>\n",
       "      <td>+1hr</td>\n",
       "      <td>1</td>\n",
       "      <td>0.142734</td>\n",
       "      <td>0.343673</td>\n",
       "      <td>0.251263</td>\n",
       "      <td>0.325824</td>\n",
       "      <td>238.0</td>\n",
       "      <td>309.0</td>\n",
       "      <td>273.0</td>\n",
       "      <td>820.0</td>\n",
       "      <td>(724.0, 854.0]</td>\n",
       "    </tr>\n",
       "    <tr>\n",
       "      <th>36144</th>\n",
       "      <td>5546144023</td>\n",
       "      <td>2021-11-02</td>\n",
       "      <td>+15</td>\n",
       "      <td>PEQUEÑAS CATEGORÍAS</td>\n",
       "      <td>(20min - 30min]</td>\n",
       "      <td>0</td>\n",
       "      <td>-0.383854</td>\n",
       "      <td>0.088052</td>\n",
       "      <td>-0.051263</td>\n",
       "      <td>0.592008</td>\n",
       "      <td>40.0</td>\n",
       "      <td>216.0</td>\n",
       "      <td>167.0</td>\n",
       "      <td>423.0</td>\n",
       "      <td>(334.0, 464.0]</td>\n",
       "    </tr>\n",
       "  </tbody>\n",
       "</table>\n",
       "<p>36145 rows × 15 columns</p>\n",
       "</div>"
      ],
      "text/plain": [
       "            linea       fecha d_c_tiempo_espera  \\\n",
       "0      7751448632  2021-05-29    (30seg - 1min]   \n",
       "1      7774500954  2021-08-01               +15   \n",
       "2      5530454773  2021-12-05       (0 - 30seg]   \n",
       "3      3121388817  2021-06-11       (0 - 30seg]   \n",
       "4      4775647699  2021-07-24     (4min - 8min]   \n",
       "...           ...         ...               ...   \n",
       "36140  8713355752  2021-03-28     (2min - 4min]   \n",
       "36141  4772646016  2021-09-27    (30seg - 1min]   \n",
       "36142  5522173334  2021-12-20       (0 - 30seg]   \n",
       "36143  9982464662  2021-12-15       (0 - 30seg]   \n",
       "36144  5546144023  2021-11-02               +15   \n",
       "\n",
       "                                            n_d_motivo d_c_tiempo_tramite  \\\n",
       "0                                  PEQUEÑAS CATEGORÍAS        (0 - 10min]   \n",
       "1               T COTIZACION DE PUNTOS DE CIRCULO AZUL    (10min - 20min]   \n",
       "2                      T DESEMPLEO / FALTA DE LIQUIDEZ    (10min - 20min]   \n",
       "3                              A POR ROBO Y/O EXTRAVIO    (10min - 20min]   \n",
       "4               T COTIZACION DE PUNTOS DE CIRCULO AZUL    (10min - 20min]   \n",
       "...                                                ...                ...   \n",
       "36140  T INFORMES DE CONTRATACION Y PRECIOS DE EQUIPOS        (0 - 10min]   \n",
       "36141                          A POR ROBO Y/O EXTRAVIO    (10min - 20min]   \n",
       "36142                              T POR SALDOS DE VOZ    (20min - 30min]   \n",
       "36143                          T CONTRATACION DE LINEA               +1hr   \n",
       "36144                              PEQUEÑAS CATEGORÍAS    (20min - 30min]   \n",
       "\n",
       "       target  w_d_c_tiempo_espera  w_n_d_motivo  w_d_c_tiempo_tramite  \\\n",
       "0           1             0.072040      0.088052             -0.101599   \n",
       "1           0            -0.383854     -0.391381             -0.162102   \n",
       "2           1             0.142734     -0.440752             -0.162102   \n",
       "3           0             0.142734      0.509781             -0.162102   \n",
       "4           1            -0.024879     -0.391381             -0.162102   \n",
       "...       ...                  ...           ...                   ...   \n",
       "36140       0            -0.003496     -0.028050             -0.101599   \n",
       "36141       1             0.072040      0.509781             -0.162102   \n",
       "36142       1             0.142734     -0.473920             -0.051263   \n",
       "36143       1             0.142734      0.343673              0.251263   \n",
       "36144       0            -0.383854      0.088052             -0.051263   \n",
       "\n",
       "          proba  P_w_d_c_tiempo_espera  P_w_n_d_motivo  \\\n",
       "0      0.486486                  212.0           216.0   \n",
       "1      0.723325                   40.0            43.0   \n",
       "2      0.613392                  238.0            25.0   \n",
       "3      0.379397                  238.0           369.0   \n",
       "4      0.642628                  175.0            43.0   \n",
       "...         ...                    ...             ...   \n",
       "36140  0.535232                  183.0           174.0   \n",
       "36141  0.396897                  212.0           369.0   \n",
       "36142  0.595600                  238.0            13.0   \n",
       "36143  0.325824                  238.0           309.0   \n",
       "36144  0.592008                   40.0           216.0   \n",
       "\n",
       "       P_w_d_c_tiempo_tramite  score         r_score  \n",
       "0                       149.0  577.0  (464.0, 594.0]  \n",
       "1                       128.0  211.0  (204.0, 334.0]  \n",
       "2                       128.0  391.0  (334.0, 464.0]  \n",
       "3                       128.0  735.0  (724.0, 854.0]  \n",
       "4                       128.0  346.0  (334.0, 464.0]  \n",
       "...                       ...    ...             ...  \n",
       "36140                   149.0  506.0  (464.0, 594.0]  \n",
       "36141                   128.0  709.0  (594.0, 724.0]  \n",
       "36142                   167.0  418.0  (334.0, 464.0]  \n",
       "36143                   273.0  820.0  (724.0, 854.0]  \n",
       "36144                   167.0  423.0  (334.0, 464.0]  \n",
       "\n",
       "[36145 rows x 15 columns]"
      ]
     },
     "execution_count": 231,
     "metadata": {},
     "output_type": "execute_result"
    }
   ],
   "source": [
    "train"
   ]
  },
  {
   "cell_type": "code",
   "execution_count": 232,
   "id": "ca6b436f-8388-416f-b30a-59852c516d6e",
   "metadata": {},
   "outputs": [],
   "source": [
    "varp = [v for v in train.columns if v[:2]=='P_']"
   ]
  },
  {
   "cell_type": "code",
   "execution_count": 233,
   "id": "4aa618ca-7e63-4fc0-b13a-4c992e9f62fe",
   "metadata": {},
   "outputs": [
    {
     "data": {
      "text/plain": [
       "['P_w_d_c_tiempo_espera', 'P_w_n_d_motivo', 'P_w_d_c_tiempo_tramite']"
      ]
     },
     "execution_count": 233,
     "metadata": {},
     "output_type": "execute_result"
    }
   ],
   "source": [
    "varp"
   ]
  },
  {
   "cell_type": "markdown",
   "id": "alike-sharp",
   "metadata": {},
   "source": [
    "### Scorecard"
   ]
  },
  {
   "cell_type": "code",
   "execution_count": 240,
   "id": "potential-persian",
   "metadata": {
    "ExecuteTime": {
     "end_time": "2021-11-27T17:50:22.781540Z",
     "start_time": "2021-11-27T17:50:22.704884Z"
    },
    "collapsed": true,
    "jupyter": {
     "outputs_hidden": true
    },
    "tags": []
   },
   "outputs": [
    {
     "data": {
      "text/html": [
       "<div>\n",
       "<style scoped>\n",
       "    .dataframe tbody tr th:only-of-type {\n",
       "        vertical-align: middle;\n",
       "    }\n",
       "\n",
       "    .dataframe tbody tr th {\n",
       "        vertical-align: top;\n",
       "    }\n",
       "\n",
       "    .dataframe thead th {\n",
       "        text-align: right;\n",
       "    }\n",
       "</style>\n",
       "<table border=\"1\" class=\"dataframe\">\n",
       "  <thead>\n",
       "    <tr style=\"text-align: right;\">\n",
       "      <th></th>\n",
       "      <th></th>\n",
       "      <th>puntos</th>\n",
       "    </tr>\n",
       "    <tr>\n",
       "      <th>caracteristica</th>\n",
       "      <th>atributo</th>\n",
       "      <th></th>\n",
       "    </tr>\n",
       "  </thead>\n",
       "  <tbody>\n",
       "    <tr>\n",
       "      <th rowspan=\"45\" valign=\"top\">motivo</th>\n",
       "      <th>A CAMBIO DE EQUIPO PREPAGO</th>\n",
       "      <td>638.0</td>\n",
       "    </tr>\n",
       "    <tr>\n",
       "      <th>A CONFIGURACION / FUNCIONES DEL EQUIPO</th>\n",
       "      <td>510.0</td>\n",
       "    </tr>\n",
       "    <tr>\n",
       "      <th>A INFORMES DE PORTABILIDAD</th>\n",
       "      <td>296.0</td>\n",
       "    </tr>\n",
       "    <tr>\n",
       "      <th>A INFORMES DE PRECIOS DE EQUIPOS</th>\n",
       "      <td>158.0</td>\n",
       "    </tr>\n",
       "    <tr>\n",
       "      <th>A INGRESO Y ENTREGA DE EQUIPO (REVISION / REPARACION)</th>\n",
       "      <td>303.0</td>\n",
       "    </tr>\n",
       "    <tr>\n",
       "      <th>A MONITOREO DE LINEA</th>\n",
       "      <td>257.0</td>\n",
       "    </tr>\n",
       "    <tr>\n",
       "      <th>A POR ACTUALIZACION VERSION</th>\n",
       "      <td>243.0</td>\n",
       "    </tr>\n",
       "    <tr>\n",
       "      <th>A POR DA?O / GARANTIA</th>\n",
       "      <td>419.0</td>\n",
       "    </tr>\n",
       "    <tr>\n",
       "      <th>A POR ROBO Y/O EXTRAVIO</th>\n",
       "      <td>369.0</td>\n",
       "    </tr>\n",
       "    <tr>\n",
       "      <th>A POR SALDO DE VOZ</th>\n",
       "      <td>92.0</td>\n",
       "    </tr>\n",
       "    <tr>\n",
       "      <th>A PORTABILIDAD</th>\n",
       "      <td>255.0</td>\n",
       "    </tr>\n",
       "    <tr>\n",
       "      <th>A VENTA DE AMIGO CHIP (VOZ)</th>\n",
       "      <td>390.0</td>\n",
       "    </tr>\n",
       "    <tr>\n",
       "      <th>A VENTA DE AMIGO KIT</th>\n",
       "      <td>286.0</td>\n",
       "    </tr>\n",
       "    <tr>\n",
       "      <th>ACLARACION DE SALDO</th>\n",
       "      <td>99.0</td>\n",
       "    </tr>\n",
       "    <tr>\n",
       "      <th>C ACLARACION DE SALDOS POR DATOS A GRANEL</th>\n",
       "      <td>141.0</td>\n",
       "    </tr>\n",
       "    <tr>\n",
       "      <th>PEQUEÑAS CATEGORÍAS</th>\n",
       "      <td>216.0</td>\n",
       "    </tr>\n",
       "    <tr>\n",
       "      <th>RETENCION GSM</th>\n",
       "      <td>437.0</td>\n",
       "    </tr>\n",
       "    <tr>\n",
       "      <th>T ACLARACION DE SALDOS POR DATOS A GRANEL</th>\n",
       "      <td>35.0</td>\n",
       "    </tr>\n",
       "    <tr>\n",
       "      <th>T ALTA / BAJA DE SERVICIOS ADICIONALES</th>\n",
       "      <td>433.0</td>\n",
       "    </tr>\n",
       "    <tr>\n",
       "      <th>T CAMBIO DE FORMA DE PAGO</th>\n",
       "      <td>368.0</td>\n",
       "    </tr>\n",
       "    <tr>\n",
       "      <th>T CAMBIO DE IMEI CON REACTIVACION</th>\n",
       "      <td>183.0</td>\n",
       "    </tr>\n",
       "    <tr>\n",
       "      <th>T CAMBIO DE PLAN</th>\n",
       "      <td>71.0</td>\n",
       "    </tr>\n",
       "    <tr>\n",
       "      <th>T CAMBIO PLAN</th>\n",
       "      <td>14.0</td>\n",
       "    </tr>\n",
       "    <tr>\n",
       "      <th>T CARGO POR FIANZA</th>\n",
       "      <td>-11.0</td>\n",
       "    </tr>\n",
       "    <tr>\n",
       "      <th>T CESION DE DERECHOS</th>\n",
       "      <td>32.0</td>\n",
       "    </tr>\n",
       "    <tr>\n",
       "      <th>T CONFIGURACION / FUNCIONES DEL EQUIPO</th>\n",
       "      <td>309.0</td>\n",
       "    </tr>\n",
       "    <tr>\n",
       "      <th>T CONTRATACION DE LINEA</th>\n",
       "      <td>309.0</td>\n",
       "    </tr>\n",
       "    <tr>\n",
       "      <th>T COTIZACION DE PUNTOS DE CIRCULO AZUL</th>\n",
       "      <td>43.0</td>\n",
       "    </tr>\n",
       "    <tr>\n",
       "      <th>T DESEMPLEO / FALTA DE LIQUIDEZ</th>\n",
       "      <td>25.0</td>\n",
       "    </tr>\n",
       "    <tr>\n",
       "      <th>T INFORMES DE CONTRATACION Y PRECIOS DE EQUIPOS</th>\n",
       "      <td>174.0</td>\n",
       "    </tr>\n",
       "    <tr>\n",
       "      <th>T INFORMES DE TARIFA DE VOZ Y DATOS</th>\n",
       "      <td>34.0</td>\n",
       "    </tr>\n",
       "    <tr>\n",
       "      <th>T INGRESO Y ENTREGA DE EQUIPO (REVISION / REPARACION)</th>\n",
       "      <td>227.0</td>\n",
       "    </tr>\n",
       "    <tr>\n",
       "      <th>T MIGRACION A PREPAGO</th>\n",
       "      <td>-92.0</td>\n",
       "    </tr>\n",
       "    <tr>\n",
       "      <th>T MIGRACION PREPAGO A POSTPAGO</th>\n",
       "      <td>392.0</td>\n",
       "    </tr>\n",
       "    <tr>\n",
       "      <th>T MONITOREO DE LINEA</th>\n",
       "      <td>205.0</td>\n",
       "    </tr>\n",
       "    <tr>\n",
       "      <th>T POR ACTUALIZACION DE VERSION</th>\n",
       "      <td>54.0</td>\n",
       "    </tr>\n",
       "    <tr>\n",
       "      <th>T POR CIRCULO AZUL</th>\n",
       "      <td>102.0</td>\n",
       "    </tr>\n",
       "    <tr>\n",
       "      <th>T POR ROBO Y/O EXTRAVIO</th>\n",
       "      <td>207.0</td>\n",
       "    </tr>\n",
       "    <tr>\n",
       "      <th>T POR SALDO DE DATOS</th>\n",
       "      <td>39.0</td>\n",
       "    </tr>\n",
       "    <tr>\n",
       "      <th>T POR SALDOS DE VOZ</th>\n",
       "      <td>13.0</td>\n",
       "    </tr>\n",
       "    <tr>\n",
       "      <th>T PROPIO (SWITCHEO)</th>\n",
       "      <td>242.0</td>\n",
       "    </tr>\n",
       "    <tr>\n",
       "      <th>T RENOVACION (CIRCULO AZUL)</th>\n",
       "      <td>292.0</td>\n",
       "    </tr>\n",
       "    <tr>\n",
       "      <th>T RETENCION</th>\n",
       "      <td>395.0</td>\n",
       "    </tr>\n",
       "    <tr>\n",
       "      <th>T VALE INBURSA</th>\n",
       "      <td>203.0</td>\n",
       "    </tr>\n",
       "    <tr>\n",
       "      <th>T VENTA DE EQUIPO PRECIO PUBLICO</th>\n",
       "      <td>129.0</td>\n",
       "    </tr>\n",
       "    <tr>\n",
       "      <th rowspan=\"7\" valign=\"top\">tiempo_espera</th>\n",
       "      <th>(0 - 30seg]</th>\n",
       "      <td>238.0</td>\n",
       "    </tr>\n",
       "    <tr>\n",
       "      <th>(1min - 2min]</th>\n",
       "      <td>207.0</td>\n",
       "    </tr>\n",
       "    <tr>\n",
       "      <th>(2min - 4min]</th>\n",
       "      <td>183.0</td>\n",
       "    </tr>\n",
       "    <tr>\n",
       "      <th>(30seg - 1min]</th>\n",
       "      <td>212.0</td>\n",
       "    </tr>\n",
       "    <tr>\n",
       "      <th>(4min - 8min]</th>\n",
       "      <td>175.0</td>\n",
       "    </tr>\n",
       "    <tr>\n",
       "      <th>(8min - 15min]</th>\n",
       "      <td>177.0</td>\n",
       "    </tr>\n",
       "    <tr>\n",
       "      <th>+15</th>\n",
       "      <td>40.0</td>\n",
       "    </tr>\n",
       "    <tr>\n",
       "      <th rowspan=\"7\" valign=\"top\">tiempo_tramite</th>\n",
       "      <th>(0 - 10min]</th>\n",
       "      <td>149.0</td>\n",
       "    </tr>\n",
       "    <tr>\n",
       "      <th>(10min - 20min]</th>\n",
       "      <td>128.0</td>\n",
       "    </tr>\n",
       "    <tr>\n",
       "      <th>(20min - 30min]</th>\n",
       "      <td>167.0</td>\n",
       "    </tr>\n",
       "    <tr>\n",
       "      <th>(30min - 40min]</th>\n",
       "      <td>208.0</td>\n",
       "    </tr>\n",
       "    <tr>\n",
       "      <th>(40min - 50min]</th>\n",
       "      <td>301.0</td>\n",
       "    </tr>\n",
       "    <tr>\n",
       "      <th>(50min - 60min]</th>\n",
       "      <td>324.0</td>\n",
       "    </tr>\n",
       "    <tr>\n",
       "      <th>+1hr</th>\n",
       "      <td>273.0</td>\n",
       "    </tr>\n",
       "  </tbody>\n",
       "</table>\n",
       "</div>"
      ],
      "text/plain": [
       "                                                                   puntos\n",
       "caracteristica atributo                                                  \n",
       "motivo         A CAMBIO DE EQUIPO PREPAGO                           638.0\n",
       "               A CONFIGURACION / FUNCIONES DEL EQUIPO               510.0\n",
       "               A INFORMES DE PORTABILIDAD                           296.0\n",
       "               A INFORMES DE PRECIOS DE EQUIPOS                     158.0\n",
       "               A INGRESO Y ENTREGA DE EQUIPO (REVISION / REPAR...   303.0\n",
       "               A MONITOREO DE LINEA                                 257.0\n",
       "               A POR ACTUALIZACION VERSION                          243.0\n",
       "               A POR DA?O / GARANTIA                                419.0\n",
       "               A POR ROBO Y/O EXTRAVIO                              369.0\n",
       "               A POR SALDO DE VOZ                                    92.0\n",
       "               A PORTABILIDAD                                       255.0\n",
       "               A VENTA DE AMIGO CHIP (VOZ)                          390.0\n",
       "               A VENTA DE AMIGO KIT                                 286.0\n",
       "               ACLARACION DE SALDO                                   99.0\n",
       "               C ACLARACION DE SALDOS POR DATOS A GRANEL            141.0\n",
       "               PEQUEÑAS CATEGORÍAS                                  216.0\n",
       "               RETENCION GSM                                        437.0\n",
       "               T ACLARACION DE SALDOS POR DATOS A GRANEL             35.0\n",
       "               T ALTA / BAJA DE SERVICIOS ADICIONALES               433.0\n",
       "               T CAMBIO DE FORMA DE PAGO                            368.0\n",
       "               T CAMBIO DE IMEI CON REACTIVACION                    183.0\n",
       "               T CAMBIO DE PLAN                                      71.0\n",
       "               T CAMBIO PLAN                                         14.0\n",
       "               T CARGO POR FIANZA                                   -11.0\n",
       "               T CESION DE DERECHOS                                  32.0\n",
       "               T CONFIGURACION / FUNCIONES DEL EQUIPO               309.0\n",
       "               T CONTRATACION DE LINEA                              309.0\n",
       "               T COTIZACION DE PUNTOS DE CIRCULO AZUL                43.0\n",
       "               T DESEMPLEO / FALTA DE LIQUIDEZ                       25.0\n",
       "               T INFORMES DE CONTRATACION Y PRECIOS DE EQUIPOS      174.0\n",
       "               T INFORMES DE TARIFA DE VOZ Y DATOS                   34.0\n",
       "               T INGRESO Y ENTREGA DE EQUIPO (REVISION / REPAR...   227.0\n",
       "               T MIGRACION A PREPAGO                                -92.0\n",
       "               T MIGRACION PREPAGO A POSTPAGO                       392.0\n",
       "               T MONITOREO DE LINEA                                 205.0\n",
       "               T POR ACTUALIZACION DE VERSION                        54.0\n",
       "               T POR CIRCULO AZUL                                   102.0\n",
       "               T POR ROBO Y/O EXTRAVIO                              207.0\n",
       "               T POR SALDO DE DATOS                                  39.0\n",
       "               T POR SALDOS DE VOZ                                   13.0\n",
       "               T PROPIO (SWITCHEO)                                  242.0\n",
       "               T RENOVACION (CIRCULO AZUL)                          292.0\n",
       "               T RETENCION                                          395.0\n",
       "               T VALE INBURSA                                       203.0\n",
       "               T VENTA DE EQUIPO PRECIO PUBLICO                     129.0\n",
       "tiempo_espera  (0 - 30seg]                                          238.0\n",
       "               (1min - 2min]                                        207.0\n",
       "               (2min - 4min]                                        183.0\n",
       "               (30seg - 1min]                                       212.0\n",
       "               (4min - 8min]                                        175.0\n",
       "               (8min - 15min]                                       177.0\n",
       "               +15                                                   40.0\n",
       "tiempo_tramite (0 - 10min]                                          149.0\n",
       "               (10min - 20min]                                      128.0\n",
       "               (20min - 30min]                                      167.0\n",
       "               (30min - 40min]                                      208.0\n",
       "               (40min - 50min]                                      301.0\n",
       "               (50min - 60min]                                      324.0\n",
       "               +1hr                                                 273.0"
      ]
     },
     "execution_count": 240,
     "metadata": {},
     "output_type": "execute_result"
    }
   ],
   "source": [
    "varp = [v for v in train.columns if v[:2]=='P_']\n",
    "sc = []\n",
    "for v in varp:\n",
    "    nombre = \"_\".join(v.split('_')[2:])\n",
    "    nombre = \"_\".join(nombre.split('_')[2:])\n",
    "    aux = train[[v,v[4:]]].drop_duplicates().reset_index(drop=True).assign(caracteristica=nombre)\n",
    "    aux.columns = ['puntos','atributo','caracteristica']\n",
    "    sc.append(aux)\n",
    "aux = pd.concat(sc,ignore_index=True)\n",
    "sc = aux.groupby(['caracteristica','atributo']).min()\n",
    "sc"
   ]
  },
  {
   "cell_type": "code",
   "execution_count": 241,
   "id": "34093976-322e-4865-8fa1-6ecc64188e28",
   "metadata": {},
   "outputs": [],
   "source": [
    "sc.to_clipboard()"
   ]
  },
  {
   "cell_type": "markdown",
   "id": "historical-transmission",
   "metadata": {},
   "source": [
    "## Reportes"
   ]
  },
  {
   "cell_type": "code",
   "execution_count": 242,
   "id": "informal-exclusion",
   "metadata": {
    "ExecuteTime": {
     "end_time": "2021-11-27T17:50:29.363690Z",
     "start_time": "2021-11-27T17:50:29.259861Z"
    }
   },
   "outputs": [],
   "source": [
    "aux = pd.concat([train.merge(df[um],on=um,how='inner')[um+vart+['r_score']].assign(muestra='ent'),\\\n",
    "val.merge(df[um],on=um,how='inner')[um+vart+['r_score']].assign(muestra='val'),\\\n",
    "test.merge(df[um],on=um,how='inner')[um+vart+['r_score']].assign(muestra='test')],ignore_index=True)"
   ]
  },
  {
   "cell_type": "code",
   "execution_count": 243,
   "id": "d210604e-cdd3-43f1-ae38-8a67460db9da",
   "metadata": {},
   "outputs": [
    {
     "data": {
      "text/html": [
       "<div>\n",
       "<style scoped>\n",
       "    .dataframe tbody tr th:only-of-type {\n",
       "        vertical-align: middle;\n",
       "    }\n",
       "\n",
       "    .dataframe tbody tr th {\n",
       "        vertical-align: top;\n",
       "    }\n",
       "\n",
       "    .dataframe thead th {\n",
       "        text-align: right;\n",
       "    }\n",
       "</style>\n",
       "<table border=\"1\" class=\"dataframe\">\n",
       "  <thead>\n",
       "    <tr style=\"text-align: right;\">\n",
       "      <th></th>\n",
       "      <th>linea</th>\n",
       "      <th>fecha</th>\n",
       "      <th>target</th>\n",
       "      <th>r_score</th>\n",
       "      <th>muestra</th>\n",
       "    </tr>\n",
       "  </thead>\n",
       "  <tbody>\n",
       "    <tr>\n",
       "      <th>0</th>\n",
       "      <td>7751448632</td>\n",
       "      <td>2021-05-29</td>\n",
       "      <td>1</td>\n",
       "      <td>(464.0, 594.0]</td>\n",
       "      <td>ent</td>\n",
       "    </tr>\n",
       "    <tr>\n",
       "      <th>1</th>\n",
       "      <td>7774500954</td>\n",
       "      <td>2021-08-01</td>\n",
       "      <td>0</td>\n",
       "      <td>(204.0, 334.0]</td>\n",
       "      <td>ent</td>\n",
       "    </tr>\n",
       "    <tr>\n",
       "      <th>2</th>\n",
       "      <td>5530454773</td>\n",
       "      <td>2021-12-05</td>\n",
       "      <td>1</td>\n",
       "      <td>(334.0, 464.0]</td>\n",
       "      <td>ent</td>\n",
       "    </tr>\n",
       "    <tr>\n",
       "      <th>3</th>\n",
       "      <td>3121388817</td>\n",
       "      <td>2021-06-11</td>\n",
       "      <td>0</td>\n",
       "      <td>(724.0, 854.0]</td>\n",
       "      <td>ent</td>\n",
       "    </tr>\n",
       "    <tr>\n",
       "      <th>4</th>\n",
       "      <td>4775647699</td>\n",
       "      <td>2021-07-24</td>\n",
       "      <td>1</td>\n",
       "      <td>(334.0, 464.0]</td>\n",
       "      <td>ent</td>\n",
       "    </tr>\n",
       "    <tr>\n",
       "      <th>...</th>\n",
       "      <td>...</td>\n",
       "      <td>...</td>\n",
       "      <td>...</td>\n",
       "      <td>...</td>\n",
       "      <td>...</td>\n",
       "    </tr>\n",
       "    <tr>\n",
       "      <th>98356</th>\n",
       "      <td>9999940590</td>\n",
       "      <td>2021-12-16</td>\n",
       "      <td>0</td>\n",
       "      <td>(594.0, 724.0]</td>\n",
       "      <td>test</td>\n",
       "    </tr>\n",
       "    <tr>\n",
       "      <th>98357</th>\n",
       "      <td>9999945098</td>\n",
       "      <td>2021-12-11</td>\n",
       "      <td>0</td>\n",
       "      <td>(594.0, 724.0]</td>\n",
       "      <td>test</td>\n",
       "    </tr>\n",
       "    <tr>\n",
       "      <th>98358</th>\n",
       "      <td>9999950074</td>\n",
       "      <td>2021-12-16</td>\n",
       "      <td>0</td>\n",
       "      <td>(464.0, 594.0]</td>\n",
       "      <td>test</td>\n",
       "    </tr>\n",
       "    <tr>\n",
       "      <th>98359</th>\n",
       "      <td>9999966195</td>\n",
       "      <td>2021-12-17</td>\n",
       "      <td>0</td>\n",
       "      <td>(464.0, 594.0]</td>\n",
       "      <td>test</td>\n",
       "    </tr>\n",
       "    <tr>\n",
       "      <th>98360</th>\n",
       "      <td>9999982800</td>\n",
       "      <td>2021-12-13</td>\n",
       "      <td>0</td>\n",
       "      <td>(464.0, 594.0]</td>\n",
       "      <td>test</td>\n",
       "    </tr>\n",
       "  </tbody>\n",
       "</table>\n",
       "<p>98361 rows × 5 columns</p>\n",
       "</div>"
      ],
      "text/plain": [
       "            linea       fecha  target         r_score muestra\n",
       "0      7751448632  2021-05-29       1  (464.0, 594.0]     ent\n",
       "1      7774500954  2021-08-01       0  (204.0, 334.0]     ent\n",
       "2      5530454773  2021-12-05       1  (334.0, 464.0]     ent\n",
       "3      3121388817  2021-06-11       0  (724.0, 854.0]     ent\n",
       "4      4775647699  2021-07-24       1  (334.0, 464.0]     ent\n",
       "...           ...         ...     ...             ...     ...\n",
       "98356  9999940590  2021-12-16       0  (594.0, 724.0]    test\n",
       "98357  9999945098  2021-12-11       0  (594.0, 724.0]    test\n",
       "98358  9999950074  2021-12-16       0  (464.0, 594.0]    test\n",
       "98359  9999966195  2021-12-17       0  (464.0, 594.0]    test\n",
       "98360  9999982800  2021-12-13       0  (464.0, 594.0]    test\n",
       "\n",
       "[98361 rows x 5 columns]"
      ]
     },
     "execution_count": 243,
     "metadata": {},
     "output_type": "execute_result"
    }
   ],
   "source": [
    "aux"
   ]
  },
  {
   "cell_type": "code",
   "execution_count": 244,
   "id": "green-sudan",
   "metadata": {
    "ExecuteTime": {
     "end_time": "2021-11-27T17:50:29.656551Z",
     "start_time": "2021-11-27T17:50:29.470273Z"
    }
   },
   "outputs": [],
   "source": [
    "aux['fecha'] = pd.to_datetime(aux['fecha']).map(lambda x:x.strftime('%Y%m'))"
   ]
  },
  {
   "cell_type": "code",
   "execution_count": 248,
   "id": "known-stranger",
   "metadata": {
    "ExecuteTime": {
     "end_time": "2021-11-27T17:50:29.883313Z",
     "start_time": "2021-11-27T17:50:29.783026Z"
    }
   },
   "outputs": [],
   "source": [
    "aux.groupby(['fecha','r_score','muestra','target']).count().to_clipboard()"
   ]
  },
  {
   "cell_type": "code",
   "execution_count": 246,
   "id": "guided-convert",
   "metadata": {},
   "outputs": [
    {
     "data": {
      "text/plain": [
       "0    0.912023\n",
       "1    0.087977\n",
       "Name: target, dtype: float64"
      ]
     },
     "execution_count": 246,
     "metadata": {},
     "output_type": "execute_result"
    }
   ],
   "source": [
    "df['target'].value_counts(1)"
   ]
  },
  {
   "cell_type": "code",
   "execution_count": 247,
   "id": "9fac94de-3ab0-4824-952a-48b71ee4617b",
   "metadata": {},
   "outputs": [
    {
     "data": {
      "text/plain": [
       "(594.0, 724.0]     29132\n",
       "(464.0, 594.0]     25393\n",
       "(334.0, 464.0]     22774\n",
       "(724.0, 854.0]     12638\n",
       "(204.0, 334.0]      4439\n",
       "(854.0, 984.0]      2607\n",
       "(73.999, 204.0]     1001\n",
       "(984.0, 1114.0]      338\n",
       "Name: r_score, dtype: int64"
      ]
     },
     "execution_count": 247,
     "metadata": {},
     "output_type": "execute_result"
    }
   ],
   "source": [
    "aux['r_score'].value_counts()"
   ]
  },
  {
   "cell_type": "code",
   "execution_count": null,
   "id": "7b03f1c0-9520-4e98-86f4-e313b744d409",
   "metadata": {},
   "outputs": [],
   "source": []
  }
 ],
 "metadata": {
  "kernelspec": {
   "display_name": "Python 3",
   "language": "python",
   "name": "python3"
  },
  "language_info": {
   "codemirror_mode": {
    "name": "ipython",
    "version": 3
   },
   "file_extension": ".py",
   "mimetype": "text/x-python",
   "name": "python",
   "nbconvert_exporter": "python",
   "pygments_lexer": "ipython3",
   "version": "3.8.8"
  },
  "toc": {
   "base_numbering": 1,
   "nav_menu": {},
   "number_sections": true,
   "sideBar": true,
   "skip_h1_title": false,
   "title_cell": "Table of Contents",
   "title_sidebar": "Contents",
   "toc_cell": false,
   "toc_position": {
    "height": "calc(100% - 180px)",
    "left": "10px",
    "top": "150px",
    "width": "279.273px"
   },
   "toc_section_display": true,
   "toc_window_display": true
  }
 },
 "nbformat": 4,
 "nbformat_minor": 5
}
