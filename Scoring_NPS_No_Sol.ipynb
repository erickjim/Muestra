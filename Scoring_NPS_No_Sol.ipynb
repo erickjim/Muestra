{
 "cells": [
  {
   "cell_type": "markdown",
   "id": "saving-tiger",
   "metadata": {},
   "source": [
    "## Dependencias"
   ]
  },
  {
   "cell_type": "code",
   "execution_count": 1,
   "id": "victorian-diversity",
   "metadata": {
    "ExecuteTime": {
     "end_time": "2021-11-27T17:48:22.126760Z",
     "start_time": "2021-11-27T17:48:20.965380Z"
    }
   },
   "outputs": [
    {
     "data": {
      "text/html": [
       "        <script type=\"text/javascript\">\n",
       "        window.PlotlyConfig = {MathJaxConfig: 'local'};\n",
       "        if (window.MathJax) {MathJax.Hub.Config({SVG: {font: \"STIX-Web\"}});}\n",
       "        if (typeof require !== 'undefined') {\n",
       "        require.undef(\"plotly\");\n",
       "        requirejs.config({\n",
       "            paths: {\n",
       "                'plotly': ['https://cdn.plot.ly/plotly-2.2.0.min']\n",
       "            }\n",
       "        });\n",
       "        require(['plotly'], function(Plotly) {\n",
       "            window._Plotly = Plotly;\n",
       "        });\n",
       "        }\n",
       "        </script>\n",
       "        "
      ]
     },
     "metadata": {},
     "output_type": "display_data"
    }
   ],
   "source": [
    "import numpy as np\n",
    "import pandas as pd\n",
    "import os\n",
    "import json\n",
    "from sqlalchemy.engine import create_engine\n",
    "\n",
    "import matplotlib.pyplot as plt\n",
    "import seaborn as sns\n",
    "import cufflinks as cf\n",
    "from scikitplot.metrics import plot_roc\n",
    "\n",
    "from sklearn.impute import SimpleImputer\n",
    "from sklearn.preprocessing import MinMaxScaler\n",
    "from sklearn.feature_selection import VarianceThreshold\n",
    "from sklearn.preprocessing import KBinsDiscretizer\n",
    "from sklearn.model_selection import train_test_split\n",
    "from sklearn.linear_model import LogisticRegression\n",
    "from sklearn.metrics import roc_auc_score\n",
    "\n",
    "\n",
    "from scipy import stats\n",
    "from varclushi import VarClusHi\n",
    "\n",
    "from functools import reduce\n",
    "\n",
    "import pickle\n",
    "import asyncio\n",
    "import warnings\n",
    "\n",
    "warnings.filterwarnings('ignore')\n",
    "pd.set_option('display.max_columns',None)\n",
    "cf.go_offline()"
   ]
  },
  {
   "cell_type": "code",
   "execution_count": 2,
   "id": "immune-portuguese",
   "metadata": {
    "ExecuteTime": {
     "end_time": "2021-11-27T17:48:22.131002Z",
     "start_time": "2021-11-27T17:48:22.127898Z"
    }
   },
   "outputs": [],
   "source": [
    "def freq(df,var):\n",
    "    if type(var)!=list:\n",
    "        var = [var]\n",
    "    for v in var:\n",
    "        aux = df[v].value_counts().sort_index().to_frame().rename(columns={v:'FA'})\n",
    "        aux['FR'] = aux['FA']/aux['FA'].sum()\n",
    "        aux[['FAA','FRA']] = aux.apply(np.cumsum)\n",
    "        print(\"Tabla de frecuencias para la variable **\",v,\"**\",\"\\n\"*2)\n",
    "        print(aux,\"\\n\"*2)"
   ]
  },
  {
   "cell_type": "code",
   "execution_count": 3,
   "id": "aba0ef68-3652-42c0-9270-03ec6d072ae7",
   "metadata": {},
   "outputs": [],
   "source": [
    "dic=pd.read_excel('SIMAEC_NPS_Dic.xlsx')\n",
    "nov=pd.read_excel('SIMAEC_NPS_Nov.xlsx')\n",
    "oc= pd.read_excel('SIMAEC_NPS_Oct.xlsx')\n",
    "sep=pd.read_excel('SIMAEC_NPS_Sep.xlsx')\n",
    "ago=pd.read_excel('SIMAEC_NPS_Ago.xlsx')\n",
    "jul=pd.read_excel('SIMAEC_NPS_Jul.xlsx')\n",
    "jun=pd.read_excel('SIMAEC_NPS_Jun.xlsx')\n",
    "may=pd.read_excel('SIMAEC_NPS_May.xlsx')\n",
    "abr=pd.read_excel('SIMAEC_NPS_Abr.xlsx')\n",
    "mar=pd.read_excel('SIMAEC_NPS_Mar.xlsx')\n",
    "feb=pd.read_excel('SIMAEC_NPS_Feb.xlsx')\n",
    "ene=pd.read_excel('SIMAEC_NPS_Ene.xlsx')"
   ]
  },
  {
   "cell_type": "code",
   "execution_count": 92,
   "id": "147d7cd5-2be3-4b66-af4d-d19c86031710",
   "metadata": {},
   "outputs": [],
   "source": [
    "df=pd.concat([ene,feb,mar,abr,may,jun,jul,ago,sep,oc,nov,dic])"
   ]
  },
  {
   "cell_type": "code",
   "execution_count": 93,
   "id": "f143e2e5-2664-4438-996b-7b8ae0a50043",
   "metadata": {},
   "outputs": [
    {
     "data": {
      "text/plain": [
       "(426630, 11)"
      ]
     },
     "execution_count": 93,
     "metadata": {},
     "output_type": "execute_result"
    }
   ],
   "source": [
    "df.shape"
   ]
  },
  {
   "cell_type": "code",
   "execution_count": 6,
   "id": "2c1bf082-ab1a-46eb-9780-028158064bc8",
   "metadata": {},
   "outputs": [
    {
     "name": "stdout",
     "output_type": "stream",
     "text": [
      "Encuesta CAC F_22 diciembre 2021_12.49.csv\n",
      "Encuesta CAC F_23 diciembre 2021_17.34.csv\n",
      "Encuesta CAC F_24 diciembre 2021_12.52.csv\n",
      "Encuesta CAC F_24 diciembre 2021_13.00.csv\n"
     ]
    }
   ],
   "source": [
    "a=[]\n",
    "for file in os.listdir(r'C:\\Users\\VDMG015\\Documents\\Esteban\\Tramites\\Datos'):\n",
    "        cdmx = pd.read_csv('Datos/'+file, dtype='str', usecols=['StartDate','telefonoUsuario','Q6'])\n",
    "        cdmx = cdmx.iloc[2:].reset_index(drop=True)\n",
    "        cdmx['StartDate']=pd.to_datetime(cdmx['StartDate'], format='%Y-%m-%d')\n",
    "        cdmx['StartDate']=cdmx['StartDate'].dt.date\n",
    "        cdmx = cdmx.rename(columns={'telefonoUsuario':'linea','StartDate':'fecha','Q6':'Solucion'})\n",
    "        cdmx['fecha'] = cdmx['fecha'].astype(str)\n",
    "        cdmx['Solucion'] = cdmx['Solucion'].replace({'Sí, y estoy satisfecho con el resultado.':'Sí', 'Sí, pero no estoy satisfecho con el resultado.':'Sí','No, mi requerimiento/trámite no se resolvió.':'No' })\n",
    "        print(file)\n",
    "        a.append(cdmx)\n",
    "qx=pd.concat(a)"
   ]
  },
  {
   "cell_type": "code",
   "execution_count": 7,
   "id": "4384ef38-a6ac-49a3-a4ae-39143f786a0d",
   "metadata": {},
   "outputs": [
    {
     "data": {
      "text/plain": [
       "((875429, 3), (879918, 3))"
      ]
     },
     "execution_count": 7,
     "metadata": {},
     "output_type": "execute_result"
    }
   ],
   "source": [
    "qx.drop_duplicates().shape, qx.shape"
   ]
  },
  {
   "cell_type": "code",
   "execution_count": 94,
   "id": "9d1dc015-e198-4be7-bd47-8b8b678c2826",
   "metadata": {},
   "outputs": [],
   "source": [
    "qx=qx.drop_duplicates().reset_index(drop=True)"
   ]
  },
  {
   "cell_type": "code",
   "execution_count": 95,
   "id": "0b53b1e7-c8b8-4d27-806b-ce2c69d4dc32",
   "metadata": {},
   "outputs": [],
   "source": [
    "df['region']=df['region'].astype(str)"
   ]
  },
  {
   "cell_type": "code",
   "execution_count": 96,
   "id": "11ed9968-5d73-40d0-967a-87e62a6ee552",
   "metadata": {},
   "outputs": [],
   "source": [
    "df['tramites']=df['tramites'].astype(str)"
   ]
  },
  {
   "cell_type": "code",
   "execution_count": 97,
   "id": "6979d349-9081-4218-a132-7e645a68b570",
   "metadata": {},
   "outputs": [],
   "source": [
    "df['linea'] = df['linea'].astype(str)"
   ]
  },
  {
   "cell_type": "code",
   "execution_count": 98,
   "id": "a2bfd39d-119c-4718-969f-19048daea0e9",
   "metadata": {},
   "outputs": [],
   "source": [
    "df=df.merge(qx)"
   ]
  },
  {
   "cell_type": "code",
   "execution_count": 99,
   "id": "6eef836f-bd57-45fb-be95-529a8947655e",
   "metadata": {},
   "outputs": [],
   "source": [
    "df=df[df['NPS_Asesor'].isin(['Detractor','Promotor'])].reset_index(drop=True)\n",
    "df=df.dropna().reset_index(drop=True)"
   ]
  },
  {
   "cell_type": "code",
   "execution_count": 100,
   "id": "bc92252d-03b3-4c88-a517-11dc95a778dc",
   "metadata": {},
   "outputs": [],
   "source": [
    "df=df.rename(columns={'tiempo_espera':'c_tiempo_espera','tiempo_tramite':'c_tiempo_tramite','motivo':'d_motivo'})"
   ]
  },
  {
   "cell_type": "code",
   "execution_count": 101,
   "id": "19749578-c722-4a0b-8784-72f878677cf3",
   "metadata": {},
   "outputs": [],
   "source": [
    "df['target']=(df['NPS_Asesor']=='Promotor').astype(int)"
   ]
  },
  {
   "cell_type": "code",
   "execution_count": 102,
   "id": "ca108cd7-bcc8-4e7d-b070-8651bdfc86af",
   "metadata": {},
   "outputs": [],
   "source": [
    "df=df[df['Solucion']=='No'].reset_index(drop=True)"
   ]
  },
  {
   "cell_type": "markdown",
   "id": "likely-sudan",
   "metadata": {},
   "source": [
    "## Variables"
   ]
  },
  {
   "cell_type": "code",
   "execution_count": 103,
   "id": "aging-stopping",
   "metadata": {
    "ExecuteTime": {
     "end_time": "2021-11-27T17:48:28.378793Z",
     "start_time": "2021-11-27T17:48:28.359837Z"
    }
   },
   "outputs": [
    {
     "data": {
      "text/plain": [
       "(2, 1)"
      ]
     },
     "execution_count": 103,
     "metadata": {},
     "output_type": "execute_result"
    }
   ],
   "source": [
    "um = ['linea','fecha']\n",
    "varc = [v for v in df.columns if v[:2]=='c_']\n",
    "vard = [v for v in df.columns if v[:2]=='d_']\n",
    "vart =['target']\n",
    "len(varc),len(vard)"
   ]
  },
  {
   "cell_type": "code",
   "execution_count": 104,
   "id": "ed9fb10f-2626-4919-83b4-5670bbeea2bb",
   "metadata": {},
   "outputs": [],
   "source": [
    "df=df.drop_duplicates(um).reset_index(drop=True)"
   ]
  },
  {
   "cell_type": "markdown",
   "id": "infrared-perspective",
   "metadata": {},
   "source": [
    "## Análisis Exploratorio"
   ]
  },
  {
   "cell_type": "markdown",
   "id": "upset-catholic",
   "metadata": {},
   "source": [
    "#### Varianza Nula"
   ]
  },
  {
   "cell_type": "code",
   "execution_count": 105,
   "id": "exceptional-maldives",
   "metadata": {
    "ExecuteTime": {
     "end_time": "2021-11-27T17:48:35.309862Z",
     "start_time": "2021-11-27T17:48:35.170888Z"
    }
   },
   "outputs": [
    {
     "data": {
      "text/plain": [
       "VarianceThreshold()"
      ]
     },
     "execution_count": 105,
     "metadata": {},
     "output_type": "execute_result"
    }
   ],
   "source": [
    "vt = VarianceThreshold()\n",
    "vt.fit(df[varc])"
   ]
  },
  {
   "cell_type": "code",
   "execution_count": 106,
   "id": "9b935d0a-910b-4754-a2c5-e016b533af71",
   "metadata": {},
   "outputs": [
    {
     "data": {
      "text/html": [
       "<div>\n",
       "<style scoped>\n",
       "    .dataframe tbody tr th:only-of-type {\n",
       "        vertical-align: middle;\n",
       "    }\n",
       "\n",
       "    .dataframe tbody tr th {\n",
       "        vertical-align: top;\n",
       "    }\n",
       "\n",
       "    .dataframe thead th {\n",
       "        text-align: right;\n",
       "    }\n",
       "</style>\n",
       "<table border=\"1\" class=\"dataframe\">\n",
       "  <thead>\n",
       "    <tr style=\"text-align: right;\">\n",
       "      <th></th>\n",
       "      <th>c_tiempo_espera</th>\n",
       "      <th>c_tiempo_tramite</th>\n",
       "    </tr>\n",
       "  </thead>\n",
       "  <tbody>\n",
       "    <tr>\n",
       "      <th>0</th>\n",
       "      <td>57</td>\n",
       "      <td>557</td>\n",
       "    </tr>\n",
       "    <tr>\n",
       "      <th>1</th>\n",
       "      <td>462</td>\n",
       "      <td>1998</td>\n",
       "    </tr>\n",
       "    <tr>\n",
       "      <th>2</th>\n",
       "      <td>65</td>\n",
       "      <td>80</td>\n",
       "    </tr>\n",
       "    <tr>\n",
       "      <th>3</th>\n",
       "      <td>276</td>\n",
       "      <td>1735</td>\n",
       "    </tr>\n",
       "    <tr>\n",
       "      <th>4</th>\n",
       "      <td>3483</td>\n",
       "      <td>1275</td>\n",
       "    </tr>\n",
       "    <tr>\n",
       "      <th>...</th>\n",
       "      <td>...</td>\n",
       "      <td>...</td>\n",
       "    </tr>\n",
       "    <tr>\n",
       "      <th>66767</th>\n",
       "      <td>36</td>\n",
       "      <td>1238</td>\n",
       "    </tr>\n",
       "    <tr>\n",
       "      <th>66768</th>\n",
       "      <td>31</td>\n",
       "      <td>4675</td>\n",
       "    </tr>\n",
       "    <tr>\n",
       "      <th>66769</th>\n",
       "      <td>30</td>\n",
       "      <td>1037</td>\n",
       "    </tr>\n",
       "    <tr>\n",
       "      <th>66770</th>\n",
       "      <td>572</td>\n",
       "      <td>394</td>\n",
       "    </tr>\n",
       "    <tr>\n",
       "      <th>66771</th>\n",
       "      <td>754</td>\n",
       "      <td>744</td>\n",
       "    </tr>\n",
       "  </tbody>\n",
       "</table>\n",
       "<p>66772 rows × 2 columns</p>\n",
       "</div>"
      ],
      "text/plain": [
       "       c_tiempo_espera  c_tiempo_tramite\n",
       "0                   57               557\n",
       "1                  462              1998\n",
       "2                   65                80\n",
       "3                  276              1735\n",
       "4                 3483              1275\n",
       "...                ...               ...\n",
       "66767               36              1238\n",
       "66768               31              4675\n",
       "66769               30              1037\n",
       "66770              572               394\n",
       "66771              754               744\n",
       "\n",
       "[66772 rows x 2 columns]"
      ]
     },
     "execution_count": 106,
     "metadata": {},
     "output_type": "execute_result"
    }
   ],
   "source": [
    "df[varc]"
   ]
  },
  {
   "cell_type": "code",
   "execution_count": 107,
   "id": "b3cb705a-1589-4a76-af97-c17c33c0eb5a",
   "metadata": {},
   "outputs": [
    {
     "data": {
      "text/plain": [
       "array([[  57,  557],\n",
       "       [ 462, 1998],\n",
       "       [  65,   80],\n",
       "       ...,\n",
       "       [  30, 1037],\n",
       "       [ 572,  394],\n",
       "       [ 754,  744]], dtype=int64)"
      ]
     },
     "execution_count": 107,
     "metadata": {},
     "output_type": "execute_result"
    }
   ],
   "source": [
    "vt.transform(df[varc])"
   ]
  },
  {
   "cell_type": "code",
   "execution_count": 108,
   "id": "julian-nickel",
   "metadata": {
    "ExecuteTime": {
     "end_time": "2021-11-27T17:48:35.366270Z",
     "start_time": "2021-11-27T17:48:35.311219Z"
    }
   },
   "outputs": [
    {
     "data": {
      "text/plain": [
       "2"
      ]
     },
     "execution_count": 108,
     "metadata": {},
     "output_type": "execute_result"
    }
   ],
   "source": [
    "varc = [v for v,f in zip(varc,vt.get_support()) if f]\n",
    "len(varc)"
   ]
  },
  {
   "cell_type": "code",
   "execution_count": 109,
   "id": "convinced-franklin",
   "metadata": {
    "ExecuteTime": {
     "end_time": "2021-11-27T17:48:42.923035Z",
     "start_time": "2021-11-27T17:48:42.776263Z"
    }
   },
   "outputs": [
    {
     "data": {
      "text/plain": [
       "['c_tiempo_espera', 'c_tiempo_tramite']"
      ]
     },
     "execution_count": 109,
     "metadata": {},
     "output_type": "execute_result"
    }
   ],
   "source": [
    "varc"
   ]
  },
  {
   "cell_type": "markdown",
   "id": "alpha-civilian",
   "metadata": {},
   "source": [
    "#### Discretización"
   ]
  },
  {
   "cell_type": "code",
   "execution_count": 110,
   "id": "e0b00104-6eab-4103-a9ae-32d1b5aa11cb",
   "metadata": {},
   "outputs": [],
   "source": [
    "df['d_c_tiempo_espera']=pd.cut(df['c_tiempo_espera'],bins=[0]+[(30*2**x) for x in range(5)]+[900, np.inf],right=True, labels=['(0 - 30seg]', '(30seg - 1min]', '(1min - 2min]', '(2min - 4min]', '(4min - 8min]', '(8min - 15min]', '+15']).astype(str)\n",
    "df['d_c_tiempo_tramite']=pd.cut(df['c_tiempo_tramite'],bins=[x*60 for x in range(0,70,10)] + [np.inf],right=True, labels=['(0 - 10min]', '(10min - 20min]', '(20min - 30min]', '(30min - 40min]', '(40min - 50min]', '(50min - 60min]', '+1hr']).astype(str)"
   ]
  },
  {
   "cell_type": "code",
   "execution_count": 125,
   "id": "suited-flood",
   "metadata": {
    "ExecuteTime": {
     "end_time": "2021-11-27T17:48:43.021102Z",
     "start_time": "2021-11-27T17:48:42.924361Z"
    },
    "jupyter": {
     "source_hidden": true
    },
    "tags": []
   },
   "outputs": [],
   "source": [
    "def discretizar(k,metodo,variable):\n",
    "    nm = df[um+[variable]].copy()\n",
    "\n",
    "    kb = KBinsDiscretizer(n_bins=k,encode='ordinal',strategy=metodo)\n",
    "    kb.fit(nm[[variable]])\n",
    "\n",
    "    nm['d'] = kb.transform(nm[[variable]])\n",
    "    mapa = dict(zip(range(k),['%02d. |%.1f---%.1f|'%(i+1,*s) for i,s in enumerate(list(zip(kb.bin_edges_[0],kb.bin_edges_[0][1:])))]))\n",
    "    nm['d'].replace(mapa,inplace=True)\n",
    "    nombre = f'd_{metodo[0]}_{k}_{variable}'\n",
    "    nm = nm[um+['d']].rename(columns={'d':nombre})\n",
    "    \n",
    "    return nm"
   ]
  },
  {
   "cell_type": "code",
   "execution_count": 126,
   "id": "e5bce7c9-7fcb-4cd3-bf1c-c76e3525f2b8",
   "metadata": {
    "jupyter": {
     "source_hidden": true
    },
    "tags": []
   },
   "outputs": [],
   "source": [
    "l=[]\n",
    "for i in [(k,m,v) for k in range(2,6) for m in ['quantile','uniform'] for v in varc]:\n",
    "    a,b,c=i\n",
    "    l.append(discretizar(a,b,c).iloc[:,2])"
   ]
  },
  {
   "cell_type": "code",
   "execution_count": 127,
   "id": "174acd99-5462-4afc-99c5-7c6e67e56f77",
   "metadata": {
    "jupyter": {
     "source_hidden": true
    },
    "tags": []
   },
   "outputs": [],
   "source": [
    "dfd=pd.concat(l,axis=1)"
   ]
  },
  {
   "cell_type": "code",
   "execution_count": 128,
   "id": "6636af66-a718-4f06-8cf9-af104a4bdb1e",
   "metadata": {
    "jupyter": {
     "source_hidden": true
    },
    "tags": []
   },
   "outputs": [],
   "source": [
    "dfd[um]=df[um]"
   ]
  },
  {
   "cell_type": "code",
   "execution_count": 111,
   "id": "classified-beaver",
   "metadata": {
    "ExecuteTime": {
     "end_time": "2021-11-27T17:48:58.381118Z",
     "start_time": "2021-11-27T17:48:58.378162Z"
    }
   },
   "outputs": [],
   "source": [
    "varcd = ['d_c_tiempo_tramite','d_c_tiempo_espera']"
   ]
  },
  {
   "cell_type": "code",
   "execution_count": 112,
   "id": "740fe454-0dea-43e4-800c-7b26cf1555ec",
   "metadata": {},
   "outputs": [
    {
     "data": {
      "text/html": [
       "<div>\n",
       "<style scoped>\n",
       "    .dataframe tbody tr th:only-of-type {\n",
       "        vertical-align: middle;\n",
       "    }\n",
       "\n",
       "    .dataframe tbody tr th {\n",
       "        vertical-align: top;\n",
       "    }\n",
       "\n",
       "    .dataframe thead th {\n",
       "        text-align: right;\n",
       "    }\n",
       "</style>\n",
       "<table border=\"1\" class=\"dataframe\">\n",
       "  <thead>\n",
       "    <tr style=\"text-align: right;\">\n",
       "      <th></th>\n",
       "      <th>linea</th>\n",
       "      <th>fecha</th>\n",
       "      <th>c_tiempo_espera</th>\n",
       "      <th>c_tiempo_tramite</th>\n",
       "      <th>tramites</th>\n",
       "      <th>d_motivo</th>\n",
       "      <th>cac</th>\n",
       "      <th>region</th>\n",
       "      <th>Asesor</th>\n",
       "      <th>NPS_Asesor</th>\n",
       "      <th>NPS_CAC</th>\n",
       "      <th>Solucion</th>\n",
       "      <th>target</th>\n",
       "      <th>d_c_tiempo_espera</th>\n",
       "      <th>d_c_tiempo_tramite</th>\n",
       "    </tr>\n",
       "  </thead>\n",
       "  <tbody>\n",
       "    <tr>\n",
       "      <th>0</th>\n",
       "      <td>2211088321</td>\n",
       "      <td>2021-01-25</td>\n",
       "      <td>57</td>\n",
       "      <td>557</td>\n",
       "      <td>1</td>\n",
       "      <td>T INFORMES DE CONTRATACION Y PRECIOS DE EQUIPOS</td>\n",
       "      <td>SAN PEDRO</td>\n",
       "      <td>7</td>\n",
       "      <td>PAC29AA</td>\n",
       "      <td>Detractor</td>\n",
       "      <td>Detractor</td>\n",
       "      <td>No</td>\n",
       "      <td>0</td>\n",
       "      <td>(30seg - 1min]</td>\n",
       "      <td>(0 - 10min]</td>\n",
       "    </tr>\n",
       "    <tr>\n",
       "      <th>1</th>\n",
       "      <td>2211757242</td>\n",
       "      <td>2021-01-14</td>\n",
       "      <td>462</td>\n",
       "      <td>1998</td>\n",
       "      <td>2</td>\n",
       "      <td>A INFORME DE TARIFAS DE VOZ Y DATOS</td>\n",
       "      <td>PUEBLA V</td>\n",
       "      <td>7</td>\n",
       "      <td>PACCA54</td>\n",
       "      <td>Detractor</td>\n",
       "      <td>Detractor</td>\n",
       "      <td>No</td>\n",
       "      <td>0</td>\n",
       "      <td>(4min - 8min]</td>\n",
       "      <td>(30min - 40min]</td>\n",
       "    </tr>\n",
       "    <tr>\n",
       "      <th>2</th>\n",
       "      <td>2211963790</td>\n",
       "      <td>2021-01-28</td>\n",
       "      <td>65</td>\n",
       "      <td>80</td>\n",
       "      <td>1</td>\n",
       "      <td>T MIGRACION A PREPAGO</td>\n",
       "      <td>CAC AMALUCAN</td>\n",
       "      <td>7</td>\n",
       "      <td>PAC7BA5</td>\n",
       "      <td>Detractor</td>\n",
       "      <td>Detractor</td>\n",
       "      <td>No</td>\n",
       "      <td>0</td>\n",
       "      <td>(1min - 2min]</td>\n",
       "      <td>(0 - 10min]</td>\n",
       "    </tr>\n",
       "    <tr>\n",
       "      <th>3</th>\n",
       "      <td>2212022505</td>\n",
       "      <td>2021-01-05</td>\n",
       "      <td>276</td>\n",
       "      <td>1735</td>\n",
       "      <td>1</td>\n",
       "      <td>T POR CIRCULO AZUL</td>\n",
       "      <td>PUE II SAN ANGEL</td>\n",
       "      <td>7</td>\n",
       "      <td>PACB267</td>\n",
       "      <td>Detractor</td>\n",
       "      <td>Detractor</td>\n",
       "      <td>No</td>\n",
       "      <td>0</td>\n",
       "      <td>(4min - 8min]</td>\n",
       "      <td>(20min - 30min]</td>\n",
       "    </tr>\n",
       "    <tr>\n",
       "      <th>4</th>\n",
       "      <td>2212035422</td>\n",
       "      <td>2021-01-17</td>\n",
       "      <td>3483</td>\n",
       "      <td>1275</td>\n",
       "      <td>1</td>\n",
       "      <td>T COTIZACION DE PUNTOS DE CIRCULO AZUL</td>\n",
       "      <td>HUEXOTITLA</td>\n",
       "      <td>7</td>\n",
       "      <td>PAC10592</td>\n",
       "      <td>Detractor</td>\n",
       "      <td>Detractor</td>\n",
       "      <td>No</td>\n",
       "      <td>0</td>\n",
       "      <td>+15</td>\n",
       "      <td>(20min - 30min]</td>\n",
       "    </tr>\n",
       "    <tr>\n",
       "      <th>...</th>\n",
       "      <td>...</td>\n",
       "      <td>...</td>\n",
       "      <td>...</td>\n",
       "      <td>...</td>\n",
       "      <td>...</td>\n",
       "      <td>...</td>\n",
       "      <td>...</td>\n",
       "      <td>...</td>\n",
       "      <td>...</td>\n",
       "      <td>...</td>\n",
       "      <td>...</td>\n",
       "      <td>...</td>\n",
       "      <td>...</td>\n",
       "      <td>...</td>\n",
       "      <td>...</td>\n",
       "    </tr>\n",
       "    <tr>\n",
       "      <th>66767</th>\n",
       "      <td>9999693514</td>\n",
       "      <td>2021-12-10</td>\n",
       "      <td>36</td>\n",
       "      <td>1238</td>\n",
       "      <td>1</td>\n",
       "      <td>COTIZACION PARA RENOVACION.</td>\n",
       "      <td>GRAN PLAZA</td>\n",
       "      <td>8</td>\n",
       "      <td>RAC3574</td>\n",
       "      <td>Detractor</td>\n",
       "      <td>Detractor</td>\n",
       "      <td>No</td>\n",
       "      <td>0</td>\n",
       "      <td>(30seg - 1min]</td>\n",
       "      <td>(20min - 30min]</td>\n",
       "    </tr>\n",
       "    <tr>\n",
       "      <th>66768</th>\n",
       "      <td>9999931364</td>\n",
       "      <td>2021-12-03</td>\n",
       "      <td>31</td>\n",
       "      <td>4675</td>\n",
       "      <td>2</td>\n",
       "      <td>A VENTA DE AMIGO KIT</td>\n",
       "      <td>MERIDA IV</td>\n",
       "      <td>8</td>\n",
       "      <td>RAC9AF3</td>\n",
       "      <td>Promotor</td>\n",
       "      <td>Promotor</td>\n",
       "      <td>No</td>\n",
       "      <td>1</td>\n",
       "      <td>(30seg - 1min]</td>\n",
       "      <td>+1hr</td>\n",
       "    </tr>\n",
       "    <tr>\n",
       "      <th>66769</th>\n",
       "      <td>9999974393</td>\n",
       "      <td>2021-12-11</td>\n",
       "      <td>30</td>\n",
       "      <td>1037</td>\n",
       "      <td>1</td>\n",
       "      <td>T PROPIO (SWITCHEO)</td>\n",
       "      <td>CAC MERIDA V ALTABRISA</td>\n",
       "      <td>8</td>\n",
       "      <td>RACED45</td>\n",
       "      <td>Detractor</td>\n",
       "      <td>Detractor</td>\n",
       "      <td>No</td>\n",
       "      <td>0</td>\n",
       "      <td>(0 - 30seg]</td>\n",
       "      <td>(10min - 20min]</td>\n",
       "    </tr>\n",
       "    <tr>\n",
       "      <th>66770</th>\n",
       "      <td>9999975058</td>\n",
       "      <td>2021-12-08</td>\n",
       "      <td>572</td>\n",
       "      <td>394</td>\n",
       "      <td>1</td>\n",
       "      <td>T SERVICIOS CON TERCEROS AGREGADORES</td>\n",
       "      <td>ITZAES</td>\n",
       "      <td>8</td>\n",
       "      <td>RAC33B7</td>\n",
       "      <td>Detractor</td>\n",
       "      <td>Detractor</td>\n",
       "      <td>No</td>\n",
       "      <td>0</td>\n",
       "      <td>(8min - 15min]</td>\n",
       "      <td>(0 - 10min]</td>\n",
       "    </tr>\n",
       "    <tr>\n",
       "      <th>66771</th>\n",
       "      <td>9999981332</td>\n",
       "      <td>2021-12-20</td>\n",
       "      <td>754</td>\n",
       "      <td>744</td>\n",
       "      <td>1</td>\n",
       "      <td>COTIZACION PARA RENOVACION.</td>\n",
       "      <td>PABELLON POLANCO</td>\n",
       "      <td>9</td>\n",
       "      <td>XOB10201</td>\n",
       "      <td>Detractor</td>\n",
       "      <td>Detractor</td>\n",
       "      <td>No</td>\n",
       "      <td>0</td>\n",
       "      <td>(8min - 15min]</td>\n",
       "      <td>(10min - 20min]</td>\n",
       "    </tr>\n",
       "  </tbody>\n",
       "</table>\n",
       "<p>66772 rows × 15 columns</p>\n",
       "</div>"
      ],
      "text/plain": [
       "            linea       fecha  c_tiempo_espera  c_tiempo_tramite tramites  \\\n",
       "0      2211088321  2021-01-25               57               557        1   \n",
       "1      2211757242  2021-01-14              462              1998        2   \n",
       "2      2211963790  2021-01-28               65                80        1   \n",
       "3      2212022505  2021-01-05              276              1735        1   \n",
       "4      2212035422  2021-01-17             3483              1275        1   \n",
       "...           ...         ...              ...               ...      ...   \n",
       "66767  9999693514  2021-12-10               36              1238        1   \n",
       "66768  9999931364  2021-12-03               31              4675        2   \n",
       "66769  9999974393  2021-12-11               30              1037        1   \n",
       "66770  9999975058  2021-12-08              572               394        1   \n",
       "66771  9999981332  2021-12-20              754               744        1   \n",
       "\n",
       "                                              d_motivo  \\\n",
       "0      T INFORMES DE CONTRATACION Y PRECIOS DE EQUIPOS   \n",
       "1                  A INFORME DE TARIFAS DE VOZ Y DATOS   \n",
       "2                                T MIGRACION A PREPAGO   \n",
       "3                                   T POR CIRCULO AZUL   \n",
       "4               T COTIZACION DE PUNTOS DE CIRCULO AZUL   \n",
       "...                                                ...   \n",
       "66767                      COTIZACION PARA RENOVACION.   \n",
       "66768                             A VENTA DE AMIGO KIT   \n",
       "66769                              T PROPIO (SWITCHEO)   \n",
       "66770             T SERVICIOS CON TERCEROS AGREGADORES   \n",
       "66771                      COTIZACION PARA RENOVACION.   \n",
       "\n",
       "                          cac region    Asesor NPS_Asesor    NPS_CAC Solucion  \\\n",
       "0                   SAN PEDRO      7   PAC29AA  Detractor  Detractor       No   \n",
       "1                    PUEBLA V      7   PACCA54  Detractor  Detractor       No   \n",
       "2                CAC AMALUCAN      7   PAC7BA5  Detractor  Detractor       No   \n",
       "3            PUE II SAN ANGEL      7   PACB267  Detractor  Detractor       No   \n",
       "4                  HUEXOTITLA      7  PAC10592  Detractor  Detractor       No   \n",
       "...                       ...    ...       ...        ...        ...      ...   \n",
       "66767              GRAN PLAZA      8   RAC3574  Detractor  Detractor       No   \n",
       "66768               MERIDA IV      8   RAC9AF3   Promotor   Promotor       No   \n",
       "66769  CAC MERIDA V ALTABRISA      8   RACED45  Detractor  Detractor       No   \n",
       "66770                  ITZAES      8   RAC33B7  Detractor  Detractor       No   \n",
       "66771        PABELLON POLANCO      9  XOB10201  Detractor  Detractor       No   \n",
       "\n",
       "       target d_c_tiempo_espera d_c_tiempo_tramite  \n",
       "0           0    (30seg - 1min]        (0 - 10min]  \n",
       "1           0     (4min - 8min]    (30min - 40min]  \n",
       "2           0     (1min - 2min]        (0 - 10min]  \n",
       "3           0     (4min - 8min]    (20min - 30min]  \n",
       "4           0               +15    (20min - 30min]  \n",
       "...       ...               ...                ...  \n",
       "66767       0    (30seg - 1min]    (20min - 30min]  \n",
       "66768       1    (30seg - 1min]               +1hr  \n",
       "66769       0       (0 - 30seg]    (10min - 20min]  \n",
       "66770       0    (8min - 15min]        (0 - 10min]  \n",
       "66771       0    (8min - 15min]    (10min - 20min]  \n",
       "\n",
       "[66772 rows x 15 columns]"
      ]
     },
     "execution_count": 112,
     "metadata": {},
     "output_type": "execute_result"
    }
   ],
   "source": [
    "df"
   ]
  },
  {
   "cell_type": "markdown",
   "id": "classical-trailer",
   "metadata": {},
   "source": [
    "### Discreto"
   ]
  },
  {
   "cell_type": "markdown",
   "id": "subtle-management",
   "metadata": {},
   "source": [
    "#### Normalización"
   ]
  },
  {
   "cell_type": "code",
   "execution_count": 113,
   "id": "focused-nightmare",
   "metadata": {
    "ExecuteTime": {
     "end_time": "2021-11-27T17:48:59.091385Z",
     "start_time": "2021-11-27T17:48:59.087940Z"
    }
   },
   "outputs": [],
   "source": [
    "def normalizar(df,v,umbral=10):\n",
    "    aux = df[v].value_counts(True).to_frame()\n",
    "    aux[f'norm_{v}'] = np.where(aux[v]<umbral,'PEQUEÑAS CATEGORÍAS',aux.index)\n",
    "    moda = aux.head(1)[f'norm_{v}'].values[0]\n",
    "    if aux.loc[aux[f'norm_{v}']=='PEQUEÑAS CATEGORÍAS'][v].sum()<umbral:\n",
    "        aux[f'norm_{v}'].replace({'PEQUEÑAS CATEGORÍAS':moda},inplace=True)\n",
    "    aux.drop(v,axis=1,inplace=True)\n",
    "    aux.reset_index(inplace=True)\n",
    "    return v,aux[aux['index']!=aux[f'norm_{v}']].set_index('index').to_dict()[f'norm_{v}']"
   ]
  },
  {
   "cell_type": "code",
   "execution_count": 114,
   "id": "5fc6357d-f373-468f-b2a0-3a4598abf313",
   "metadata": {},
   "outputs": [],
   "source": [
    "df['n_d_motivo']=df['d_motivo'].replace(normalizar(df,'d_motivo',0.005)[1])"
   ]
  },
  {
   "cell_type": "code",
   "execution_count": 115,
   "id": "demonstrated-chemical",
   "metadata": {
    "ExecuteTime": {
     "end_time": "2021-11-27T17:48:59.648493Z",
     "start_time": "2021-11-27T17:48:59.646580Z"
    }
   },
   "outputs": [],
   "source": [
    "varn = [v for v in df.columns if v[:2]=='n_']"
   ]
  },
  {
   "cell_type": "code",
   "execution_count": 116,
   "id": "listed-congress",
   "metadata": {
    "ExecuteTime": {
     "end_time": "2021-11-27T17:48:59.854046Z",
     "start_time": "2021-11-27T17:48:59.649336Z"
    }
   },
   "outputs": [
    {
     "name": "stdout",
     "output_type": "stream",
     "text": [
      "Tabla de frecuencias para la variable ** n_d_motivo ** \n",
      "\n",
      "\n",
      "                                                       FA        FR    FAA  \\\n",
      "A CONFIGURACION / FUNCIONES DEL EQUIPO                525  0.007863    525   \n",
      "A FICHA / RECARGA ELECTRONICA                         559  0.008372   1084   \n",
      "A INFORMES DE PORTABILIDAD                            496  0.007428   1580   \n",
      "A INFORMES DE PRECIOS DE EQUIPOS                      798  0.011951   2378   \n",
      "A INFORMES MIGRACION PREPAGO A POSTPAGO               428  0.006410   2806   \n",
      "A INGRESO Y ENTREGA DE EQUIPO (REVISION / REPAR...   1950  0.029204   4756   \n",
      "A POR ACTUALIZACION VERSION                           466  0.006979   5222   \n",
      "A POR ROBO Y/O EXTRAVIO                               451  0.006754   5673   \n",
      "A POR SALDO DE VOZ                                    981  0.014692   6654   \n",
      "A VENTA DE AMIGO KIT                                 1146  0.017163   7800   \n",
      "ACLARACION DE SALDO                                   615  0.009210   8415   \n",
      "C ACLARACION DE SALDOS POR DATOS A GRANEL             951  0.014242   9366   \n",
      "PEQUEÑAS CATEGORÍAS                                  8781  0.131507  18147   \n",
      "T ACLARACION DE SALDOS POR DATOS A GRANEL             898  0.013449  19045   \n",
      "T ALTA / BAJA DE SERVICIOS ADICIONALES                381  0.005706  19426   \n",
      "T CAMBIO DE FORMA DE PAGO                             384  0.005751  19810   \n",
      "T CAMBIO DE IMEI CON REACTIVACION                     518  0.007758  20328   \n",
      "T CAMBIO PLAN                                         345  0.005167  20673   \n",
      "T CARGO POR FIANZA                                    453  0.006784  21126   \n",
      "T CESION DE DERECHOS                                  804  0.012041  21930   \n",
      "T CONFIGURACION / FUNCIONES DEL EQUIPO                718  0.010753  22648   \n",
      "T CONTRATACION DE LINEA                              1138  0.017043  23786   \n",
      "T COTIZACION DE PUNTOS DE CIRCULO AZUL              14761  0.221066  38547   \n",
      "T DESEMPLEO / FALTA DE LIQUIDEZ                       833  0.012475  39380   \n",
      "T INFORMES DE CONTRATACION Y PRECIOS DE EQUIPOS      1752  0.026239  41132   \n",
      "T INFORMES DE TARIFA DE VOZ Y DATOS                  1740  0.026059  42872   \n",
      "T INGRESO Y ENTREGA DE EQUIPO (REVISION / REPAR...   2003  0.029998  44875   \n",
      "T MIGRACION A PREPAGO                                 494  0.007398  45369   \n",
      "T MONITOREO DE LINEA                                 1220  0.018271  46589   \n",
      "T POR ACTUALIZACION DE VERSION                        348  0.005212  46937   \n",
      "T POR CIRCULO AZUL                                   1901  0.028470  48838   \n",
      "T POR SALDO DE DATOS                                 2201  0.032963  51039   \n",
      "T POR SALDOS DE VOZ                                  8714  0.130504  59753   \n",
      "T PROBLEMAS CON DISTRIBUIDOR                          442  0.006620  60195   \n",
      "T PROPIO (SWITCHEO)                                   555  0.008312  60750   \n",
      "T RENOVACION (CIRCULO AZUL)                          4877  0.073040  65627   \n",
      "T VALE INBURSA                                        626  0.009375  66253   \n",
      "T VENTA DE EQUIPO PRECIO PUBLICO                      519  0.007773  66772   \n",
      "\n",
      "                                                         FRA  \n",
      "A CONFIGURACION / FUNCIONES DEL EQUIPO              0.007863  \n",
      "A FICHA / RECARGA ELECTRONICA                       0.016234  \n",
      "A INFORMES DE PORTABILIDAD                          0.023663  \n",
      "A INFORMES DE PRECIOS DE EQUIPOS                    0.035614  \n",
      "A INFORMES MIGRACION PREPAGO A POSTPAGO             0.042024  \n",
      "A INGRESO Y ENTREGA DE EQUIPO (REVISION / REPAR...  0.071227  \n",
      "A POR ACTUALIZACION VERSION                         0.078206  \n",
      "A POR ROBO Y/O EXTRAVIO                             0.084961  \n",
      "A POR SALDO DE VOZ                                  0.099653  \n",
      "A VENTA DE AMIGO KIT                                0.116815  \n",
      "ACLARACION DE SALDO                                 0.126026  \n",
      "C ACLARACION DE SALDOS POR DATOS A GRANEL           0.140268  \n",
      "PEQUEÑAS CATEGORÍAS                                 0.271776  \n",
      "T ACLARACION DE SALDOS POR DATOS A GRANEL           0.285224  \n",
      "T ALTA / BAJA DE SERVICIOS ADICIONALES              0.290930  \n",
      "T CAMBIO DE FORMA DE PAGO                           0.296681  \n",
      "T CAMBIO DE IMEI CON REACTIVACION                   0.304439  \n",
      "T CAMBIO PLAN                                       0.309606  \n",
      "T CARGO POR FIANZA                                  0.316390  \n",
      "T CESION DE DERECHOS                                0.328431  \n",
      "T CONFIGURACION / FUNCIONES DEL EQUIPO              0.339184  \n",
      "T CONTRATACION DE LINEA                             0.356227  \n",
      "T COTIZACION DE PUNTOS DE CIRCULO AZUL              0.577293  \n",
      "T DESEMPLEO / FALTA DE LIQUIDEZ                     0.589768  \n",
      "T INFORMES DE CONTRATACION Y PRECIOS DE EQUIPOS     0.616007  \n",
      "T INFORMES DE TARIFA DE VOZ Y DATOS                 0.642066  \n",
      "T INGRESO Y ENTREGA DE EQUIPO (REVISION / REPAR...  0.672063  \n",
      "T MIGRACION A PREPAGO                               0.679461  \n",
      "T MONITOREO DE LINEA                                0.697733  \n",
      "T POR ACTUALIZACION DE VERSION                      0.702944  \n",
      "T POR CIRCULO AZUL                                  0.731414  \n",
      "T POR SALDO DE DATOS                                0.764377  \n",
      "T POR SALDOS DE VOZ                                 0.894881  \n",
      "T PROBLEMAS CON DISTRIBUIDOR                        0.901501  \n",
      "T PROPIO (SWITCHEO)                                 0.909812  \n",
      "T RENOVACION (CIRCULO AZUL)                         0.982852  \n",
      "T VALE INBURSA                                      0.992227  \n",
      "T VENTA DE EQUIPO PRECIO PUBLICO                    1.000000   \n",
      "\n",
      "\n"
     ]
    }
   ],
   "source": [
    "freq(df,varn)"
   ]
  },
  {
   "cell_type": "markdown",
   "id": "yellow-alias",
   "metadata": {},
   "source": [
    "### Unarias"
   ]
  },
  {
   "cell_type": "code",
   "execution_count": 117,
   "id": "acceptable-albuquerque",
   "metadata": {
    "ExecuteTime": {
     "end_time": "2021-11-27T17:49:01.038305Z",
     "start_time": "2021-11-27T17:48:59.855198Z"
    }
   },
   "outputs": [],
   "source": [
    "unarias = [v for v,n in map(lambda v:(v,df[v].nunique()),varn+varcd) if n ==1]\n",
    "df.drop(unarias,axis=1,inplace=True)\n",
    "varn = [v for v in varn if v not in unarias]\n",
    "varcd = [v for v in varcd if v not in unarias]"
   ]
  },
  {
   "cell_type": "code",
   "execution_count": 118,
   "id": "2052dff3-ba63-4990-aec0-7bb86aca9d1d",
   "metadata": {},
   "outputs": [
    {
     "data": {
      "text/plain": [
       "['d_c_tiempo_tramite', 'd_c_tiempo_espera']"
      ]
     },
     "execution_count": 118,
     "metadata": {},
     "output_type": "execute_result"
    }
   ],
   "source": [
    "varcd"
   ]
  },
  {
   "cell_type": "markdown",
   "id": "equipped-france",
   "metadata": {},
   "source": [
    "## Análisis bi-variado"
   ]
  },
  {
   "cell_type": "code",
   "execution_count": 119,
   "id": "jewish-progressive",
   "metadata": {
    "ExecuteTime": {
     "end_time": "2021-11-27T17:49:01.042254Z",
     "start_time": "2021-11-27T17:49:01.039334Z"
    }
   },
   "outputs": [],
   "source": [
    "def calcularIV(df,v,tgt):\n",
    "    aux = df[[v]+tgt].copy().assign(n=1)\n",
    "    aux = aux.pivot_table(index=v,columns=tgt,values='n',aggfunc='sum',fill_value=0)\n",
    "    aux/=aux.sum()\n",
    "    aux['w'] = np.log(aux[0]/aux[1])\n",
    "    aux['iv'] = (aux[0]-aux[1])*aux['w']\n",
    "    return v,aux['iv'].sum()"
   ]
  },
  {
   "cell_type": "code",
   "execution_count": 120,
   "id": "patent-eating",
   "metadata": {
    "ExecuteTime": {
     "end_time": "2021-11-27T17:49:03.504688Z",
     "start_time": "2021-11-27T17:49:01.043308Z"
    }
   },
   "outputs": [],
   "source": [
    "ivreport = pd.DataFrame(map(lambda v:calcularIV(df,v,vart),varn+varcd),columns=['var','iv'])"
   ]
  },
  {
   "cell_type": "code",
   "execution_count": 121,
   "id": "virtual-executive",
   "metadata": {
    "ExecuteTime": {
     "end_time": "2021-11-27T17:49:03.509522Z",
     "start_time": "2021-11-27T17:49:03.505655Z"
    }
   },
   "outputs": [],
   "source": [
    "ivreport = ivreport.loc[(ivreport['iv']>=0.01)&(~np.isinf(ivreport['iv']))].reset_index(drop=True)"
   ]
  },
  {
   "cell_type": "code",
   "execution_count": 122,
   "id": "unique-monster",
   "metadata": {
    "ExecuteTime": {
     "end_time": "2021-11-27T17:49:03.705624Z",
     "start_time": "2021-11-27T17:49:03.510931Z"
    }
   },
   "outputs": [],
   "source": [
    "ivreport['raíz'] = ivreport['var'].map(lambda x:x if x[:2]=='n_' else \"_\".join(x.split('_')[3:]))"
   ]
  },
  {
   "cell_type": "code",
   "execution_count": 123,
   "id": "262b169c-f6cd-4d4f-bfb4-01e22aab6a0c",
   "metadata": {},
   "outputs": [
    {
     "data": {
      "text/html": [
       "<div>\n",
       "<style scoped>\n",
       "    .dataframe tbody tr th:only-of-type {\n",
       "        vertical-align: middle;\n",
       "    }\n",
       "\n",
       "    .dataframe tbody tr th {\n",
       "        vertical-align: top;\n",
       "    }\n",
       "\n",
       "    .dataframe thead th {\n",
       "        text-align: right;\n",
       "    }\n",
       "</style>\n",
       "<table border=\"1\" class=\"dataframe\">\n",
       "  <thead>\n",
       "    <tr style=\"text-align: right;\">\n",
       "      <th></th>\n",
       "      <th>var</th>\n",
       "      <th>iv</th>\n",
       "      <th>raíz</th>\n",
       "    </tr>\n",
       "  </thead>\n",
       "  <tbody>\n",
       "    <tr>\n",
       "      <th>0</th>\n",
       "      <td>n_d_motivo</td>\n",
       "      <td>0.037100</td>\n",
       "      <td>n_d_motivo</td>\n",
       "    </tr>\n",
       "    <tr>\n",
       "      <th>1</th>\n",
       "      <td>d_c_tiempo_tramite</td>\n",
       "      <td>0.032952</td>\n",
       "      <td>tramite</td>\n",
       "    </tr>\n",
       "  </tbody>\n",
       "</table>\n",
       "</div>"
      ],
      "text/plain": [
       "                  var        iv        raíz\n",
       "0          n_d_motivo  0.037100  n_d_motivo\n",
       "1  d_c_tiempo_tramite  0.032952     tramite"
      ]
     },
     "execution_count": 123,
     "metadata": {},
     "output_type": "execute_result"
    }
   ],
   "source": [
    "ivreport"
   ]
  },
  {
   "cell_type": "code",
   "execution_count": 124,
   "id": "moderate-korean",
   "metadata": {
    "ExecuteTime": {
     "end_time": "2021-11-27T17:49:03.908603Z",
     "start_time": "2021-11-27T17:49:03.706782Z"
    }
   },
   "outputs": [],
   "source": [
    "best = list(ivreport.sort_values(by=['raíz','iv'],ascending=[1,0]).groupby('raíz').first()['var'])"
   ]
  },
  {
   "cell_type": "code",
   "execution_count": 125,
   "id": "swiss-trash",
   "metadata": {
    "ExecuteTime": {
     "end_time": "2021-11-27T17:49:04.189688Z",
     "start_time": "2021-11-27T17:49:03.910752Z"
    }
   },
   "outputs": [],
   "source": [
    "best=varcd+varn"
   ]
  },
  {
   "cell_type": "code",
   "execution_count": 126,
   "id": "1c7d26f8-c2e1-4d4a-ad12-d31a5927c73a",
   "metadata": {},
   "outputs": [],
   "source": [
    "df=df.dropna().reset_index(drop=True)"
   ]
  },
  {
   "cell_type": "code",
   "execution_count": 127,
   "id": "48d69e03-bfd9-4511-a61a-886f4f17e19a",
   "metadata": {},
   "outputs": [
    {
     "data": {
      "text/plain": [
       "['d_c_tiempo_tramite', 'd_c_tiempo_espera', 'n_d_motivo']"
      ]
     },
     "execution_count": 127,
     "metadata": {},
     "output_type": "execute_result"
    }
   ],
   "source": [
    "best"
   ]
  },
  {
   "cell_type": "markdown",
   "id": "statewide-fleet",
   "metadata": {},
   "source": [
    "## Partición"
   ]
  },
  {
   "cell_type": "code",
   "execution_count": 128,
   "id": "mobile-machinery",
   "metadata": {
    "ExecuteTime": {
     "end_time": "2021-11-27T17:49:04.397956Z",
     "start_time": "2021-11-27T17:49:04.190772Z"
    }
   },
   "outputs": [],
   "source": [
    "test = df.loc[pd.to_datetime(df['fecha'])>=pd.to_datetime('2021-11-1')].reset_index(drop=True).copy()[um+varcd+varn+vart]"
   ]
  },
  {
   "cell_type": "code",
   "execution_count": 129,
   "id": "social-registration",
   "metadata": {
    "ExecuteTime": {
     "end_time": "2021-11-27T17:49:04.832931Z",
     "start_time": "2021-11-27T17:49:04.399525Z"
    }
   },
   "outputs": [],
   "source": [
    "train,val = train_test_split(df.loc[pd.to_datetime(df['fecha'])<pd.to_datetime('2021-11-1')].reset_index(drop=True).copy()[um+best+vart],train_size=0.7)\n",
    "train.reset_index(drop=True,inplace=True)\n",
    "val.reset_index(drop=True,inplace=True)"
   ]
  },
  {
   "cell_type": "code",
   "execution_count": 130,
   "id": "balanced-hospital",
   "metadata": {
    "ExecuteTime": {
     "end_time": "2021-11-27T17:49:04.841279Z",
     "start_time": "2021-11-27T17:49:04.834027Z"
    }
   },
   "outputs": [
    {
     "data": {
      "text/html": [
       "<div>\n",
       "<style scoped>\n",
       "    .dataframe tbody tr th:only-of-type {\n",
       "        vertical-align: middle;\n",
       "    }\n",
       "\n",
       "    .dataframe tbody tr th {\n",
       "        vertical-align: top;\n",
       "    }\n",
       "\n",
       "    .dataframe thead th {\n",
       "        text-align: right;\n",
       "    }\n",
       "</style>\n",
       "<table border=\"1\" class=\"dataframe\">\n",
       "  <thead>\n",
       "    <tr style=\"text-align: right;\">\n",
       "      <th></th>\n",
       "      <th>linea</th>\n",
       "      <th>fecha</th>\n",
       "      <th>d_c_tiempo_tramite</th>\n",
       "      <th>d_c_tiempo_espera</th>\n",
       "      <th>n_d_motivo</th>\n",
       "      <th>target</th>\n",
       "    </tr>\n",
       "  </thead>\n",
       "  <tbody>\n",
       "    <tr>\n",
       "      <th>0</th>\n",
       "      <td>4696213269</td>\n",
       "      <td>2021-01-13</td>\n",
       "      <td>(10min - 20min]</td>\n",
       "      <td>(30seg - 1min]</td>\n",
       "      <td>PEQUEÑAS CATEGORÍAS</td>\n",
       "      <td>0</td>\n",
       "    </tr>\n",
       "    <tr>\n",
       "      <th>1</th>\n",
       "      <td>8441957567</td>\n",
       "      <td>2021-04-30</td>\n",
       "      <td>(10min - 20min]</td>\n",
       "      <td>(30seg - 1min]</td>\n",
       "      <td>T POR SALDOS DE VOZ</td>\n",
       "      <td>0</td>\n",
       "    </tr>\n",
       "    <tr>\n",
       "      <th>2</th>\n",
       "      <td>9612337120</td>\n",
       "      <td>2021-02-17</td>\n",
       "      <td>(10min - 20min]</td>\n",
       "      <td>(30seg - 1min]</td>\n",
       "      <td>PEQUEÑAS CATEGORÍAS</td>\n",
       "      <td>0</td>\n",
       "    </tr>\n",
       "    <tr>\n",
       "      <th>3</th>\n",
       "      <td>3521005806</td>\n",
       "      <td>2021-05-11</td>\n",
       "      <td>(0 - 10min]</td>\n",
       "      <td>(30seg - 1min]</td>\n",
       "      <td>A POR ACTUALIZACION VERSION</td>\n",
       "      <td>0</td>\n",
       "    </tr>\n",
       "    <tr>\n",
       "      <th>4</th>\n",
       "      <td>8441296667</td>\n",
       "      <td>2021-10-11</td>\n",
       "      <td>(10min - 20min]</td>\n",
       "      <td>(0 - 30seg]</td>\n",
       "      <td>T INGRESO Y ENTREGA DE EQUIPO (REVISION / REPA...</td>\n",
       "      <td>0</td>\n",
       "    </tr>\n",
       "  </tbody>\n",
       "</table>\n",
       "</div>"
      ],
      "text/plain": [
       "        linea       fecha d_c_tiempo_tramite d_c_tiempo_espera  \\\n",
       "0  4696213269  2021-01-13    (10min - 20min]    (30seg - 1min]   \n",
       "1  8441957567  2021-04-30    (10min - 20min]    (30seg - 1min]   \n",
       "2  9612337120  2021-02-17    (10min - 20min]    (30seg - 1min]   \n",
       "3  3521005806  2021-05-11        (0 - 10min]    (30seg - 1min]   \n",
       "4  8441296667  2021-10-11    (10min - 20min]       (0 - 30seg]   \n",
       "\n",
       "                                          n_d_motivo  target  \n",
       "0                                PEQUEÑAS CATEGORÍAS       0  \n",
       "1                                T POR SALDOS DE VOZ       0  \n",
       "2                                PEQUEÑAS CATEGORÍAS       0  \n",
       "3                        A POR ACTUALIZACION VERSION       0  \n",
       "4  T INGRESO Y ENTREGA DE EQUIPO (REVISION / REPA...       0  "
      ]
     },
     "execution_count": 130,
     "metadata": {},
     "output_type": "execute_result"
    }
   ],
   "source": [
    "train.head()"
   ]
  },
  {
   "cell_type": "code",
   "execution_count": 131,
   "id": "literary-essence",
   "metadata": {
    "ExecuteTime": {
     "end_time": "2021-11-27T17:49:04.998573Z",
     "start_time": "2021-11-27T17:49:04.842917Z"
    }
   },
   "outputs": [
    {
     "data": {
      "text/plain": [
       "((38228, 6), (16384, 6), (11919, 6))"
      ]
     },
     "execution_count": 131,
     "metadata": {},
     "output_type": "execute_result"
    }
   ],
   "source": [
    "train.shape,val.shape,test.shape"
   ]
  },
  {
   "cell_type": "markdown",
   "id": "minus-night",
   "metadata": {},
   "source": [
    "## WoE"
   ]
  },
  {
   "cell_type": "code",
   "execution_count": 132,
   "id": "loved-spray",
   "metadata": {
    "ExecuteTime": {
     "end_time": "2021-11-27T17:49:05.096294Z",
     "start_time": "2021-11-27T17:49:04.999742Z"
    }
   },
   "outputs": [],
   "source": [
    "def calcularWoE(df,v,tgt):\n",
    "    aux = df[[v]+tgt].copy().assign(n=1)\n",
    "    aux = aux.pivot_table(index=v,columns=tgt,values='n',aggfunc='sum',fill_value=0)\n",
    "    aux/=aux.sum()\n",
    "    aux['w'] = np.log(aux[0]/aux[1])\n",
    "    return v,aux['w'].to_dict()"
   ]
  },
  {
   "cell_type": "code",
   "execution_count": 133,
   "id": "hollywood-manner",
   "metadata": {
    "ExecuteTime": {
     "end_time": "2021-11-27T17:49:05.481522Z",
     "start_time": "2021-11-27T17:49:05.097413Z"
    }
   },
   "outputs": [],
   "source": [
    "for v,mapa in map(lambda v:calcularWoE(train,v,vart),best):\n",
    "    train[f'w_{v}'] = train[v].replace(mapa)\n",
    "    test[f'w_{v}'] = test[v].replace(mapa)\n",
    "    val[f'w_{v}'] = val[v].replace(mapa)"
   ]
  },
  {
   "cell_type": "code",
   "execution_count": 134,
   "id": "early-lawsuit",
   "metadata": {
    "ExecuteTime": {
     "end_time": "2021-11-27T17:49:05.484765Z",
     "start_time": "2021-11-27T17:49:05.482501Z"
    }
   },
   "outputs": [],
   "source": [
    "varw = [v for v in train.columns if v[:2]=='w_']"
   ]
  },
  {
   "cell_type": "markdown",
   "id": "initial-compiler",
   "metadata": {},
   "source": [
    "## Entrenamiento del modelo"
   ]
  },
  {
   "cell_type": "code",
   "execution_count": 135,
   "id": "executed-pattern",
   "metadata": {
    "ExecuteTime": {
     "end_time": "2021-11-27T17:49:05.586524Z",
     "start_time": "2021-11-27T17:49:05.486034Z"
    }
   },
   "outputs": [],
   "source": [
    "lr = LogisticRegression()"
   ]
  },
  {
   "cell_type": "code",
   "execution_count": 136,
   "id": "greek-column",
   "metadata": {
    "ExecuteTime": {
     "end_time": "2021-11-27T17:49:05.885048Z",
     "start_time": "2021-11-27T17:49:05.588073Z"
    }
   },
   "outputs": [
    {
     "data": {
      "text/plain": [
       "LogisticRegression()"
      ]
     },
     "execution_count": 136,
     "metadata": {},
     "output_type": "execute_result"
    }
   ],
   "source": [
    "lr.fit(train[varw],train[vart])"
   ]
  },
  {
   "cell_type": "code",
   "execution_count": 137,
   "id": "extended-jesus",
   "metadata": {
    "ExecuteTime": {
     "end_time": "2021-11-27T17:49:05.967678Z",
     "start_time": "2021-11-27T17:49:05.887060Z"
    }
   },
   "outputs": [],
   "source": [
    "train['proba'] = lr.predict_proba(train[varw])[:,1]\n",
    "val['proba']= lr.predict_proba(val[varw])[:,1]\n",
    "test['proba']= lr.predict_proba(test[varw])[:,1]"
   ]
  },
  {
   "cell_type": "code",
   "execution_count": 138,
   "id": "warming-scotland",
   "metadata": {
    "ExecuteTime": {
     "end_time": "2021-11-27T17:49:06.092240Z",
     "start_time": "2021-11-27T17:49:05.970960Z"
    }
   },
   "outputs": [
    {
     "name": "stdout",
     "output_type": "stream",
     "text": [
      "0.5782199770910188\n",
      "0.5710376339277548\n",
      "0.5625933107256144\n"
     ]
    }
   ],
   "source": [
    "print(roc_auc_score(y_score=train['proba'],y_true=train[vart]))\n",
    "print(roc_auc_score(y_score=val['proba'],y_true=val[vart]))\n",
    "print(roc_auc_score(y_score=test['proba'],y_true=test[vart]))"
   ]
  },
  {
   "cell_type": "code",
   "execution_count": 139,
   "id": "4a83e8be-fb5e-485b-a0c2-01ddc62cb35d",
   "metadata": {},
   "outputs": [],
   "source": [
    "from scikitplot.metrics import plot_ks_statistic,plot_roc_curve"
   ]
  },
  {
   "cell_type": "code",
   "execution_count": 140,
   "id": "d992d4de-0c8f-408f-9545-e761ac3ec0b8",
   "metadata": {},
   "outputs": [
    {
     "data": {
      "text/plain": [
       "<AxesSubplot:title={'center':'KS Statistic Plot'}, xlabel='Threshold', ylabel='Percentage below threshold'>"
      ]
     },
     "execution_count": 140,
     "metadata": {},
     "output_type": "execute_result"
    },
    {
     "data": {
      "image/png": "[encoded data removed]",
      "text/plain": [
       "<Figure size 432x288 with 1 Axes>"
      ]
     },
     "metadata": {
      "needs_background": "light"
     },
     "output_type": "display_data"
    },
    {
     "data": {
      "image/png": "[encoded data removed]",
      "text/plain": [
       "<Figure size 432x288 with 1 Axes>"
      ]
     },
     "metadata": {
      "needs_background": "light"
     },
     "output_type": "display_data"
    },
    {
     "data": {
      "image/png": "[encoded data removed]",
      "text/plain": [
       "<Figure size 432x288 with 1 Axes>"
      ]
     },
     "metadata": {
      "needs_background": "light"
     },
     "output_type": "display_data"
    },
    {
     "data": {
      "image/png": "[encoded data removed]",
      "text/plain": [
       "<Figure size 432x288 with 1 Axes>"
      ]
     },
     "metadata": {
      "needs_background": "light"
     },
     "output_type": "display_data"
    },
    {
     "data": {
      "image/png": "[encoded data removed]",
      "text/plain": [
       "<Figure size 432x288 with 1 Axes>"
      ]
     },
     "metadata": {
      "needs_background": "light"
     },
     "output_type": "display_data"
    },
    {
     "data": {
      "image/png": "[encoded data removed]",
      "text/plain": [
       "<Figure size 432x288 with 1 Axes>"
      ]
     },
     "metadata": {
      "needs_background": "light"
     },
     "output_type": "display_data"
    }
   ],
   "source": [
    "plot_roc_curve(y_probas=lr.predict_proba(train[varw]),y_true=train[vart[0]],curves='macro')\n",
    "plot_roc_curve(y_probas=lr.predict_proba(val[varw]),y_true=val[vart[0]],curves='macro')\n",
    "plot_roc_curve(y_probas=lr.predict_proba(test[varw]),y_true=test[vart[0]],curves='macro')\n",
    "\n",
    "plot_ks_statistic(y_probas=lr.predict_proba(train[varw]),y_true=train[vart[0]])\n",
    "plot_ks_statistic(y_probas=lr.predict_proba(val[varw]),y_true=val[vart[0]])\n",
    "plot_ks_statistic(y_probas=lr.predict_proba(test[varw]),y_true=test[vart[0]])"
   ]
  },
  {
   "cell_type": "code",
   "execution_count": null,
   "id": "d66dafe5-8c65-4ab0-8d4c-f05e1733d792",
   "metadata": {},
   "outputs": [],
   "source": [
    "score_base = 400\n",
    "pdo = 52"
   ]
  },
  {
   "cell_type": "markdown",
   "id": "chubby-apache",
   "metadata": {},
   "source": [
    "## Scoring"
   ]
  },
  {
   "cell_type": "code",
   "execution_count": 247,
   "id": "ranking-ownership",
   "metadata": {
    "ExecuteTime": {
     "end_time": "2021-11-27T17:50:09.345941Z",
     "start_time": "2021-11-27T17:50:09.339579Z"
    }
   },
   "outputs": [
    {
     "data": {
      "text/plain": [
       "(14.426950408889635, 80.0, 3)"
      ]
     },
     "execution_count": 247,
     "metadata": {},
     "output_type": "execute_result"
    }
   ],
   "source": [
    "score_base = 80\n",
    "momios_base = 1\n",
    "pdo = 10\n",
    "factor = pdo/np.log(2)\n",
    "offset = score_base-factor*np.log(momios_base)\n",
    "n = len(varw)\n",
    "factor,offset,n"
   ]
  },
  {
   "cell_type": "code",
   "execution_count": 248,
   "id": "attached-scenario",
   "metadata": {
    "ExecuteTime": {
     "end_time": "2021-11-27T17:50:09.858544Z",
     "start_time": "2021-11-27T17:50:09.854847Z"
    }
   },
   "outputs": [
    {
     "data": {
      "text/plain": [
       "([-0.9766004407214856, -0.8241747168583912, -1.0010713641361075],\n",
       " -1.5052258542541934)"
      ]
     },
     "execution_count": 248,
     "metadata": {},
     "output_type": "execute_result"
    }
   ],
   "source": [
    "betas,alpha = list(lr.coef_[0]),lr.intercept_[0]\n",
    "betas,alpha"
   ]
  },
  {
   "cell_type": "code",
   "execution_count": 249,
   "id": "comprehensive-intensity",
   "metadata": {
    "ExecuteTime": {
     "end_time": "2021-11-27T17:50:10.306857Z",
     "start_time": "2021-11-27T17:50:10.281161Z"
    }
   },
   "outputs": [],
   "source": [
    "for beta,v in zip(betas,varw):\n",
    "    train[f'P_{v}'] = np.round((-train[v]*beta+alpha/n)*factor+offset/n,0)\n",
    "    val[f'P_{v}'] = np.round((-val[v]*beta+alpha/n)*factor+offset/n,0)\n",
    "    test[f'P_{v}'] = np.round((-test[v]*beta+alpha/n)*factor+offset/n,0)"
   ]
  },
  {
   "cell_type": "code",
   "execution_count": 250,
   "id": "streaming-algeria",
   "metadata": {
    "ExecuteTime": {
     "end_time": "2021-11-27T17:50:10.681818Z",
     "start_time": "2021-11-27T17:50:10.670406Z"
    }
   },
   "outputs": [],
   "source": [
    "train['score'] = train.filter(like='P_').sum(axis=1)\n",
    "val['score'] = val.filter(like='P_').sum(axis=1)\n",
    "test['score'] = test.filter(like='P_').sum(axis=1)"
   ]
  },
  {
   "cell_type": "code",
   "execution_count": 251,
   "id": "numeric-knowing",
   "metadata": {
    "ExecuteTime": {
     "end_time": "2021-11-27T17:50:12.250303Z",
     "start_time": "2021-11-27T17:50:12.240140Z"
    }
   },
   "outputs": [
    {
     "data": {
      "text/plain": [
       "(score    71.0\n",
       " Name: max, dtype: float64,\n",
       " score    42.0\n",
       " Name: min, dtype: float64,\n",
       " score    29.0\n",
       " dtype: float64)"
      ]
     },
     "execution_count": 251,
     "metadata": {},
     "output_type": "execute_result"
    }
   ],
   "source": [
    "aux = test['score'].describe().to_frame().T\n",
    "aux['max'],aux['min'],aux['max']-aux['min']"
   ]
  },
  {
   "cell_type": "code",
   "execution_count": 211,
   "id": "classical-youth",
   "metadata": {
    "ExecuteTime": {
     "end_time": "2021-11-27T17:50:12.238614Z",
     "start_time": "2021-11-27T17:50:11.007039Z"
    }
   },
   "outputs": [
    {
     "data": {
      "text/plain": [
       "<AxesSubplot:xlabel='score', ylabel='Density'>"
      ]
     },
     "execution_count": 211,
     "metadata": {},
     "output_type": "execute_result"
    },
    {
     "data": {
      "image/png": "[encoded data removed]",
      "text/plain": [
       "<Figure size 432x288 with 1 Axes>"
      ]
     },
     "metadata": {
      "needs_background": "light"
     },
     "output_type": "display_data"
    }
   ],
   "source": [
    "sns.kdeplot(data=train,x='score',cumulative=True)\n",
    "sns.kdeplot(data=val,x='score',cumulative=True)\n",
    "sns.kdeplot(data=test,x='score',cumulative=True)"
   ]
  },
  {
   "cell_type": "code",
   "execution_count": 282,
   "id": "c7fec7e7-5852-4a62-b63d-6ed3ce40150b",
   "metadata": {},
   "outputs": [
    {
     "data": {
      "text/plain": [
       "9"
      ]
     },
     "execution_count": 282,
     "metadata": {},
     "output_type": "execute_result"
    }
   ],
   "source": [
    "len(range(10,460,50))"
   ]
  },
  {
   "cell_type": "code",
   "execution_count": 283,
   "id": "dfaa9e6c-0877-4ad8-b8f9-f91682557c48",
   "metadata": {},
   "outputs": [
    {
     "data": {
      "text/plain": [
       "62.5"
      ]
     },
     "execution_count": 283,
     "metadata": {},
     "output_type": "execute_result"
    }
   ],
   "source": [
    "500/8"
   ]
  },
  {
   "cell_type": "code",
   "execution_count": 180,
   "id": "occupational-performance",
   "metadata": {
    "ExecuteTime": {
     "end_time": "2021-11-27T17:50:19.011736Z",
     "start_time": "2021-11-27T17:50:18.973877Z"
    }
   },
   "outputs": [],
   "source": [
    "train['r_score'] = pd.cut(train['score'],bins=range(10,460,50),include_lowest=True).astype(str)\n",
    "val['r_score'] = pd.cut(val['score'],bins=range(10,460,50),include_lowest=True).astype(str)\n",
    "test['r_score'] = pd.cut(test['score'],bins=range(10,460,50),include_lowest=True).astype(str)"
   ]
  },
  {
   "cell_type": "code",
   "execution_count": 204,
   "id": "8c88e527-b66e-44ed-9e05-0e233fb1b865",
   "metadata": {},
   "outputs": [
    {
     "data": {
      "text/html": [
       "<div>\n",
       "<style scoped>\n",
       "    .dataframe tbody tr th:only-of-type {\n",
       "        vertical-align: middle;\n",
       "    }\n",
       "\n",
       "    .dataframe tbody tr th {\n",
       "        vertical-align: top;\n",
       "    }\n",
       "\n",
       "    .dataframe thead th {\n",
       "        text-align: right;\n",
       "    }\n",
       "</style>\n",
       "<table border=\"1\" class=\"dataframe\">\n",
       "  <thead>\n",
       "    <tr style=\"text-align: right;\">\n",
       "      <th></th>\n",
       "      <th>d_q_5_c_tiempo_espera</th>\n",
       "      <th>P_w_d_q_5_c_tiempo_espera</th>\n",
       "    </tr>\n",
       "  </thead>\n",
       "  <tbody>\n",
       "    <tr>\n",
       "      <th>0</th>\n",
       "      <td>05. |553.0---13409.0|</td>\n",
       "      <td>7.0</td>\n",
       "    </tr>\n",
       "    <tr>\n",
       "      <th>2</th>\n",
       "      <td>01. |0.0---28.0|</td>\n",
       "      <td>44.0</td>\n",
       "    </tr>\n",
       "    <tr>\n",
       "      <th>3</th>\n",
       "      <td>03. |38.0---111.0|</td>\n",
       "      <td>37.0</td>\n",
       "    </tr>\n",
       "    <tr>\n",
       "      <th>6</th>\n",
       "      <td>02. |28.0---38.0|</td>\n",
       "      <td>34.0</td>\n",
       "    </tr>\n",
       "    <tr>\n",
       "      <th>7</th>\n",
       "      <td>04. |111.0---553.0|</td>\n",
       "      <td>25.0</td>\n",
       "    </tr>\n",
       "  </tbody>\n",
       "</table>\n",
       "</div>"
      ],
      "text/plain": [
       "   d_q_5_c_tiempo_espera  P_w_d_q_5_c_tiempo_espera\n",
       "0  05. |553.0---13409.0|                        7.0\n",
       "2       01. |0.0---28.0|                       44.0\n",
       "3     03. |38.0---111.0|                       37.0\n",
       "6      02. |28.0---38.0|                       34.0\n",
       "7    04. |111.0---553.0|                       25.0"
      ]
     },
     "execution_count": 204,
     "metadata": {},
     "output_type": "execute_result"
    }
   ],
   "source": [
    "train[['d_q_5_c_tiempo_espera','P_w_d_q_5_c_tiempo_espera']].drop_duplicates()"
   ]
  },
  {
   "cell_type": "markdown",
   "id": "alike-sharp",
   "metadata": {},
   "source": [
    "### Scorecard"
   ]
  },
  {
   "cell_type": "code",
   "execution_count": 182,
   "id": "potential-persian",
   "metadata": {
    "ExecuteTime": {
     "end_time": "2021-11-27T17:50:22.781540Z",
     "start_time": "2021-11-27T17:50:22.704884Z"
    }
   },
   "outputs": [
    {
     "data": {
      "text/html": [
       "<div>\n",
       "<style scoped>\n",
       "    .dataframe tbody tr th:only-of-type {\n",
       "        vertical-align: middle;\n",
       "    }\n",
       "\n",
       "    .dataframe tbody tr th {\n",
       "        vertical-align: top;\n",
       "    }\n",
       "\n",
       "    .dataframe thead th {\n",
       "        text-align: right;\n",
       "    }\n",
       "</style>\n",
       "<table border=\"1\" class=\"dataframe\">\n",
       "  <thead>\n",
       "    <tr style=\"text-align: right;\">\n",
       "      <th></th>\n",
       "      <th></th>\n",
       "      <th>puntos</th>\n",
       "    </tr>\n",
       "    <tr>\n",
       "      <th>caracteristica</th>\n",
       "      <th>atributo</th>\n",
       "      <th></th>\n",
       "    </tr>\n",
       "  </thead>\n",
       "  <tbody>\n",
       "    <tr>\n",
       "      <th rowspan=\"5\" valign=\"top\">cac</th>\n",
       "      <th>BUENAVISTA</th>\n",
       "      <td>9.0</td>\n",
       "    </tr>\n",
       "    <tr>\n",
       "      <th>CUICUILCO</th>\n",
       "      <td>17.0</td>\n",
       "    </tr>\n",
       "    <tr>\n",
       "      <th>GALERIAS COAPA</th>\n",
       "      <td>13.0</td>\n",
       "    </tr>\n",
       "    <tr>\n",
       "      <th>GALERIAS PACHUCA</th>\n",
       "      <td>11.0</td>\n",
       "    </tr>\n",
       "    <tr>\n",
       "      <th>GALERIAS TOLUCA</th>\n",
       "      <td>31.0</td>\n",
       "    </tr>\n",
       "    <tr>\n",
       "      <th>...</th>\n",
       "      <th>...</th>\n",
       "      <td>...</td>\n",
       "    </tr>\n",
       "    <tr>\n",
       "      <th>tiempo_tramite</th>\n",
       "      <th>05. |2596.0---43507.0|</th>\n",
       "      <td>75.0</td>\n",
       "    </tr>\n",
       "    <tr>\n",
       "      <th rowspan=\"4\" valign=\"top\">tramites</th>\n",
       "      <th>1</th>\n",
       "      <td>27.0</td>\n",
       "    </tr>\n",
       "    <tr>\n",
       "      <th>2</th>\n",
       "      <td>34.0</td>\n",
       "    </tr>\n",
       "    <tr>\n",
       "      <th>3</th>\n",
       "      <td>44.0</td>\n",
       "    </tr>\n",
       "    <tr>\n",
       "      <th>4</th>\n",
       "      <td>43.0</td>\n",
       "    </tr>\n",
       "  </tbody>\n",
       "</table>\n",
       "<p>93 rows × 1 columns</p>\n",
       "</div>"
      ],
      "text/plain": [
       "                                       puntos\n",
       "caracteristica atributo                      \n",
       "cac            BUENAVISTA                 9.0\n",
       "               CUICUILCO                 17.0\n",
       "               GALERIAS COAPA            13.0\n",
       "               GALERIAS PACHUCA          11.0\n",
       "               GALERIAS TOLUCA           31.0\n",
       "...                                       ...\n",
       "tiempo_tramite 05. |2596.0---43507.0|    75.0\n",
       "tramites       1                         27.0\n",
       "               2                         34.0\n",
       "               3                         44.0\n",
       "               4                         43.0\n",
       "\n",
       "[93 rows x 1 columns]"
      ]
     },
     "execution_count": 182,
     "metadata": {},
     "output_type": "execute_result"
    }
   ],
   "source": [
    "varp = [v for v in train.columns if v[:2]=='P_']\n",
    "sc = []\n",
    "for v in varp:\n",
    "    nombre = \"_\".join(v.split('_')[2:])\n",
    "    nombre = \"_\".join(nombre.split('_')[2:]) if nombre[:2]=='n_' else \"_\".join(nombre.split('_')[4:])\n",
    "    aux = train[[v,v[4:]]].drop_duplicates().reset_index(drop=True).assign(caracteristica=nombre)\n",
    "    aux.columns = ['puntos','atributo','caracteristica']\n",
    "    sc.append(aux)\n",
    "aux = pd.concat(sc,ignore_index=True)\n",
    "sc = aux.groupby(['caracteristica','atributo']).min()\n",
    "sc"
   ]
  },
  {
   "cell_type": "code",
   "execution_count": 189,
   "id": "34093976-322e-4865-8fa1-6ecc64188e28",
   "metadata": {},
   "outputs": [],
   "source": [
    "sc.to_clipboard()"
   ]
  },
  {
   "cell_type": "markdown",
   "id": "historical-transmission",
   "metadata": {},
   "source": [
    "## Reportes"
   ]
  },
  {
   "cell_type": "code",
   "execution_count": 183,
   "id": "informal-exclusion",
   "metadata": {
    "ExecuteTime": {
     "end_time": "2021-11-27T17:50:29.363690Z",
     "start_time": "2021-11-27T17:50:29.259861Z"
    }
   },
   "outputs": [],
   "source": [
    "aux = pd.concat([train.merge(df[um],on=um,how='inner')[um+vart+['r_score']].assign(muestra='ent'),\\\n",
    "val.merge(df[um],on=um,how='inner')[um+vart+['r_score']].assign(muestra='val'),\\\n",
    "test.merge(df[um],on=um,how='inner')[um+vart+['r_score']].assign(muestra='test')],ignore_index=True)"
   ]
  },
  {
   "cell_type": "code",
   "execution_count": 184,
   "id": "d210604e-cdd3-43f1-ae38-8a67460db9da",
   "metadata": {},
   "outputs": [
    {
     "data": {
      "text/html": [
       "<div>\n",
       "<style scoped>\n",
       "    .dataframe tbody tr th:only-of-type {\n",
       "        vertical-align: middle;\n",
       "    }\n",
       "\n",
       "    .dataframe tbody tr th {\n",
       "        vertical-align: top;\n",
       "    }\n",
       "\n",
       "    .dataframe thead th {\n",
       "        text-align: right;\n",
       "    }\n",
       "</style>\n",
       "<table border=\"1\" class=\"dataframe\">\n",
       "  <thead>\n",
       "    <tr style=\"text-align: right;\">\n",
       "      <th></th>\n",
       "      <th>linea</th>\n",
       "      <th>fecha</th>\n",
       "      <th>target</th>\n",
       "      <th>r_score</th>\n",
       "      <th>muestra</th>\n",
       "    </tr>\n",
       "  </thead>\n",
       "  <tbody>\n",
       "    <tr>\n",
       "      <th>0</th>\n",
       "      <td>2282764411</td>\n",
       "      <td>2021-03-29</td>\n",
       "      <td>0</td>\n",
       "      <td>(210.0, 260.0]</td>\n",
       "      <td>ent</td>\n",
       "    </tr>\n",
       "    <tr>\n",
       "      <th>1</th>\n",
       "      <td>8117844991</td>\n",
       "      <td>2021-02-20</td>\n",
       "      <td>0</td>\n",
       "      <td>(210.0, 260.0]</td>\n",
       "      <td>ent</td>\n",
       "    </tr>\n",
       "    <tr>\n",
       "      <th>2</th>\n",
       "      <td>5578825209</td>\n",
       "      <td>2021-08-03</td>\n",
       "      <td>0</td>\n",
       "      <td>(210.0, 260.0]</td>\n",
       "      <td>ent</td>\n",
       "    </tr>\n",
       "    <tr>\n",
       "      <th>3</th>\n",
       "      <td>4421492203</td>\n",
       "      <td>2021-10-25</td>\n",
       "      <td>0</td>\n",
       "      <td>(210.0, 260.0]</td>\n",
       "      <td>ent</td>\n",
       "    </tr>\n",
       "    <tr>\n",
       "      <th>4</th>\n",
       "      <td>2213694945</td>\n",
       "      <td>2021-04-23</td>\n",
       "      <td>0</td>\n",
       "      <td>(210.0, 260.0]</td>\n",
       "      <td>ent</td>\n",
       "    </tr>\n",
       "    <tr>\n",
       "      <th>...</th>\n",
       "      <td>...</td>\n",
       "      <td>...</td>\n",
       "      <td>...</td>\n",
       "      <td>...</td>\n",
       "      <td>...</td>\n",
       "    </tr>\n",
       "    <tr>\n",
       "      <th>367416</th>\n",
       "      <td>9999966195</td>\n",
       "      <td>2021-12-17</td>\n",
       "      <td>0</td>\n",
       "      <td>(160.0, 210.0]</td>\n",
       "      <td>test</td>\n",
       "    </tr>\n",
       "    <tr>\n",
       "      <th>367417</th>\n",
       "      <td>9999974393</td>\n",
       "      <td>2021-12-11</td>\n",
       "      <td>1</td>\n",
       "      <td>(160.0, 210.0]</td>\n",
       "      <td>test</td>\n",
       "    </tr>\n",
       "    <tr>\n",
       "      <th>367418</th>\n",
       "      <td>9999975058</td>\n",
       "      <td>2021-12-08</td>\n",
       "      <td>1</td>\n",
       "      <td>(110.0, 160.0]</td>\n",
       "      <td>test</td>\n",
       "    </tr>\n",
       "    <tr>\n",
       "      <th>367419</th>\n",
       "      <td>9999981332</td>\n",
       "      <td>2021-12-20</td>\n",
       "      <td>1</td>\n",
       "      <td>(110.0, 160.0]</td>\n",
       "      <td>test</td>\n",
       "    </tr>\n",
       "    <tr>\n",
       "      <th>367420</th>\n",
       "      <td>9999982800</td>\n",
       "      <td>2021-12-13</td>\n",
       "      <td>0</td>\n",
       "      <td>(260.0, 310.0]</td>\n",
       "      <td>test</td>\n",
       "    </tr>\n",
       "  </tbody>\n",
       "</table>\n",
       "<p>367421 rows × 5 columns</p>\n",
       "</div>"
      ],
      "text/plain": [
       "             linea       fecha  target         r_score muestra\n",
       "0       2282764411  2021-03-29       0  (210.0, 260.0]     ent\n",
       "1       8117844991  2021-02-20       0  (210.0, 260.0]     ent\n",
       "2       5578825209  2021-08-03       0  (210.0, 260.0]     ent\n",
       "3       4421492203  2021-10-25       0  (210.0, 260.0]     ent\n",
       "4       2213694945  2021-04-23       0  (210.0, 260.0]     ent\n",
       "...            ...         ...     ...             ...     ...\n",
       "367416  9999966195  2021-12-17       0  (160.0, 210.0]    test\n",
       "367417  9999974393  2021-12-11       1  (160.0, 210.0]    test\n",
       "367418  9999975058  2021-12-08       1  (110.0, 160.0]    test\n",
       "367419  9999981332  2021-12-20       1  (110.0, 160.0]    test\n",
       "367420  9999982800  2021-12-13       0  (260.0, 310.0]    test\n",
       "\n",
       "[367421 rows x 5 columns]"
      ]
     },
     "execution_count": 184,
     "metadata": {},
     "output_type": "execute_result"
    }
   ],
   "source": [
    "aux"
   ]
  },
  {
   "cell_type": "code",
   "execution_count": 185,
   "id": "green-sudan",
   "metadata": {
    "ExecuteTime": {
     "end_time": "2021-11-27T17:50:29.656551Z",
     "start_time": "2021-11-27T17:50:29.470273Z"
    }
   },
   "outputs": [],
   "source": [
    "aux['fecha'] = pd.to_datetime(aux['fecha']).map(lambda x:x.strftime('%Y%m'))"
   ]
  },
  {
   "cell_type": "code",
   "execution_count": 186,
   "id": "known-stranger",
   "metadata": {
    "ExecuteTime": {
     "end_time": "2021-11-27T17:50:29.883313Z",
     "start_time": "2021-11-27T17:50:29.783026Z"
    }
   },
   "outputs": [],
   "source": [
    "aux.groupby(['fecha','r_score','muestra','target']).count().to_clipboard()"
   ]
  },
  {
   "cell_type": "code",
   "execution_count": 187,
   "id": "guided-convert",
   "metadata": {},
   "outputs": [
    {
     "data": {
      "text/plain": [
       "0    0.781033\n",
       "1    0.218967\n",
       "Name: target, dtype: float64"
      ]
     },
     "execution_count": 187,
     "metadata": {},
     "output_type": "execute_result"
    }
   ],
   "source": [
    "df['target'].value_counts(1)"
   ]
  },
  {
   "cell_type": "code",
   "execution_count": 188,
   "id": "9fac94de-3ab0-4824-952a-48b71ee4617b",
   "metadata": {},
   "outputs": [
    {
     "data": {
      "text/plain": [
       "(160.0, 210.0]    102366\n",
       "(110.0, 160.0]     80631\n",
       "(210.0, 260.0]     79642\n",
       "(60.0, 110.0]      48251\n",
       "(260.0, 310.0]     41941\n",
       "(310.0, 360.0]      9258\n",
       "(9.999, 60.0]       4622\n",
       "(360.0, 410.0]       677\n",
       "Name: r_score, dtype: int64"
      ]
     },
     "execution_count": 188,
     "metadata": {},
     "output_type": "execute_result"
    }
   ],
   "source": [
    "aux['r_score'].value_counts()"
   ]
  },
  {
   "cell_type": "code",
   "execution_count": null,
   "id": "7b03f1c0-9520-4e98-86f4-e313b744d409",
   "metadata": {},
   "outputs": [],
   "source": []
  }
 ],
 "metadata": {
  "kernelspec": {
   "display_name": "Python 3",
   "language": "python",
   "name": "python3"
  },
  "language_info": {
   "codemirror_mode": {
    "name": "ipython",
    "version": 3
   },
   "file_extension": ".py",
   "mimetype": "text/x-python",
   "name": "python",
   "nbconvert_exporter": "python",
   "pygments_lexer": "ipython3",
   "version": "3.8.8"
  },
  "toc": {
   "base_numbering": 1,
   "nav_menu": {},
   "number_sections": true,
   "sideBar": true,
   "skip_h1_title": false,
   "title_cell": "Table of Contents",
   "title_sidebar": "Contents",
   "toc_cell": false,
   "toc_position": {
    "height": "calc(100% - 180px)",
    "left": "10px",
    "top": "150px",
    "width": "279.273px"
   },
   "toc_section_display": true,
   "toc_window_display": true
  }
 },
 "nbformat": 4,
 "nbformat_minor": 5
}
