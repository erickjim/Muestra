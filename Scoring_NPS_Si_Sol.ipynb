{
 "cells": [
  {
   "cell_type": "markdown",
   "id": "saving-tiger",
   "metadata": {},
   "source": [
    "## Dependencias"
   ]
  },
  {
   "cell_type": "code",
   "execution_count": 1,
   "id": "victorian-diversity",
   "metadata": {
    "ExecuteTime": {
     "end_time": "2021-11-27T17:48:22.126760Z",
     "start_time": "2021-11-27T17:48:20.965380Z"
    }
   },
   "outputs": [
    {
     "data": {
      "text/html": [
       "        <script type=\"text/javascript\">\n",
       "        window.PlotlyConfig = {MathJaxConfig: 'local'};\n",
       "        if (window.MathJax) {MathJax.Hub.Config({SVG: {font: \"STIX-Web\"}});}\n",
       "        if (typeof require !== 'undefined') {\n",
       "        require.undef(\"plotly\");\n",
       "        requirejs.config({\n",
       "            paths: {\n",
       "                'plotly': ['https://cdn.plot.ly/plotly-2.2.0.min']\n",
       "            }\n",
       "        });\n",
       "        require(['plotly'], function(Plotly) {\n",
       "            window._Plotly = Plotly;\n",
       "        });\n",
       "        }\n",
       "        </script>\n",
       "        "
      ]
     },
     "metadata": {},
     "output_type": "display_data"
    }
   ],
   "source": [
    "import numpy as np\n",
    "import pandas as pd\n",
    "import os\n",
    "import json\n",
    "from sqlalchemy.engine import create_engine\n",
    "\n",
    "import matplotlib.pyplot as plt\n",
    "import seaborn as sns\n",
    "import cufflinks as cf\n",
    "from scikitplot.metrics import plot_roc\n",
    "\n",
    "from sklearn.impute import SimpleImputer\n",
    "from sklearn.preprocessing import MinMaxScaler\n",
    "from sklearn.feature_selection import VarianceThreshold\n",
    "from sklearn.preprocessing import KBinsDiscretizer\n",
    "from sklearn.model_selection import train_test_split\n",
    "from sklearn.linear_model import LogisticRegression\n",
    "from sklearn.metrics import roc_auc_score\n",
    "\n",
    "\n",
    "from scipy import stats\n",
    "from varclushi import VarClusHi\n",
    "\n",
    "from functools import reduce\n",
    "\n",
    "import pickle\n",
    "import asyncio\n",
    "import warnings\n",
    "\n",
    "warnings.filterwarnings('ignore')\n",
    "pd.set_option('display.max_columns',None)\n",
    "cf.go_offline()"
   ]
  },
  {
   "cell_type": "code",
   "execution_count": 2,
   "id": "immune-portuguese",
   "metadata": {
    "ExecuteTime": {
     "end_time": "2021-11-27T17:48:22.131002Z",
     "start_time": "2021-11-27T17:48:22.127898Z"
    }
   },
   "outputs": [],
   "source": [
    "def freq(df,var):\n",
    "    if type(var)!=list:\n",
    "        var = [var]\n",
    "    for v in var:\n",
    "        aux = df[v].value_counts().sort_index().to_frame().rename(columns={v:'FA'})\n",
    "        aux['FR'] = aux['FA']/aux['FA'].sum()\n",
    "        aux[['FAA','FRA']] = aux.apply(np.cumsum)\n",
    "        print(\"Tabla de frecuencias para la variable **\",v,\"**\",\"\\n\"*2)\n",
    "        print(aux,\"\\n\"*2)"
   ]
  },
  {
   "cell_type": "code",
   "execution_count": 3,
   "id": "aba0ef68-3652-42c0-9270-03ec6d072ae7",
   "metadata": {},
   "outputs": [],
   "source": [
    "dic=pd.read_excel('SIMAEC_NPS_Dic.xlsx')\n",
    "nov=pd.read_excel('SIMAEC_NPS_Nov.xlsx')\n",
    "oc= pd.read_excel('SIMAEC_NPS_Oct.xlsx')\n",
    "sep=pd.read_excel('SIMAEC_NPS_Sep.xlsx')\n",
    "ago=pd.read_excel('SIMAEC_NPS_Ago.xlsx')\n",
    "jul=pd.read_excel('SIMAEC_NPS_Jul.xlsx')\n",
    "jun=pd.read_excel('SIMAEC_NPS_Jun.xlsx')\n",
    "may=pd.read_excel('SIMAEC_NPS_May.xlsx')\n",
    "abr=pd.read_excel('SIMAEC_NPS_Abr.xlsx')\n",
    "mar=pd.read_excel('SIMAEC_NPS_Mar.xlsx')\n",
    "feb=pd.read_excel('SIMAEC_NPS_Feb.xlsx')\n",
    "ene=pd.read_excel('SIMAEC_NPS_Ene.xlsx')"
   ]
  },
  {
   "cell_type": "code",
   "execution_count": 4,
   "id": "147d7cd5-2be3-4b66-af4d-d19c86031710",
   "metadata": {},
   "outputs": [],
   "source": [
    "df=pd.concat([ene,feb,mar,abr,may,jun,jul,ago,sep,oc,nov,dic])"
   ]
  },
  {
   "cell_type": "code",
   "execution_count": 5,
   "id": "f143e2e5-2664-4438-996b-7b8ae0a50043",
   "metadata": {},
   "outputs": [
    {
     "data": {
      "text/plain": [
       "(426630, 11)"
      ]
     },
     "execution_count": 5,
     "metadata": {},
     "output_type": "execute_result"
    }
   ],
   "source": [
    "df.shape"
   ]
  },
  {
   "cell_type": "code",
   "execution_count": 6,
   "id": "2c1bf082-ab1a-46eb-9780-028158064bc8",
   "metadata": {},
   "outputs": [
    {
     "name": "stdout",
     "output_type": "stream",
     "text": [
      "Encuesta CAC F_22 diciembre 2021_12.49.csv\n",
      "Encuesta CAC F_23 diciembre 2021_17.34.csv\n",
      "Encuesta CAC F_24 diciembre 2021_12.52.csv\n",
      "Encuesta CAC F_24 diciembre 2021_13.00.csv\n"
     ]
    }
   ],
   "source": [
    "a=[]\n",
    "for file in os.listdir(r'C:\\Users\\VDMG015\\Documents\\Esteban\\Tramites\\Datos'):\n",
    "        cdmx = pd.read_csv('Datos/'+file, dtype='str', usecols=['StartDate','telefonoUsuario','Q6'])\n",
    "        cdmx = cdmx.iloc[2:].reset_index(drop=True)\n",
    "        cdmx['StartDate']=pd.to_datetime(cdmx['StartDate'], format='%Y-%m-%d')\n",
    "        cdmx['StartDate']=cdmx['StartDate'].dt.date\n",
    "        cdmx = cdmx.rename(columns={'telefonoUsuario':'linea','StartDate':'fecha','Q6':'Solucion'})\n",
    "        cdmx['fecha'] = cdmx['fecha'].astype(str)\n",
    "        cdmx['Solucion'] = cdmx['Solucion'].replace({'Sí, y estoy satisfecho con el resultado.':'Sí', 'Sí, pero no estoy satisfecho con el resultado.':'Sí','No, mi requerimiento/trámite no se resolvió.':'No' })\n",
    "        print(file)\n",
    "        a.append(cdmx)\n",
    "qx=pd.concat(a)"
   ]
  },
  {
   "cell_type": "code",
   "execution_count": 7,
   "id": "4384ef38-a6ac-49a3-a4ae-39143f786a0d",
   "metadata": {},
   "outputs": [
    {
     "data": {
      "text/plain": [
       "((875429, 3), (879918, 3))"
      ]
     },
     "execution_count": 7,
     "metadata": {},
     "output_type": "execute_result"
    }
   ],
   "source": [
    "qx.drop_duplicates().shape, qx.shape"
   ]
  },
  {
   "cell_type": "code",
   "execution_count": 8,
   "id": "9d1dc015-e198-4be7-bd47-8b8b678c2826",
   "metadata": {},
   "outputs": [],
   "source": [
    "qx=qx.drop_duplicates().reset_index(drop=True)"
   ]
  },
  {
   "cell_type": "code",
   "execution_count": 9,
   "id": "0b53b1e7-c8b8-4d27-806b-ce2c69d4dc32",
   "metadata": {},
   "outputs": [],
   "source": [
    "df['region']=df['region'].astype(str)"
   ]
  },
  {
   "cell_type": "code",
   "execution_count": 10,
   "id": "11ed9968-5d73-40d0-967a-87e62a6ee552",
   "metadata": {},
   "outputs": [],
   "source": [
    "df['tramites']=df['tramites'].astype(str)"
   ]
  },
  {
   "cell_type": "code",
   "execution_count": 11,
   "id": "6979d349-9081-4218-a132-7e645a68b570",
   "metadata": {},
   "outputs": [],
   "source": [
    "df['linea'] = df['linea'].astype(str)"
   ]
  },
  {
   "cell_type": "code",
   "execution_count": 12,
   "id": "a2bfd39d-119c-4718-969f-19048daea0e9",
   "metadata": {},
   "outputs": [],
   "source": [
    "df=df.merge(qx)"
   ]
  },
  {
   "cell_type": "code",
   "execution_count": 13,
   "id": "6eef836f-bd57-45fb-be95-529a8947655e",
   "metadata": {},
   "outputs": [],
   "source": [
    "df=df[df['NPS_Asesor'].isin(['Detractor','Promotor'])].reset_index(drop=True)\n",
    "df=df.dropna().reset_index(drop=True)"
   ]
  },
  {
   "cell_type": "code",
   "execution_count": 16,
   "id": "bc92252d-03b3-4c88-a517-11dc95a778dc",
   "metadata": {},
   "outputs": [],
   "source": [
    "df=df.rename(columns={'tiempo_espera':'c_tiempo_espera','tiempo_tramite':'c_tiempo_tramite','motivo':'d_motivo','cac':'d_cac','region':'d_region'})"
   ]
  },
  {
   "cell_type": "code",
   "execution_count": 17,
   "id": "19749578-c722-4a0b-8784-72f878677cf3",
   "metadata": {},
   "outputs": [],
   "source": [
    "df['target']=(df['NPS_Asesor']=='Detractor').astype(int)"
   ]
  },
  {
   "cell_type": "markdown",
   "id": "likely-sudan",
   "metadata": {},
   "source": [
    "## Variables"
   ]
  },
  {
   "cell_type": "code",
   "execution_count": 18,
   "id": "aging-stopping",
   "metadata": {
    "ExecuteTime": {
     "end_time": "2021-11-27T17:48:28.378793Z",
     "start_time": "2021-11-27T17:48:28.359837Z"
    }
   },
   "outputs": [
    {
     "data": {
      "text/plain": [
       "(2, 4)"
      ]
     },
     "execution_count": 18,
     "metadata": {},
     "output_type": "execute_result"
    }
   ],
   "source": [
    "um = ['linea','fecha']\n",
    "varc = [v for v in df.columns if v[:2]=='c_']\n",
    "vard = [v for v in df.columns if v[:2]=='d_']\n",
    "vart =['target']\n",
    "len(varc),len(vard)"
   ]
  },
  {
   "cell_type": "code",
   "execution_count": 19,
   "id": "ed9fb10f-2626-4919-83b4-5670bbeea2bb",
   "metadata": {},
   "outputs": [],
   "source": [
    "df=df.drop_duplicates(um).reset_index(drop=True)"
   ]
  },
  {
   "cell_type": "code",
   "execution_count": 20,
   "id": "4dff4109-69bc-4fd7-9de8-2d6e5893d70f",
   "metadata": {},
   "outputs": [
    {
     "name": "stdout",
     "output_type": "stream",
     "text": [
      "<class 'pandas.core.frame.DataFrame'>\n",
      "RangeIndex: 367421 entries, 0 to 367420\n",
      "Data columns (total 13 columns):\n",
      " #   Column            Non-Null Count   Dtype \n",
      "---  ------            --------------   ----- \n",
      " 0   linea             367421 non-null  object\n",
      " 1   fecha             367421 non-null  object\n",
      " 2   c_tiempo_espera   367421 non-null  int64 \n",
      " 3   c_tiempo_tramite  367421 non-null  int64 \n",
      " 4   d_tramites        367421 non-null  object\n",
      " 5   d_motivo          367421 non-null  object\n",
      " 6   d_cac             367421 non-null  object\n",
      " 7   d_region          367421 non-null  object\n",
      " 8   Asesor            367421 non-null  object\n",
      " 9   NPS_Asesor        367421 non-null  object\n",
      " 10  NPS_CAC           367421 non-null  object\n",
      " 11  Solucion          367421 non-null  object\n",
      " 12  target            367421 non-null  int32 \n",
      "dtypes: int32(1), int64(2), object(10)\n",
      "memory usage: 35.0+ MB\n"
     ]
    }
   ],
   "source": [
    "df.info()"
   ]
  },
  {
   "cell_type": "markdown",
   "id": "infrared-perspective",
   "metadata": {},
   "source": [
    "## Análisis Exploratorio"
   ]
  },
  {
   "cell_type": "markdown",
   "id": "upset-catholic",
   "metadata": {},
   "source": [
    "#### Varianza Nula"
   ]
  },
  {
   "cell_type": "code",
   "execution_count": 21,
   "id": "exceptional-maldives",
   "metadata": {
    "ExecuteTime": {
     "end_time": "2021-11-27T17:48:35.309862Z",
     "start_time": "2021-11-27T17:48:35.170888Z"
    }
   },
   "outputs": [
    {
     "data": {
      "text/plain": [
       "VarianceThreshold()"
      ]
     },
     "execution_count": 21,
     "metadata": {},
     "output_type": "execute_result"
    }
   ],
   "source": [
    "vt = VarianceThreshold()\n",
    "vt.fit(df[varc])"
   ]
  },
  {
   "cell_type": "code",
   "execution_count": 22,
   "id": "9b935d0a-910b-4754-a2c5-e016b533af71",
   "metadata": {},
   "outputs": [
    {
     "data": {
      "text/html": [
       "<div>\n",
       "<style scoped>\n",
       "    .dataframe tbody tr th:only-of-type {\n",
       "        vertical-align: middle;\n",
       "    }\n",
       "\n",
       "    .dataframe tbody tr th {\n",
       "        vertical-align: top;\n",
       "    }\n",
       "\n",
       "    .dataframe thead th {\n",
       "        text-align: right;\n",
       "    }\n",
       "</style>\n",
       "<table border=\"1\" class=\"dataframe\">\n",
       "  <thead>\n",
       "    <tr style=\"text-align: right;\">\n",
       "      <th></th>\n",
       "      <th>c_tiempo_espera</th>\n",
       "      <th>c_tiempo_tramite</th>\n",
       "    </tr>\n",
       "  </thead>\n",
       "  <tbody>\n",
       "    <tr>\n",
       "      <th>0</th>\n",
       "      <td>19</td>\n",
       "      <td>352</td>\n",
       "    </tr>\n",
       "    <tr>\n",
       "      <th>1</th>\n",
       "      <td>75</td>\n",
       "      <td>816</td>\n",
       "    </tr>\n",
       "    <tr>\n",
       "      <th>2</th>\n",
       "      <td>64</td>\n",
       "      <td>476</td>\n",
       "    </tr>\n",
       "    <tr>\n",
       "      <th>3</th>\n",
       "      <td>46</td>\n",
       "      <td>798</td>\n",
       "    </tr>\n",
       "    <tr>\n",
       "      <th>4</th>\n",
       "      <td>24</td>\n",
       "      <td>530</td>\n",
       "    </tr>\n",
       "    <tr>\n",
       "      <th>...</th>\n",
       "      <td>...</td>\n",
       "      <td>...</td>\n",
       "    </tr>\n",
       "    <tr>\n",
       "      <th>367416</th>\n",
       "      <td>28</td>\n",
       "      <td>62</td>\n",
       "    </tr>\n",
       "    <tr>\n",
       "      <th>367417</th>\n",
       "      <td>30</td>\n",
       "      <td>1037</td>\n",
       "    </tr>\n",
       "    <tr>\n",
       "      <th>367418</th>\n",
       "      <td>572</td>\n",
       "      <td>394</td>\n",
       "    </tr>\n",
       "    <tr>\n",
       "      <th>367419</th>\n",
       "      <td>754</td>\n",
       "      <td>744</td>\n",
       "    </tr>\n",
       "    <tr>\n",
       "      <th>367420</th>\n",
       "      <td>469</td>\n",
       "      <td>755</td>\n",
       "    </tr>\n",
       "  </tbody>\n",
       "</table>\n",
       "<p>367421 rows × 2 columns</p>\n",
       "</div>"
      ],
      "text/plain": [
       "        c_tiempo_espera  c_tiempo_tramite\n",
       "0                    19               352\n",
       "1                    75               816\n",
       "2                    64               476\n",
       "3                    46               798\n",
       "4                    24               530\n",
       "...                 ...               ...\n",
       "367416               28                62\n",
       "367417               30              1037\n",
       "367418              572               394\n",
       "367419              754               744\n",
       "367420              469               755\n",
       "\n",
       "[367421 rows x 2 columns]"
      ]
     },
     "execution_count": 22,
     "metadata": {},
     "output_type": "execute_result"
    }
   ],
   "source": [
    "df[varc]"
   ]
  },
  {
   "cell_type": "code",
   "execution_count": 23,
   "id": "b3cb705a-1589-4a76-af97-c17c33c0eb5a",
   "metadata": {},
   "outputs": [
    {
     "data": {
      "text/plain": [
       "array([[ 19, 352],\n",
       "       [ 75, 816],\n",
       "       [ 64, 476],\n",
       "       ...,\n",
       "       [572, 394],\n",
       "       [754, 744],\n",
       "       [469, 755]], dtype=int64)"
      ]
     },
     "execution_count": 23,
     "metadata": {},
     "output_type": "execute_result"
    }
   ],
   "source": [
    "vt.transform(df[varc])"
   ]
  },
  {
   "cell_type": "code",
   "execution_count": 24,
   "id": "julian-nickel",
   "metadata": {
    "ExecuteTime": {
     "end_time": "2021-11-27T17:48:35.366270Z",
     "start_time": "2021-11-27T17:48:35.311219Z"
    }
   },
   "outputs": [
    {
     "data": {
      "text/plain": [
       "2"
      ]
     },
     "execution_count": 24,
     "metadata": {},
     "output_type": "execute_result"
    }
   ],
   "source": [
    "varc = [v for v,f in zip(varc,vt.get_support()) if f]\n",
    "len(varc)"
   ]
  },
  {
   "cell_type": "code",
   "execution_count": 25,
   "id": "convinced-franklin",
   "metadata": {
    "ExecuteTime": {
     "end_time": "2021-11-27T17:48:42.923035Z",
     "start_time": "2021-11-27T17:48:42.776263Z"
    }
   },
   "outputs": [
    {
     "data": {
      "text/plain": [
       "['c_tiempo_espera', 'c_tiempo_tramite']"
      ]
     },
     "execution_count": 25,
     "metadata": {},
     "output_type": "execute_result"
    }
   ],
   "source": [
    "varc"
   ]
  },
  {
   "cell_type": "markdown",
   "id": "alpha-civilian",
   "metadata": {},
   "source": [
    "#### Discretización"
   ]
  },
  {
   "cell_type": "code",
   "execution_count": 26,
   "id": "suited-flood",
   "metadata": {
    "ExecuteTime": {
     "end_time": "2021-11-27T17:48:43.021102Z",
     "start_time": "2021-11-27T17:48:42.924361Z"
    }
   },
   "outputs": [],
   "source": [
    "def discretizar(k,metodo,variable):\n",
    "    nm = df[um+[variable]].copy()\n",
    "\n",
    "    kb = KBinsDiscretizer(n_bins=k,encode='ordinal',strategy=metodo)\n",
    "    kb.fit(nm[[variable]])\n",
    "\n",
    "    nm['d'] = kb.transform(nm[[variable]])\n",
    "    mapa = dict(zip(range(k),['%02d. |%.1f---%.1f|'%(i+1,*s) for i,s in enumerate(list(zip(kb.bin_edges_[0],kb.bin_edges_[0][1:])))]))\n",
    "    nm['d'].replace(mapa,inplace=True)\n",
    "    nombre = f'd_{metodo[0]}_{k}_{variable}'\n",
    "    nm = nm[um+['d']].rename(columns={'d':nombre})\n",
    "    \n",
    "    return nm"
   ]
  },
  {
   "cell_type": "code",
   "execution_count": 27,
   "id": "e5bce7c9-7fcb-4cd3-bf1c-c76e3525f2b8",
   "metadata": {},
   "outputs": [],
   "source": [
    "l=[]\n",
    "for i in [(k,m,v) for k in range(2,10) for m in ['quantile','uniform', 'kmeans'] for v in varc]:\n",
    "    a,b,c=i\n",
    "    l.append(discretizar(a,b,c).iloc[:,2])"
   ]
  },
  {
   "cell_type": "code",
   "execution_count": 28,
   "id": "174acd99-5462-4afc-99c5-7c6e67e56f77",
   "metadata": {},
   "outputs": [],
   "source": [
    "dfd=pd.concat(l,axis=1)"
   ]
  },
  {
   "cell_type": "code",
   "execution_count": 29,
   "id": "6636af66-a718-4f06-8cf9-af104a4bdb1e",
   "metadata": {},
   "outputs": [],
   "source": [
    "dfd[um]=df[um]"
   ]
  },
  {
   "cell_type": "code",
   "execution_count": 30,
   "id": "classified-beaver",
   "metadata": {
    "ExecuteTime": {
     "end_time": "2021-11-27T17:48:58.381118Z",
     "start_time": "2021-11-27T17:48:58.378162Z"
    }
   },
   "outputs": [],
   "source": [
    "varcd = [v for v in dfd if v[:2]=='d_']"
   ]
  },
  {
   "cell_type": "code",
   "execution_count": 31,
   "id": "whole-madrid",
   "metadata": {
    "ExecuteTime": {
     "end_time": "2021-11-27T17:48:59.086881Z",
     "start_time": "2021-11-27T17:48:58.382679Z"
    }
   },
   "outputs": [],
   "source": [
    "df=df.merge(dfd,on=um,how='inner')"
   ]
  },
  {
   "cell_type": "code",
   "execution_count": 32,
   "id": "740fe454-0dea-43e4-800c-7b26cf1555ec",
   "metadata": {},
   "outputs": [
    {
     "data": {
      "text/html": [
       "<div>\n",
       "<style scoped>\n",
       "    .dataframe tbody tr th:only-of-type {\n",
       "        vertical-align: middle;\n",
       "    }\n",
       "\n",
       "    .dataframe tbody tr th {\n",
       "        vertical-align: top;\n",
       "    }\n",
       "\n",
       "    .dataframe thead th {\n",
       "        text-align: right;\n",
       "    }\n",
       "</style>\n",
       "<table border=\"1\" class=\"dataframe\">\n",
       "  <thead>\n",
       "    <tr style=\"text-align: right;\">\n",
       "      <th></th>\n",
       "      <th>linea</th>\n",
       "      <th>fecha</th>\n",
       "      <th>c_tiempo_espera</th>\n",
       "      <th>c_tiempo_tramite</th>\n",
       "      <th>d_tramites</th>\n",
       "      <th>d_motivo</th>\n",
       "      <th>d_cac</th>\n",
       "      <th>d_region</th>\n",
       "      <th>Asesor</th>\n",
       "      <th>NPS_Asesor</th>\n",
       "      <th>NPS_CAC</th>\n",
       "      <th>Solucion</th>\n",
       "      <th>target</th>\n",
       "      <th>d_q_2_c_tiempo_espera</th>\n",
       "      <th>d_q_2_c_tiempo_tramite</th>\n",
       "      <th>d_u_2_c_tiempo_espera</th>\n",
       "      <th>d_u_2_c_tiempo_tramite</th>\n",
       "      <th>d_k_2_c_tiempo_espera</th>\n",
       "      <th>d_k_2_c_tiempo_tramite</th>\n",
       "      <th>d_q_3_c_tiempo_espera</th>\n",
       "      <th>d_q_3_c_tiempo_tramite</th>\n",
       "      <th>d_u_3_c_tiempo_espera</th>\n",
       "      <th>d_u_3_c_tiempo_tramite</th>\n",
       "      <th>d_k_3_c_tiempo_espera</th>\n",
       "      <th>d_k_3_c_tiempo_tramite</th>\n",
       "      <th>d_q_4_c_tiempo_espera</th>\n",
       "      <th>d_q_4_c_tiempo_tramite</th>\n",
       "      <th>d_u_4_c_tiempo_espera</th>\n",
       "      <th>d_u_4_c_tiempo_tramite</th>\n",
       "      <th>d_k_4_c_tiempo_espera</th>\n",
       "      <th>d_k_4_c_tiempo_tramite</th>\n",
       "      <th>d_q_5_c_tiempo_espera</th>\n",
       "      <th>d_q_5_c_tiempo_tramite</th>\n",
       "      <th>d_u_5_c_tiempo_espera</th>\n",
       "      <th>d_u_5_c_tiempo_tramite</th>\n",
       "      <th>d_k_5_c_tiempo_espera</th>\n",
       "      <th>d_k_5_c_tiempo_tramite</th>\n",
       "      <th>d_q_6_c_tiempo_espera</th>\n",
       "      <th>d_q_6_c_tiempo_tramite</th>\n",
       "      <th>d_u_6_c_tiempo_espera</th>\n",
       "      <th>d_u_6_c_tiempo_tramite</th>\n",
       "      <th>d_k_6_c_tiempo_espera</th>\n",
       "      <th>d_k_6_c_tiempo_tramite</th>\n",
       "      <th>d_q_7_c_tiempo_espera</th>\n",
       "      <th>d_q_7_c_tiempo_tramite</th>\n",
       "      <th>d_u_7_c_tiempo_espera</th>\n",
       "      <th>d_u_7_c_tiempo_tramite</th>\n",
       "      <th>d_k_7_c_tiempo_espera</th>\n",
       "      <th>d_k_7_c_tiempo_tramite</th>\n",
       "      <th>d_q_8_c_tiempo_espera</th>\n",
       "      <th>d_q_8_c_tiempo_tramite</th>\n",
       "      <th>d_u_8_c_tiempo_espera</th>\n",
       "      <th>d_u_8_c_tiempo_tramite</th>\n",
       "      <th>d_k_8_c_tiempo_espera</th>\n",
       "      <th>d_k_8_c_tiempo_tramite</th>\n",
       "      <th>d_q_9_c_tiempo_espera</th>\n",
       "      <th>d_q_9_c_tiempo_tramite</th>\n",
       "      <th>d_u_9_c_tiempo_espera</th>\n",
       "      <th>d_u_9_c_tiempo_tramite</th>\n",
       "      <th>d_k_9_c_tiempo_espera</th>\n",
       "      <th>d_k_9_c_tiempo_tramite</th>\n",
       "    </tr>\n",
       "  </thead>\n",
       "  <tbody>\n",
       "    <tr>\n",
       "      <th>0</th>\n",
       "      <td>2211011053</td>\n",
       "      <td>2021-01-07</td>\n",
       "      <td>19</td>\n",
       "      <td>352</td>\n",
       "      <td>1</td>\n",
       "      <td>A PORTABILIDAD</td>\n",
       "      <td>PUEBLA V</td>\n",
       "      <td>7</td>\n",
       "      <td>PAC3AD8</td>\n",
       "      <td>Promotor</td>\n",
       "      <td>Promotor</td>\n",
       "      <td>Sí</td>\n",
       "      <td>0</td>\n",
       "      <td>01. |0.0---50.0|</td>\n",
       "      <td>01. |0.0---1211.0|</td>\n",
       "      <td>01. |0.0---6704.5|</td>\n",
       "      <td>01. |0.0---21753.5|</td>\n",
       "      <td>01. |0.0---904.8|</td>\n",
       "      <td>01. |0.0---2524.9|</td>\n",
       "      <td>01. |0.0---34.0|</td>\n",
       "      <td>01. |0.0---805.0|</td>\n",
       "      <td>01. |0.0---4469.7|</td>\n",
       "      <td>01. |0.0---14502.3|</td>\n",
       "      <td>01. |0.0---528.0|</td>\n",
       "      <td>01. |0.0---1742.3|</td>\n",
       "      <td>01. |0.0---30.0|</td>\n",
       "      <td>01. |0.0---641.0|</td>\n",
       "      <td>01. |0.0---3352.2|</td>\n",
       "      <td>01. |0.0---10876.8|</td>\n",
       "      <td>01. |0.0---394.9|</td>\n",
       "      <td>01. |0.0---1739.8|</td>\n",
       "      <td>01. |0.0---28.0|</td>\n",
       "      <td>01. |0.0---548.0|</td>\n",
       "      <td>01. |0.0---2681.8|</td>\n",
       "      <td>01. |0.0---8701.4|</td>\n",
       "      <td>01. |0.0---312.9|</td>\n",
       "      <td>01. |0.0---1359.5|</td>\n",
       "      <td>01. |0.0---26.0|</td>\n",
       "      <td>01. |0.0---486.0|</td>\n",
       "      <td>01. |0.0---2234.8|</td>\n",
       "      <td>01. |0.0---7251.2|</td>\n",
       "      <td>01. |0.0---262.2|</td>\n",
       "      <td>01. |0.0---1130.5|</td>\n",
       "      <td>01. |0.0---25.0|</td>\n",
       "      <td>01. |0.0---442.0|</td>\n",
       "      <td>01. |0.0---1915.6|</td>\n",
       "      <td>01. |0.0---6215.3|</td>\n",
       "      <td>01. |0.0---229.4|</td>\n",
       "      <td>01. |0.0---961.5|</td>\n",
       "      <td>01. |0.0---24.0|</td>\n",
       "      <td>01. |0.0---408.0|</td>\n",
       "      <td>01. |0.0---1676.1|</td>\n",
       "      <td>01. |0.0---5438.4|</td>\n",
       "      <td>01. |0.0---203.3|</td>\n",
       "      <td>01. |0.0---845.7|</td>\n",
       "      <td>01. |0.0---23.0|</td>\n",
       "      <td>01. |0.0---381.0|</td>\n",
       "      <td>01. |0.0---1489.9|</td>\n",
       "      <td>01. |0.0---4834.1|</td>\n",
       "      <td>01. |0.0---179.9|</td>\n",
       "      <td>01. |0.0---769.5|</td>\n",
       "    </tr>\n",
       "    <tr>\n",
       "      <th>1</th>\n",
       "      <td>2211020306</td>\n",
       "      <td>2021-01-22</td>\n",
       "      <td>75</td>\n",
       "      <td>816</td>\n",
       "      <td>1</td>\n",
       "      <td>A INFORMES DE PORTABILIDAD</td>\n",
       "      <td>PUEBLA ZOCALO</td>\n",
       "      <td>7</td>\n",
       "      <td>PACD35A</td>\n",
       "      <td>Promotor</td>\n",
       "      <td>Promotor</td>\n",
       "      <td>Sí</td>\n",
       "      <td>0</td>\n",
       "      <td>02. |50.0---13409.0|</td>\n",
       "      <td>01. |0.0---1211.0|</td>\n",
       "      <td>01. |0.0---6704.5|</td>\n",
       "      <td>01. |0.0---21753.5|</td>\n",
       "      <td>01. |0.0---904.8|</td>\n",
       "      <td>01. |0.0---2524.9|</td>\n",
       "      <td>02. |34.0---219.0|</td>\n",
       "      <td>02. |805.0---1826.0|</td>\n",
       "      <td>01. |0.0---4469.7|</td>\n",
       "      <td>01. |0.0---14502.3|</td>\n",
       "      <td>01. |0.0---528.0|</td>\n",
       "      <td>01. |0.0---1742.3|</td>\n",
       "      <td>03. |50.0---406.0|</td>\n",
       "      <td>02. |641.0---1211.0|</td>\n",
       "      <td>01. |0.0---3352.2|</td>\n",
       "      <td>01. |0.0---10876.8|</td>\n",
       "      <td>01. |0.0---394.9|</td>\n",
       "      <td>01. |0.0---1739.8|</td>\n",
       "      <td>03. |38.0---111.0|</td>\n",
       "      <td>02. |548.0---951.0|</td>\n",
       "      <td>01. |0.0---2681.8|</td>\n",
       "      <td>01. |0.0---8701.4|</td>\n",
       "      <td>01. |0.0---312.9|</td>\n",
       "      <td>01. |0.0---1359.5|</td>\n",
       "      <td>04. |50.0---219.0|</td>\n",
       "      <td>03. |805.0---1211.0|</td>\n",
       "      <td>01. |0.0---2234.8|</td>\n",
       "      <td>01. |0.0---7251.2|</td>\n",
       "      <td>01. |0.0---262.2|</td>\n",
       "      <td>01. |0.0---1130.5|</td>\n",
       "      <td>04. |41.0---81.0|</td>\n",
       "      <td>03. |709.0---1019.0|</td>\n",
       "      <td>01. |0.0---1915.6|</td>\n",
       "      <td>01. |0.0---6215.3|</td>\n",
       "      <td>01. |0.0---229.4|</td>\n",
       "      <td>01. |0.0---961.5|</td>\n",
       "      <td>05. |50.0---147.0|</td>\n",
       "      <td>03. |641.0---895.0|</td>\n",
       "      <td>01. |0.0---1676.1|</td>\n",
       "      <td>01. |0.0---5438.4|</td>\n",
       "      <td>01. |0.0---203.3|</td>\n",
       "      <td>01. |0.0---845.7|</td>\n",
       "      <td>06. |70.0---219.0|</td>\n",
       "      <td>04. |805.0---1060.0|</td>\n",
       "      <td>01. |0.0---1489.9|</td>\n",
       "      <td>01. |0.0---4834.1|</td>\n",
       "      <td>01. |0.0---179.9|</td>\n",
       "      <td>02. |769.5---1454.2|</td>\n",
       "    </tr>\n",
       "    <tr>\n",
       "      <th>2</th>\n",
       "      <td>2211030413</td>\n",
       "      <td>2021-01-26</td>\n",
       "      <td>64</td>\n",
       "      <td>476</td>\n",
       "      <td>1</td>\n",
       "      <td>A POR ACTUALIZACION VERSION</td>\n",
       "      <td>PUE II SAN ANGEL</td>\n",
       "      <td>7</td>\n",
       "      <td>PACF9E1</td>\n",
       "      <td>Promotor</td>\n",
       "      <td>Promotor</td>\n",
       "      <td>Sí</td>\n",
       "      <td>0</td>\n",
       "      <td>02. |50.0---13409.0|</td>\n",
       "      <td>01. |0.0---1211.0|</td>\n",
       "      <td>01. |0.0---6704.5|</td>\n",
       "      <td>01. |0.0---21753.5|</td>\n",
       "      <td>01. |0.0---904.8|</td>\n",
       "      <td>01. |0.0---2524.9|</td>\n",
       "      <td>02. |34.0---219.0|</td>\n",
       "      <td>01. |0.0---805.0|</td>\n",
       "      <td>01. |0.0---4469.7|</td>\n",
       "      <td>01. |0.0---14502.3|</td>\n",
       "      <td>01. |0.0---528.0|</td>\n",
       "      <td>01. |0.0---1742.3|</td>\n",
       "      <td>03. |50.0---406.0|</td>\n",
       "      <td>01. |0.0---641.0|</td>\n",
       "      <td>01. |0.0---3352.2|</td>\n",
       "      <td>01. |0.0---10876.8|</td>\n",
       "      <td>01. |0.0---394.9|</td>\n",
       "      <td>01. |0.0---1739.8|</td>\n",
       "      <td>03. |38.0---111.0|</td>\n",
       "      <td>01. |0.0---548.0|</td>\n",
       "      <td>01. |0.0---2681.8|</td>\n",
       "      <td>01. |0.0---8701.4|</td>\n",
       "      <td>01. |0.0---312.9|</td>\n",
       "      <td>01. |0.0---1359.5|</td>\n",
       "      <td>04. |50.0---219.0|</td>\n",
       "      <td>01. |0.0---486.0|</td>\n",
       "      <td>01. |0.0---2234.8|</td>\n",
       "      <td>01. |0.0---7251.2|</td>\n",
       "      <td>01. |0.0---262.2|</td>\n",
       "      <td>01. |0.0---1130.5|</td>\n",
       "      <td>04. |41.0---81.0|</td>\n",
       "      <td>02. |442.0---709.0|</td>\n",
       "      <td>01. |0.0---1915.6|</td>\n",
       "      <td>01. |0.0---6215.3|</td>\n",
       "      <td>01. |0.0---229.4|</td>\n",
       "      <td>01. |0.0---961.5|</td>\n",
       "      <td>05. |50.0---147.0|</td>\n",
       "      <td>02. |408.0---641.0|</td>\n",
       "      <td>01. |0.0---1676.1|</td>\n",
       "      <td>01. |0.0---5438.4|</td>\n",
       "      <td>01. |0.0---203.3|</td>\n",
       "      <td>01. |0.0---845.7|</td>\n",
       "      <td>05. |42.0---70.0|</td>\n",
       "      <td>02. |381.0---589.0|</td>\n",
       "      <td>01. |0.0---1489.9|</td>\n",
       "      <td>01. |0.0---4834.1|</td>\n",
       "      <td>01. |0.0---179.9|</td>\n",
       "      <td>01. |0.0---769.5|</td>\n",
       "    </tr>\n",
       "    <tr>\n",
       "      <th>3</th>\n",
       "      <td>2211035205</td>\n",
       "      <td>2021-01-19</td>\n",
       "      <td>46</td>\n",
       "      <td>798</td>\n",
       "      <td>1</td>\n",
       "      <td>A INGRESO Y ENTREGA DE EQUIPO (REVISION / REPA...</td>\n",
       "      <td>SAN PEDRO</td>\n",
       "      <td>7</td>\n",
       "      <td>PACD835</td>\n",
       "      <td>Promotor</td>\n",
       "      <td>Promotor</td>\n",
       "      <td>Sí</td>\n",
       "      <td>0</td>\n",
       "      <td>01. |0.0---50.0|</td>\n",
       "      <td>01. |0.0---1211.0|</td>\n",
       "      <td>01. |0.0---6704.5|</td>\n",
       "      <td>01. |0.0---21753.5|</td>\n",
       "      <td>01. |0.0---904.8|</td>\n",
       "      <td>01. |0.0---2524.9|</td>\n",
       "      <td>02. |34.0---219.0|</td>\n",
       "      <td>01. |0.0---805.0|</td>\n",
       "      <td>01. |0.0---4469.7|</td>\n",
       "      <td>01. |0.0---14502.3|</td>\n",
       "      <td>01. |0.0---528.0|</td>\n",
       "      <td>01. |0.0---1742.3|</td>\n",
       "      <td>02. |30.0---50.0|</td>\n",
       "      <td>02. |641.0---1211.0|</td>\n",
       "      <td>01. |0.0---3352.2|</td>\n",
       "      <td>01. |0.0---10876.8|</td>\n",
       "      <td>01. |0.0---394.9|</td>\n",
       "      <td>01. |0.0---1739.8|</td>\n",
       "      <td>03. |38.0---111.0|</td>\n",
       "      <td>02. |548.0---951.0|</td>\n",
       "      <td>01. |0.0---2681.8|</td>\n",
       "      <td>01. |0.0---8701.4|</td>\n",
       "      <td>01. |0.0---312.9|</td>\n",
       "      <td>01. |0.0---1359.5|</td>\n",
       "      <td>03. |34.0---50.0|</td>\n",
       "      <td>02. |486.0---805.0|</td>\n",
       "      <td>01. |0.0---2234.8|</td>\n",
       "      <td>01. |0.0---7251.2|</td>\n",
       "      <td>01. |0.0---262.2|</td>\n",
       "      <td>01. |0.0---1130.5|</td>\n",
       "      <td>04. |41.0---81.0|</td>\n",
       "      <td>03. |709.0---1019.0|</td>\n",
       "      <td>01. |0.0---1915.6|</td>\n",
       "      <td>01. |0.0---6215.3|</td>\n",
       "      <td>01. |0.0---229.4|</td>\n",
       "      <td>01. |0.0---961.5|</td>\n",
       "      <td>04. |37.0---50.0|</td>\n",
       "      <td>03. |641.0---895.0|</td>\n",
       "      <td>01. |0.0---1676.1|</td>\n",
       "      <td>01. |0.0---5438.4|</td>\n",
       "      <td>01. |0.0---203.3|</td>\n",
       "      <td>01. |0.0---845.7|</td>\n",
       "      <td>05. |42.0---70.0|</td>\n",
       "      <td>03. |589.0---805.0|</td>\n",
       "      <td>01. |0.0---1489.9|</td>\n",
       "      <td>01. |0.0---4834.1|</td>\n",
       "      <td>01. |0.0---179.9|</td>\n",
       "      <td>02. |769.5---1454.2|</td>\n",
       "    </tr>\n",
       "    <tr>\n",
       "      <th>4</th>\n",
       "      <td>2211056982</td>\n",
       "      <td>2021-01-19</td>\n",
       "      <td>24</td>\n",
       "      <td>530</td>\n",
       "      <td>1</td>\n",
       "      <td>A INFORMES DE PORTABILIDAD</td>\n",
       "      <td>GALERIAS TLAXCALA</td>\n",
       "      <td>7</td>\n",
       "      <td>PACFADD</td>\n",
       "      <td>Promotor</td>\n",
       "      <td>Promotor</td>\n",
       "      <td>Sí</td>\n",
       "      <td>0</td>\n",
       "      <td>01. |0.0---50.0|</td>\n",
       "      <td>01. |0.0---1211.0|</td>\n",
       "      <td>01. |0.0---6704.5|</td>\n",
       "      <td>01. |0.0---21753.5|</td>\n",
       "      <td>01. |0.0---904.8|</td>\n",
       "      <td>01. |0.0---2524.9|</td>\n",
       "      <td>01. |0.0---34.0|</td>\n",
       "      <td>01. |0.0---805.0|</td>\n",
       "      <td>01. |0.0---4469.7|</td>\n",
       "      <td>01. |0.0---14502.3|</td>\n",
       "      <td>01. |0.0---528.0|</td>\n",
       "      <td>01. |0.0---1742.3|</td>\n",
       "      <td>01. |0.0---30.0|</td>\n",
       "      <td>01. |0.0---641.0|</td>\n",
       "      <td>01. |0.0---3352.2|</td>\n",
       "      <td>01. |0.0---10876.8|</td>\n",
       "      <td>01. |0.0---394.9|</td>\n",
       "      <td>01. |0.0---1739.8|</td>\n",
       "      <td>01. |0.0---28.0|</td>\n",
       "      <td>01. |0.0---548.0|</td>\n",
       "      <td>01. |0.0---2681.8|</td>\n",
       "      <td>01. |0.0---8701.4|</td>\n",
       "      <td>01. |0.0---312.9|</td>\n",
       "      <td>01. |0.0---1359.5|</td>\n",
       "      <td>01. |0.0---26.0|</td>\n",
       "      <td>02. |486.0---805.0|</td>\n",
       "      <td>01. |0.0---2234.8|</td>\n",
       "      <td>01. |0.0---7251.2|</td>\n",
       "      <td>01. |0.0---262.2|</td>\n",
       "      <td>01. |0.0---1130.5|</td>\n",
       "      <td>01. |0.0---25.0|</td>\n",
       "      <td>02. |442.0---709.0|</td>\n",
       "      <td>01. |0.0---1915.6|</td>\n",
       "      <td>01. |0.0---6215.3|</td>\n",
       "      <td>01. |0.0---229.4|</td>\n",
       "      <td>01. |0.0---961.5|</td>\n",
       "      <td>02. |24.0---30.0|</td>\n",
       "      <td>02. |408.0---641.0|</td>\n",
       "      <td>01. |0.0---1676.1|</td>\n",
       "      <td>01. |0.0---5438.4|</td>\n",
       "      <td>01. |0.0---203.3|</td>\n",
       "      <td>01. |0.0---845.7|</td>\n",
       "      <td>02. |23.0---29.0|</td>\n",
       "      <td>02. |381.0---589.0|</td>\n",
       "      <td>01. |0.0---1489.9|</td>\n",
       "      <td>01. |0.0---4834.1|</td>\n",
       "      <td>01. |0.0---179.9|</td>\n",
       "      <td>01. |0.0---769.5|</td>\n",
       "    </tr>\n",
       "    <tr>\n",
       "      <th>...</th>\n",
       "      <td>...</td>\n",
       "      <td>...</td>\n",
       "      <td>...</td>\n",
       "      <td>...</td>\n",
       "      <td>...</td>\n",
       "      <td>...</td>\n",
       "      <td>...</td>\n",
       "      <td>...</td>\n",
       "      <td>...</td>\n",
       "      <td>...</td>\n",
       "      <td>...</td>\n",
       "      <td>...</td>\n",
       "      <td>...</td>\n",
       "      <td>...</td>\n",
       "      <td>...</td>\n",
       "      <td>...</td>\n",
       "      <td>...</td>\n",
       "      <td>...</td>\n",
       "      <td>...</td>\n",
       "      <td>...</td>\n",
       "      <td>...</td>\n",
       "      <td>...</td>\n",
       "      <td>...</td>\n",
       "      <td>...</td>\n",
       "      <td>...</td>\n",
       "      <td>...</td>\n",
       "      <td>...</td>\n",
       "      <td>...</td>\n",
       "      <td>...</td>\n",
       "      <td>...</td>\n",
       "      <td>...</td>\n",
       "      <td>...</td>\n",
       "      <td>...</td>\n",
       "      <td>...</td>\n",
       "      <td>...</td>\n",
       "      <td>...</td>\n",
       "      <td>...</td>\n",
       "      <td>...</td>\n",
       "      <td>...</td>\n",
       "      <td>...</td>\n",
       "      <td>...</td>\n",
       "      <td>...</td>\n",
       "      <td>...</td>\n",
       "      <td>...</td>\n",
       "      <td>...</td>\n",
       "      <td>...</td>\n",
       "      <td>...</td>\n",
       "      <td>...</td>\n",
       "      <td>...</td>\n",
       "      <td>...</td>\n",
       "      <td>...</td>\n",
       "      <td>...</td>\n",
       "      <td>...</td>\n",
       "      <td>...</td>\n",
       "      <td>...</td>\n",
       "      <td>...</td>\n",
       "      <td>...</td>\n",
       "      <td>...</td>\n",
       "      <td>...</td>\n",
       "      <td>...</td>\n",
       "      <td>...</td>\n",
       "    </tr>\n",
       "    <tr>\n",
       "      <th>367416</th>\n",
       "      <td>9999966195</td>\n",
       "      <td>2021-12-17</td>\n",
       "      <td>28</td>\n",
       "      <td>62</td>\n",
       "      <td>1</td>\n",
       "      <td>CAMBIO DE RESIDENCIA</td>\n",
       "      <td>GRAN PLAZA</td>\n",
       "      <td>8</td>\n",
       "      <td>RACCD4D</td>\n",
       "      <td>Promotor</td>\n",
       "      <td>Promotor</td>\n",
       "      <td>Sí</td>\n",
       "      <td>0</td>\n",
       "      <td>01. |0.0---50.0|</td>\n",
       "      <td>01. |0.0---1211.0|</td>\n",
       "      <td>01. |0.0---6704.5|</td>\n",
       "      <td>01. |0.0---21753.5|</td>\n",
       "      <td>01. |0.0---904.8|</td>\n",
       "      <td>01. |0.0---2524.9|</td>\n",
       "      <td>01. |0.0---34.0|</td>\n",
       "      <td>01. |0.0---805.0|</td>\n",
       "      <td>01. |0.0---4469.7|</td>\n",
       "      <td>01. |0.0---14502.3|</td>\n",
       "      <td>01. |0.0---528.0|</td>\n",
       "      <td>01. |0.0---1742.3|</td>\n",
       "      <td>01. |0.0---30.0|</td>\n",
       "      <td>01. |0.0---641.0|</td>\n",
       "      <td>01. |0.0---3352.2|</td>\n",
       "      <td>01. |0.0---10876.8|</td>\n",
       "      <td>01. |0.0---394.9|</td>\n",
       "      <td>01. |0.0---1739.8|</td>\n",
       "      <td>02. |28.0---38.0|</td>\n",
       "      <td>01. |0.0---548.0|</td>\n",
       "      <td>01. |0.0---2681.8|</td>\n",
       "      <td>01. |0.0---8701.4|</td>\n",
       "      <td>01. |0.0---312.9|</td>\n",
       "      <td>01. |0.0---1359.5|</td>\n",
       "      <td>02. |26.0---34.0|</td>\n",
       "      <td>01. |0.0---486.0|</td>\n",
       "      <td>01. |0.0---2234.8|</td>\n",
       "      <td>01. |0.0---7251.2|</td>\n",
       "      <td>01. |0.0---262.2|</td>\n",
       "      <td>01. |0.0---1130.5|</td>\n",
       "      <td>02. |25.0---31.0|</td>\n",
       "      <td>01. |0.0---442.0|</td>\n",
       "      <td>01. |0.0---1915.6|</td>\n",
       "      <td>01. |0.0---6215.3|</td>\n",
       "      <td>01. |0.0---229.4|</td>\n",
       "      <td>01. |0.0---961.5|</td>\n",
       "      <td>02. |24.0---30.0|</td>\n",
       "      <td>01. |0.0---408.0|</td>\n",
       "      <td>01. |0.0---1676.1|</td>\n",
       "      <td>01. |0.0---5438.4|</td>\n",
       "      <td>01. |0.0---203.3|</td>\n",
       "      <td>01. |0.0---845.7|</td>\n",
       "      <td>02. |23.0---29.0|</td>\n",
       "      <td>01. |0.0---381.0|</td>\n",
       "      <td>01. |0.0---1489.9|</td>\n",
       "      <td>01. |0.0---4834.1|</td>\n",
       "      <td>01. |0.0---179.9|</td>\n",
       "      <td>01. |0.0---769.5|</td>\n",
       "    </tr>\n",
       "    <tr>\n",
       "      <th>367417</th>\n",
       "      <td>9999974393</td>\n",
       "      <td>2021-12-11</td>\n",
       "      <td>30</td>\n",
       "      <td>1037</td>\n",
       "      <td>1</td>\n",
       "      <td>T PROPIO (SWITCHEO)</td>\n",
       "      <td>CAC MERIDA V ALTABRISA</td>\n",
       "      <td>8</td>\n",
       "      <td>RACED45</td>\n",
       "      <td>Detractor</td>\n",
       "      <td>Detractor</td>\n",
       "      <td>No</td>\n",
       "      <td>1</td>\n",
       "      <td>01. |0.0---50.0|</td>\n",
       "      <td>01. |0.0---1211.0|</td>\n",
       "      <td>01. |0.0---6704.5|</td>\n",
       "      <td>01. |0.0---21753.5|</td>\n",
       "      <td>01. |0.0---904.8|</td>\n",
       "      <td>01. |0.0---2524.9|</td>\n",
       "      <td>01. |0.0---34.0|</td>\n",
       "      <td>02. |805.0---1826.0|</td>\n",
       "      <td>01. |0.0---4469.7|</td>\n",
       "      <td>01. |0.0---14502.3|</td>\n",
       "      <td>01. |0.0---528.0|</td>\n",
       "      <td>01. |0.0---1742.3|</td>\n",
       "      <td>02. |30.0---50.0|</td>\n",
       "      <td>02. |641.0---1211.0|</td>\n",
       "      <td>01. |0.0---3352.2|</td>\n",
       "      <td>01. |0.0---10876.8|</td>\n",
       "      <td>01. |0.0---394.9|</td>\n",
       "      <td>01. |0.0---1739.8|</td>\n",
       "      <td>02. |28.0---38.0|</td>\n",
       "      <td>03. |951.0---1542.0|</td>\n",
       "      <td>01. |0.0---2681.8|</td>\n",
       "      <td>01. |0.0---8701.4|</td>\n",
       "      <td>01. |0.0---312.9|</td>\n",
       "      <td>01. |0.0---1359.5|</td>\n",
       "      <td>02. |26.0---34.0|</td>\n",
       "      <td>03. |805.0---1211.0|</td>\n",
       "      <td>01. |0.0---2234.8|</td>\n",
       "      <td>01. |0.0---7251.2|</td>\n",
       "      <td>01. |0.0---262.2|</td>\n",
       "      <td>01. |0.0---1130.5|</td>\n",
       "      <td>02. |25.0---31.0|</td>\n",
       "      <td>04. |1019.0---1436.0|</td>\n",
       "      <td>01. |0.0---1915.6|</td>\n",
       "      <td>01. |0.0---6215.3|</td>\n",
       "      <td>01. |0.0---229.4|</td>\n",
       "      <td>02. |961.5---1900.8|</td>\n",
       "      <td>03. |30.0---37.0|</td>\n",
       "      <td>04. |895.0---1211.0|</td>\n",
       "      <td>01. |0.0---1676.1|</td>\n",
       "      <td>01. |0.0---5438.4|</td>\n",
       "      <td>01. |0.0---203.3|</td>\n",
       "      <td>02. |845.7---1634.5|</td>\n",
       "      <td>03. |29.0---34.0|</td>\n",
       "      <td>04. |805.0---1060.0|</td>\n",
       "      <td>01. |0.0---1489.9|</td>\n",
       "      <td>01. |0.0---4834.1|</td>\n",
       "      <td>01. |0.0---179.9|</td>\n",
       "      <td>02. |769.5---1454.2|</td>\n",
       "    </tr>\n",
       "    <tr>\n",
       "      <th>367418</th>\n",
       "      <td>9999975058</td>\n",
       "      <td>2021-12-08</td>\n",
       "      <td>572</td>\n",
       "      <td>394</td>\n",
       "      <td>1</td>\n",
       "      <td>T SERVICIOS CON TERCEROS AGREGADORES</td>\n",
       "      <td>ITZAES</td>\n",
       "      <td>8</td>\n",
       "      <td>RAC33B7</td>\n",
       "      <td>Detractor</td>\n",
       "      <td>Detractor</td>\n",
       "      <td>No</td>\n",
       "      <td>1</td>\n",
       "      <td>02. |50.0---13409.0|</td>\n",
       "      <td>01. |0.0---1211.0|</td>\n",
       "      <td>01. |0.0---6704.5|</td>\n",
       "      <td>01. |0.0---21753.5|</td>\n",
       "      <td>01. |0.0---904.8|</td>\n",
       "      <td>01. |0.0---2524.9|</td>\n",
       "      <td>03. |219.0---13409.0|</td>\n",
       "      <td>01. |0.0---805.0|</td>\n",
       "      <td>01. |0.0---4469.7|</td>\n",
       "      <td>01. |0.0---14502.3|</td>\n",
       "      <td>02. |528.0---1749.7|</td>\n",
       "      <td>01. |0.0---1742.3|</td>\n",
       "      <td>04. |406.0---13409.0|</td>\n",
       "      <td>01. |0.0---641.0|</td>\n",
       "      <td>01. |0.0---3352.2|</td>\n",
       "      <td>01. |0.0---10876.8|</td>\n",
       "      <td>02. |394.9---1195.5|</td>\n",
       "      <td>01. |0.0---1739.8|</td>\n",
       "      <td>05. |553.0---13409.0|</td>\n",
       "      <td>01. |0.0---548.0|</td>\n",
       "      <td>01. |0.0---2681.8|</td>\n",
       "      <td>01. |0.0---8701.4|</td>\n",
       "      <td>02. |312.9---901.5|</td>\n",
       "      <td>01. |0.0---1359.5|</td>\n",
       "      <td>05. |219.0---674.0|</td>\n",
       "      <td>01. |0.0---486.0|</td>\n",
       "      <td>01. |0.0---2234.8|</td>\n",
       "      <td>01. |0.0---7251.2|</td>\n",
       "      <td>02. |262.2---734.0|</td>\n",
       "      <td>01. |0.0---1130.5|</td>\n",
       "      <td>06. |318.0---777.0|</td>\n",
       "      <td>01. |0.0---442.0|</td>\n",
       "      <td>01. |0.0---1915.6|</td>\n",
       "      <td>01. |0.0---6215.3|</td>\n",
       "      <td>02. |229.4---628.5|</td>\n",
       "      <td>01. |0.0---961.5|</td>\n",
       "      <td>07. |406.0---868.0|</td>\n",
       "      <td>01. |0.0---408.0|</td>\n",
       "      <td>01. |0.0---1676.1|</td>\n",
       "      <td>01. |0.0---5438.4|</td>\n",
       "      <td>03. |547.1---966.5|</td>\n",
       "      <td>01. |0.0---845.7|</td>\n",
       "      <td>08. |483.0---949.0|</td>\n",
       "      <td>02. |381.0---589.0|</td>\n",
       "      <td>01. |0.0---1489.9|</td>\n",
       "      <td>01. |0.0---4834.1|</td>\n",
       "      <td>03. |475.6---823.9|</td>\n",
       "      <td>01. |0.0---769.5|</td>\n",
       "    </tr>\n",
       "    <tr>\n",
       "      <th>367419</th>\n",
       "      <td>9999981332</td>\n",
       "      <td>2021-12-20</td>\n",
       "      <td>754</td>\n",
       "      <td>744</td>\n",
       "      <td>1</td>\n",
       "      <td>COTIZACION PARA RENOVACION.</td>\n",
       "      <td>PABELLON POLANCO</td>\n",
       "      <td>9</td>\n",
       "      <td>XOB10201</td>\n",
       "      <td>Detractor</td>\n",
       "      <td>Detractor</td>\n",
       "      <td>No</td>\n",
       "      <td>1</td>\n",
       "      <td>02. |50.0---13409.0|</td>\n",
       "      <td>01. |0.0---1211.0|</td>\n",
       "      <td>01. |0.0---6704.5|</td>\n",
       "      <td>01. |0.0---21753.5|</td>\n",
       "      <td>01. |0.0---904.8|</td>\n",
       "      <td>01. |0.0---2524.9|</td>\n",
       "      <td>03. |219.0---13409.0|</td>\n",
       "      <td>01. |0.0---805.0|</td>\n",
       "      <td>01. |0.0---4469.7|</td>\n",
       "      <td>01. |0.0---14502.3|</td>\n",
       "      <td>02. |528.0---1749.7|</td>\n",
       "      <td>01. |0.0---1742.3|</td>\n",
       "      <td>04. |406.0---13409.0|</td>\n",
       "      <td>02. |641.0---1211.0|</td>\n",
       "      <td>01. |0.0---3352.2|</td>\n",
       "      <td>01. |0.0---10876.8|</td>\n",
       "      <td>02. |394.9---1195.5|</td>\n",
       "      <td>01. |0.0---1739.8|</td>\n",
       "      <td>05. |553.0---13409.0|</td>\n",
       "      <td>02. |548.0---951.0|</td>\n",
       "      <td>01. |0.0---2681.8|</td>\n",
       "      <td>01. |0.0---8701.4|</td>\n",
       "      <td>02. |312.9---901.5|</td>\n",
       "      <td>01. |0.0---1359.5|</td>\n",
       "      <td>06. |674.0---13409.0|</td>\n",
       "      <td>02. |486.0---805.0|</td>\n",
       "      <td>01. |0.0---2234.8|</td>\n",
       "      <td>01. |0.0---7251.2|</td>\n",
       "      <td>03. |734.0---1360.6|</td>\n",
       "      <td>01. |0.0---1130.5|</td>\n",
       "      <td>06. |318.0---777.0|</td>\n",
       "      <td>03. |709.0---1019.0|</td>\n",
       "      <td>01. |0.0---1915.6|</td>\n",
       "      <td>01. |0.0---6215.3|</td>\n",
       "      <td>03. |628.5---1132.8|</td>\n",
       "      <td>01. |0.0---961.5|</td>\n",
       "      <td>07. |406.0---868.0|</td>\n",
       "      <td>03. |641.0---895.0|</td>\n",
       "      <td>01. |0.0---1676.1|</td>\n",
       "      <td>01. |0.0---5438.4|</td>\n",
       "      <td>03. |547.1---966.5|</td>\n",
       "      <td>01. |0.0---845.7|</td>\n",
       "      <td>08. |483.0---949.0|</td>\n",
       "      <td>03. |589.0---805.0|</td>\n",
       "      <td>01. |0.0---1489.9|</td>\n",
       "      <td>01. |0.0---4834.1|</td>\n",
       "      <td>03. |475.6---823.9|</td>\n",
       "      <td>01. |0.0---769.5|</td>\n",
       "    </tr>\n",
       "    <tr>\n",
       "      <th>367420</th>\n",
       "      <td>9999982800</td>\n",
       "      <td>2021-12-13</td>\n",
       "      <td>469</td>\n",
       "      <td>755</td>\n",
       "      <td>1</td>\n",
       "      <td>A PORTABILIDAD</td>\n",
       "      <td>MERIDA IV</td>\n",
       "      <td>8</td>\n",
       "      <td>RAC5ED3</td>\n",
       "      <td>Promotor</td>\n",
       "      <td>Pasivo</td>\n",
       "      <td>Sí</td>\n",
       "      <td>0</td>\n",
       "      <td>02. |50.0---13409.0|</td>\n",
       "      <td>01. |0.0---1211.0|</td>\n",
       "      <td>01. |0.0---6704.5|</td>\n",
       "      <td>01. |0.0---21753.5|</td>\n",
       "      <td>01. |0.0---904.8|</td>\n",
       "      <td>01. |0.0---2524.9|</td>\n",
       "      <td>03. |219.0---13409.0|</td>\n",
       "      <td>01. |0.0---805.0|</td>\n",
       "      <td>01. |0.0---4469.7|</td>\n",
       "      <td>01. |0.0---14502.3|</td>\n",
       "      <td>01. |0.0---528.0|</td>\n",
       "      <td>01. |0.0---1742.3|</td>\n",
       "      <td>04. |406.0---13409.0|</td>\n",
       "      <td>02. |641.0---1211.0|</td>\n",
       "      <td>01. |0.0---3352.2|</td>\n",
       "      <td>01. |0.0---10876.8|</td>\n",
       "      <td>02. |394.9---1195.5|</td>\n",
       "      <td>01. |0.0---1739.8|</td>\n",
       "      <td>04. |111.0---553.0|</td>\n",
       "      <td>02. |548.0---951.0|</td>\n",
       "      <td>01. |0.0---2681.8|</td>\n",
       "      <td>01. |0.0---8701.4|</td>\n",
       "      <td>02. |312.9---901.5|</td>\n",
       "      <td>01. |0.0---1359.5|</td>\n",
       "      <td>05. |219.0---674.0|</td>\n",
       "      <td>02. |486.0---805.0|</td>\n",
       "      <td>01. |0.0---2234.8|</td>\n",
       "      <td>01. |0.0---7251.2|</td>\n",
       "      <td>02. |262.2---734.0|</td>\n",
       "      <td>01. |0.0---1130.5|</td>\n",
       "      <td>06. |318.0---777.0|</td>\n",
       "      <td>03. |709.0---1019.0|</td>\n",
       "      <td>01. |0.0---1915.6|</td>\n",
       "      <td>01. |0.0---6215.3|</td>\n",
       "      <td>02. |229.4---628.5|</td>\n",
       "      <td>01. |0.0---961.5|</td>\n",
       "      <td>07. |406.0---868.0|</td>\n",
       "      <td>03. |641.0---895.0|</td>\n",
       "      <td>01. |0.0---1676.1|</td>\n",
       "      <td>01. |0.0---5438.4|</td>\n",
       "      <td>02. |203.3---547.1|</td>\n",
       "      <td>01. |0.0---845.7|</td>\n",
       "      <td>07. |219.0---483.0|</td>\n",
       "      <td>03. |589.0---805.0|</td>\n",
       "      <td>01. |0.0---1489.9|</td>\n",
       "      <td>01. |0.0---4834.1|</td>\n",
       "      <td>02. |179.9---475.6|</td>\n",
       "      <td>01. |0.0---769.5|</td>\n",
       "    </tr>\n",
       "  </tbody>\n",
       "</table>\n",
       "<p>367421 rows × 61 columns</p>\n",
       "</div>"
      ],
      "text/plain": [
       "             linea       fecha  c_tiempo_espera  c_tiempo_tramite d_tramites  \\\n",
       "0       2211011053  2021-01-07               19               352          1   \n",
       "1       2211020306  2021-01-22               75               816          1   \n",
       "2       2211030413  2021-01-26               64               476          1   \n",
       "3       2211035205  2021-01-19               46               798          1   \n",
       "4       2211056982  2021-01-19               24               530          1   \n",
       "...            ...         ...              ...               ...        ...   \n",
       "367416  9999966195  2021-12-17               28                62          1   \n",
       "367417  9999974393  2021-12-11               30              1037          1   \n",
       "367418  9999975058  2021-12-08              572               394          1   \n",
       "367419  9999981332  2021-12-20              754               744          1   \n",
       "367420  9999982800  2021-12-13              469               755          1   \n",
       "\n",
       "                                                 d_motivo  \\\n",
       "0                                          A PORTABILIDAD   \n",
       "1                              A INFORMES DE PORTABILIDAD   \n",
       "2                             A POR ACTUALIZACION VERSION   \n",
       "3       A INGRESO Y ENTREGA DE EQUIPO (REVISION / REPA...   \n",
       "4                              A INFORMES DE PORTABILIDAD   \n",
       "...                                                   ...   \n",
       "367416                               CAMBIO DE RESIDENCIA   \n",
       "367417                                T PROPIO (SWITCHEO)   \n",
       "367418               T SERVICIOS CON TERCEROS AGREGADORES   \n",
       "367419                        COTIZACION PARA RENOVACION.   \n",
       "367420                                     A PORTABILIDAD   \n",
       "\n",
       "                         d_cac d_region    Asesor NPS_Asesor    NPS_CAC  \\\n",
       "0                     PUEBLA V        7   PAC3AD8   Promotor   Promotor   \n",
       "1                PUEBLA ZOCALO        7   PACD35A   Promotor   Promotor   \n",
       "2             PUE II SAN ANGEL        7   PACF9E1   Promotor   Promotor   \n",
       "3                    SAN PEDRO        7   PACD835   Promotor   Promotor   \n",
       "4            GALERIAS TLAXCALA        7   PACFADD   Promotor   Promotor   \n",
       "...                        ...      ...       ...        ...        ...   \n",
       "367416              GRAN PLAZA        8   RACCD4D   Promotor   Promotor   \n",
       "367417  CAC MERIDA V ALTABRISA        8   RACED45  Detractor  Detractor   \n",
       "367418                  ITZAES        8   RAC33B7  Detractor  Detractor   \n",
       "367419        PABELLON POLANCO        9  XOB10201  Detractor  Detractor   \n",
       "367420               MERIDA IV        8   RAC5ED3   Promotor     Pasivo   \n",
       "\n",
       "       Solucion  target d_q_2_c_tiempo_espera d_q_2_c_tiempo_tramite  \\\n",
       "0            Sí       0      01. |0.0---50.0|     01. |0.0---1211.0|   \n",
       "1            Sí       0  02. |50.0---13409.0|     01. |0.0---1211.0|   \n",
       "2            Sí       0  02. |50.0---13409.0|     01. |0.0---1211.0|   \n",
       "3            Sí       0      01. |0.0---50.0|     01. |0.0---1211.0|   \n",
       "4            Sí       0      01. |0.0---50.0|     01. |0.0---1211.0|   \n",
       "...         ...     ...                   ...                    ...   \n",
       "367416       Sí       0      01. |0.0---50.0|     01. |0.0---1211.0|   \n",
       "367417       No       1      01. |0.0---50.0|     01. |0.0---1211.0|   \n",
       "367418       No       1  02. |50.0---13409.0|     01. |0.0---1211.0|   \n",
       "367419       No       1  02. |50.0---13409.0|     01. |0.0---1211.0|   \n",
       "367420       Sí       0  02. |50.0---13409.0|     01. |0.0---1211.0|   \n",
       "\n",
       "       d_u_2_c_tiempo_espera d_u_2_c_tiempo_tramite d_k_2_c_tiempo_espera  \\\n",
       "0         01. |0.0---6704.5|    01. |0.0---21753.5|     01. |0.0---904.8|   \n",
       "1         01. |0.0---6704.5|    01. |0.0---21753.5|     01. |0.0---904.8|   \n",
       "2         01. |0.0---6704.5|    01. |0.0---21753.5|     01. |0.0---904.8|   \n",
       "3         01. |0.0---6704.5|    01. |0.0---21753.5|     01. |0.0---904.8|   \n",
       "4         01. |0.0---6704.5|    01. |0.0---21753.5|     01. |0.0---904.8|   \n",
       "...                      ...                    ...                   ...   \n",
       "367416    01. |0.0---6704.5|    01. |0.0---21753.5|     01. |0.0---904.8|   \n",
       "367417    01. |0.0---6704.5|    01. |0.0---21753.5|     01. |0.0---904.8|   \n",
       "367418    01. |0.0---6704.5|    01. |0.0---21753.5|     01. |0.0---904.8|   \n",
       "367419    01. |0.0---6704.5|    01. |0.0---21753.5|     01. |0.0---904.8|   \n",
       "367420    01. |0.0---6704.5|    01. |0.0---21753.5|     01. |0.0---904.8|   \n",
       "\n",
       "       d_k_2_c_tiempo_tramite  d_q_3_c_tiempo_espera d_q_3_c_tiempo_tramite  \\\n",
       "0          01. |0.0---2524.9|       01. |0.0---34.0|      01. |0.0---805.0|   \n",
       "1          01. |0.0---2524.9|     02. |34.0---219.0|   02. |805.0---1826.0|   \n",
       "2          01. |0.0---2524.9|     02. |34.0---219.0|      01. |0.0---805.0|   \n",
       "3          01. |0.0---2524.9|     02. |34.0---219.0|      01. |0.0---805.0|   \n",
       "4          01. |0.0---2524.9|       01. |0.0---34.0|      01. |0.0---805.0|   \n",
       "...                       ...                    ...                    ...   \n",
       "367416     01. |0.0---2524.9|       01. |0.0---34.0|      01. |0.0---805.0|   \n",
       "367417     01. |0.0---2524.9|       01. |0.0---34.0|   02. |805.0---1826.0|   \n",
       "367418     01. |0.0---2524.9|  03. |219.0---13409.0|      01. |0.0---805.0|   \n",
       "367419     01. |0.0---2524.9|  03. |219.0---13409.0|      01. |0.0---805.0|   \n",
       "367420     01. |0.0---2524.9|  03. |219.0---13409.0|      01. |0.0---805.0|   \n",
       "\n",
       "       d_u_3_c_tiempo_espera d_u_3_c_tiempo_tramite d_k_3_c_tiempo_espera  \\\n",
       "0         01. |0.0---4469.7|    01. |0.0---14502.3|     01. |0.0---528.0|   \n",
       "1         01. |0.0---4469.7|    01. |0.0---14502.3|     01. |0.0---528.0|   \n",
       "2         01. |0.0---4469.7|    01. |0.0---14502.3|     01. |0.0---528.0|   \n",
       "3         01. |0.0---4469.7|    01. |0.0---14502.3|     01. |0.0---528.0|   \n",
       "4         01. |0.0---4469.7|    01. |0.0---14502.3|     01. |0.0---528.0|   \n",
       "...                      ...                    ...                   ...   \n",
       "367416    01. |0.0---4469.7|    01. |0.0---14502.3|     01. |0.0---528.0|   \n",
       "367417    01. |0.0---4469.7|    01. |0.0---14502.3|     01. |0.0---528.0|   \n",
       "367418    01. |0.0---4469.7|    01. |0.0---14502.3|  02. |528.0---1749.7|   \n",
       "367419    01. |0.0---4469.7|    01. |0.0---14502.3|  02. |528.0---1749.7|   \n",
       "367420    01. |0.0---4469.7|    01. |0.0---14502.3|     01. |0.0---528.0|   \n",
       "\n",
       "       d_k_3_c_tiempo_tramite  d_q_4_c_tiempo_espera d_q_4_c_tiempo_tramite  \\\n",
       "0          01. |0.0---1742.3|       01. |0.0---30.0|      01. |0.0---641.0|   \n",
       "1          01. |0.0---1742.3|     03. |50.0---406.0|   02. |641.0---1211.0|   \n",
       "2          01. |0.0---1742.3|     03. |50.0---406.0|      01. |0.0---641.0|   \n",
       "3          01. |0.0---1742.3|      02. |30.0---50.0|   02. |641.0---1211.0|   \n",
       "4          01. |0.0---1742.3|       01. |0.0---30.0|      01. |0.0---641.0|   \n",
       "...                       ...                    ...                    ...   \n",
       "367416     01. |0.0---1742.3|       01. |0.0---30.0|      01. |0.0---641.0|   \n",
       "367417     01. |0.0---1742.3|      02. |30.0---50.0|   02. |641.0---1211.0|   \n",
       "367418     01. |0.0---1742.3|  04. |406.0---13409.0|      01. |0.0---641.0|   \n",
       "367419     01. |0.0---1742.3|  04. |406.0---13409.0|   02. |641.0---1211.0|   \n",
       "367420     01. |0.0---1742.3|  04. |406.0---13409.0|   02. |641.0---1211.0|   \n",
       "\n",
       "       d_u_4_c_tiempo_espera d_u_4_c_tiempo_tramite d_k_4_c_tiempo_espera  \\\n",
       "0         01. |0.0---3352.2|    01. |0.0---10876.8|     01. |0.0---394.9|   \n",
       "1         01. |0.0---3352.2|    01. |0.0---10876.8|     01. |0.0---394.9|   \n",
       "2         01. |0.0---3352.2|    01. |0.0---10876.8|     01. |0.0---394.9|   \n",
       "3         01. |0.0---3352.2|    01. |0.0---10876.8|     01. |0.0---394.9|   \n",
       "4         01. |0.0---3352.2|    01. |0.0---10876.8|     01. |0.0---394.9|   \n",
       "...                      ...                    ...                   ...   \n",
       "367416    01. |0.0---3352.2|    01. |0.0---10876.8|     01. |0.0---394.9|   \n",
       "367417    01. |0.0---3352.2|    01. |0.0---10876.8|     01. |0.0---394.9|   \n",
       "367418    01. |0.0---3352.2|    01. |0.0---10876.8|  02. |394.9---1195.5|   \n",
       "367419    01. |0.0---3352.2|    01. |0.0---10876.8|  02. |394.9---1195.5|   \n",
       "367420    01. |0.0---3352.2|    01. |0.0---10876.8|  02. |394.9---1195.5|   \n",
       "\n",
       "       d_k_4_c_tiempo_tramite  d_q_5_c_tiempo_espera d_q_5_c_tiempo_tramite  \\\n",
       "0          01. |0.0---1739.8|       01. |0.0---28.0|      01. |0.0---548.0|   \n",
       "1          01. |0.0---1739.8|     03. |38.0---111.0|    02. |548.0---951.0|   \n",
       "2          01. |0.0---1739.8|     03. |38.0---111.0|      01. |0.0---548.0|   \n",
       "3          01. |0.0---1739.8|     03. |38.0---111.0|    02. |548.0---951.0|   \n",
       "4          01. |0.0---1739.8|       01. |0.0---28.0|      01. |0.0---548.0|   \n",
       "...                       ...                    ...                    ...   \n",
       "367416     01. |0.0---1739.8|      02. |28.0---38.0|      01. |0.0---548.0|   \n",
       "367417     01. |0.0---1739.8|      02. |28.0---38.0|   03. |951.0---1542.0|   \n",
       "367418     01. |0.0---1739.8|  05. |553.0---13409.0|      01. |0.0---548.0|   \n",
       "367419     01. |0.0---1739.8|  05. |553.0---13409.0|    02. |548.0---951.0|   \n",
       "367420     01. |0.0---1739.8|    04. |111.0---553.0|    02. |548.0---951.0|   \n",
       "\n",
       "       d_u_5_c_tiempo_espera d_u_5_c_tiempo_tramite d_k_5_c_tiempo_espera  \\\n",
       "0         01. |0.0---2681.8|     01. |0.0---8701.4|     01. |0.0---312.9|   \n",
       "1         01. |0.0---2681.8|     01. |0.0---8701.4|     01. |0.0---312.9|   \n",
       "2         01. |0.0---2681.8|     01. |0.0---8701.4|     01. |0.0---312.9|   \n",
       "3         01. |0.0---2681.8|     01. |0.0---8701.4|     01. |0.0---312.9|   \n",
       "4         01. |0.0---2681.8|     01. |0.0---8701.4|     01. |0.0---312.9|   \n",
       "...                      ...                    ...                   ...   \n",
       "367416    01. |0.0---2681.8|     01. |0.0---8701.4|     01. |0.0---312.9|   \n",
       "367417    01. |0.0---2681.8|     01. |0.0---8701.4|     01. |0.0---312.9|   \n",
       "367418    01. |0.0---2681.8|     01. |0.0---8701.4|   02. |312.9---901.5|   \n",
       "367419    01. |0.0---2681.8|     01. |0.0---8701.4|   02. |312.9---901.5|   \n",
       "367420    01. |0.0---2681.8|     01. |0.0---8701.4|   02. |312.9---901.5|   \n",
       "\n",
       "       d_k_5_c_tiempo_tramite  d_q_6_c_tiempo_espera d_q_6_c_tiempo_tramite  \\\n",
       "0          01. |0.0---1359.5|       01. |0.0---26.0|      01. |0.0---486.0|   \n",
       "1          01. |0.0---1359.5|     04. |50.0---219.0|   03. |805.0---1211.0|   \n",
       "2          01. |0.0---1359.5|     04. |50.0---219.0|      01. |0.0---486.0|   \n",
       "3          01. |0.0---1359.5|      03. |34.0---50.0|    02. |486.0---805.0|   \n",
       "4          01. |0.0---1359.5|       01. |0.0---26.0|    02. |486.0---805.0|   \n",
       "...                       ...                    ...                    ...   \n",
       "367416     01. |0.0---1359.5|      02. |26.0---34.0|      01. |0.0---486.0|   \n",
       "367417     01. |0.0---1359.5|      02. |26.0---34.0|   03. |805.0---1211.0|   \n",
       "367418     01. |0.0---1359.5|    05. |219.0---674.0|      01. |0.0---486.0|   \n",
       "367419     01. |0.0---1359.5|  06. |674.0---13409.0|    02. |486.0---805.0|   \n",
       "367420     01. |0.0---1359.5|    05. |219.0---674.0|    02. |486.0---805.0|   \n",
       "\n",
       "       d_u_6_c_tiempo_espera d_u_6_c_tiempo_tramite d_k_6_c_tiempo_espera  \\\n",
       "0         01. |0.0---2234.8|     01. |0.0---7251.2|     01. |0.0---262.2|   \n",
       "1         01. |0.0---2234.8|     01. |0.0---7251.2|     01. |0.0---262.2|   \n",
       "2         01. |0.0---2234.8|     01. |0.0---7251.2|     01. |0.0---262.2|   \n",
       "3         01. |0.0---2234.8|     01. |0.0---7251.2|     01. |0.0---262.2|   \n",
       "4         01. |0.0---2234.8|     01. |0.0---7251.2|     01. |0.0---262.2|   \n",
       "...                      ...                    ...                   ...   \n",
       "367416    01. |0.0---2234.8|     01. |0.0---7251.2|     01. |0.0---262.2|   \n",
       "367417    01. |0.0---2234.8|     01. |0.0---7251.2|     01. |0.0---262.2|   \n",
       "367418    01. |0.0---2234.8|     01. |0.0---7251.2|   02. |262.2---734.0|   \n",
       "367419    01. |0.0---2234.8|     01. |0.0---7251.2|  03. |734.0---1360.6|   \n",
       "367420    01. |0.0---2234.8|     01. |0.0---7251.2|   02. |262.2---734.0|   \n",
       "\n",
       "       d_k_6_c_tiempo_tramite d_q_7_c_tiempo_espera d_q_7_c_tiempo_tramite  \\\n",
       "0          01. |0.0---1130.5|      01. |0.0---25.0|      01. |0.0---442.0|   \n",
       "1          01. |0.0---1130.5|     04. |41.0---81.0|   03. |709.0---1019.0|   \n",
       "2          01. |0.0---1130.5|     04. |41.0---81.0|    02. |442.0---709.0|   \n",
       "3          01. |0.0---1130.5|     04. |41.0---81.0|   03. |709.0---1019.0|   \n",
       "4          01. |0.0---1130.5|      01. |0.0---25.0|    02. |442.0---709.0|   \n",
       "...                       ...                   ...                    ...   \n",
       "367416     01. |0.0---1130.5|     02. |25.0---31.0|      01. |0.0---442.0|   \n",
       "367417     01. |0.0---1130.5|     02. |25.0---31.0|  04. |1019.0---1436.0|   \n",
       "367418     01. |0.0---1130.5|   06. |318.0---777.0|      01. |0.0---442.0|   \n",
       "367419     01. |0.0---1130.5|   06. |318.0---777.0|   03. |709.0---1019.0|   \n",
       "367420     01. |0.0---1130.5|   06. |318.0---777.0|   03. |709.0---1019.0|   \n",
       "\n",
       "       d_u_7_c_tiempo_espera d_u_7_c_tiempo_tramite d_k_7_c_tiempo_espera  \\\n",
       "0         01. |0.0---1915.6|     01. |0.0---6215.3|     01. |0.0---229.4|   \n",
       "1         01. |0.0---1915.6|     01. |0.0---6215.3|     01. |0.0---229.4|   \n",
       "2         01. |0.0---1915.6|     01. |0.0---6215.3|     01. |0.0---229.4|   \n",
       "3         01. |0.0---1915.6|     01. |0.0---6215.3|     01. |0.0---229.4|   \n",
       "4         01. |0.0---1915.6|     01. |0.0---6215.3|     01. |0.0---229.4|   \n",
       "...                      ...                    ...                   ...   \n",
       "367416    01. |0.0---1915.6|     01. |0.0---6215.3|     01. |0.0---229.4|   \n",
       "367417    01. |0.0---1915.6|     01. |0.0---6215.3|     01. |0.0---229.4|   \n",
       "367418    01. |0.0---1915.6|     01. |0.0---6215.3|   02. |229.4---628.5|   \n",
       "367419    01. |0.0---1915.6|     01. |0.0---6215.3|  03. |628.5---1132.8|   \n",
       "367420    01. |0.0---1915.6|     01. |0.0---6215.3|   02. |229.4---628.5|   \n",
       "\n",
       "       d_k_7_c_tiempo_tramite d_q_8_c_tiempo_espera d_q_8_c_tiempo_tramite  \\\n",
       "0           01. |0.0---961.5|      01. |0.0---24.0|      01. |0.0---408.0|   \n",
       "1           01. |0.0---961.5|    05. |50.0---147.0|    03. |641.0---895.0|   \n",
       "2           01. |0.0---961.5|    05. |50.0---147.0|    02. |408.0---641.0|   \n",
       "3           01. |0.0---961.5|     04. |37.0---50.0|    03. |641.0---895.0|   \n",
       "4           01. |0.0---961.5|     02. |24.0---30.0|    02. |408.0---641.0|   \n",
       "...                       ...                   ...                    ...   \n",
       "367416      01. |0.0---961.5|     02. |24.0---30.0|      01. |0.0---408.0|   \n",
       "367417   02. |961.5---1900.8|     03. |30.0---37.0|   04. |895.0---1211.0|   \n",
       "367418      01. |0.0---961.5|   07. |406.0---868.0|      01. |0.0---408.0|   \n",
       "367419      01. |0.0---961.5|   07. |406.0---868.0|    03. |641.0---895.0|   \n",
       "367420      01. |0.0---961.5|   07. |406.0---868.0|    03. |641.0---895.0|   \n",
       "\n",
       "       d_u_8_c_tiempo_espera d_u_8_c_tiempo_tramite d_k_8_c_tiempo_espera  \\\n",
       "0         01. |0.0---1676.1|     01. |0.0---5438.4|     01. |0.0---203.3|   \n",
       "1         01. |0.0---1676.1|     01. |0.0---5438.4|     01. |0.0---203.3|   \n",
       "2         01. |0.0---1676.1|     01. |0.0---5438.4|     01. |0.0---203.3|   \n",
       "3         01. |0.0---1676.1|     01. |0.0---5438.4|     01. |0.0---203.3|   \n",
       "4         01. |0.0---1676.1|     01. |0.0---5438.4|     01. |0.0---203.3|   \n",
       "...                      ...                    ...                   ...   \n",
       "367416    01. |0.0---1676.1|     01. |0.0---5438.4|     01. |0.0---203.3|   \n",
       "367417    01. |0.0---1676.1|     01. |0.0---5438.4|     01. |0.0---203.3|   \n",
       "367418    01. |0.0---1676.1|     01. |0.0---5438.4|   03. |547.1---966.5|   \n",
       "367419    01. |0.0---1676.1|     01. |0.0---5438.4|   03. |547.1---966.5|   \n",
       "367420    01. |0.0---1676.1|     01. |0.0---5438.4|   02. |203.3---547.1|   \n",
       "\n",
       "       d_k_8_c_tiempo_tramite d_q_9_c_tiempo_espera d_q_9_c_tiempo_tramite  \\\n",
       "0           01. |0.0---845.7|      01. |0.0---23.0|      01. |0.0---381.0|   \n",
       "1           01. |0.0---845.7|    06. |70.0---219.0|   04. |805.0---1060.0|   \n",
       "2           01. |0.0---845.7|     05. |42.0---70.0|    02. |381.0---589.0|   \n",
       "3           01. |0.0---845.7|     05. |42.0---70.0|    03. |589.0---805.0|   \n",
       "4           01. |0.0---845.7|     02. |23.0---29.0|    02. |381.0---589.0|   \n",
       "...                       ...                   ...                    ...   \n",
       "367416      01. |0.0---845.7|     02. |23.0---29.0|      01. |0.0---381.0|   \n",
       "367417   02. |845.7---1634.5|     03. |29.0---34.0|   04. |805.0---1060.0|   \n",
       "367418      01. |0.0---845.7|   08. |483.0---949.0|    02. |381.0---589.0|   \n",
       "367419      01. |0.0---845.7|   08. |483.0---949.0|    03. |589.0---805.0|   \n",
       "367420      01. |0.0---845.7|   07. |219.0---483.0|    03. |589.0---805.0|   \n",
       "\n",
       "       d_u_9_c_tiempo_espera d_u_9_c_tiempo_tramite d_k_9_c_tiempo_espera  \\\n",
       "0         01. |0.0---1489.9|     01. |0.0---4834.1|     01. |0.0---179.9|   \n",
       "1         01. |0.0---1489.9|     01. |0.0---4834.1|     01. |0.0---179.9|   \n",
       "2         01. |0.0---1489.9|     01. |0.0---4834.1|     01. |0.0---179.9|   \n",
       "3         01. |0.0---1489.9|     01. |0.0---4834.1|     01. |0.0---179.9|   \n",
       "4         01. |0.0---1489.9|     01. |0.0---4834.1|     01. |0.0---179.9|   \n",
       "...                      ...                    ...                   ...   \n",
       "367416    01. |0.0---1489.9|     01. |0.0---4834.1|     01. |0.0---179.9|   \n",
       "367417    01. |0.0---1489.9|     01. |0.0---4834.1|     01. |0.0---179.9|   \n",
       "367418    01. |0.0---1489.9|     01. |0.0---4834.1|   03. |475.6---823.9|   \n",
       "367419    01. |0.0---1489.9|     01. |0.0---4834.1|   03. |475.6---823.9|   \n",
       "367420    01. |0.0---1489.9|     01. |0.0---4834.1|   02. |179.9---475.6|   \n",
       "\n",
       "       d_k_9_c_tiempo_tramite  \n",
       "0           01. |0.0---769.5|  \n",
       "1        02. |769.5---1454.2|  \n",
       "2           01. |0.0---769.5|  \n",
       "3        02. |769.5---1454.2|  \n",
       "4           01. |0.0---769.5|  \n",
       "...                       ...  \n",
       "367416      01. |0.0---769.5|  \n",
       "367417   02. |769.5---1454.2|  \n",
       "367418      01. |0.0---769.5|  \n",
       "367419      01. |0.0---769.5|  \n",
       "367420      01. |0.0---769.5|  \n",
       "\n",
       "[367421 rows x 61 columns]"
      ]
     },
     "execution_count": 32,
     "metadata": {},
     "output_type": "execute_result"
    }
   ],
   "source": [
    "df"
   ]
  },
  {
   "cell_type": "markdown",
   "id": "classical-trailer",
   "metadata": {},
   "source": [
    "### Discreto"
   ]
  },
  {
   "cell_type": "markdown",
   "id": "subtle-management",
   "metadata": {},
   "source": [
    "#### Normalización"
   ]
  },
  {
   "cell_type": "code",
   "execution_count": 33,
   "id": "focused-nightmare",
   "metadata": {
    "ExecuteTime": {
     "end_time": "2021-11-27T17:48:59.091385Z",
     "start_time": "2021-11-27T17:48:59.087940Z"
    }
   },
   "outputs": [],
   "source": [
    "def normalizar(df,v,umbral=0.03):\n",
    "    aux = df[v].value_counts(True).to_frame()\n",
    "    aux[f'norm_{v}'] = np.where(aux[v]<umbral,'PEQUEÑAS CATEGORÍAS',aux.index)\n",
    "    moda = aux.head(1)[f'norm_{v}'].values[0]\n",
    "    if aux.loc[aux[f'norm_{v}']=='PEQUEÑAS CATEGORÍAS'][v].sum()<umbral:\n",
    "        aux[f'norm_{v}'].replace({'PEQUEÑAS CATEGORÍAS':moda},inplace=True)\n",
    "    aux.drop(v,axis=1,inplace=True)\n",
    "    aux.reset_index(inplace=True)\n",
    "    return v,aux[aux['index']!=aux[f'norm_{v}']].set_index('index').to_dict()[f'norm_{v}']"
   ]
  },
  {
   "cell_type": "code",
   "execution_count": 34,
   "id": "5fc6357d-f373-468f-b2a0-3a4598abf313",
   "metadata": {},
   "outputs": [],
   "source": [
    "df['n_d_cac']=df['d_cac'].replace(normalizar(df,'d_cac',0.005)[1])\n",
    "df['n_d_motivo']=df['d_motivo'].replace(normalizar(df,'d_motivo',0.005)[1])"
   ]
  },
  {
   "cell_type": "code",
   "execution_count": 35,
   "id": "5b68f4e7-f1b3-4245-8c38-a0a1abd435e4",
   "metadata": {},
   "outputs": [],
   "source": [
    "df['n_d_region']=df['d_region'].copy()"
   ]
  },
  {
   "cell_type": "code",
   "execution_count": 36,
   "id": "demonstrated-chemical",
   "metadata": {
    "ExecuteTime": {
     "end_time": "2021-11-27T17:48:59.648493Z",
     "start_time": "2021-11-27T17:48:59.646580Z"
    }
   },
   "outputs": [],
   "source": [
    "varn = [v for v in df.columns if v[:2]=='n_']"
   ]
  },
  {
   "cell_type": "code",
   "execution_count": 37,
   "id": "listed-congress",
   "metadata": {
    "ExecuteTime": {
     "end_time": "2021-11-27T17:48:59.854046Z",
     "start_time": "2021-11-27T17:48:59.649336Z"
    }
   },
   "outputs": [
    {
     "name": "stdout",
     "output_type": "stream",
     "text": [
      "Tabla de frecuencias para la variable ** n_d_cac ** \n",
      "\n",
      "\n",
      "                          FA        FR     FAA       FRA\n",
      "BUENAVISTA              3110  0.008464    3110  0.008464\n",
      "CUICUILCO               2084  0.005672    5194  0.014136\n",
      "GALERIAS COAPA          1915  0.005212    7109  0.019348\n",
      "GALERIAS PACHUCA        2552  0.006946    9661  0.026294\n",
      "GALERIAS TOLUCA         1881  0.005119   11542  0.031414\n",
      "IXTAPALUCA              2664  0.007251   14206  0.038664\n",
      "LAS AMERICAS            3980  0.010832   18186  0.049496\n",
      "LAZARO CARDENAS         2184  0.005944   20370  0.055440\n",
      "NEZA                    2443  0.006649   22813  0.062090\n",
      "PABELLON DEL VALLE      2704  0.007359   25517  0.069449\n",
      "PARQUE DELTA            2844  0.007740   28361  0.077189\n",
      "PARQUE LINDAVISTA       3757  0.010225   32118  0.087415\n",
      "PARQUE TEZONTLE         2701  0.007351   34819  0.094766\n",
      "PASEO ACOXPA            2245  0.006110   37064  0.100876\n",
      "PEQUEÑAS CATEGORÍAS   311092  0.846691  348156  0.947567\n",
      "PLAZA CARSO             1867  0.005081  350023  0.952648\n",
      "PLAZA CUERNAVACA        1991  0.005419  352014  0.958067\n",
      "PLAZA LORETO            2270  0.006178  354284  0.964245\n",
      "PLAZA SAN MARCOS        1850  0.005035  356134  0.969280\n",
      "SAN PEDRO               2768  0.007534  358902  0.976814\n",
      "TECAMAC POWER CENTER    1983  0.005397  360885  0.982211\n",
      "TLALNEPANTLA            2442  0.006646  363327  0.988857\n",
      "TOLUCA METEPEC          1884  0.005128  365211  0.993985\n",
      "TOREO                   2210  0.006015  367421  1.000000 \n",
      "\n",
      "\n",
      "Tabla de frecuencias para la variable ** n_d_motivo ** \n",
      "\n",
      "\n",
      "                                                       FA        FR     FAA  \\\n",
      "A CAMBIO DE EQUIPO PREPAGO                           1859  0.005060    1859   \n",
      "A CONFIGURACION / FUNCIONES DEL EQUIPO               3889  0.010585    5748   \n",
      "A FICHA / RECARGA ELECTRONICA                        1897  0.005163    7645   \n",
      "A INFORMES DE PORTABILIDAD                          20182  0.054929   27827   \n",
      "A INFORMES DE PRECIOS DE EQUIPOS                     3593  0.009779   31420   \n",
      "A INFORMES MIGRACION PREPAGO A POSTPAGO              1895  0.005158   33315   \n",
      "A INGRESO Y ENTREGA DE EQUIPO (REVISION / REPAR...  12789  0.034807   46104   \n",
      "A POR ACTUALIZACION VERSION                         14227  0.038721   60331   \n",
      "A POR DA?O / GARANTIA                                2173  0.005914   62504   \n",
      "A POR ROBO Y/O EXTRAVIO                             10056  0.027369   72560   \n",
      "A POR SALDO DE VOZ                                   4326  0.011774   76886   \n",
      "A PORTABILIDAD                                       6508  0.017713   83394   \n",
      "A VENTA DE AMIGO CHIP (VOZ)                          2367  0.006442   85761   \n",
      "A VENTA DE AMIGO KIT                                 8271  0.022511   94032   \n",
      "ACLARACION DE SALDO                                  2971  0.008086   97003   \n",
      "C ACLARACION DE SALDOS POR DATOS A GRANEL            4304  0.011714  101307   \n",
      "PEQUEÑAS CATEGORÍAS                                 45854  0.124800  147161   \n",
      "RETENCION GSM                                        2455  0.006682  149616   \n",
      "T ACLARACION DE SALDOS POR DATOS A GRANEL            3862  0.010511  153478   \n",
      "T ALTA / BAJA DE SERVICIOS ADICIONALES               5365  0.014602  158843   \n",
      "T CAMBIO DE FORMA DE PAGO                            4347  0.011831  163190   \n",
      "T CAMBIO DE IMEI CON REACTIVACION                    2694  0.007332  165884   \n",
      "T CAMBIO DE PLAN                                     1978  0.005383  167862   \n",
      "T CAMBIO PLAN                                        1980  0.005389  169842   \n",
      "T CARGO POR FIANZA                                   2205  0.006001  172047   \n",
      "T CESION DE DERECHOS                                 2752  0.007490  174799   \n",
      "T CONFIGURACION / FUNCIONES DEL EQUIPO               4030  0.010968  178829   \n",
      "T CONTRATACION DE LINEA                              8315  0.022631  187144   \n",
      "T COTIZACION DE PUNTOS DE CIRCULO AZUL              44259  0.120459  231403   \n",
      "T DESEMPLEO / FALTA DE LIQUIDEZ                      4308  0.011725  235711   \n",
      "T INFORMES DE CONTRATACION Y PRECIOS DE EQUIPOS      8375  0.022794  244086   \n",
      "T INFORMES DE TARIFA DE VOZ Y DATOS                  4988  0.013576  249074   \n",
      "T INGRESO Y ENTREGA DE EQUIPO (REVISION / REPAR...   9501  0.025859  258575   \n",
      "T MIGRACION A PREPAGO                                2445  0.006654  261020   \n",
      "T MIGRACION PREPAGO A POSTPAGO                       2346  0.006385  263366   \n",
      "T MONITOREO DE LINEA                                 5447  0.014825  268813   \n",
      "T POR ACTUALIZACION DE VERSION                       3378  0.009194  272191   \n",
      "T POR CIRCULO AZUL                                   8325  0.022658  280516   \n",
      "T POR ROBO Y/O EXTRAVIO                              1962  0.005340  282478   \n",
      "T POR SALDO DE DATOS                                 8537  0.023235  291015   \n",
      "T POR SALDOS DE VOZ                                 32679  0.088942  323694   \n",
      "T PROPIO (SWITCHEO)                                  2389  0.006502  326083   \n",
      "T RENOVACION (CIRCULO AZUL)                         32449  0.088316  358532   \n",
      "T RETENCION                                          2594  0.007060  361126   \n",
      "T VALE INBURSA                                       2719  0.007400  363845   \n",
      "T VENTA DE EQUIPO PRECIO PUBLICO                     3576  0.009733  367421   \n",
      "\n",
      "                                                         FRA  \n",
      "A CAMBIO DE EQUIPO PREPAGO                          0.005060  \n",
      "A CONFIGURACION / FUNCIONES DEL EQUIPO              0.015644  \n",
      "A FICHA / RECARGA ELECTRONICA                       0.020807  \n",
      "A INFORMES DE PORTABILIDAD                          0.075736  \n",
      "A INFORMES DE PRECIOS DE EQUIPOS                    0.085515  \n",
      "A INFORMES MIGRACION PREPAGO A POSTPAGO             0.090673  \n",
      "A INGRESO Y ENTREGA DE EQUIPO (REVISION / REPAR...  0.125480  \n",
      "A POR ACTUALIZACION VERSION                         0.164201  \n",
      "A POR DA?O / GARANTIA                               0.170115  \n",
      "A POR ROBO Y/O EXTRAVIO                             0.197485  \n",
      "A POR SALDO DE VOZ                                  0.209259  \n",
      "A PORTABILIDAD                                      0.226971  \n",
      "A VENTA DE AMIGO CHIP (VOZ)                         0.233413  \n",
      "A VENTA DE AMIGO KIT                                0.255924  \n",
      "ACLARACION DE SALDO                                 0.264010  \n",
      "C ACLARACION DE SALDOS POR DATOS A GRANEL           0.275725  \n",
      "PEQUEÑAS CATEGORÍAS                                 0.400524  \n",
      "RETENCION GSM                                       0.407206  \n",
      "T ACLARACION DE SALDOS POR DATOS A GRANEL           0.417717  \n",
      "T ALTA / BAJA DE SERVICIOS ADICIONALES              0.432319  \n",
      "T CAMBIO DE FORMA DE PAGO                           0.444150  \n",
      "T CAMBIO DE IMEI CON REACTIVACION                   0.451482  \n",
      "T CAMBIO DE PLAN                                    0.456866  \n",
      "T CAMBIO PLAN                                       0.462254  \n",
      "T CARGO POR FIANZA                                  0.468256  \n",
      "T CESION DE DERECHOS                                0.475746  \n",
      "T CONFIGURACION / FUNCIONES DEL EQUIPO              0.486714  \n",
      "T CONTRATACION DE LINEA                             0.509345  \n",
      "T COTIZACION DE PUNTOS DE CIRCULO AZUL              0.629803  \n",
      "T DESEMPLEO / FALTA DE LIQUIDEZ                     0.641528  \n",
      "T INFORMES DE CONTRATACION Y PRECIOS DE EQUIPOS     0.664322  \n",
      "T INFORMES DE TARIFA DE VOZ Y DATOS                 0.677898  \n",
      "T INGRESO Y ENTREGA DE EQUIPO (REVISION / REPAR...  0.703757  \n",
      "T MIGRACION A PREPAGO                               0.710411  \n",
      "T MIGRACION PREPAGO A POSTPAGO                      0.716796  \n",
      "T MONITOREO DE LINEA                                0.731621  \n",
      "T POR ACTUALIZACION DE VERSION                      0.740815  \n",
      "T POR CIRCULO AZUL                                  0.763473  \n",
      "T POR ROBO Y/O EXTRAVIO                             0.768813  \n",
      "T POR SALDO DE DATOS                                0.792048  \n",
      "T POR SALDOS DE VOZ                                 0.880989  \n",
      "T PROPIO (SWITCHEO)                                 0.887491  \n",
      "T RENOVACION (CIRCULO AZUL)                         0.975807  \n",
      "T RETENCION                                         0.982867  \n",
      "T VALE INBURSA                                      0.990267  \n",
      "T VENTA DE EQUIPO PRECIO PUBLICO                    1.000000   \n",
      "\n",
      "\n",
      "Tabla de frecuencias para la variable ** n_d_region ** \n",
      "\n",
      "\n",
      "       FA        FR     FAA       FRA\n",
      "1   18310  0.049834   18310  0.049834\n",
      "2   16028  0.043623   34338  0.093457\n",
      "3   23405  0.063701   57743  0.157158\n",
      "4   39210  0.106717   96953  0.263874\n",
      "5   38477  0.104722  135430  0.368596\n",
      "6   38545  0.104907  173975  0.473503\n",
      "7   53234  0.144886  227209  0.618389\n",
      "8   27776  0.075597  254985  0.693986\n",
      "9  112436  0.306014  367421  1.000000 \n",
      "\n",
      "\n"
     ]
    }
   ],
   "source": [
    "freq(df,varn)"
   ]
  },
  {
   "cell_type": "markdown",
   "id": "yellow-alias",
   "metadata": {},
   "source": [
    "### Unarias"
   ]
  },
  {
   "cell_type": "code",
   "execution_count": 38,
   "id": "acceptable-albuquerque",
   "metadata": {
    "ExecuteTime": {
     "end_time": "2021-11-27T17:49:01.038305Z",
     "start_time": "2021-11-27T17:48:59.855198Z"
    }
   },
   "outputs": [],
   "source": [
    "unarias = [v for v,n in map(lambda v:(v,df[v].nunique()),varn+varcd) if n ==1]\n",
    "df.drop(unarias,axis=1,inplace=True)\n",
    "varn = [v for v in varn if v not in unarias]\n",
    "varcd = [v for v in varcd if v not in unarias]"
   ]
  },
  {
   "cell_type": "code",
   "execution_count": 39,
   "id": "2052dff3-ba63-4990-aec0-7bb86aca9d1d",
   "metadata": {},
   "outputs": [
    {
     "data": {
      "text/plain": [
       "['d_q_2_c_tiempo_espera',\n",
       " 'd_q_2_c_tiempo_tramite',\n",
       " 'd_u_2_c_tiempo_espera',\n",
       " 'd_u_2_c_tiempo_tramite',\n",
       " 'd_k_2_c_tiempo_espera',\n",
       " 'd_k_2_c_tiempo_tramite',\n",
       " 'd_q_3_c_tiempo_espera',\n",
       " 'd_q_3_c_tiempo_tramite',\n",
       " 'd_u_3_c_tiempo_espera',\n",
       " 'd_u_3_c_tiempo_tramite',\n",
       " 'd_k_3_c_tiempo_espera',\n",
       " 'd_k_3_c_tiempo_tramite',\n",
       " 'd_q_4_c_tiempo_espera',\n",
       " 'd_q_4_c_tiempo_tramite',\n",
       " 'd_u_4_c_tiempo_espera',\n",
       " 'd_u_4_c_tiempo_tramite',\n",
       " 'd_k_4_c_tiempo_espera',\n",
       " 'd_k_4_c_tiempo_tramite',\n",
       " 'd_q_5_c_tiempo_espera',\n",
       " 'd_q_5_c_tiempo_tramite',\n",
       " 'd_u_5_c_tiempo_espera',\n",
       " 'd_u_5_c_tiempo_tramite',\n",
       " 'd_k_5_c_tiempo_espera',\n",
       " 'd_k_5_c_tiempo_tramite',\n",
       " 'd_q_6_c_tiempo_espera',\n",
       " 'd_q_6_c_tiempo_tramite',\n",
       " 'd_u_6_c_tiempo_espera',\n",
       " 'd_u_6_c_tiempo_tramite',\n",
       " 'd_k_6_c_tiempo_espera',\n",
       " 'd_k_6_c_tiempo_tramite',\n",
       " 'd_q_7_c_tiempo_espera',\n",
       " 'd_q_7_c_tiempo_tramite',\n",
       " 'd_u_7_c_tiempo_espera',\n",
       " 'd_u_7_c_tiempo_tramite',\n",
       " 'd_k_7_c_tiempo_espera',\n",
       " 'd_k_7_c_tiempo_tramite',\n",
       " 'd_q_8_c_tiempo_espera',\n",
       " 'd_q_8_c_tiempo_tramite',\n",
       " 'd_u_8_c_tiempo_espera',\n",
       " 'd_u_8_c_tiempo_tramite',\n",
       " 'd_k_8_c_tiempo_espera',\n",
       " 'd_k_8_c_tiempo_tramite',\n",
       " 'd_q_9_c_tiempo_espera',\n",
       " 'd_q_9_c_tiempo_tramite',\n",
       " 'd_u_9_c_tiempo_espera',\n",
       " 'd_u_9_c_tiempo_tramite',\n",
       " 'd_k_9_c_tiempo_espera',\n",
       " 'd_k_9_c_tiempo_tramite']"
      ]
     },
     "execution_count": 39,
     "metadata": {},
     "output_type": "execute_result"
    }
   ],
   "source": [
    "varcd"
   ]
  },
  {
   "cell_type": "markdown",
   "id": "equipped-france",
   "metadata": {},
   "source": [
    "## Análisis bi-variado"
   ]
  },
  {
   "cell_type": "code",
   "execution_count": 40,
   "id": "jewish-progressive",
   "metadata": {
    "ExecuteTime": {
     "end_time": "2021-11-27T17:49:01.042254Z",
     "start_time": "2021-11-27T17:49:01.039334Z"
    }
   },
   "outputs": [],
   "source": [
    "def calcularIV(df,v,tgt):\n",
    "    aux = df[[v]+tgt].copy().assign(n=1)\n",
    "    aux = aux.pivot_table(index=v,columns=tgt,values='n',aggfunc='sum',fill_value=0)\n",
    "    aux/=aux.sum()\n",
    "    aux['w'] = np.log(aux[0]/aux[1])\n",
    "    aux['iv'] = (aux[0]-aux[1])*aux['w']\n",
    "    return v,aux['iv'].sum()"
   ]
  },
  {
   "cell_type": "code",
   "execution_count": 41,
   "id": "patent-eating",
   "metadata": {
    "ExecuteTime": {
     "end_time": "2021-11-27T17:49:03.504688Z",
     "start_time": "2021-11-27T17:49:01.043308Z"
    }
   },
   "outputs": [],
   "source": [
    "ivreport = pd.DataFrame(map(lambda v:calcularIV(df,v,vart),varn+varcd),columns=['var','iv'])"
   ]
  },
  {
   "cell_type": "code",
   "execution_count": 42,
   "id": "virtual-executive",
   "metadata": {
    "ExecuteTime": {
     "end_time": "2021-11-27T17:49:03.509522Z",
     "start_time": "2021-11-27T17:49:03.505655Z"
    }
   },
   "outputs": [],
   "source": [
    "ivreport = ivreport.loc[(ivreport['iv']>=0.01)&(~np.isinf(ivreport['iv']))].reset_index(drop=True)"
   ]
  },
  {
   "cell_type": "code",
   "execution_count": 43,
   "id": "unique-monster",
   "metadata": {
    "ExecuteTime": {
     "end_time": "2021-11-27T17:49:03.705624Z",
     "start_time": "2021-11-27T17:49:03.510931Z"
    }
   },
   "outputs": [],
   "source": [
    "ivreport['raíz'] = ivreport['var'].map(lambda x:x if x[:2]=='n_' else \"_\".join(x.split('_')[3:]))"
   ]
  },
  {
   "cell_type": "code",
   "execution_count": 46,
   "id": "262b169c-f6cd-4d4f-bfb4-01e22aab6a0c",
   "metadata": {},
   "outputs": [
    {
     "data": {
      "text/html": [
       "<div>\n",
       "<style scoped>\n",
       "    .dataframe tbody tr th:only-of-type {\n",
       "        vertical-align: middle;\n",
       "    }\n",
       "\n",
       "    .dataframe tbody tr th {\n",
       "        vertical-align: top;\n",
       "    }\n",
       "\n",
       "    .dataframe thead th {\n",
       "        text-align: right;\n",
       "    }\n",
       "</style>\n",
       "<table border=\"1\" class=\"dataframe\">\n",
       "  <thead>\n",
       "    <tr style=\"text-align: right;\">\n",
       "      <th></th>\n",
       "      <th>var</th>\n",
       "      <th>iv</th>\n",
       "      <th>raíz</th>\n",
       "    </tr>\n",
       "  </thead>\n",
       "  <tbody>\n",
       "    <tr>\n",
       "      <th>1</th>\n",
       "      <td>n_d_motivo</td>\n",
       "      <td>0.305313</td>\n",
       "      <td>n_d_motivo</td>\n",
       "    </tr>\n",
       "    <tr>\n",
       "      <th>27</th>\n",
       "      <td>d_q_9_c_tiempo_tramite</td>\n",
       "      <td>0.050656</td>\n",
       "      <td>c_tiempo_tramite</td>\n",
       "    </tr>\n",
       "    <tr>\n",
       "      <th>24</th>\n",
       "      <td>d_q_8_c_tiempo_tramite</td>\n",
       "      <td>0.050144</td>\n",
       "      <td>c_tiempo_tramite</td>\n",
       "    </tr>\n",
       "    <tr>\n",
       "      <th>21</th>\n",
       "      <td>d_q_7_c_tiempo_tramite</td>\n",
       "      <td>0.049468</td>\n",
       "      <td>c_tiempo_tramite</td>\n",
       "    </tr>\n",
       "    <tr>\n",
       "      <th>18</th>\n",
       "      <td>d_q_6_c_tiempo_tramite</td>\n",
       "      <td>0.049273</td>\n",
       "      <td>c_tiempo_tramite</td>\n",
       "    </tr>\n",
       "    <tr>\n",
       "      <th>15</th>\n",
       "      <td>d_q_5_c_tiempo_tramite</td>\n",
       "      <td>0.049025</td>\n",
       "      <td>c_tiempo_tramite</td>\n",
       "    </tr>\n",
       "    <tr>\n",
       "      <th>12</th>\n",
       "      <td>d_q_4_c_tiempo_tramite</td>\n",
       "      <td>0.047565</td>\n",
       "      <td>c_tiempo_tramite</td>\n",
       "    </tr>\n",
       "    <tr>\n",
       "      <th>10</th>\n",
       "      <td>d_k_3_c_tiempo_tramite</td>\n",
       "      <td>0.043670</td>\n",
       "      <td>c_tiempo_tramite</td>\n",
       "    </tr>\n",
       "    <tr>\n",
       "      <th>8</th>\n",
       "      <td>d_q_3_c_tiempo_tramite</td>\n",
       "      <td>0.042655</td>\n",
       "      <td>c_tiempo_tramite</td>\n",
       "    </tr>\n",
       "    <tr>\n",
       "      <th>6</th>\n",
       "      <td>d_k_2_c_tiempo_tramite</td>\n",
       "      <td>0.041724</td>\n",
       "      <td>c_tiempo_tramite</td>\n",
       "    </tr>\n",
       "    <tr>\n",
       "      <th>26</th>\n",
       "      <td>d_q_9_c_tiempo_espera</td>\n",
       "      <td>0.029847</td>\n",
       "      <td>c_tiempo_espera</td>\n",
       "    </tr>\n",
       "    <tr>\n",
       "      <th>23</th>\n",
       "      <td>d_q_8_c_tiempo_espera</td>\n",
       "      <td>0.027211</td>\n",
       "      <td>c_tiempo_espera</td>\n",
       "    </tr>\n",
       "    <tr>\n",
       "      <th>28</th>\n",
       "      <td>d_k_9_c_tiempo_espera</td>\n",
       "      <td>0.026366</td>\n",
       "      <td>c_tiempo_espera</td>\n",
       "    </tr>\n",
       "    <tr>\n",
       "      <th>25</th>\n",
       "      <td>d_k_8_c_tiempo_espera</td>\n",
       "      <td>0.026036</td>\n",
       "      <td>c_tiempo_espera</td>\n",
       "    </tr>\n",
       "    <tr>\n",
       "      <th>19</th>\n",
       "      <td>d_k_6_c_tiempo_espera</td>\n",
       "      <td>0.025949</td>\n",
       "      <td>c_tiempo_espera</td>\n",
       "    </tr>\n",
       "    <tr>\n",
       "      <th>22</th>\n",
       "      <td>d_k_7_c_tiempo_espera</td>\n",
       "      <td>0.025879</td>\n",
       "      <td>c_tiempo_espera</td>\n",
       "    </tr>\n",
       "    <tr>\n",
       "      <th>20</th>\n",
       "      <td>d_q_7_c_tiempo_espera</td>\n",
       "      <td>0.025700</td>\n",
       "      <td>c_tiempo_espera</td>\n",
       "    </tr>\n",
       "    <tr>\n",
       "      <th>16</th>\n",
       "      <td>d_k_5_c_tiempo_espera</td>\n",
       "      <td>0.024860</td>\n",
       "      <td>c_tiempo_espera</td>\n",
       "    </tr>\n",
       "    <tr>\n",
       "      <th>4</th>\n",
       "      <td>d_q_2_c_tiempo_tramite</td>\n",
       "      <td>0.024639</td>\n",
       "      <td>c_tiempo_tramite</td>\n",
       "    </tr>\n",
       "    <tr>\n",
       "      <th>17</th>\n",
       "      <td>d_q_6_c_tiempo_espera</td>\n",
       "      <td>0.023541</td>\n",
       "      <td>c_tiempo_espera</td>\n",
       "    </tr>\n",
       "    <tr>\n",
       "      <th>13</th>\n",
       "      <td>d_k_4_c_tiempo_espera</td>\n",
       "      <td>0.023123</td>\n",
       "      <td>c_tiempo_espera</td>\n",
       "    </tr>\n",
       "    <tr>\n",
       "      <th>9</th>\n",
       "      <td>d_k_3_c_tiempo_espera</td>\n",
       "      <td>0.021494</td>\n",
       "      <td>c_tiempo_espera</td>\n",
       "    </tr>\n",
       "    <tr>\n",
       "      <th>14</th>\n",
       "      <td>d_q_5_c_tiempo_espera</td>\n",
       "      <td>0.021355</td>\n",
       "      <td>c_tiempo_espera</td>\n",
       "    </tr>\n",
       "    <tr>\n",
       "      <th>2</th>\n",
       "      <td>n_d_region</td>\n",
       "      <td>0.018200</td>\n",
       "      <td>n_d_region</td>\n",
       "    </tr>\n",
       "    <tr>\n",
       "      <th>11</th>\n",
       "      <td>d_q_4_c_tiempo_espera</td>\n",
       "      <td>0.017901</td>\n",
       "      <td>c_tiempo_espera</td>\n",
       "    </tr>\n",
       "    <tr>\n",
       "      <th>0</th>\n",
       "      <td>n_d_cac</td>\n",
       "      <td>0.017279</td>\n",
       "      <td>n_d_cac</td>\n",
       "    </tr>\n",
       "    <tr>\n",
       "      <th>7</th>\n",
       "      <td>d_q_3_c_tiempo_espera</td>\n",
       "      <td>0.017254</td>\n",
       "      <td>c_tiempo_espera</td>\n",
       "    </tr>\n",
       "    <tr>\n",
       "      <th>5</th>\n",
       "      <td>d_k_2_c_tiempo_espera</td>\n",
       "      <td>0.016580</td>\n",
       "      <td>c_tiempo_espera</td>\n",
       "    </tr>\n",
       "    <tr>\n",
       "      <th>3</th>\n",
       "      <td>d_q_2_c_tiempo_espera</td>\n",
       "      <td>0.010127</td>\n",
       "      <td>c_tiempo_espera</td>\n",
       "    </tr>\n",
       "  </tbody>\n",
       "</table>\n",
       "</div>"
      ],
      "text/plain": [
       "                       var        iv              raíz\n",
       "1               n_d_motivo  0.305313        n_d_motivo\n",
       "27  d_q_9_c_tiempo_tramite  0.050656  c_tiempo_tramite\n",
       "24  d_q_8_c_tiempo_tramite  0.050144  c_tiempo_tramite\n",
       "21  d_q_7_c_tiempo_tramite  0.049468  c_tiempo_tramite\n",
       "18  d_q_6_c_tiempo_tramite  0.049273  c_tiempo_tramite\n",
       "15  d_q_5_c_tiempo_tramite  0.049025  c_tiempo_tramite\n",
       "12  d_q_4_c_tiempo_tramite  0.047565  c_tiempo_tramite\n",
       "10  d_k_3_c_tiempo_tramite  0.043670  c_tiempo_tramite\n",
       "8   d_q_3_c_tiempo_tramite  0.042655  c_tiempo_tramite\n",
       "6   d_k_2_c_tiempo_tramite  0.041724  c_tiempo_tramite\n",
       "26   d_q_9_c_tiempo_espera  0.029847   c_tiempo_espera\n",
       "23   d_q_8_c_tiempo_espera  0.027211   c_tiempo_espera\n",
       "28   d_k_9_c_tiempo_espera  0.026366   c_tiempo_espera\n",
       "25   d_k_8_c_tiempo_espera  0.026036   c_tiempo_espera\n",
       "19   d_k_6_c_tiempo_espera  0.025949   c_tiempo_espera\n",
       "22   d_k_7_c_tiempo_espera  0.025879   c_tiempo_espera\n",
       "20   d_q_7_c_tiempo_espera  0.025700   c_tiempo_espera\n",
       "16   d_k_5_c_tiempo_espera  0.024860   c_tiempo_espera\n",
       "4   d_q_2_c_tiempo_tramite  0.024639  c_tiempo_tramite\n",
       "17   d_q_6_c_tiempo_espera  0.023541   c_tiempo_espera\n",
       "13   d_k_4_c_tiempo_espera  0.023123   c_tiempo_espera\n",
       "9    d_k_3_c_tiempo_espera  0.021494   c_tiempo_espera\n",
       "14   d_q_5_c_tiempo_espera  0.021355   c_tiempo_espera\n",
       "2               n_d_region  0.018200        n_d_region\n",
       "11   d_q_4_c_tiempo_espera  0.017901   c_tiempo_espera\n",
       "0                  n_d_cac  0.017279           n_d_cac\n",
       "7    d_q_3_c_tiempo_espera  0.017254   c_tiempo_espera\n",
       "5    d_k_2_c_tiempo_espera  0.016580   c_tiempo_espera\n",
       "3    d_q_2_c_tiempo_espera  0.010127   c_tiempo_espera"
      ]
     },
     "execution_count": 46,
     "metadata": {},
     "output_type": "execute_result"
    }
   ],
   "source": [
    "ivreport.sort_values('iv', ascending=False)"
   ]
  },
  {
   "cell_type": "code",
   "execution_count": 47,
   "id": "moderate-korean",
   "metadata": {
    "ExecuteTime": {
     "end_time": "2021-11-27T17:49:03.908603Z",
     "start_time": "2021-11-27T17:49:03.706782Z"
    }
   },
   "outputs": [],
   "source": [
    "best = list(ivreport.sort_values(by=['raíz','iv'],ascending=[1,0]).groupby('raíz').first()['var'])"
   ]
  },
  {
   "cell_type": "code",
   "execution_count": 48,
   "id": "swiss-trash",
   "metadata": {
    "ExecuteTime": {
     "end_time": "2021-11-27T17:49:04.189688Z",
     "start_time": "2021-11-27T17:49:03.910752Z"
    }
   },
   "outputs": [
    {
     "data": {
      "text/plain": [
       "['d_q_9_c_tiempo_espera',\n",
       " 'd_q_9_c_tiempo_tramite',\n",
       " 'n_d_cac',\n",
       " 'n_d_motivo',\n",
       " 'n_d_region']"
      ]
     },
     "execution_count": 48,
     "metadata": {},
     "output_type": "execute_result"
    }
   ],
   "source": [
    "best"
   ]
  },
  {
   "cell_type": "markdown",
   "id": "statewide-fleet",
   "metadata": {},
   "source": [
    "## Partición"
   ]
  },
  {
   "cell_type": "code",
   "execution_count": 49,
   "id": "mobile-machinery",
   "metadata": {
    "ExecuteTime": {
     "end_time": "2021-11-27T17:49:04.397956Z",
     "start_time": "2021-11-27T17:49:04.190772Z"
    }
   },
   "outputs": [],
   "source": [
    "test = df.loc[pd.to_datetime(df['fecha'])>=pd.to_datetime('2021-11-1')].reset_index(drop=True).copy()[um+best+vart]"
   ]
  },
  {
   "cell_type": "code",
   "execution_count": 50,
   "id": "social-registration",
   "metadata": {
    "ExecuteTime": {
     "end_time": "2021-11-27T17:49:04.832931Z",
     "start_time": "2021-11-27T17:49:04.399525Z"
    }
   },
   "outputs": [],
   "source": [
    "train,val = train_test_split(df.loc[pd.to_datetime(df['fecha'])<pd.to_datetime('2021-11-1')].reset_index(drop=True).copy()[um+best+vart],train_size=0.7)\n",
    "train.reset_index(drop=True,inplace=True)\n",
    "val.reset_index(drop=True,inplace=True)"
   ]
  },
  {
   "cell_type": "code",
   "execution_count": 51,
   "id": "balanced-hospital",
   "metadata": {
    "ExecuteTime": {
     "end_time": "2021-11-27T17:49:04.841279Z",
     "start_time": "2021-11-27T17:49:04.834027Z"
    }
   },
   "outputs": [
    {
     "data": {
      "text/html": [
       "<div>\n",
       "<style scoped>\n",
       "    .dataframe tbody tr th:only-of-type {\n",
       "        vertical-align: middle;\n",
       "    }\n",
       "\n",
       "    .dataframe tbody tr th {\n",
       "        vertical-align: top;\n",
       "    }\n",
       "\n",
       "    .dataframe thead th {\n",
       "        text-align: right;\n",
       "    }\n",
       "</style>\n",
       "<table border=\"1\" class=\"dataframe\">\n",
       "  <thead>\n",
       "    <tr style=\"text-align: right;\">\n",
       "      <th></th>\n",
       "      <th>linea</th>\n",
       "      <th>fecha</th>\n",
       "      <th>d_q_9_c_tiempo_espera</th>\n",
       "      <th>d_q_9_c_tiempo_tramite</th>\n",
       "      <th>n_d_cac</th>\n",
       "      <th>n_d_motivo</th>\n",
       "      <th>n_d_region</th>\n",
       "      <th>target</th>\n",
       "    </tr>\n",
       "  </thead>\n",
       "  <tbody>\n",
       "    <tr>\n",
       "      <th>0</th>\n",
       "      <td>5540699582</td>\n",
       "      <td>2021-03-24</td>\n",
       "      <td>02. |23.0---29.0|</td>\n",
       "      <td>03. |589.0---805.0|</td>\n",
       "      <td>PASEO ACOXPA</td>\n",
       "      <td>A POR SALDO DE VOZ</td>\n",
       "      <td>9</td>\n",
       "      <td>1</td>\n",
       "    </tr>\n",
       "    <tr>\n",
       "      <th>1</th>\n",
       "      <td>5554335976</td>\n",
       "      <td>2021-08-23</td>\n",
       "      <td>06. |70.0---219.0|</td>\n",
       "      <td>08. |2440.0---3438.0|</td>\n",
       "      <td>PEQUEÑAS CATEGORÍAS</td>\n",
       "      <td>T COTIZACION DE PUNTOS DE CIRCULO AZUL</td>\n",
       "      <td>7</td>\n",
       "      <td>0</td>\n",
       "    </tr>\n",
       "    <tr>\n",
       "      <th>2</th>\n",
       "      <td>6143024767</td>\n",
       "      <td>2021-10-03</td>\n",
       "      <td>06. |70.0---219.0|</td>\n",
       "      <td>02. |381.0---589.0|</td>\n",
       "      <td>PEQUEÑAS CATEGORÍAS</td>\n",
       "      <td>T DESEMPLEO / FALTA DE LIQUIDEZ</td>\n",
       "      <td>3</td>\n",
       "      <td>1</td>\n",
       "    </tr>\n",
       "    <tr>\n",
       "      <th>3</th>\n",
       "      <td>9221205031</td>\n",
       "      <td>2021-03-23</td>\n",
       "      <td>02. |23.0---29.0|</td>\n",
       "      <td>08. |2440.0---3438.0|</td>\n",
       "      <td>PEQUEÑAS CATEGORÍAS</td>\n",
       "      <td>T POR SALDO DE DATOS</td>\n",
       "      <td>7</td>\n",
       "      <td>0</td>\n",
       "    </tr>\n",
       "    <tr>\n",
       "      <th>4</th>\n",
       "      <td>4613352145</td>\n",
       "      <td>2021-09-05</td>\n",
       "      <td>09. |949.0---13409.0|</td>\n",
       "      <td>07. |1826.0---2440.0|</td>\n",
       "      <td>PEQUEÑAS CATEGORÍAS</td>\n",
       "      <td>T POR SALDOS DE VOZ</td>\n",
       "      <td>6</td>\n",
       "      <td>0</td>\n",
       "    </tr>\n",
       "  </tbody>\n",
       "</table>\n",
       "</div>"
      ],
      "text/plain": [
       "        linea       fecha  d_q_9_c_tiempo_espera d_q_9_c_tiempo_tramite  \\\n",
       "0  5540699582  2021-03-24      02. |23.0---29.0|    03. |589.0---805.0|   \n",
       "1  5554335976  2021-08-23     06. |70.0---219.0|  08. |2440.0---3438.0|   \n",
       "2  6143024767  2021-10-03     06. |70.0---219.0|    02. |381.0---589.0|   \n",
       "3  9221205031  2021-03-23      02. |23.0---29.0|  08. |2440.0---3438.0|   \n",
       "4  4613352145  2021-09-05  09. |949.0---13409.0|  07. |1826.0---2440.0|   \n",
       "\n",
       "               n_d_cac                              n_d_motivo n_d_region  \\\n",
       "0         PASEO ACOXPA                      A POR SALDO DE VOZ          9   \n",
       "1  PEQUEÑAS CATEGORÍAS  T COTIZACION DE PUNTOS DE CIRCULO AZUL          7   \n",
       "2  PEQUEÑAS CATEGORÍAS         T DESEMPLEO / FALTA DE LIQUIDEZ          3   \n",
       "3  PEQUEÑAS CATEGORÍAS                    T POR SALDO DE DATOS          7   \n",
       "4  PEQUEÑAS CATEGORÍAS                     T POR SALDOS DE VOZ          6   \n",
       "\n",
       "   target  \n",
       "0       1  \n",
       "1       0  \n",
       "2       1  \n",
       "3       0  \n",
       "4       0  "
      ]
     },
     "execution_count": 51,
     "metadata": {},
     "output_type": "execute_result"
    }
   ],
   "source": [
    "train.head()"
   ]
  },
  {
   "cell_type": "code",
   "execution_count": 52,
   "id": "literary-essence",
   "metadata": {
    "ExecuteTime": {
     "end_time": "2021-11-27T17:49:04.998573Z",
     "start_time": "2021-11-27T17:49:04.842917Z"
    }
   },
   "outputs": [
    {
     "data": {
      "text/plain": [
       "((214655, 8), (91995, 8), (60771, 8))"
      ]
     },
     "execution_count": 52,
     "metadata": {},
     "output_type": "execute_result"
    }
   ],
   "source": [
    "train.shape,val.shape,test.shape"
   ]
  },
  {
   "cell_type": "markdown",
   "id": "minus-night",
   "metadata": {},
   "source": [
    "## WoE"
   ]
  },
  {
   "cell_type": "code",
   "execution_count": 95,
   "id": "loved-spray",
   "metadata": {
    "ExecuteTime": {
     "end_time": "2021-11-27T17:49:05.096294Z",
     "start_time": "2021-11-27T17:49:04.999742Z"
    }
   },
   "outputs": [],
   "source": [
    "def calcularWoE(df,v,tgt):\n",
    "    aux = df[[v]+tgt].copy().assign(n=1)\n",
    "    aux = aux.pivot_table(index=v,columns=tgt,values='n',aggfunc='sum',fill_value=0)\n",
    "    aux/=aux.sum()\n",
    "    aux['w'] = np.log(aux[0]/aux[1])\n",
    "    return v,aux['w'].to_dict()"
   ]
  },
  {
   "cell_type": "code",
   "execution_count": 96,
   "id": "hollywood-manner",
   "metadata": {
    "ExecuteTime": {
     "end_time": "2021-11-27T17:49:05.481522Z",
     "start_time": "2021-11-27T17:49:05.097413Z"
    }
   },
   "outputs": [],
   "source": [
    "for v,mapa in map(lambda v:calcularWoE(train,v,vart),best):\n",
    "    train[f'w_{v}'] = train[v].replace(mapa)\n",
    "    val[f'w_{v}'] = val[v].replace(mapa)\n",
    "    test[f'w_{v}'] = test[v].replace(mapa)"
   ]
  },
  {
   "cell_type": "code",
   "execution_count": 97,
   "id": "early-lawsuit",
   "metadata": {
    "ExecuteTime": {
     "end_time": "2021-11-27T17:49:05.484765Z",
     "start_time": "2021-11-27T17:49:05.482501Z"
    }
   },
   "outputs": [],
   "source": [
    "varw = [v for v in train.columns if v[:2]=='w_']"
   ]
  },
  {
   "cell_type": "code",
   "execution_count": 100,
   "id": "835a3b7a-d465-4df6-bea8-0527b67e0245",
   "metadata": {},
   "outputs": [
    {
     "name": "stdout",
     "output_type": "stream",
     "text": [
      "<class 'pandas.core.frame.DataFrame'>\n",
      "RangeIndex: 60771 entries, 0 to 60770\n",
      "Data columns (total 5 columns):\n",
      " #   Column                    Non-Null Count  Dtype  \n",
      "---  ------                    --------------  -----  \n",
      " 0   w_d_q_9_c_tiempo_espera   60771 non-null  float64\n",
      " 1   w_d_q_9_c_tiempo_tramite  60771 non-null  float64\n",
      " 2   w_n_d_cac                 60771 non-null  float64\n",
      " 3   w_n_d_motivo              60771 non-null  float64\n",
      " 4   w_n_d_region              60771 non-null  float64\n",
      "dtypes: float64(5)\n",
      "memory usage: 2.3 MB\n"
     ]
    }
   ],
   "source": [
    "test[varw].info()"
   ]
  },
  {
   "cell_type": "markdown",
   "id": "initial-compiler",
   "metadata": {},
   "source": [
    "## Entrenamiento del modelo"
   ]
  },
  {
   "cell_type": "code",
   "execution_count": 106,
   "id": "executed-pattern",
   "metadata": {
    "ExecuteTime": {
     "end_time": "2021-11-27T17:49:05.586524Z",
     "start_time": "2021-11-27T17:49:05.486034Z"
    }
   },
   "outputs": [],
   "source": [
    "lr = LogisticRegression()"
   ]
  },
  {
   "cell_type": "code",
   "execution_count": 107,
   "id": "greek-column",
   "metadata": {
    "ExecuteTime": {
     "end_time": "2021-11-27T17:49:05.885048Z",
     "start_time": "2021-11-27T17:49:05.588073Z"
    }
   },
   "outputs": [
    {
     "data": {
      "text/plain": [
       "LogisticRegression()"
      ]
     },
     "execution_count": 107,
     "metadata": {},
     "output_type": "execute_result"
    }
   ],
   "source": [
    "lr.fit(train[varw],train[vart])"
   ]
  },
  {
   "cell_type": "code",
   "execution_count": 108,
   "id": "extended-jesus",
   "metadata": {
    "ExecuteTime": {
     "end_time": "2021-11-27T17:49:05.967678Z",
     "start_time": "2021-11-27T17:49:05.887060Z"
    }
   },
   "outputs": [],
   "source": [
    "train['proba'] = lr.predict_proba(train[varw])[:,1]\n",
    "val['proba']= lr.predict_proba(val[varw])[:,1]\n",
    "test['proba']= lr.predict_proba(test[varw])[:,1]"
   ]
  },
  {
   "cell_type": "code",
   "execution_count": 109,
   "id": "warming-scotland",
   "metadata": {
    "ExecuteTime": {
     "end_time": "2021-11-27T17:49:06.092240Z",
     "start_time": "2021-11-27T17:49:05.970960Z"
    }
   },
   "outputs": [
    {
     "name": "stdout",
     "output_type": "stream",
     "text": [
      "0.6754506336918058\n",
      "0.672286644987244\n",
      "0.6924269626868467\n"
     ]
    }
   ],
   "source": [
    "print(roc_auc_score(y_score=train['proba'],y_true=train[vart]))\n",
    "print(roc_auc_score(y_score=val['proba'],y_true=val[vart]))\n",
    "print(roc_auc_score(y_score=test['proba'],y_true=test[vart]))"
   ]
  },
  {
   "cell_type": "code",
   "execution_count": 110,
   "id": "4a83e8be-fb5e-485b-a0c2-01ddc62cb35d",
   "metadata": {},
   "outputs": [],
   "source": [
    "from scikitplot.metrics import plot_ks_statistic,plot_roc_curve"
   ]
  },
  {
   "cell_type": "code",
   "execution_count": 111,
   "id": "d992d4de-0c8f-408f-9545-e761ac3ec0b8",
   "metadata": {},
   "outputs": [
    {
     "data": {
      "text/plain": [
       "<AxesSubplot:title={'center':'KS Statistic Plot'}, xlabel='Threshold', ylabel='Percentage below threshold'>"
      ]
     },
     "execution_count": 111,
     "metadata": {},
     "output_type": "execute_result"
    },
    {
     "data": {
      "image/png": "[encoded data removed]",
      "text/plain": [
       "<Figure size 432x288 with 1 Axes>"
      ]
     },
     "metadata": {
      "needs_background": "light"
     },
     "output_type": "display_data"
    },
    {
     "data": {
      "image/png": "[encoded data removed]",
      "text/plain": [
       "<Figure size 432x288 with 1 Axes>"
      ]
     },
     "metadata": {
      "needs_background": "light"
     },
     "output_type": "display_data"
    },
    {
     "data": {
      "image/png": "[encoded data removed]",
      "text/plain": [
       "<Figure size 432x288 with 1 Axes>"
      ]
     },
     "metadata": {
      "needs_background": "light"
     },
     "output_type": "display_data"
    },
    {
     "data": {
      "image/png": "[encoded data removed]",
      "text/plain": [
       "<Figure size 432x288 with 1 Axes>"
      ]
     },
     "metadata": {
      "needs_background": "light"
     },
     "output_type": "display_data"
    },
    {
     "data": {
      "image/png": "[encoded data removed]",
      "text/plain": [
       "<Figure size 432x288 with 1 Axes>"
      ]
     },
     "metadata": {
      "needs_background": "light"
     },
     "output_type": "display_data"
    },
    {
     "data": {
      "image/png": "[encoded data removed]",
      "text/plain": [
       "<Figure size 432x288 with 1 Axes>"
      ]
     },
     "metadata": {
      "needs_background": "light"
     },
     "output_type": "display_data"
    }
   ],
   "source": [
    "plot_roc_curve(y_probas=lr.predict_proba(train[varw]),y_true=train[vart[0]],curves='macro')\n",
    "plot_roc_curve(y_probas=lr.predict_proba(val[varw]),y_true=val[vart[0]],curves='macro')\n",
    "plot_roc_curve(y_probas=lr.predict_proba(test[varw]),y_true=test[vart[0]],curves='macro')\n",
    "\n",
    "plot_ks_statistic(y_probas=lr.predict_proba(train[varw]),y_true=train[vart[0]])\n",
    "plot_ks_statistic(y_probas=lr.predict_proba(val[varw]),y_true=val[vart[0]])\n",
    "plot_ks_statistic(y_probas=lr.predict_proba(test[varw]),y_true=test[vart[0]])"
   ]
  },
  {
   "cell_type": "code",
   "execution_count": 112,
   "id": "6d7fd73a-8695-44b2-9b69-2138c02f40fa",
   "metadata": {},
   "outputs": [],
   "source": [
    "sol=df[df['Solucion']=='Sí'].reset_index(drop=True)\n",
    "no_sol=df[df['Solucion']!='Sí'].reset_index(drop=True)"
   ]
  },
  {
   "cell_type": "code",
   "execution_count": 113,
   "id": "685289b8-245b-4ca9-ad7c-b5cb6d7bf8e8",
   "metadata": {},
   "outputs": [],
   "source": [
    "for v,mapa in map(lambda v:calcularWoE(train,v,vart),best):\n",
    "    sol[f'w_{v}'] = sol[v].replace(mapa)\n",
    "    no_sol[f'w_{v}'] = no_sol[v].replace(mapa)"
   ]
  },
  {
   "cell_type": "code",
   "execution_count": 114,
   "id": "4032aab1-79a5-40a8-8b2d-28cb21bfa4e4",
   "metadata": {},
   "outputs": [],
   "source": [
    "sol.dropna(inplace=True)"
   ]
  },
  {
   "cell_type": "code",
   "execution_count": 115,
   "id": "65695432-5ae8-41ec-aa0e-560ad6167bc7",
   "metadata": {},
   "outputs": [],
   "source": [
    "no_sol.dropna(inplace=True)"
   ]
  },
  {
   "cell_type": "code",
   "execution_count": 117,
   "id": "41b07691-d642-4e5c-a617-83a5b5b37685",
   "metadata": {},
   "outputs": [
    {
     "data": {
      "text/plain": [
       "<AxesSubplot:title={'center':'KS Statistic Plot'}, xlabel='Threshold', ylabel='Percentage below threshold'>"
      ]
     },
     "execution_count": 117,
     "metadata": {},
     "output_type": "execute_result"
    },
    {
     "data": {
      "image/png": "[encoded data removed]",
      "text/plain": [
       "<Figure size 432x288 with 1 Axes>"
      ]
     },
     "metadata": {
      "needs_background": "light"
     },
     "output_type": "display_data"
    },
    {
     "data": {
      "image/png": "[encoded data removed]",
      "text/plain": [
       "<Figure size 432x288 with 1 Axes>"
      ]
     },
     "metadata": {
      "needs_background": "light"
     },
     "output_type": "display_data"
    },
    {
     "data": {
      "image/png": "[encoded data removed]",
      "text/plain": [
       "<Figure size 432x288 with 1 Axes>"
      ]
     },
     "metadata": {
      "needs_background": "light"
     },
     "output_type": "display_data"
    },
    {
     "data": {
      "image/png": "[encoded data removed]",
      "text/plain": [
       "<Figure size 432x288 with 1 Axes>"
      ]
     },
     "metadata": {
      "needs_background": "light"
     },
     "output_type": "display_data"
    }
   ],
   "source": [
    "plot_roc_curve(y_probas=lr.predict_proba(sol[varw]),y_true=sol[vart[0]],curves='macro')\n",
    "plot_roc_curve(y_probas=lr.predict_proba(no_sol[varw]),y_true=no_sol[vart[0]],curves='macro')\n",
    "\n",
    "plot_ks_statistic(y_probas=lr.predict_proba(sol[varw]),y_true=sol[vart[0]])\n",
    "plot_ks_statistic(y_probas=lr.predict_proba(no_sol[varw]),y_true=no_sol[vart[0]])"
   ]
  },
  {
   "cell_type": "code",
   "execution_count": 121,
   "id": "683d901a-d1da-4692-bdd4-ab13780ff4aa",
   "metadata": {},
   "outputs": [
    {
     "data": {
      "text/plain": [
       "0    0.913697\n",
       "1    0.086303\n",
       "Name: target, dtype: float64"
      ]
     },
     "execution_count": 121,
     "metadata": {},
     "output_type": "execute_result"
    }
   ],
   "source": [
    "sol[vart[0]].value_counts(1)"
   ]
  },
  {
   "cell_type": "code",
   "execution_count": 122,
   "id": "6db40fe4-b937-4530-ae55-68089355b600",
   "metadata": {},
   "outputs": [
    {
     "data": {
      "text/plain": [
       "1    0.818088\n",
       "0    0.181912\n",
       "Name: target, dtype: float64"
      ]
     },
     "execution_count": 122,
     "metadata": {},
     "output_type": "execute_result"
    }
   ],
   "source": [
    "no_sol[vart[0]].value_counts(1)"
   ]
  },
  {
   "cell_type": "code",
   "execution_count": 123,
   "id": "89d86bc4-0e59-4199-9eb1-17cb35f0a459",
   "metadata": {},
   "outputs": [
    {
     "data": {
      "text/plain": [
       "0    0.781033\n",
       "1    0.218967\n",
       "Name: target, dtype: float64"
      ]
     },
     "execution_count": 123,
     "metadata": {},
     "output_type": "execute_result"
    }
   ],
   "source": [
    "df[vart[0]].value_counts(1)"
   ]
  },
  {
   "cell_type": "code",
   "execution_count": 130,
   "id": "9b00a101-cb2b-4076-8cd8-b49674d28fc2",
   "metadata": {},
   "outputs": [
    {
     "data": {
      "text/plain": [
       "0    286968\n",
       "1     80453\n",
       "Name: target, dtype: int64"
      ]
     },
     "execution_count": 130,
     "metadata": {},
     "output_type": "execute_result"
    }
   ],
   "source": [
    "df[vart[0]].value_counts()"
   ]
  },
  {
   "cell_type": "code",
   "execution_count": 129,
   "id": "0db1f339-19e3-4dbe-9769-1260d8b9581a",
   "metadata": {},
   "outputs": [
    {
     "data": {
      "text/plain": [
       "1    54492\n",
       "0    12117\n",
       "Name: target, dtype: int64"
      ]
     },
     "execution_count": 129,
     "metadata": {},
     "output_type": "execute_result"
    }
   ],
   "source": [
    "no_sol[vart[0]].value_counts()"
   ]
  },
  {
   "cell_type": "code",
   "execution_count": 127,
   "id": "1d822fa5-2d8a-46d3-8435-32b2d0ea78c4",
   "metadata": {},
   "outputs": [
    {
     "data": {
      "text/plain": [
       "0    274851\n",
       "1     25961\n",
       "Name: target, dtype: int64"
      ]
     },
     "execution_count": 127,
     "metadata": {},
     "output_type": "execute_result"
    }
   ],
   "source": [
    "sol[vart[0]].value_counts()"
   ]
  },
  {
   "cell_type": "code",
   "execution_count": 138,
   "id": "c6f5a02b-980c-4914-8a80-d7a1635dc586",
   "metadata": {},
   "outputs": [
    {
     "data": {
      "text/plain": [
       "367421"
      ]
     },
     "execution_count": 138,
     "metadata": {},
     "output_type": "execute_result"
    }
   ],
   "source": [
    "len(df)"
   ]
  },
  {
   "cell_type": "code",
   "execution_count": 131,
   "id": "5ec401da-0159-4443-8222-d8924e6fc19f",
   "metadata": {},
   "outputs": [],
   "source": [
    "df.to_csv('Scoring_NPS.csv', index=False)"
   ]
  },
  {
   "cell_type": "code",
   "execution_count": 137,
   "id": "3d440d2f-f548-4f2e-a082-435324d1fdcc",
   "metadata": {},
   "outputs": [],
   "source": [
    "df.groupby(['Solucion','NPS_Asesor'])['linea'].count().unstack().to_clipboard()"
   ]
  },
  {
   "cell_type": "markdown",
   "id": "chubby-apache",
   "metadata": {},
   "source": [
    "## Scoring"
   ]
  },
  {
   "cell_type": "code",
   "execution_count": 199,
   "id": "ranking-ownership",
   "metadata": {
    "ExecuteTime": {
     "end_time": "2021-11-27T17:50:09.345941Z",
     "start_time": "2021-11-27T17:50:09.339579Z"
    }
   },
   "outputs": [
    {
     "data": {
      "text/plain": [
       "(105.31673798489433, 300.0, 5)"
      ]
     },
     "execution_count": 199,
     "metadata": {},
     "output_type": "execute_result"
    }
   ],
   "source": [
    "score_base = 300\n",
    "momios_base = 1\n",
    "pdo = 73\n",
    "factor = pdo/np.log(2)\n",
    "offset = score_base-factor*np.log(momios_base)\n",
    "n = len(varw)\n",
    "factor,offset,n\n"
   ]
  },
  {
   "cell_type": "code",
   "execution_count": 200,
   "id": "attached-scenario",
   "metadata": {
    "ExecuteTime": {
     "end_time": "2021-11-27T17:50:09.858544Z",
     "start_time": "2021-11-27T17:50:09.854847Z"
    }
   },
   "outputs": [
    {
     "data": {
      "text/plain": [
       "([-0.9506920201571724,\n",
       "  -1.1495162525021805,\n",
       "  -0.5649287432773642,\n",
       "  -0.9992199049715421,\n",
       "  -0.92285484107196],\n",
       " -1.270304207548341)"
      ]
     },
     "execution_count": 200,
     "metadata": {},
     "output_type": "execute_result"
    }
   ],
   "source": [
    "betas,alpha = list(lr.coef_[0]),lr.intercept_[0]\n",
    "betas,alpha"
   ]
  },
  {
   "cell_type": "code",
   "execution_count": 201,
   "id": "comprehensive-intensity",
   "metadata": {
    "ExecuteTime": {
     "end_time": "2021-11-27T17:50:10.306857Z",
     "start_time": "2021-11-27T17:50:10.281161Z"
    }
   },
   "outputs": [],
   "source": [
    "for beta,v in zip(betas,varw):\n",
    "    train[f'P_{v}'] = np.round((-train[v]*beta+alpha/n)*factor+offset/n,0)\n",
    "    val[f'P_{v}'] = np.round((-val[v]*beta+alpha/n)*factor+offset/n,0)\n",
    "    test[f'P_{v}'] = np.round((-test[v]*beta+alpha/n)*factor+offset/n,0)"
   ]
  },
  {
   "cell_type": "code",
   "execution_count": 202,
   "id": "streaming-algeria",
   "metadata": {
    "ExecuteTime": {
     "end_time": "2021-11-27T17:50:10.681818Z",
     "start_time": "2021-11-27T17:50:10.670406Z"
    }
   },
   "outputs": [],
   "source": [
    "train['score'] = train.filter(like='P_').sum(axis=1)\n",
    "val['score'] = val.filter(like='P_').sum(axis=1)\n",
    "test['score'] = test.filter(like='P_').sum(axis=1)"
   ]
  },
  {
   "cell_type": "code",
   "execution_count": 203,
   "id": "numeric-knowing",
   "metadata": {
    "ExecuteTime": {
     "end_time": "2021-11-27T17:50:12.250303Z",
     "start_time": "2021-11-27T17:50:12.240140Z"
    }
   },
   "outputs": [
    {
     "data": {
      "text/plain": [
       "(score    485.0\n",
       " Name: max, dtype: float64,\n",
       " score   -1.0\n",
       " Name: min, dtype: float64,\n",
       " score    486.0\n",
       " dtype: float64)"
      ]
     },
     "execution_count": 203,
     "metadata": {},
     "output_type": "execute_result"
    }
   ],
   "source": [
    "aux = test['score'].describe().to_frame().T\n",
    "aux['max'],aux['min'],aux['max']-aux['min']"
   ]
  },
  {
   "cell_type": "code",
   "execution_count": 198,
   "id": "classical-youth",
   "metadata": {
    "ExecuteTime": {
     "end_time": "2021-11-27T17:50:12.238614Z",
     "start_time": "2021-11-27T17:50:11.007039Z"
    }
   },
   "outputs": [
    {
     "data": {
      "text/plain": [
       "<AxesSubplot:xlabel='score', ylabel='Density'>"
      ]
     },
     "execution_count": 198,
     "metadata": {},
     "output_type": "execute_result"
    },
    {
     "data": {
      "image/png": "[encoded data removed]",
      "text/plain": [
       "<Figure size 432x288 with 1 Axes>"
      ]
     },
     "metadata": {
      "needs_background": "light"
     },
     "output_type": "display_data"
    }
   ],
   "source": [
    "sns.kdeplot(data=train,x='score',cumulative=True)\n",
    "sns.kdeplot(data=val,x='score',cumulative=True)\n",
    "sns.kdeplot(data=test,x='score',cumulative=True)"
   ]
  },
  {
   "cell_type": "code",
   "execution_count": null,
   "id": "965e4521-af5f-40a7-98d0-3284969160fe",
   "metadata": {},
   "outputs": [],
   "source": []
  },
  {
   "cell_type": "code",
   "execution_count": 206,
   "id": "c7fec7e7-5852-4a62-b63d-6ed3ce40150b",
   "metadata": {},
   "outputs": [
    {
     "data": {
      "text/plain": [
       "9"
      ]
     },
     "execution_count": 206,
     "metadata": {},
     "output_type": "execute_result"
    }
   ],
   "source": [
    "len(range(-1,486,60))"
   ]
  },
  {
   "cell_type": "code",
   "execution_count": 289,
   "id": "f9850c0f-0d5c-427f-8c75-f7d6ffd2a82e",
   "metadata": {},
   "outputs": [
    {
     "data": {
      "text/plain": [
       "9.015873015873016"
      ]
     },
     "execution_count": 289,
     "metadata": {},
     "output_type": "execute_result"
    }
   ],
   "source": [
    "568/63"
   ]
  },
  {
   "cell_type": "code",
   "execution_count": 207,
   "id": "occupational-performance",
   "metadata": {
    "ExecuteTime": {
     "end_time": "2021-11-27T17:50:19.011736Z",
     "start_time": "2021-11-27T17:50:18.973877Z"
    }
   },
   "outputs": [],
   "source": [
    "train['r_score'] = pd.cut(train['score'],bins=range(-1,486,60),include_lowest=True).astype(str)\n",
    "val['r_score'] = pd.cut(val['score'],bins=range(-1,486,60),include_lowest=True).astype(str)\n",
    "test['r_score'] = pd.cut(test['score'],bins=range(-1,486,60),include_lowest=True).astype(str)"
   ]
  },
  {
   "cell_type": "markdown",
   "id": "alike-sharp",
   "metadata": {},
   "source": [
    "### Scorecard"
   ]
  },
  {
   "cell_type": "code",
   "execution_count": 209,
   "id": "potential-persian",
   "metadata": {
    "ExecuteTime": {
     "end_time": "2021-11-27T17:50:22.781540Z",
     "start_time": "2021-11-27T17:50:22.704884Z"
    }
   },
   "outputs": [
    {
     "data": {
      "text/html": [
       "<div>\n",
       "<style scoped>\n",
       "    .dataframe tbody tr th:only-of-type {\n",
       "        vertical-align: middle;\n",
       "    }\n",
       "\n",
       "    .dataframe tbody tr th {\n",
       "        vertical-align: top;\n",
       "    }\n",
       "\n",
       "    .dataframe thead th {\n",
       "        text-align: right;\n",
       "    }\n",
       "</style>\n",
       "<table border=\"1\" class=\"dataframe\">\n",
       "  <thead>\n",
       "    <tr style=\"text-align: right;\">\n",
       "      <th></th>\n",
       "      <th></th>\n",
       "      <th>puntos</th>\n",
       "    </tr>\n",
       "    <tr>\n",
       "      <th>caracteristica</th>\n",
       "      <th>atributo</th>\n",
       "      <th></th>\n",
       "    </tr>\n",
       "  </thead>\n",
       "  <tbody>\n",
       "    <tr>\n",
       "      <th rowspan=\"5\" valign=\"top\">cac</th>\n",
       "      <th>BUENAVISTA</th>\n",
       "      <td>13.0</td>\n",
       "    </tr>\n",
       "    <tr>\n",
       "      <th>CUICUILCO</th>\n",
       "      <td>22.0</td>\n",
       "    </tr>\n",
       "    <tr>\n",
       "      <th>GALERIAS COAPA</th>\n",
       "      <td>16.0</td>\n",
       "    </tr>\n",
       "    <tr>\n",
       "      <th>GALERIAS PACHUCA</th>\n",
       "      <td>17.0</td>\n",
       "    </tr>\n",
       "    <tr>\n",
       "      <th>GALERIAS TOLUCA</th>\n",
       "      <td>32.0</td>\n",
       "    </tr>\n",
       "    <tr>\n",
       "      <th>...</th>\n",
       "      <th>...</th>\n",
       "      <td>...</td>\n",
       "    </tr>\n",
       "    <tr>\n",
       "      <th rowspan=\"5\" valign=\"top\">tiempo_tramite</th>\n",
       "      <th>05. |1060.0---1382.0|</th>\n",
       "      <td>14.0</td>\n",
       "    </tr>\n",
       "    <tr>\n",
       "      <th>06. |1382.0---1826.0|</th>\n",
       "      <td>27.0</td>\n",
       "    </tr>\n",
       "    <tr>\n",
       "      <th>07. |1826.0---2440.0|</th>\n",
       "      <td>49.0</td>\n",
       "    </tr>\n",
       "    <tr>\n",
       "      <th>08. |2440.0---3438.0|</th>\n",
       "      <td>76.0</td>\n",
       "    </tr>\n",
       "    <tr>\n",
       "      <th>09. |3438.0---43507.0|</th>\n",
       "      <td>92.0</td>\n",
       "    </tr>\n",
       "  </tbody>\n",
       "</table>\n",
       "<p>97 rows × 1 columns</p>\n",
       "</div>"
      ],
      "text/plain": [
       "                                       puntos\n",
       "caracteristica atributo                      \n",
       "cac            BUENAVISTA                13.0\n",
       "               CUICUILCO                 22.0\n",
       "               GALERIAS COAPA            16.0\n",
       "               GALERIAS PACHUCA          17.0\n",
       "               GALERIAS TOLUCA           32.0\n",
       "...                                       ...\n",
       "tiempo_tramite 05. |1060.0---1382.0|     14.0\n",
       "               06. |1382.0---1826.0|     27.0\n",
       "               07. |1826.0---2440.0|     49.0\n",
       "               08. |2440.0---3438.0|     76.0\n",
       "               09. |3438.0---43507.0|    92.0\n",
       "\n",
       "[97 rows x 1 columns]"
      ]
     },
     "execution_count": 209,
     "metadata": {},
     "output_type": "execute_result"
    }
   ],
   "source": [
    "varp = [v for v in train.columns if v[:2]=='P_']\n",
    "sc = []\n",
    "for v in varp:\n",
    "    nombre = \"_\".join(v.split('_')[2:])\n",
    "    nombre = \"_\".join(nombre.split('_')[2:]) if nombre[:2]=='n_' else \"_\".join(nombre.split('_')[4:])\n",
    "    aux = train[[v,v[4:]]].drop_duplicates().reset_index(drop=True).assign(caracteristica=nombre)\n",
    "    aux.columns = ['puntos','atributo','caracteristica']\n",
    "    sc.append(aux)\n",
    "aux = pd.concat(sc,ignore_index=True)\n",
    "sc = aux.groupby(['caracteristica','atributo']).min()\n",
    "sc"
   ]
  },
  {
   "cell_type": "code",
   "execution_count": 293,
   "id": "34093976-322e-4865-8fa1-6ecc64188e28",
   "metadata": {},
   "outputs": [],
   "source": [
    "sc.to_clipboard()"
   ]
  },
  {
   "cell_type": "markdown",
   "id": "historical-transmission",
   "metadata": {},
   "source": [
    "## Reportes"
   ]
  },
  {
   "cell_type": "code",
   "execution_count": 212,
   "id": "informal-exclusion",
   "metadata": {
    "ExecuteTime": {
     "end_time": "2021-11-27T17:50:29.363690Z",
     "start_time": "2021-11-27T17:50:29.259861Z"
    }
   },
   "outputs": [],
   "source": [
    "aux = pd.concat([train.merge(df[um + ['Solucion']],on=um,how='inner')[um+vart+['Solucion']+['r_score']].assign(muestra='ent'),\\\n",
    "val.merge(df[um + ['Solucion']],on=um,how='inner')[um+vart+['Solucion']+['r_score']].assign(muestra='val'),\\\n",
    "test.merge(df[um + ['Solucion']],on=um,how='inner')[um+vart+['Solucion']+['r_score']].assign(muestra='test')],ignore_index=True)"
   ]
  },
  {
   "cell_type": "code",
   "execution_count": 213,
   "id": "d210604e-cdd3-43f1-ae38-8a67460db9da",
   "metadata": {},
   "outputs": [
    {
     "data": {
      "text/html": [
       "<div>\n",
       "<style scoped>\n",
       "    .dataframe tbody tr th:only-of-type {\n",
       "        vertical-align: middle;\n",
       "    }\n",
       "\n",
       "    .dataframe tbody tr th {\n",
       "        vertical-align: top;\n",
       "    }\n",
       "\n",
       "    .dataframe thead th {\n",
       "        text-align: right;\n",
       "    }\n",
       "</style>\n",
       "<table border=\"1\" class=\"dataframe\">\n",
       "  <thead>\n",
       "    <tr style=\"text-align: right;\">\n",
       "      <th></th>\n",
       "      <th>linea</th>\n",
       "      <th>fecha</th>\n",
       "      <th>target</th>\n",
       "      <th>Solucion</th>\n",
       "      <th>r_score</th>\n",
       "      <th>muestra</th>\n",
       "    </tr>\n",
       "  </thead>\n",
       "  <tbody>\n",
       "    <tr>\n",
       "      <th>0</th>\n",
       "      <td>5540699582</td>\n",
       "      <td>2021-03-24</td>\n",
       "      <td>1</td>\n",
       "      <td>No</td>\n",
       "      <td>(59.0, 119.0]</td>\n",
       "      <td>ent</td>\n",
       "    </tr>\n",
       "    <tr>\n",
       "      <th>1</th>\n",
       "      <td>5554335976</td>\n",
       "      <td>2021-08-23</td>\n",
       "      <td>0</td>\n",
       "      <td>Sí</td>\n",
       "      <td>(119.0, 179.0]</td>\n",
       "      <td>ent</td>\n",
       "    </tr>\n",
       "    <tr>\n",
       "      <th>2</th>\n",
       "      <td>6143024767</td>\n",
       "      <td>2021-10-03</td>\n",
       "      <td>1</td>\n",
       "      <td>No</td>\n",
       "      <td>(59.0, 119.0]</td>\n",
       "      <td>ent</td>\n",
       "    </tr>\n",
       "    <tr>\n",
       "      <th>3</th>\n",
       "      <td>9221205031</td>\n",
       "      <td>2021-03-23</td>\n",
       "      <td>0</td>\n",
       "      <td>Sí</td>\n",
       "      <td>(119.0, 179.0]</td>\n",
       "      <td>ent</td>\n",
       "    </tr>\n",
       "    <tr>\n",
       "      <th>4</th>\n",
       "      <td>4613352145</td>\n",
       "      <td>2021-09-05</td>\n",
       "      <td>0</td>\n",
       "      <td>No</td>\n",
       "      <td>(59.0, 119.0]</td>\n",
       "      <td>ent</td>\n",
       "    </tr>\n",
       "    <tr>\n",
       "      <th>...</th>\n",
       "      <td>...</td>\n",
       "      <td>...</td>\n",
       "      <td>...</td>\n",
       "      <td>...</td>\n",
       "      <td>...</td>\n",
       "      <td>...</td>\n",
       "    </tr>\n",
       "    <tr>\n",
       "      <th>367416</th>\n",
       "      <td>9999966195</td>\n",
       "      <td>2021-12-17</td>\n",
       "      <td>0</td>\n",
       "      <td>Sí</td>\n",
       "      <td>(119.0, 179.0]</td>\n",
       "      <td>test</td>\n",
       "    </tr>\n",
       "    <tr>\n",
       "      <th>367417</th>\n",
       "      <td>9999974393</td>\n",
       "      <td>2021-12-11</td>\n",
       "      <td>1</td>\n",
       "      <td>No</td>\n",
       "      <td>(119.0, 179.0]</td>\n",
       "      <td>test</td>\n",
       "    </tr>\n",
       "    <tr>\n",
       "      <th>367418</th>\n",
       "      <td>9999975058</td>\n",
       "      <td>2021-12-08</td>\n",
       "      <td>1</td>\n",
       "      <td>No</td>\n",
       "      <td>(119.0, 179.0]</td>\n",
       "      <td>test</td>\n",
       "    </tr>\n",
       "    <tr>\n",
       "      <th>367419</th>\n",
       "      <td>9999981332</td>\n",
       "      <td>2021-12-20</td>\n",
       "      <td>1</td>\n",
       "      <td>No</td>\n",
       "      <td>(119.0, 179.0]</td>\n",
       "      <td>test</td>\n",
       "    </tr>\n",
       "    <tr>\n",
       "      <th>367420</th>\n",
       "      <td>9999982800</td>\n",
       "      <td>2021-12-13</td>\n",
       "      <td>0</td>\n",
       "      <td>Sí</td>\n",
       "      <td>(239.0, 299.0]</td>\n",
       "      <td>test</td>\n",
       "    </tr>\n",
       "  </tbody>\n",
       "</table>\n",
       "<p>367421 rows × 6 columns</p>\n",
       "</div>"
      ],
      "text/plain": [
       "             linea       fecha  target Solucion         r_score muestra\n",
       "0       5540699582  2021-03-24       1       No   (59.0, 119.0]     ent\n",
       "1       5554335976  2021-08-23       0       Sí  (119.0, 179.0]     ent\n",
       "2       6143024767  2021-10-03       1       No   (59.0, 119.0]     ent\n",
       "3       9221205031  2021-03-23       0       Sí  (119.0, 179.0]     ent\n",
       "4       4613352145  2021-09-05       0       No   (59.0, 119.0]     ent\n",
       "...            ...         ...     ...      ...             ...     ...\n",
       "367416  9999966195  2021-12-17       0       Sí  (119.0, 179.0]    test\n",
       "367417  9999974393  2021-12-11       1       No  (119.0, 179.0]    test\n",
       "367418  9999975058  2021-12-08       1       No  (119.0, 179.0]    test\n",
       "367419  9999981332  2021-12-20       1       No  (119.0, 179.0]    test\n",
       "367420  9999982800  2021-12-13       0       Sí  (239.0, 299.0]    test\n",
       "\n",
       "[367421 rows x 6 columns]"
      ]
     },
     "execution_count": 213,
     "metadata": {},
     "output_type": "execute_result"
    }
   ],
   "source": [
    "aux"
   ]
  },
  {
   "cell_type": "code",
   "execution_count": 214,
   "id": "green-sudan",
   "metadata": {
    "ExecuteTime": {
     "end_time": "2021-11-27T17:50:29.656551Z",
     "start_time": "2021-11-27T17:50:29.470273Z"
    }
   },
   "outputs": [],
   "source": [
    "aux['fecha'] = pd.to_datetime(aux['fecha']).map(lambda x:x.strftime('%Y%m'))"
   ]
  },
  {
   "cell_type": "code",
   "execution_count": 215,
   "id": "known-stranger",
   "metadata": {
    "ExecuteTime": {
     "end_time": "2021-11-27T17:50:29.883313Z",
     "start_time": "2021-11-27T17:50:29.783026Z"
    }
   },
   "outputs": [],
   "source": [
    "aux.groupby(['fecha','r_score','muestra','Solucion','target']).count().to_clipboard()"
   ]
  },
  {
   "cell_type": "code",
   "execution_count": 298,
   "id": "guided-convert",
   "metadata": {},
   "outputs": [
    {
     "data": {
      "text/plain": [
       "0    0.781033\n",
       "1    0.218967\n",
       "Name: target, dtype: float64"
      ]
     },
     "execution_count": 298,
     "metadata": {},
     "output_type": "execute_result"
    }
   ],
   "source": [
    "df['target'].value_counts(1)"
   ]
  },
  {
   "cell_type": "code",
   "execution_count": 299,
   "id": "9fac94de-3ab0-4824-952a-48b71ee4617b",
   "metadata": {},
   "outputs": [
    {
     "data": {
      "text/plain": [
       "(388.0, 451.0]    155810\n",
       "(325.0, 388.0]    139151\n",
       "(73.0, 136.0]      43940\n",
       "(9.999, 73.0]      19850\n",
       "(451.0, 514.0]      3633\n",
       "(136.0, 199.0]      2815\n",
       "(262.0, 325.0]      2218\n",
       "(199.0, 262.0]         4\n",
       "Name: r_score, dtype: int64"
      ]
     },
     "execution_count": 299,
     "metadata": {},
     "output_type": "execute_result"
    }
   ],
   "source": [
    "aux['r_score'].value_counts()"
   ]
  },
  {
   "cell_type": "code",
   "execution_count": null,
   "id": "7b03f1c0-9520-4e98-86f4-e313b744d409",
   "metadata": {},
   "outputs": [],
   "source": []
  }
 ],
 "metadata": {
  "kernelspec": {
   "display_name": "Python 3",
   "language": "python",
   "name": "python3"
  },
  "language_info": {
   "codemirror_mode": {
    "name": "ipython",
    "version": 3
   },
   "file_extension": ".py",
   "mimetype": "text/x-python",
   "name": "python",
   "nbconvert_exporter": "python",
   "pygments_lexer": "ipython3",
   "version": "3.8.8"
  },
  "toc": {
   "base_numbering": 1,
   "nav_menu": {},
   "number_sections": true,
   "sideBar": true,
   "skip_h1_title": false,
   "title_cell": "Table of Contents",
   "title_sidebar": "Contents",
   "toc_cell": false,
   "toc_position": {
    "height": "calc(100% - 180px)",
    "left": "10px",
    "top": "150px",
    "width": "279.273px"
   },
   "toc_section_display": true,
   "toc_window_display": true
  }
 },
 "nbformat": 4,
 "nbformat_minor": 5
}
